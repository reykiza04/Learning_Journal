{
 "cells": [
  {
   "cell_type": "markdown",
   "metadata": {},
   "source": [
    "# NG Challange 2 Reyki seprianza ftds009\n",
    "Non-Graded Assignment ini dibuat guna mengevaluasi pembelajaran  pada  Hacktiv8  Data  Science  Fulltime Program khususnya pada konsep Function.\n",
    "\n",
    "- Buatlah sebuah function yang dapat mengkonversi suhu dari kelvin ke celcius, dan celcius ke kelvin.\n",
    "\n",
    "- Buatlah sebuah function yang dapat mengkonversi suhu ke fahrenheit. Tambahkan parameter untuk memastikan bahwa argumen yang dimasukan adalah celcius atau kelvin. Panggil function yang pertama jika diperlukan.\n",
    "\n",
    "- Buatlah sebuah function yang dapat mengkonversi suhu dari fahrenheit. Berikan argumen untuk memastikan bahwa outputnya dalah celcius atau kelvin.\n",
    "\n",
    "- Berikan dokumentasi pada setiap baris kode yang kalian tulis.\n",
    "\n",
    "- Simpan assignment pada sesi ini dengan nama `h8dsft_converter`.- Push Assignment yang telah kalian buat ke akun Github kalian masing-masing.\n"
   ]
  },
  {
   "cell_type": "code",
   "execution_count": 15,
   "metadata": {},
   "outputs": [
    {
     "name": "stdout",
     "output_type": "stream",
     "text": [
      "      Program Konversi Suhu dalam Celcius\n",
      "**************************************************\n",
      "Hasil Konversi Suhu 100 C adalah 373.15 Kelvin\n",
      "**************************************************\n"
     ]
    }
   ],
   "source": [
    "# program untuk konversi celcius ke kelvin \n",
    "\n",
    "\n",
    "# convert celcius to kelvin\n",
    "def conv_kelvin(celcius):\n",
    "    convert_kelvin = celcius + 273.15\n",
    "    return convert_kelvin\n",
    "\n",
    "# buat fungsi main\n",
    "def main():\n",
    "    print('      Program Konversi Suhu dalam Celcius')\n",
    "\n",
    "# create input\n",
    "    temp1 = int(input('Masukan Skala Celcius: '))\n",
    "\n",
    "# cetak hasil\n",
    "    print('*'*50)\n",
    "    print(f'Hasil Konversi Suhu {temp1} C adalah {conv_kelvin(temp1)} Kelvin')\n",
    "    print('*'*50)\n",
    "\n",
    "main()"
   ]
  },
  {
   "cell_type": "code",
   "execution_count": 16,
   "metadata": {},
   "outputs": [
    {
     "name": "stdout",
     "output_type": "stream",
     "text": [
      "         Program Konversi Suhu dalam kelvin\n",
      "**************************************************\n",
      "Hasil Konversi Suhu 100 K adalah -173.14999999999998 celcius\n",
      "**************************************************\n"
     ]
    }
   ],
   "source": [
    "# program untuk konversi kelvin ke celcius  \n",
    " \n",
    "\n",
    "# convert kelvin ke celcius\n",
    "def conv_celcius(kelvin):\n",
    "    convert_celcius = kelvin - 273.15\n",
    "    return convert_celcius\n",
    " \n",
    "# buat fungsi main\n",
    "def main():\n",
    "    print('         Program Konversi Suhu dalam kelvin')\n",
    " \n",
    "    # create input\n",
    "    temp2 = int(input('Masukan Skala kelvin: '))\n",
    " \n",
    "    # cetak hasil\n",
    "    print('*'*50)\n",
    "    print(f'Hasil Konversi Suhu {temp2} K adalah {conv_celcius(temp2)} Celcius')\n",
    "    print('*'*50)\n",
    "\n",
    "\n",
    "main()"
   ]
  },
  {
   "cell_type": "code",
   "execution_count": 21,
   "metadata": {},
   "outputs": [
    {
     "name": "stdout",
     "output_type": "stream",
     "text": [
      "         Program Konversi Suhu dalam Farenheit\n",
      "**************************************************\n",
      "Hasil Konversi Suhu 100 C adalah 212.0 Farenheit\n",
      "**************************************************\n"
     ]
    }
   ],
   "source": [
    "# program untuk konfersi celcius ke farenheit\n",
    "def conv_farenheit(celcius):\n",
    "    convert_farenheit = 9 * celcius / 5 + 32\n",
    "    return convert_farenheit\n",
    "\n",
    " \n",
    "# buat fungsi main\n",
    "def main():\n",
    "    print('         Program Konversi Suhu dalam Farenheit')\n",
    " \n",
    "    # create input\n",
    "    temp3 = int(input('Masukan Skala Farenheit: '))\n",
    " \n",
    "    # cetak hasil\n",
    "    print('*'*50)\n",
    "    print(f'Hasil Konversi Suhu {temp3} C adalah {conv_farenheit(temp3)} Farenheit')\n",
    "    print('*'*50)\n",
    "\n",
    "\n",
    "main()"
   ]
  },
  {
   "cell_type": "code",
   "execution_count": 22,
   "metadata": {},
   "outputs": [
    {
     "name": "stdout",
     "output_type": "stream",
     "text": [
      "         Program Konversi Suhu ke Farenheit\n",
      "**************************************************\n",
      "Hasil Konversi Suhu 212 F adalah 100.0 Celcius\n",
      "**************************************************\n"
     ]
    }
   ],
   "source": [
    "# program untuk konversi farenheit ke celcius\n",
    "def conv_celcius(farenheit):\n",
    "    convert_celcius = (farenheit - 32) * 5/9\n",
    "    return convert_celcius\n",
    "\n",
    " \n",
    "# buat fungsi main\n",
    "def main():\n",
    "    print('         Program Konversi Suhu ke Farenheit')\n",
    " \n",
    "    # create input\n",
    "    temp4 = int(input('Masukan Skala Celcius: '))\n",
    " \n",
    "    # cetak hasil\n",
    "    print('*'*50)\n",
    "    print(f'Hasil Konversi Suhu {temp4} F adalah {conv_celcius(temp4)} Celcius')\n",
    "    print('*'*50)\n",
    "\n",
    "\n",
    "main()"
   ]
  }
 ],
 "metadata": {
  "interpreter": {
   "hash": "0dd272924c7cc597c5889018966c2ccb6c9651b4aec44649117dbf66b8c76eee"
  },
  "kernelspec": {
   "display_name": "Python 3.10.2 64-bit",
   "language": "python",
   "name": "python3"
  },
  "language_info": {
   "codemirror_mode": {
    "name": "ipython",
    "version": 3
   },
   "file_extension": ".py",
   "mimetype": "text/x-python",
   "name": "python",
   "nbconvert_exporter": "python",
   "pygments_lexer": "ipython3",
   "version": "3.7.3"
  },
  "orig_nbformat": 4
 },
 "nbformat": 4,
 "nbformat_minor": 2
}
