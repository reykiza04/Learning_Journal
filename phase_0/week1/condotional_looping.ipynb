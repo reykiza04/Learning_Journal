{
 "cells": [
  {
   "cell_type": "markdown",
   "metadata": {},
   "source": [
    "#15 febuari swuidword day"
   ]
  },
  {
   "cell_type": "code",
   "execution_count": 32,
   "metadata": {},
   "outputs": [
    {
     "name": "stdout",
     "output_type": "stream",
     "text": [
      "INI KONDISI KALO DI ATAS G A TEROENUHI\n"
     ]
    }
   ],
   "source": [
    "angka = 1\n",
    "if angka > 10:\n",
    "    print (f\"{angka} lebih besar dari 10\")\n",
    "    # klo selain dari isi IF dia akan mengeksekusi kodingan di luar if\n",
    "    print('baris ini di dalam if')\n",
    "else:    \n",
    "    print('INI KONDISI KALO DI ATAS G A TEROENUHI')\n"
   ]
  },
  {
   "cell_type": "code",
   "execution_count": 9,
   "metadata": {},
   "outputs": [
    {
     "data": {
      "text/plain": [
       "False"
      ]
     },
     "execution_count": 9,
     "metadata": {},
     "output_type": "execute_result"
    }
   ],
   "source": [
    "angka == 5"
   ]
  },
  {
   "cell_type": "code",
   "execution_count": 10,
   "metadata": {},
   "outputs": [
    {
     "data": {
      "text/plain": [
       "True"
      ]
     },
     "execution_count": 10,
     "metadata": {},
     "output_type": "execute_result"
    }
   ],
   "source": [
    "angka == 15"
   ]
  },
  {
   "cell_type": "markdown",
   "metadata": {},
   "source": [
    "karena di awal di buat 15 jika beda bisa false dia yah"
   ]
  },
  {
   "cell_type": "code",
   "execution_count": 21,
   "metadata": {},
   "outputs": [
    {
     "data": {
      "text/plain": [
       "False"
      ]
     },
     "execution_count": 21,
     "metadata": {},
     "output_type": "execute_result"
    }
   ],
   "source": [
    "angka > 10"
   ]
  },
  {
   "cell_type": "markdown",
   "metadata": {},
   "source": [
    "ini latihannya yahh"
   ]
  },
  {
   "cell_type": "code",
   "execution_count": 35,
   "metadata": {},
   "outputs": [
    {
     "name": "stdout",
     "output_type": "stream",
     "text": [
      "2 ini angka genap\n"
     ]
    }
   ],
   "source": [
    "bilangan = 2\n",
    "if bilangan %2 == 0:\n",
    "    print (f\"{bilangan} ini angka genap\")\n",
    "else:\n",
    "    print (f\"{bilangan} ini angka ganjil\")"
   ]
  },
  {
   "cell_type": "code",
   "execution_count": 37,
   "metadata": {},
   "outputs": [
    {
     "name": "stdout",
     "output_type": "stream",
     "text": [
      "2 ini angka genap\n"
     ]
    }
   ],
   "source": [
    "bilangan = 2\n",
    "if bilangan %2 == 1:\n",
    "    print (f\"{bilangan} ini angka ganjil\")\n",
    "else:\n",
    "    print (f\"{bilangan} ini angka genap\")"
   ]
  },
  {
   "cell_type": "code",
   "execution_count": 38,
   "metadata": {},
   "outputs": [
    {
     "name": "stdout",
     "output_type": "stream",
     "text": [
      "11 lebih besar dari 10\n"
     ]
    }
   ],
   "source": [
    "# lebih dari 2 kondisi\n",
    "aangka =11\n",
    "if aangka > 10:\n",
    "    print (f\"{aangka} lebih besar dari 10\" )\n",
    "elif aangka == 10:\n",
    "    print (f\"{aangka} sama dengan 10\" )\n",
    "else:\n",
    "    print (f\"{aangka} lebih besar dari 10\" )"
   ]
  },
  {
   "cell_type": "code",
   "execution_count": 39,
   "metadata": {},
   "outputs": [],
   "source": [
    "menu = ['nasi goreng','soto', 'kwetiau','bakso']\n"
   ]
  },
  {
   "cell_type": "code",
   "execution_count": 40,
   "metadata": {},
   "outputs": [
    {
     "data": {
      "text/plain": [
       "True"
      ]
     },
     "execution_count": 40,
     "metadata": {},
     "output_type": "execute_result"
    }
   ],
   "source": [
    "'nasi goreng' in menu"
   ]
  },
  {
   "cell_type": "code",
   "execution_count": 41,
   "metadata": {},
   "outputs": [
    {
     "data": {
      "text/plain": [
       "False"
      ]
     },
     "execution_count": 41,
     "metadata": {},
     "output_type": "execute_result"
    }
   ],
   "source": [
    "'nasi kuning' in menu"
   ]
  },
  {
   "cell_type": "code",
   "execution_count": 42,
   "metadata": {},
   "outputs": [
    {
     "name": "stdout",
     "output_type": "stream",
     "text": [
      "abangnya ga jual mie geledek\n"
     ]
    }
   ],
   "source": [
    "# bolean di bawa kesini nih\n",
    "makanan = 'mie geledek'\n",
    "if makanan in menu:\n",
    "    print (f\"abangnya jual {makanan}\")\n",
    "else:\n",
    "    print  (f\"abangnya ga jual {makanan}\")"
   ]
  },
  {
   "cell_type": "markdown",
   "metadata": {},
   "source": [
    "lagi jalan cari buah di lihat ada beberapa tukang, saya mau mampir kalau die menjual lebih dari 3 jenis buah, kalau ada jeruknya sya beli"
   ]
  },
  {
   "cell_type": "code",
   "execution_count": 47,
   "metadata": {},
   "outputs": [
    {
     "name": "stdout",
     "output_type": "stream",
     "text": [
      "next tukang\n",
      "skip\n",
      "beli gan ada jeruknya\n"
     ]
    }
   ],
   "source": [
    "tukang_buah1 = ['jeruk','pisang']\n",
    "tukang_buah2 = ['mangga','pepaya','nanas']\n",
    "tukang_buah3 = ['jeruk','stoberi','mangga']\n",
    "\n",
    "if len(tukang_buah1)>=3:\n",
    "    if 'jeruk' in tukang_buah1:\n",
    "        print(\"beli gan ada jeruknya\")\n",
    "    else:\n",
    "        print(\"skip\")\n",
    "else:\n",
    "    print(\"next tukang\")\n",
    "\n",
    "if len(tukang_buah2)>=3:\n",
    "    if 'jeruk' in tukang_buah2:\n",
    "        print(\"beli gan ada jeruknya\")\n",
    "    else:\n",
    "        print(\"skip\")\n",
    "else:\n",
    "    print(\"next tukang\")\n",
    "\n",
    "if len(tukang_buah3)>=3:\n",
    "    if 'jeruk' in tukang_buah3:\n",
    "        print(\"beli gan ada jeruknya\")\n",
    "    else:\n",
    "        print(\"skip\")\n",
    "else:\n",
    "    print(\"next tukang\")"
   ]
  },
  {
   "cell_type": "markdown",
   "metadata": {},
   "source": [
    "kalo misalnya kita mau bikin interval bagaimabna tuhh atau 2 logic yang bisa kita gabungkan kalo kepengen megabungkan logika hrus tau dulu bisa pakai \"and\" atau \"OR\"\n",
    "\n",
    "TRUE FALSE\n",
    "AND OR XOR XNOR"
   ]
  },
  {
   "cell_type": "code",
   "execution_count": 50,
   "metadata": {},
   "outputs": [
    {
     "name": "stdout",
     "output_type": "stream",
     "text": [
      "skip next\n",
      "mampir ke tukang_buah2\n",
      "mampir ke tukang_buah3\n"
     ]
    }
   ],
   "source": [
    "if ' jeruk' in tukang_buah1 or 'mangga' in tukang_buah1:\n",
    "    print (f'mampir ke tukang_buah1')\n",
    "else:\n",
    "    print ('skip next')\n",
    "\n",
    "if ' jeruk' in tukang_buah2 or 'mangga' in tukang_buah2:\n",
    "    print (f'mampir ke tukang_buah2')\n",
    "else:\n",
    "    print ('skip next')\n",
    "\n",
    "if ' jeruk' in tukang_buah3 or 'mangga' in tukang_buah3:\n",
    "    print (f'mampir ke tukang_buah3')\n",
    "else:\n",
    "    print ('skip next')"
   ]
  },
  {
   "cell_type": "markdown",
   "metadata": {},
   "source": [
    "next coba kalo kita mau memberikan nilai ke orang misal abcd\n",
    "range nilai\n",
    "A 80-100\n",
    "B 65-80\n",
    "C 40-65\n",
    "D 20-40\n",
    "E "
   ]
  },
  {
   "cell_type": "code",
   "execution_count": 58,
   "metadata": {},
   "outputs": [
    {
     "name": "stdout",
     "output_type": "stream",
     "text": [
      "nilai A\n"
     ]
    }
   ],
   "source": [
    "nilai = 85\n",
    "\n",
    "if nilai > 100:\n",
    "    print ('kesalahan input')\n",
    "elif nilai <= 100 and nilai >=80:\n",
    "    print ('nilai A')\n",
    "elif nilai < 80 and nilai >= 65:\n",
    "    print ('nilai B')\n",
    "elif nilai < 65 and nilai >= 40:\n",
    "    print ('nilai C')\n",
    "elif nilai < 40 and nilai >= 20:\n",
    "    print ('nilai D')\n",
    "elif nilai < 0 and nilai >= 20:\n",
    "    print ('nilai E')\n",
    "else:\n",
    "    print ('kesalahan input')"
   ]
  },
  {
   "cell_type": "markdown",
   "metadata": {},
   "source": [
    "invalid syntax ni kesalahan tulisan hmmm\n",
    "next coba pakai inputer"
   ]
  },
  {
   "cell_type": "code",
   "execution_count": 62,
   "metadata": {},
   "outputs": [
    {
     "name": "stdout",
     "output_type": "stream",
     "text": [
      "nilai C\n"
     ]
    }
   ],
   "source": [
    "nilai = input('masukan angka :')\n",
    "#inputanya adalah string makanya harus di rubah jadi tipe float\n",
    "nilai = float(nilai)\n",
    "\n",
    "if nilai > 100:\n",
    "    print ('kesalahan input')\n",
    "elif nilai <= 100 and nilai >=80:\n",
    "    print ('nilai A')\n",
    "elif nilai < 80 and nilai >= 65:\n",
    "    print ('nilai B')\n",
    "elif nilai < 65 and nilai >= 40:\n",
    "    print ('nilai C')\n",
    "elif nilai < 40 and nilai >= 20:\n",
    "    print ('nilai D')\n",
    "elif nilai < 0 and nilai >= 20:\n",
    "    print ('nilai E')\n",
    "else:\n",
    "    print ('kesalahan input')\n"
   ]
  },
  {
   "cell_type": "code",
   "execution_count": 60,
   "metadata": {},
   "outputs": [
    {
     "name": "stdout",
     "output_type": "stream",
     "text": [
      "10\n"
     ]
    }
   ],
   "source": [
    "print (angka)"
   ]
  },
  {
   "cell_type": "markdown",
   "metadata": {},
   "source": [
    "## if memenuhi kondisi di jalankan\n",
    "kalo while selama memenuhi kondisi tertentu dia akan terus jalan\n",
    "hati\" infinity looping jika pakai while"
   ]
  },
  {
   "cell_type": "code",
   "execution_count": 63,
   "metadata": {},
   "outputs": [],
   "source": [
    "angka = 0"
   ]
  },
  {
   "cell_type": "code",
   "execution_count": 64,
   "metadata": {},
   "outputs": [
    {
     "name": "stdout",
     "output_type": "stream",
     "text": [
      "0\n"
     ]
    }
   ],
   "source": [
    "print(angka)"
   ]
  },
  {
   "cell_type": "code",
   "execution_count": 66,
   "metadata": {},
   "outputs": [
    {
     "name": "stdout",
     "output_type": "stream",
     "text": [
      "i ke : 0\n",
      "halo gan\n",
      "i ke : 1\n",
      "halo gan\n",
      "i ke : 2\n",
      "halo gan\n",
      "i ke : 3\n",
      "halo gan\n",
      "i ke : 4\n",
      "halo gan\n"
     ]
    }
   ],
   "source": [
    "i = 0\n",
    "while i < 5:\n",
    "    print (f'i ke : {i}')\n",
    "    print('halo gan')\n",
    "    i = i + 1"
   ]
  },
  {
   "cell_type": "code",
   "execution_count": 67,
   "metadata": {},
   "outputs": [
    {
     "name": "stdout",
     "output_type": "stream",
     "text": [
      "5\n"
     ]
    }
   ],
   "source": [
    "print (i)"
   ]
  },
  {
   "cell_type": "markdown",
   "metadata": {},
   "source": [
    "kita mengisi list dengan inputer sampai ngetik cukup"
   ]
  },
  {
   "cell_type": "code",
   "execution_count": 68,
   "metadata": {},
   "outputs": [],
   "source": [
    "pesanan = []\n",
    "pesan = ''\n",
    "while pesan != 'cukup':\n",
    "    pesan = input('masukan pesanan anda:')\n",
    "    if pesan != 'cukup':\n",
    "        pesanan.append(pesan)\n"
   ]
  },
  {
   "cell_type": "code",
   "execution_count": 69,
   "metadata": {},
   "outputs": [
    {
     "name": "stdout",
     "output_type": "stream",
     "text": [
      "['mie ayam', 'kwetiau', 'bakpau', 'es teh']\n"
     ]
    }
   ],
   "source": [
    "print (pesanan)"
   ]
  },
  {
   "cell_type": "markdown",
   "metadata": {},
   "source": [
    "mau coba bikin tabel perkalian 7 memulai dari 7 *1 dst"
   ]
  },
  {
   "cell_type": "code",
   "execution_count": 70,
   "metadata": {},
   "outputs": [
    {
     "name": "stdout",
     "output_type": "stream",
     "text": [
      "7 x 1 = 7\n",
      "7 x 2 = 14\n",
      "7 x 3 = 21\n",
      "7 x 4 = 28\n",
      "7 x 5 = 35\n",
      "7 x 6 = 42\n",
      "7 x 7 = 49\n",
      "7 x 8 = 56\n",
      "7 x 9 = 63\n",
      "7 x 10 = 70\n"
     ]
    }
   ],
   "source": [
    "i = 1\n",
    "while i <= 10:\n",
    "    print (f'7 x {i} = {7*i}')\n",
    "    i = i + 1"
   ]
  },
  {
   "cell_type": "markdown",
   "metadata": {},
   "source": [
    "perkalian lagi tapi 7 di awal juga bergerak, kita akan pakai nested while"
   ]
  },
  {
   "cell_type": "code",
   "execution_count": 72,
   "metadata": {},
   "outputs": [
    {
     "name": "stdout",
     "output_type": "stream",
     "text": [
      "1 x 1 = 1\n",
      "1 x 2 = 2\n",
      "1 x 3 = 3\n",
      "1 x 4 = 4\n",
      "1 x 5 = 5\n",
      "1 x 6 = 6\n",
      "1 x 7 = 7\n",
      "1 x 8 = 8\n",
      "1 x 9 = 9\n",
      "1 x 10 = 10\n",
      "**************************************************\n",
      "2 x 1 = 2\n",
      "2 x 2 = 4\n",
      "2 x 3 = 6\n",
      "2 x 4 = 8\n",
      "2 x 5 = 10\n",
      "2 x 6 = 12\n",
      "2 x 7 = 14\n",
      "2 x 8 = 16\n",
      "2 x 9 = 18\n",
      "2 x 10 = 20\n",
      "**************************************************\n",
      "3 x 1 = 3\n",
      "3 x 2 = 6\n",
      "3 x 3 = 9\n",
      "3 x 4 = 12\n",
      "3 x 5 = 15\n",
      "3 x 6 = 18\n",
      "3 x 7 = 21\n",
      "3 x 8 = 24\n",
      "3 x 9 = 27\n",
      "3 x 10 = 30\n",
      "**************************************************\n",
      "4 x 1 = 4\n",
      "4 x 2 = 8\n",
      "4 x 3 = 12\n",
      "4 x 4 = 16\n",
      "4 x 5 = 20\n",
      "4 x 6 = 24\n",
      "4 x 7 = 28\n",
      "4 x 8 = 32\n",
      "4 x 9 = 36\n",
      "4 x 10 = 40\n",
      "**************************************************\n",
      "5 x 1 = 5\n",
      "5 x 2 = 10\n",
      "5 x 3 = 15\n",
      "5 x 4 = 20\n",
      "5 x 5 = 25\n",
      "5 x 6 = 30\n",
      "5 x 7 = 35\n",
      "5 x 8 = 40\n",
      "5 x 9 = 45\n",
      "5 x 10 = 50\n",
      "**************************************************\n",
      "6 x 1 = 6\n",
      "6 x 2 = 12\n",
      "6 x 3 = 18\n",
      "6 x 4 = 24\n",
      "6 x 5 = 30\n",
      "6 x 6 = 36\n",
      "6 x 7 = 42\n",
      "6 x 8 = 48\n",
      "6 x 9 = 54\n",
      "6 x 10 = 60\n",
      "**************************************************\n",
      "7 x 1 = 7\n",
      "7 x 2 = 14\n",
      "7 x 3 = 21\n",
      "7 x 4 = 28\n",
      "7 x 5 = 35\n",
      "7 x 6 = 42\n",
      "7 x 7 = 49\n",
      "7 x 8 = 56\n",
      "7 x 9 = 63\n",
      "7 x 10 = 70\n",
      "**************************************************\n",
      "8 x 1 = 8\n",
      "8 x 2 = 16\n",
      "8 x 3 = 24\n",
      "8 x 4 = 32\n",
      "8 x 5 = 40\n",
      "8 x 6 = 48\n",
      "8 x 7 = 56\n",
      "8 x 8 = 64\n",
      "8 x 9 = 72\n",
      "8 x 10 = 80\n",
      "**************************************************\n",
      "9 x 1 = 9\n",
      "9 x 2 = 18\n",
      "9 x 3 = 27\n",
      "9 x 4 = 36\n",
      "9 x 5 = 45\n",
      "9 x 6 = 54\n",
      "9 x 7 = 63\n",
      "9 x 8 = 72\n",
      "9 x 9 = 81\n",
      "9 x 10 = 90\n",
      "**************************************************\n",
      "10 x 1 = 10\n",
      "10 x 2 = 20\n",
      "10 x 3 = 30\n",
      "10 x 4 = 40\n",
      "10 x 5 = 50\n",
      "10 x 6 = 60\n",
      "10 x 7 = 70\n",
      "10 x 8 = 80\n",
      "10 x 9 = 90\n",
      "10 x 10 = 100\n",
      "**************************************************\n"
     ]
    }
   ],
   "source": [
    "i = 1\n",
    "j = 1\n",
    "\n",
    "while j <= 10:\n",
    "    while i <= 10:\n",
    "        print(f'{j} x {i} = {j * i}')\n",
    "        i = i+1\n",
    "    j = j + 1\n",
    "    i = 1\n",
    "    print(\"*\"*50) # ada bintang sebnyak 50"
   ]
  },
  {
   "cell_type": "code",
   "execution_count": null,
   "metadata": {},
   "outputs": [],
   "source": []
  },
  {
   "cell_type": "markdown",
   "metadata": {},
   "source": [
    "for loop \n",
    "membutuhkan tipe data menjemuk\n",
    "list tufel dicenary cotnoh\n"
   ]
  },
  {
   "cell_type": "code",
   "execution_count": 73,
   "metadata": {},
   "outputs": [],
   "source": [
    "tukang_buah = ['pepaya','mangga', ' pisang','jambu']\n"
   ]
  },
  {
   "cell_type": "code",
   "execution_count": 76,
   "metadata": {},
   "outputs": [
    {
     "data": {
      "text/plain": [
       "' pisang'"
      ]
     },
     "execution_count": 76,
     "metadata": {},
     "output_type": "execute_result"
    }
   ],
   "source": [
    "tukang_buah[2]\n",
    "#mulai dari no l ya pak\n",
    "\n"
   ]
  },
  {
   "cell_type": "code",
   "execution_count": 78,
   "metadata": {},
   "outputs": [
    {
     "data": {
      "text/plain": [
       "'jambu'"
      ]
     },
     "execution_count": 78,
     "metadata": {},
     "output_type": "execute_result"
    }
   ],
   "source": [
    "tukang_buah[-1]"
   ]
  },
  {
   "cell_type": "code",
   "execution_count": 79,
   "metadata": {},
   "outputs": [
    {
     "name": "stdout",
     "output_type": "stream",
     "text": [
      "abang ini jual pepaya\n",
      "abang ini jual mangga\n",
      "abang ini jual  pisang\n",
      "abang ini jual jambu\n"
     ]
    }
   ],
   "source": [
    "i = 0\n",
    "while i < len (tukang_buah):\n",
    "    print(f'abang ini jual {tukang_buah[i]}')\n",
    "    i = i +1\n",
    "    #ini nambahin index jadi dia muncul "
   ]
  },
  {
   "cell_type": "code",
   "execution_count": 80,
   "metadata": {},
   "outputs": [
    {
     "name": "stdout",
     "output_type": "stream",
     "text": [
      "abang ini jual pepaya\n",
      "abang ini jual mangga\n",
      "abang ini jual  pisang\n",
      "abang ini jual jambu\n"
     ]
    }
   ],
   "source": [
    "for buah in tukang_buah:\n",
    "    print(f'abang ini jual {buah}')\n",
    "\n",
    "    #forlup ini ga musti kasi parameterrr enak kan"
   ]
  },
  {
   "cell_type": "code",
   "execution_count": 81,
   "metadata": {},
   "outputs": [
    {
     "name": "stdout",
     "output_type": "stream",
     "text": [
      "abang ini jual pepaya\n",
      "abang ini jual mangga\n",
      "abang ini jual  pisang\n",
      "abang ini jual jambu\n"
     ]
    }
   ],
   "source": [
    "for i in [0,1,2,3]:\n",
    "    print(f'abang ini jual {tukang_buah[i]}')\n",
    "    "
   ]
  },
  {
   "cell_type": "markdown",
   "metadata": {},
   "source": [
    "range adalah sebuah fungsi untuk membuat sebuah list dari angka yang berututan atau barisan aritmatika yang lain\n",
    "\n",
    "\n",
    "range (a,b,c)\n",
    "a= nilai awal\n",
    "b= nilai sebelum akhir\n",
    "c= intervalnya atau selisihnya"
   ]
  },
  {
   "cell_type": "code",
   "execution_count": 85,
   "metadata": {},
   "outputs": [
    {
     "data": {
      "text/plain": [
       "[1, 2, 3, 4, 5, 6, 7, 8, 9]"
      ]
     },
     "execution_count": 85,
     "metadata": {},
     "output_type": "execute_result"
    }
   ],
   "source": [
    "list(range (1,10,1))"
   ]
  },
  {
   "cell_type": "code",
   "execution_count": 86,
   "metadata": {},
   "outputs": [
    {
     "data": {
      "text/plain": [
       "[1, 3, 5, 7, 9]"
      ]
     },
     "execution_count": 86,
     "metadata": {},
     "output_type": "execute_result"
    }
   ],
   "source": [
    "\n",
    "list(range (1,10,2))"
   ]
  },
  {
   "cell_type": "code",
   "execution_count": 87,
   "metadata": {},
   "outputs": [
    {
     "data": {
      "text/plain": [
       "[1, 4, 7]"
      ]
     },
     "execution_count": 87,
     "metadata": {},
     "output_type": "execute_result"
    }
   ],
   "source": [
    "\n",
    "list(range (1,10,3))"
   ]
  },
  {
   "cell_type": "code",
   "execution_count": 88,
   "metadata": {},
   "outputs": [
    {
     "data": {
      "text/plain": [
       "[0, 1, 2, 3, 4, 5, 6, 7, 8, 9]"
      ]
     },
     "execution_count": 88,
     "metadata": {},
     "output_type": "execute_result"
    }
   ],
   "source": [
    "\n",
    "list(range (10))\n",
    "# ini dia akan otomatis print sampe sebelum dia"
   ]
  },
  {
   "cell_type": "code",
   "execution_count": 89,
   "metadata": {},
   "outputs": [
    {
     "data": {
      "text/plain": [
       "[0, 1, 2, 3]"
      ]
     },
     "execution_count": 89,
     "metadata": {},
     "output_type": "execute_result"
    }
   ],
   "source": [
    "\n",
    "list(range (len(tukang_buah)))"
   ]
  },
  {
   "cell_type": "code",
   "execution_count": 91,
   "metadata": {},
   "outputs": [
    {
     "name": "stdout",
     "output_type": "stream",
     "text": [
      "abang ini jual pepaya\n",
      "abang ini jual mangga\n",
      "abang ini jual  pisang\n",
      "abang ini jual jambu\n"
     ]
    }
   ],
   "source": [
    "for i in range(len(tukang_buah)):\n",
    "    print(f'abang ini jual {tukang_buah[i]}')"
   ]
  },
  {
   "cell_type": "code",
   "execution_count": 92,
   "metadata": {},
   "outputs": [
    {
     "name": "stdout",
     "output_type": "stream",
     "text": [
      "abang ini jual pepaya, ket : stok dikit\n",
      "abang ini jual mangga, ket : stoik banyak\n",
      "abang ini jual  pisang, ket :  lagi musim\n"
     ]
    },
    {
     "ename": "IndexError",
     "evalue": "list index out of range",
     "output_type": "error",
     "traceback": [
      "\u001b[1;31m---------------------------------------------------------------------------\u001b[0m",
      "\u001b[1;31mIndexError\u001b[0m                                Traceback (most recent call last)",
      "\u001b[1;32md:\\Data Science pathku\\ftds009\\Learning_Journal\\phase_0\\week1\\condotional_looping.ipynb Cell 51'\u001b[0m in \u001b[0;36m<module>\u001b[1;34m\u001b[0m\n\u001b[0;32m      <a href='vscode-notebook-cell:/d%3A/Data%20Science%20pathku/ftds009/Learning_Journal/phase_0/week1/condotional_looping.ipynb#ch0000053?line=0'>1</a>\u001b[0m ket \u001b[39m=\u001b[39m [\u001b[39m'\u001b[39m\u001b[39mstok dikit\u001b[39m\u001b[39m'\u001b[39m, \u001b[39m'\u001b[39m\u001b[39mstoik banyak\u001b[39m\u001b[39m'\u001b[39m, \u001b[39m'\u001b[39m\u001b[39m lagi musim\u001b[39m\u001b[39m'\u001b[39m]\n\u001b[0;32m      <a href='vscode-notebook-cell:/d%3A/Data%20Science%20pathku/ftds009/Learning_Journal/phase_0/week1/condotional_looping.ipynb#ch0000053?line=1'>2</a>\u001b[0m \u001b[39mfor\u001b[39;00m i \u001b[39min\u001b[39;00m \u001b[39mrange\u001b[39m(\u001b[39mlen\u001b[39m(tukang_buah)):\n\u001b[1;32m----> <a href='vscode-notebook-cell:/d%3A/Data%20Science%20pathku/ftds009/Learning_Journal/phase_0/week1/condotional_looping.ipynb#ch0000053?line=2'>3</a>\u001b[0m     \u001b[39mprint\u001b[39m(\u001b[39mf\u001b[39m\u001b[39m'\u001b[39m\u001b[39mabang ini jual \u001b[39m\u001b[39m{\u001b[39;00mtukang_buah[i]\u001b[39m}\u001b[39;00m\u001b[39m, ket : \u001b[39m\u001b[39m{\u001b[39;00mket[i]\u001b[39m}\u001b[39;00m\u001b[39m'\u001b[39m)\n",
      "\u001b[1;31mIndexError\u001b[0m: list index out of range"
     ]
    }
   ],
   "source": [
    "ket = ['stok dikit', 'stoik banyak', ' lagi musim']\n",
    "for i in range(len(tukang_buah)):\n",
    "    print(f'abang ini jual {tukang_buah[i]}, ket : {ket[i]}')"
   ]
  },
  {
   "cell_type": "code",
   "execution_count": 93,
   "metadata": {},
   "outputs": [
    {
     "name": "stdout",
     "output_type": "stream",
     "text": [
      " 7 X 1 = 7\n",
      " 7 X 2 = 14\n",
      " 7 X 3 = 21\n",
      " 7 X 4 = 28\n",
      " 7 X 5 = 35\n",
      " 7 X 6 = 42\n",
      " 7 X 7 = 49\n",
      " 7 X 8 = 56\n",
      " 7 X 9 = 63\n",
      " 7 X 10 = 70\n"
     ]
    }
   ],
   "source": [
    "for i in range(1, 11):\n",
    "    print(f' 7 X {i} = {7*i}')"
   ]
  },
  {
   "cell_type": "code",
   "execution_count": 94,
   "metadata": {},
   "outputs": [
    {
     "name": "stdout",
     "output_type": "stream",
     "text": [
      "1 x 1 = 1\n",
      "1 x 2 = 2\n",
      "1 x 3 = 3\n",
      "1 x 4 = 4\n",
      "1 x 5 = 5\n",
      "1 x 6 = 6\n",
      "1 x 7 = 7\n",
      "1 x 8 = 8\n",
      "1 x 9 = 9\n",
      "1 x 10 = 10\n",
      "**************************************************\n",
      "2 x 1 = 2\n",
      "2 x 2 = 4\n",
      "2 x 3 = 6\n",
      "2 x 4 = 8\n",
      "2 x 5 = 10\n",
      "2 x 6 = 12\n",
      "2 x 7 = 14\n",
      "2 x 8 = 16\n",
      "2 x 9 = 18\n",
      "2 x 10 = 20\n",
      "**************************************************\n",
      "3 x 1 = 3\n",
      "3 x 2 = 6\n",
      "3 x 3 = 9\n",
      "3 x 4 = 12\n",
      "3 x 5 = 15\n",
      "3 x 6 = 18\n",
      "3 x 7 = 21\n",
      "3 x 8 = 24\n",
      "3 x 9 = 27\n",
      "3 x 10 = 30\n",
      "**************************************************\n",
      "4 x 1 = 4\n",
      "4 x 2 = 8\n",
      "4 x 3 = 12\n",
      "4 x 4 = 16\n",
      "4 x 5 = 20\n",
      "4 x 6 = 24\n",
      "4 x 7 = 28\n",
      "4 x 8 = 32\n",
      "4 x 9 = 36\n",
      "4 x 10 = 40\n",
      "**************************************************\n",
      "5 x 1 = 5\n",
      "5 x 2 = 10\n",
      "5 x 3 = 15\n",
      "5 x 4 = 20\n",
      "5 x 5 = 25\n",
      "5 x 6 = 30\n",
      "5 x 7 = 35\n",
      "5 x 8 = 40\n",
      "5 x 9 = 45\n",
      "5 x 10 = 50\n",
      "**************************************************\n",
      "6 x 1 = 6\n",
      "6 x 2 = 12\n",
      "6 x 3 = 18\n",
      "6 x 4 = 24\n",
      "6 x 5 = 30\n",
      "6 x 6 = 36\n",
      "6 x 7 = 42\n",
      "6 x 8 = 48\n",
      "6 x 9 = 54\n",
      "6 x 10 = 60\n",
      "**************************************************\n",
      "7 x 1 = 7\n",
      "7 x 2 = 14\n",
      "7 x 3 = 21\n",
      "7 x 4 = 28\n",
      "7 x 5 = 35\n",
      "7 x 6 = 42\n",
      "7 x 7 = 49\n",
      "7 x 8 = 56\n",
      "7 x 9 = 63\n",
      "7 x 10 = 70\n",
      "**************************************************\n",
      "8 x 1 = 8\n",
      "8 x 2 = 16\n",
      "8 x 3 = 24\n",
      "8 x 4 = 32\n",
      "8 x 5 = 40\n",
      "8 x 6 = 48\n",
      "8 x 7 = 56\n",
      "8 x 8 = 64\n",
      "8 x 9 = 72\n",
      "8 x 10 = 80\n",
      "**************************************************\n",
      "9 x 1 = 9\n",
      "9 x 2 = 18\n",
      "9 x 3 = 27\n",
      "9 x 4 = 36\n",
      "9 x 5 = 45\n",
      "9 x 6 = 54\n",
      "9 x 7 = 63\n",
      "9 x 8 = 72\n",
      "9 x 9 = 81\n",
      "9 x 10 = 90\n",
      "**************************************************\n",
      "10 x 1 = 10\n",
      "10 x 2 = 20\n",
      "10 x 3 = 30\n",
      "10 x 4 = 40\n",
      "10 x 5 = 50\n",
      "10 x 6 = 60\n",
      "10 x 7 = 70\n",
      "10 x 8 = 80\n",
      "10 x 9 = 90\n",
      "10 x 10 = 100\n",
      "**************************************************\n"
     ]
    }
   ],
   "source": [
    "for j in range (1, 11):\n",
    "    for i in range (1,11):\n",
    "        print(f'{j} x {i} = {j * i}')\n",
    "    print(\"*\"*50)"
   ]
  }
 ],
 "metadata": {
  "interpreter": {
   "hash": "8a0314e9a3496969cdc3b628708851b260263268c48c6868778a684e0fdc7ce1"
  },
  "kernelspec": {
   "display_name": "Python 3.7.3 ('base')",
   "language": "python",
   "name": "python3"
  },
  "language_info": {
   "codemirror_mode": {
    "name": "ipython",
    "version": 3
   },
   "file_extension": ".py",
   "mimetype": "text/x-python",
   "name": "python",
   "nbconvert_exporter": "python",
   "pygments_lexer": "ipython3",
   "version": "3.10.2"
  },
  "orig_nbformat": 4
 },
 "nbformat": 4,
 "nbformat_minor": 2
}
