{
 "cells": [
  {
   "cell_type": "code",
   "execution_count": 1,
   "metadata": {},
   "outputs": [],
   "source": [
    "def   my_function(p,l): #my_function adalah nama fungsinya\n",
    "    '''fungsi menghitung luas'''\n",
    "    print(p*l)"
   ]
  },
  {
   "cell_type": "markdown",
   "metadata": {},
   "source": [
    "fungsi\n",
    "\n",
    "sebelum mulai harus di awali dengan \n",
    "def\n",
    "\n",
    "ini adalah block code\n",
    "\n",
    "def function_name( parameters ) : # wajib ada titik\n",
    "\n",
    "\t''' docstring''' # mirip seperti command penjelasan fungsinya untuk apa\n",
    "\tstatement(s)\n",
    "\n",
    "===================================================================================================\n",
    "concat adalah penggabungan\n",
    "contoh"
   ]
  },
  {
   "cell_type": "code",
   "execution_count": 2,
   "metadata": {},
   "outputs": [
    {
     "name": "stdout",
     "output_type": "stream",
     "text": [
      "12\n"
     ]
    }
   ],
   "source": [
    "my_function(3,4)"
   ]
  },
  {
   "cell_type": "code",
   "execution_count": null,
   "metadata": {},
   "outputs": [],
   "source": [
    "def changame ( mylist ):\n",
    "    '''ini isi fungsinya'''\n",
    "    mylist = [1,2,3,4]\n",
    "    print('values inside the function:', mylist)\n",
    "\n",
    "# now u can fall changeme"
   ]
  },
  {
   "cell_type": "markdown",
   "metadata": {},
   "source": [
    "ketika panggil fungsi harus ada argumen harus ada nilai\n",
    "\n",
    "ketika bikin fungsi mau output harus di panggiil dulu dan di berikan nilainya"
   ]
  },
  {
   "cell_type": "markdown",
   "metadata": {},
   "source": [
    "default argument pada fungction\n",
    "argumen harus ada isi semua, atau tidak ada isi semua atau hanya yg belakang ada isi, jika di dpn ada isi di belakang gada maka dia akan gagal\n",
    "\n",
    "asterik adalah simbol bintang '*'\n",
    "asterik ini jika kita punya nilai di berikan bitang maka akan masuk ke dia\n",
    "\n",
    "\n",
    "jadi ketika di simpan dia akan membentuk\n",
    "\n",
    "/* tupel\n",
    "/** dicenary"
   ]
  },
  {
   "cell_type": "code",
   "execution_count": 2,
   "metadata": {},
   "outputs": [
    {
     "name": "stdout",
     "output_type": "stream",
     "text": [
      "result function: 30\n"
     ]
    }
   ],
   "source": [
    "def sum(arg1, arg2):\n",
    "    total = arg1 + arg2\n",
    "    return total #return untuk manggil kembali kalo gada ga muncul hasilnya\n",
    "\n",
    "total = sum(10,20)\n",
    "print('result function:', total)\n"
   ]
  },
  {
   "cell_type": "code",
   "execution_count": 7,
   "metadata": {},
   "outputs": [
    {
     "name": "stdout",
     "output_type": "stream",
     "text": [
      "outside the fungction global total - before 0\n",
      "di dalam fungsi lokal total: 30\n",
      "outside the fungction global total - after None\n",
      "outside the fungction global total - arter None\n"
     ]
    }
   ],
   "source": [
    "total = 0\n",
    "\n",
    "def sum( arg1, arg2):\n",
    "    total = arg1+arg2\n",
    "    print('di dalam fungsi lokal total:',total)\n",
    "\n",
    "#call fungction\n",
    "print('outside the fungction global total - before', total)\n",
    "total = sum(10,20)\n",
    "print('outside the fungction global total - after', total)\n",
    "\n",
    "print('outside the fungction global total - arter', total)\n"
   ]
  },
  {
   "cell_type": "code",
   "execution_count": 6,
   "metadata": {},
   "outputs": [
    {
     "name": "stdout",
     "output_type": "stream",
     "text": [
      "outside the fungction global total - before 0\n",
      "di dalam fungsi lokal total: 30\n",
      "outside the fungction global total - after 30\n",
      "outside the fungction global total - arter 30\n"
     ]
    }
   ],
   "source": [
    "total = 0\n",
    "\n",
    "def sum( arg1, arg2):\n",
    "    total = arg1+arg2\n",
    "    print('di dalam fungsi lokal total:',total)\n",
    "    return total\n",
    "#call fungction\n",
    "print('outside the fungction global total - before', total)\n",
    "total = sum(10,20)\n",
    "print('outside the fungction global total - after', total)\n",
    "\n",
    "print('outside the fungction global total - arter', total)\n"
   ]
  },
  {
   "cell_type": "markdown",
   "metadata": {},
   "source": [
    "hasil di atas beda ada return dan tidak ada return, dia tidak mengulang dan NONE kalau ga pake return"
   ]
  },
  {
   "cell_type": "code",
   "execution_count": 12,
   "metadata": {},
   "outputs": [
    {
     "name": "stdout",
     "output_type": "stream",
     "text": [
      "Collecting keras\n",
      "  Downloading keras-2.8.0-py2.py3-none-any.whl (1.4 MB)\n",
      "Installing collected packages: keras\n",
      "Successfully installed keras-2.8.0\n"
     ]
    }
   ],
   "source": [
    "!pip install keras\n",
    "\n"
   ]
  },
  {
   "cell_type": "markdown",
   "metadata": {},
   "source": [
    "## Package\n",
    "kumpulan dari beberapa modul\n",
    "\n"
   ]
  }
 ],
 "metadata": {
  "interpreter": {
   "hash": "e64f71a9afba1a7dd11c6344fd0d09aa6e85e2e721e9ab5ed1f0218b8fff2b06"
  },
  "kernelspec": {
   "display_name": "Python 3.9.10 64-bit (windows store)",
   "language": "python",
   "name": "python3"
  },
  "language_info": {
   "codemirror_mode": {
    "name": "ipython",
    "version": 3
   },
   "file_extension": ".py",
   "mimetype": "text/x-python",
   "name": "python",
   "nbconvert_exporter": "python",
   "pygments_lexer": "ipython3",
   "version": "3.10.2"
  },
  "orig_nbformat": 4
 },
 "nbformat": 4,
 "nbformat_minor": 2
}
