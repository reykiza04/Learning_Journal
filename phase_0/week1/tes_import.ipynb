{
 "cells": [
  {
   "cell_type": "markdown",
   "metadata": {},
   "source": [
    "berbeda metode import"
   ]
  },
  {
   "cell_type": "code",
   "execution_count": 3,
   "metadata": {},
   "outputs": [
    {
     "name": "stdout",
     "output_type": "stream",
     "text": [
      "rey\n",
      "['laptop', 'smartphone', 'mousee']\n",
      "<function display at 0x000002460DACE0E0>\n"
     ]
    }
   ],
   "source": [
    "import person\n",
    "print (person.name)\n",
    "print (person.devices)\n",
    "print (person.display)\n",
    "\n"
   ]
  },
  {
   "cell_type": "code",
   "execution_count": 7,
   "metadata": {},
   "outputs": [
    {
     "name": "stdout",
     "output_type": "stream",
     "text": [
      "rey\n",
      "['laptop', 'smartphone', 'mousee']\n"
     ]
    }
   ],
   "source": [
    "from person import name\n",
    "print(name)\n",
    "print(devices)"
   ]
  },
  {
   "cell_type": "code",
   "execution_count": null,
   "metadata": {},
   "outputs": [],
   "source": [
    "from person import name, devices\n",
    "print(name)"
   ]
  },
  {
   "cell_type": "markdown",
   "metadata": {},
   "source": [
    "## Package\n",
    "kumpulan dari beberapa modul\n",
    "\n"
   ]
  },
  {
   "cell_type": "code",
   "execution_count": 13,
   "metadata": {},
   "outputs": [
    {
     "name": "stdout",
     "output_type": "stream",
     "text": [
      "['kuali', 'panci']\n",
      "['palu', 'paku']\n"
     ]
    }
   ],
   "source": [
    "from pkg import mod1 as m1,mod2 as m2\n",
    "print(m1.kitchen_set) \n",
    "print(m2.perkakas)\n",
    "# harus di running semua yang uda di panggiil atau jangan di panggil smskli"
   ]
  }
 ],
 "metadata": {
  "interpreter": {
   "hash": "0dd272924c7cc597c5889018966c2ccb6c9651b4aec44649117dbf66b8c76eee"
  },
  "kernelspec": {
   "display_name": "Python 3.10.2 64-bit",
   "language": "python",
   "name": "python3"
  },
  "language_info": {
   "codemirror_mode": {
    "name": "ipython",
    "version": 3
   },
   "file_extension": ".py",
   "mimetype": "text/x-python",
   "name": "python",
   "nbconvert_exporter": "python",
   "pygments_lexer": "ipython3",
   "version": "3.10.2"
  },
  "orig_nbformat": 4
 },
 "nbformat": 4,
 "nbformat_minor": 2
}
