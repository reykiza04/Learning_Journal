{
 "cells": [
  {
   "cell_type": "code",
   "execution_count": 1,
   "metadata": {},
   "outputs": [],
   "source": [
    "import numpy as np"
   ]
  },
  {
   "cell_type": "code",
   "execution_count": 5,
   "metadata": {},
   "outputs": [
    {
     "name": "stdout",
     "output_type": "stream",
     "text": [
      "Dot Product: 1\n",
      "Cosine Similarity: 0.16903085094570328\n"
     ]
    }
   ],
   "source": [
    "item_5 = np.array([0,0,1,0,0,1,0,0,0,1,0,0,1,1,1,0,0,0,1,0])\n",
    "item_6 = np.array([0,0,1,1,0,0,0,1,0,0,0,1,0,0,0,0,0,0,0,1])\n",
    "\n",
    "dot_product = item_5 @ item_6\n",
    "cosine_sim = dot_product/(np.linalg.norm(item_5)* np.linalg.norm(item_6))\n",
    "\n",
    "\n",
    "print('Dot Product:',dot_product)\n",
    "print('Cosine Similarity:',cosine_sim)"
   ]
  },
  {
   "cell_type": "markdown",
   "metadata": {},
   "source": [
    "Berdasarkan hasil cosine similaritynya, bahwa kesamaan antara item 5 dan item 6 hanya 16,9% yang artinya tidak begitu mirip."
   ]
  },
  {
   "cell_type": "markdown",
   "metadata": {},
   "source": [
    "A: ayah pergi ke kebun\n",
    "B: adik sedang menari \n",
    "C: kakak sedang ber kebun\n",
    "ayah\n",
    "pergi\n",
    "ke\n",
    "kebun\n",
    "adik\n",
    "sedang\n",
    "menari\n",
    "kakak\n",
    "ber\n"
   ]
  },
  {
   "cell_type": "code",
   "execution_count": 6,
   "metadata": {},
   "outputs": [
    {
     "name": "stdout",
     "output_type": "stream",
     "text": [
      "[1 1 1 1 0 0 0 0 0] [0 0 0 0 1 1 1 0 0] [0 0 0 1 0 1 0 1 1]\n"
     ]
    }
   ],
   "source": [
    "kal1= [1,1,1,1,0,0,0,0,0]\n",
    "kal2= [0,0,0,0,1,1,1,0,0]\n",
    "kal3= [0,0,0,1,0,1,0,1,1]\n",
    "\n",
    "kal1 = np.array(kal1)\n",
    "kal2 = np.array(kal2)\n",
    "kal3 = np.array(kal3)\n",
    "\n",
    "print(kal1,kal2,kal3)"
   ]
  },
  {
   "cell_type": "markdown",
   "metadata": {},
   "source": [
    "kita akan melihat kemiripan kata antara ke 3 kalimat ini"
   ]
  },
  {
   "cell_type": "markdown",
   "metadata": {},
   "source": [
    "## kalimat 1 terhadap kalimat 2 dan 3"
   ]
  },
  {
   "cell_type": "code",
   "execution_count": 7,
   "metadata": {},
   "outputs": [
    {
     "data": {
      "text/plain": [
       "0.0"
      ]
     },
     "execution_count": 7,
     "metadata": {},
     "output_type": "execute_result"
    }
   ],
   "source": [
    "cos_theta12 = kal1 @ kal2 /(np.linalg.norm(kal1)*np.linalg.norm(kal2))\n",
    "cos_theta12"
   ]
  },
  {
   "cell_type": "code",
   "execution_count": 8,
   "metadata": {},
   "outputs": [
    {
     "data": {
      "text/plain": [
       "0.25"
      ]
     },
     "execution_count": 8,
     "metadata": {},
     "output_type": "execute_result"
    }
   ],
   "source": [
    "cos_theta13 = kal1 @ kal3 /(np.linalg.norm(kal1)*np.linalg.norm(kal3))\n",
    "cos_theta13"
   ]
  },
  {
   "cell_type": "markdown",
   "metadata": {},
   "source": [
    "## kalimat 2 terhadap kalimat 1 dan 3"
   ]
  },
  {
   "cell_type": "code",
   "execution_count": 9,
   "metadata": {},
   "outputs": [
    {
     "data": {
      "text/plain": [
       "0.0"
      ]
     },
     "execution_count": 9,
     "metadata": {},
     "output_type": "execute_result"
    }
   ],
   "source": [
    "cos_theta21 = kal2 @ kal1 /(np.linalg.norm(kal2)*np.linalg.norm(kal1))\n",
    "cos_theta21"
   ]
  },
  {
   "cell_type": "code",
   "execution_count": 10,
   "metadata": {},
   "outputs": [
    {
     "data": {
      "text/plain": [
       "0.2886751345948129"
      ]
     },
     "execution_count": 10,
     "metadata": {},
     "output_type": "execute_result"
    }
   ],
   "source": [
    "cos_theta23 = kal2 @ kal3 /(np.linalg.norm(kal2)*np.linalg.norm(kal3))\n",
    "cos_theta23"
   ]
  },
  {
   "cell_type": "markdown",
   "metadata": {},
   "source": [
    "------------------------------------------------------"
   ]
  },
  {
   "cell_type": "code",
   "execution_count": 14,
   "metadata": {},
   "outputs": [
    {
     "name": "stdout",
     "output_type": "stream",
     "text": [
      "[1 1 1 1 1 1 1 1 1 1 1] [0 1 0 1 1 1 0 1 1 0 0] [1 0 0 0 0 1 1 0 0 1 1]\n"
     ]
    }
   ],
   "source": [
    "# dengan faktor sbb mata\thidung\tmulut\tbentuk wajah\talis\twatak\ttinggi\tposture\tkeebiasaan\twarna kulit\trambut\n",
    "\n",
    "\n",
    "anak= [1,1,1,1,1,1,1,1,1,1,1]\n",
    "ayah= [0,1,0,1,1,1,0,1,1,0,0]\n",
    "ibu=  [1,0,0,0,0,1,1,0,0,1,1]\n",
    "anak= np.array(anak)\n",
    "ayah= np.array(ayah)\n",
    "ibu= np.array(ibu)\n",
    "\n",
    "print(anak,ayah,ibu)\n"
   ]
  },
  {
   "cell_type": "markdown",
   "metadata": {},
   "source": [
    "Melihat kemiripan anak dengan ayah"
   ]
  },
  {
   "cell_type": "code",
   "execution_count": 12,
   "metadata": {},
   "outputs": [
    {
     "data": {
      "text/plain": [
       "0.7385489458759965"
      ]
     },
     "execution_count": 12,
     "metadata": {},
     "output_type": "execute_result"
    }
   ],
   "source": [
    "cos_thetaaa = anak @ ayah /(np.linalg.norm(anak)*np.linalg.norm(ayah))\n",
    "cos_thetaaa"
   ]
  },
  {
   "cell_type": "code",
   "execution_count": 13,
   "metadata": {},
   "outputs": [
    {
     "data": {
      "text/plain": [
       "0.674199862463242"
      ]
     },
     "execution_count": 13,
     "metadata": {},
     "output_type": "execute_result"
    }
   ],
   "source": [
    "cos_thetaai = anak @ ibu /(np.linalg.norm(anak)*np.linalg.norm(ibu))\n",
    "cos_thetaai"
   ]
  },
  {
   "cell_type": "markdown",
   "metadata": {},
   "source": [
    "Dapat di simpulkan anak ini mirip ibu dan bapaknya, dengan lebih dominan ke ayah sebesar 73,85% dan mirip ibu 67,419%"
   ]
  }
 ],
 "metadata": {
  "interpreter": {
   "hash": "8a0314e9a3496969cdc3b628708851b260263268c48c6868778a684e0fdc7ce1"
  },
  "kernelspec": {
   "display_name": "Python 3.7.3 ('base')",
   "language": "python",
   "name": "python3"
  },
  "language_info": {
   "codemirror_mode": {
    "name": "ipython",
    "version": 3
   },
   "file_extension": ".py",
   "mimetype": "text/x-python",
   "name": "python",
   "nbconvert_exporter": "python",
   "pygments_lexer": "ipython3",
   "version": "3.7.3"
  },
  "orig_nbformat": 4
 },
 "nbformat": 4,
 "nbformat_minor": 2
}
