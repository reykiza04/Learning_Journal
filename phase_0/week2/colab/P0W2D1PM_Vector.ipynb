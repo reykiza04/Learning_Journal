{
  "nbformat": 4,
  "nbformat_minor": 0,
  "metadata": {
    "colab": {
      "name": "P0W2D1PM - Vector.ipynb",
      "provenance": [],
      "collapsed_sections": []
    },
    "kernelspec": {
      "name": "python3",
      "display_name": "Python 3"
    },
    "language_info": {
      "name": "python"
    }
  },
  "cells": [
    {
      "cell_type": "markdown",
      "source": [
        "# Vector"
      ],
      "metadata": {
        "id": "Wya_af_MFpL5"
      }
    },
    {
      "cell_type": "code",
      "execution_count": null,
      "metadata": {
        "id": "hJg7H0os7gPC"
      },
      "outputs": [],
      "source": [
        "import numpy as np"
      ]
    },
    {
      "cell_type": "code",
      "source": [
        "np.array([1, 2, 3])"
      ],
      "metadata": {
        "colab": {
          "base_uri": "https://localhost:8080/"
        },
        "id": "qB7r5tG1FuT5",
        "outputId": "523f9adb-8311-45ec-851a-86ce9e6c9571"
      },
      "execution_count": null,
      "outputs": [
        {
          "output_type": "execute_result",
          "data": {
            "text/plain": [
              "array([1, 2, 3])"
            ]
          },
          "metadata": {},
          "execution_count": 2
        }
      ]
    },
    {
      "cell_type": "code",
      "source": [
        "# penjumlahan 2 buah list\n",
        "list_1 = [1, 2, 3]\n",
        "list_2 = [4, 5, 6]\n",
        "\n",
        "list_1 + list_2"
      ],
      "metadata": {
        "colab": {
          "base_uri": "https://localhost:8080/"
        },
        "id": "XYtVj3T6F211",
        "outputId": "860aedd7-e564-4e88-a05d-37b01d3175af"
      },
      "execution_count": null,
      "outputs": [
        {
          "output_type": "execute_result",
          "data": {
            "text/plain": [
              "[1, 2, 3, 4, 5, 6]"
            ]
          },
          "metadata": {},
          "execution_count": 3
        }
      ]
    },
    {
      "cell_type": "code",
      "source": [
        "arr_1 = np.array(list_1)\n",
        "arr_2 = np.array(list_2)\n",
        "\n",
        "arr_1 + arr_2"
      ],
      "metadata": {
        "colab": {
          "base_uri": "https://localhost:8080/"
        },
        "id": "m-1WoWZpGRHA",
        "outputId": "634690b2-a3e6-49ef-bcfb-1b368eace3e6"
      },
      "execution_count": null,
      "outputs": [
        {
          "output_type": "execute_result",
          "data": {
            "text/plain": [
              "array([5, 7, 9])"
            ]
          },
          "metadata": {},
          "execution_count": 4
        }
      ]
    },
    {
      "cell_type": "code",
      "source": [
        "arr_1"
      ],
      "metadata": {
        "colab": {
          "base_uri": "https://localhost:8080/"
        },
        "id": "NVLLsGh7GttO",
        "outputId": "357198ec-0bdd-4acd-e27e-1b4137e815db"
      },
      "execution_count": null,
      "outputs": [
        {
          "output_type": "execute_result",
          "data": {
            "text/plain": [
              "array([1, 2, 3])"
            ]
          },
          "metadata": {},
          "execution_count": 7
        }
      ]
    },
    {
      "cell_type": "code",
      "source": [
        "arr_1[1]"
      ],
      "metadata": {
        "colab": {
          "base_uri": "https://localhost:8080/"
        },
        "id": "tIe-qBpiGoZD",
        "outputId": "32c9439f-f1ab-4577-ec44-4a3593a051f2"
      },
      "execution_count": null,
      "outputs": [
        {
          "output_type": "execute_result",
          "data": {
            "text/plain": [
              "2"
            ]
          },
          "metadata": {},
          "execution_count": 8
        }
      ]
    },
    {
      "cell_type": "code",
      "source": [
        "arr_1.size"
      ],
      "metadata": {
        "colab": {
          "base_uri": "https://localhost:8080/"
        },
        "id": "4monhlpaGzei",
        "outputId": "3ad0820d-337a-47d1-f55a-204e53b2e737"
      },
      "execution_count": null,
      "outputs": [
        {
          "output_type": "execute_result",
          "data": {
            "text/plain": [
              "3"
            ]
          },
          "metadata": {},
          "execution_count": 9
        }
      ]
    },
    {
      "cell_type": "markdown",
      "source": [
        "## vector norm\n",
        "\n",
        "`np.linalg.norm(v)`"
      ],
      "metadata": {
        "id": "Tk2ibxSQHro6"
      }
    },
    {
      "cell_type": "code",
      "source": [
        "print(arr_1, arr_2)"
      ],
      "metadata": {
        "colab": {
          "base_uri": "https://localhost:8080/"
        },
        "id": "ZFKjSfVNHxg0",
        "outputId": "e408bd71-803d-4c50-f3f7-5f9ba349fe93"
      },
      "execution_count": null,
      "outputs": [
        {
          "output_type": "stream",
          "name": "stdout",
          "text": [
            "[1 2 3] [4 5 6]\n"
          ]
        }
      ]
    },
    {
      "cell_type": "code",
      "source": [
        "# vector norm dari arr_1\n",
        "np.linalg.norm(arr_1)"
      ],
      "metadata": {
        "colab": {
          "base_uri": "https://localhost:8080/"
        },
        "id": "3-8LCeGzH1LD",
        "outputId": "16aad363-60b4-4fdc-9034-2e94b248c560"
      },
      "execution_count": null,
      "outputs": [
        {
          "output_type": "execute_result",
          "data": {
            "text/plain": [
              "3.7416573867739413"
            ]
          },
          "metadata": {},
          "execution_count": 11
        }
      ]
    },
    {
      "cell_type": "code",
      "source": [
        "# default, euclidean\n",
        "arr = np.array([3, 4])\n",
        "\n",
        "# np.linalg.norm(arr) # default\n",
        "np.linalg.norm(arr, 2)"
      ],
      "metadata": {
        "colab": {
          "base_uri": "https://localhost:8080/"
        },
        "id": "EZ3e2eqdH74c",
        "outputId": "63a983eb-b3f2-4d58-a9a6-63228fd6563e"
      },
      "execution_count": null,
      "outputs": [
        {
          "output_type": "execute_result",
          "data": {
            "text/plain": [
              "5.0"
            ]
          },
          "metadata": {},
          "execution_count": 15
        }
      ]
    },
    {
      "cell_type": "code",
      "source": [
        "# distance manhattan\n",
        "np.linalg.norm(arr, 1)"
      ],
      "metadata": {
        "colab": {
          "base_uri": "https://localhost:8080/"
        },
        "id": "77wOe-hhI36f",
        "outputId": "a58eef78-4765-4941-a21f-931cc2e6c7ad"
      },
      "execution_count": null,
      "outputs": [
        {
          "output_type": "execute_result",
          "data": {
            "text/plain": [
              "7.0"
            ]
          },
          "metadata": {},
          "execution_count": 13
        }
      ]
    },
    {
      "cell_type": "markdown",
      "source": [
        "## operasi aritmatika"
      ],
      "metadata": {
        "id": "Gq_QgjM2Jtwc"
      }
    },
    {
      "cell_type": "markdown",
      "source": [
        "## penjumlahan"
      ],
      "metadata": {
        "id": "IBWVgZjwJwyG"
      }
    },
    {
      "cell_type": "code",
      "source": [
        "print(arr_1, arr_2)"
      ],
      "metadata": {
        "colab": {
          "base_uri": "https://localhost:8080/"
        },
        "id": "SN1xokp5Jswv",
        "outputId": "6cdd12d6-f6ea-4a9a-8630-a62d9b13ddfa"
      },
      "execution_count": null,
      "outputs": [
        {
          "output_type": "stream",
          "name": "stdout",
          "text": [
            "[1 2 3] [4 5 6]\n"
          ]
        }
      ]
    },
    {
      "cell_type": "code",
      "source": [
        "# penjumlahan vektor dengan skalar/bilangan\n",
        "arr_1 + 10"
      ],
      "metadata": {
        "colab": {
          "base_uri": "https://localhost:8080/"
        },
        "id": "brZvqrMpJ6Lv",
        "outputId": "d6f17677-fb97-4d53-99f0-8f4699fe2554"
      },
      "execution_count": null,
      "outputs": [
        {
          "output_type": "execute_result",
          "data": {
            "text/plain": [
              "array([11, 12, 13])"
            ]
          },
          "metadata": {},
          "execution_count": 18
        }
      ]
    },
    {
      "cell_type": "code",
      "source": [
        "# penjumlahan vektor dengan vektor\n",
        "arr_1 + arr_2"
      ],
      "metadata": {
        "colab": {
          "base_uri": "https://localhost:8080/"
        },
        "id": "8FedBiM9KL6K",
        "outputId": "b3623e3b-4187-4ae0-a841-2feef8dabf34"
      },
      "execution_count": null,
      "outputs": [
        {
          "output_type": "execute_result",
          "data": {
            "text/plain": [
              "array([5, 7, 9])"
            ]
          },
          "metadata": {},
          "execution_count": 19
        }
      ]
    },
    {
      "cell_type": "code",
      "source": [
        "# operasi aritmatika antar vektor dilakukan dengan jumlah elemen yang sama\n",
        "arr_3 = np.array([1, 2, 3, 4, 5])\n",
        "\n",
        "arr_1 + arr_3 # akan terjadi error"
      ],
      "metadata": {
        "colab": {
          "base_uri": "https://localhost:8080/",
          "height": 200
        },
        "id": "k-NFvTrDKfJu",
        "outputId": "425a977c-36ad-4f73-ee12-f2e8031ec3aa"
      },
      "execution_count": null,
      "outputs": [
        {
          "output_type": "error",
          "ename": "ValueError",
          "evalue": "ignored",
          "traceback": [
            "\u001b[0;31m---------------------------------------------------------------------------\u001b[0m",
            "\u001b[0;31mValueError\u001b[0m                                Traceback (most recent call last)",
            "\u001b[0;32m<ipython-input-20-97cd065c2a67>\u001b[0m in \u001b[0;36m<module>\u001b[0;34m()\u001b[0m\n\u001b[1;32m      1\u001b[0m \u001b[0marr_3\u001b[0m \u001b[0;34m=\u001b[0m \u001b[0mnp\u001b[0m\u001b[0;34m.\u001b[0m\u001b[0marray\u001b[0m\u001b[0;34m(\u001b[0m\u001b[0;34m[\u001b[0m\u001b[0;36m1\u001b[0m\u001b[0;34m,\u001b[0m \u001b[0;36m2\u001b[0m\u001b[0;34m,\u001b[0m \u001b[0;36m3\u001b[0m\u001b[0;34m,\u001b[0m \u001b[0;36m4\u001b[0m\u001b[0;34m,\u001b[0m \u001b[0;36m5\u001b[0m\u001b[0;34m]\u001b[0m\u001b[0;34m)\u001b[0m\u001b[0;34m\u001b[0m\u001b[0;34m\u001b[0m\u001b[0m\n\u001b[1;32m      2\u001b[0m \u001b[0;34m\u001b[0m\u001b[0m\n\u001b[0;32m----> 3\u001b[0;31m \u001b[0marr_1\u001b[0m \u001b[0;34m+\u001b[0m \u001b[0marr_3\u001b[0m\u001b[0;34m\u001b[0m\u001b[0;34m\u001b[0m\u001b[0m\n\u001b[0m",
            "\u001b[0;31mValueError\u001b[0m: operands could not be broadcast together with shapes (3,) (5,) "
          ]
        }
      ]
    },
    {
      "cell_type": "markdown",
      "source": [
        "## pengurangan"
      ],
      "metadata": {
        "id": "DmN9AxaYK4tb"
      }
    },
    {
      "cell_type": "code",
      "source": [
        "print(arr_1, arr_2)"
      ],
      "metadata": {
        "colab": {
          "base_uri": "https://localhost:8080/"
        },
        "id": "Wn12xplEK_lC",
        "outputId": "560fc792-0701-4e2a-977a-ec590d98d91c"
      },
      "execution_count": null,
      "outputs": [
        {
          "output_type": "stream",
          "name": "stdout",
          "text": [
            "[1 2 3] [4 5 6]\n"
          ]
        }
      ]
    },
    {
      "cell_type": "code",
      "source": [
        "# pengurangan antara vektor dengan skalar/bilangan\n",
        "10 - arr_1"
      ],
      "metadata": {
        "colab": {
          "base_uri": "https://localhost:8080/"
        },
        "id": "VJuriJ3-K1qc",
        "outputId": "e801b119-4c01-4d8f-9c16-657e2e58452b"
      },
      "execution_count": null,
      "outputs": [
        {
          "output_type": "execute_result",
          "data": {
            "text/plain": [
              "array([9, 8, 7])"
            ]
          },
          "metadata": {},
          "execution_count": 24
        }
      ]
    },
    {
      "cell_type": "code",
      "source": [
        "# pengurangan antara vektor dengan vektor\n",
        "arr_1 - arr_2"
      ],
      "metadata": {
        "colab": {
          "base_uri": "https://localhost:8080/"
        },
        "id": "lxh7n19SLOlh",
        "outputId": "3ac7c371-e15c-45df-b2c6-f4181c495898"
      },
      "execution_count": null,
      "outputs": [
        {
          "output_type": "execute_result",
          "data": {
            "text/plain": [
              "array([-3, -3, -3])"
            ]
          },
          "metadata": {},
          "execution_count": 25
        }
      ]
    },
    {
      "cell_type": "markdown",
      "source": [
        "## pembagian"
      ],
      "metadata": {
        "id": "3NC0CY64LcAf"
      }
    },
    {
      "cell_type": "code",
      "source": [
        "# pembagian vektor dengan skalar/bilangan\n",
        "arr_1 / 2"
      ],
      "metadata": {
        "colab": {
          "base_uri": "https://localhost:8080/"
        },
        "id": "jPtQPYm9Law2",
        "outputId": "651bb902-5a29-4d45-f344-184c40607437"
      },
      "execution_count": null,
      "outputs": [
        {
          "output_type": "execute_result",
          "data": {
            "text/plain": [
              "array([0.5, 1. , 1.5])"
            ]
          },
          "metadata": {},
          "execution_count": 26
        }
      ]
    },
    {
      "cell_type": "code",
      "source": [
        "# pembagian vektor dengan vektor\n",
        "arr_1 / arr_2"
      ],
      "metadata": {
        "colab": {
          "base_uri": "https://localhost:8080/"
        },
        "id": "_ZU5a9EmLvKL",
        "outputId": "a045484c-9fce-4d4d-e797-f0c4b295cf84"
      },
      "execution_count": null,
      "outputs": [
        {
          "output_type": "execute_result",
          "data": {
            "text/plain": [
              "array([0.25, 0.4 , 0.5 ])"
            ]
          },
          "metadata": {},
          "execution_count": 27
        }
      ]
    },
    {
      "cell_type": "markdown",
      "source": [
        "## perkalian\n",
        "\n",
        "- dengan skalar/bilangan\n",
        "- dengan vektor\n",
        "- dot-product"
      ],
      "metadata": {
        "id": "c099HqzKMKZz"
      }
    },
    {
      "cell_type": "code",
      "source": [
        "print(arr_1, arr_2)"
      ],
      "metadata": {
        "colab": {
          "base_uri": "https://localhost:8080/"
        },
        "id": "s-haJmVVMJ56",
        "outputId": "2c4f9255-d0f7-48e8-c327-cb4354571511"
      },
      "execution_count": null,
      "outputs": [
        {
          "output_type": "stream",
          "name": "stdout",
          "text": [
            "[1 2 3] [4 5 6]\n"
          ]
        }
      ]
    },
    {
      "cell_type": "code",
      "source": [
        "# perkalian vektor dengan skalar/bilangan\n",
        "arr_1 * 10"
      ],
      "metadata": {
        "colab": {
          "base_uri": "https://localhost:8080/"
        },
        "id": "O2QGZ_voMSlJ",
        "outputId": "0db0afdc-170a-4b63-a897-9ad8c5e56f51"
      },
      "execution_count": null,
      "outputs": [
        {
          "output_type": "execute_result",
          "data": {
            "text/plain": [
              "array([10, 20, 30])"
            ]
          },
          "metadata": {},
          "execution_count": 29
        }
      ]
    },
    {
      "cell_type": "code",
      "source": [
        "# perkalian vektor dengan vektor (multiplication)\n",
        "arr_1 * arr_2"
      ],
      "metadata": {
        "colab": {
          "base_uri": "https://localhost:8080/"
        },
        "id": "AJfnZa-iMprH",
        "outputId": "8cc1b219-4d96-4e89-bb6b-35205342dbc4"
      },
      "execution_count": null,
      "outputs": [
        {
          "output_type": "execute_result",
          "data": {
            "text/plain": [
              "array([ 4, 10, 18])"
            ]
          },
          "metadata": {},
          "execution_count": 30
        }
      ]
    },
    {
      "cell_type": "code",
      "source": [
        "# dot product\n",
        "arr_1.dot(arr_2)"
      ],
      "metadata": {
        "colab": {
          "base_uri": "https://localhost:8080/"
        },
        "id": "vui_wkc4Mx2A",
        "outputId": "70327275-ce87-4877-f1e3-1d60076ca977"
      },
      "execution_count": null,
      "outputs": [
        {
          "output_type": "execute_result",
          "data": {
            "text/plain": [
              "32"
            ]
          },
          "metadata": {},
          "execution_count": 31
        }
      ]
    },
    {
      "cell_type": "code",
      "source": [
        "np.dot(arr_1, arr_2)"
      ],
      "metadata": {
        "colab": {
          "base_uri": "https://localhost:8080/"
        },
        "id": "xlCdrLt2Na2o",
        "outputId": "b9c3a075-5f7b-4354-a671-aee1e70eaadd"
      },
      "execution_count": null,
      "outputs": [
        {
          "output_type": "execute_result",
          "data": {
            "text/plain": [
              "32"
            ]
          },
          "metadata": {},
          "execution_count": 32
        }
      ]
    },
    {
      "cell_type": "code",
      "source": [
        "arr_1 @ arr_2"
      ],
      "metadata": {
        "colab": {
          "base_uri": "https://localhost:8080/"
        },
        "id": "Rxj43LL6Nd79",
        "outputId": "8a2064ff-bee1-4dce-e269-51dd6d7ad20e"
      },
      "execution_count": null,
      "outputs": [
        {
          "output_type": "execute_result",
          "data": {
            "text/plain": [
              "32"
            ]
          },
          "metadata": {},
          "execution_count": 34
        }
      ]
    },
    {
      "cell_type": "markdown",
      "source": [
        "## cosine similarity"
      ],
      "metadata": {
        "id": "2kEAomdcOQ0D"
      }
    },
    {
      "cell_type": "code",
      "source": [
        "print(arr_1, arr_2)"
      ],
      "metadata": {
        "colab": {
          "base_uri": "https://localhost:8080/"
        },
        "id": "ckzdsYacOP_5",
        "outputId": "07cc589a-e61f-4e1b-d626-0e599705e254"
      },
      "execution_count": null,
      "outputs": [
        {
          "output_type": "stream",
          "name": "stdout",
          "text": [
            "[1 2 3] [4 5 6]\n"
          ]
        }
      ]
    },
    {
      "cell_type": "code",
      "source": [
        "cos_theta = arr_1 @ arr_2 / (np.linalg.norm(arr_1) * np.linalg.norm(arr_2))\n",
        "cos_theta"
      ],
      "metadata": {
        "colab": {
          "base_uri": "https://localhost:8080/"
        },
        "id": "caalyDqUOnR_",
        "outputId": "22daf7e9-6707-4459-9d1a-f56fa899e7f7"
      },
      "execution_count": null,
      "outputs": [
        {
          "output_type": "execute_result",
          "data": {
            "text/plain": [
              "0.9746318461970762"
            ]
          },
          "metadata": {},
          "execution_count": 37
        }
      ]
    },
    {
      "cell_type": "code",
      "source": [
        "# simulasi sudut 0 derajat\n",
        "arr_3 = np.array([3,0])\n",
        "arr_4 = np.array([5,0])\n",
        "\n",
        "cos_theta = arr_3 @ arr_4 / (np.linalg.norm(arr_3) * np.linalg.norm(arr_4))\n",
        "cos_theta"
      ],
      "metadata": {
        "colab": {
          "base_uri": "https://localhost:8080/"
        },
        "id": "oW8D3d6XPWE2",
        "outputId": "55e36ce3-0418-4a93-b5eb-405190633244"
      },
      "execution_count": null,
      "outputs": [
        {
          "output_type": "execute_result",
          "data": {
            "text/plain": [
              "1.0"
            ]
          },
          "metadata": {},
          "execution_count": 38
        }
      ]
    },
    {
      "cell_type": "code",
      "source": [
        "# simulasi sudut 90 derajat\n",
        "arr_5 = np.array([0,4])\n",
        "arr_6 = np.array([8,0])\n",
        "\n",
        "cos_theta = arr_5 @ arr_6 / (np.linalg.norm(arr_5) * np.linalg.norm(arr_6))\n",
        "cos_theta"
      ],
      "metadata": {
        "colab": {
          "base_uri": "https://localhost:8080/"
        },
        "id": "8oHfb8zsP_s9",
        "outputId": "81fc5be3-4e57-47a0-abd0-186a0c9c9f6b"
      },
      "execution_count": null,
      "outputs": [
        {
          "output_type": "execute_result",
          "data": {
            "text/plain": [
              "0.0"
            ]
          },
          "metadata": {},
          "execution_count": 39
        }
      ]
    },
    {
      "cell_type": "code",
      "source": [
        "# mencari sudut theta\n",
        "# merubah dalam bentuk radian\n",
        "rad = np.arccos(cos_theta)\n",
        "rad"
      ],
      "metadata": {
        "colab": {
          "base_uri": "https://localhost:8080/"
        },
        "id": "AsBSIO9pQXrV",
        "outputId": "c0952ee0-a9c0-4801-bd27-e0d3cf06aaa3"
      },
      "execution_count": null,
      "outputs": [
        {
          "output_type": "execute_result",
          "data": {
            "text/plain": [
              "1.5707963267948966"
            ]
          },
          "metadata": {},
          "execution_count": 40
        }
      ]
    },
    {
      "cell_type": "code",
      "source": [
        "# convert radian to degree\n",
        "degree = np.degrees(rad)\n",
        "degree"
      ],
      "metadata": {
        "colab": {
          "base_uri": "https://localhost:8080/"
        },
        "id": "36Ijny5oRMbr",
        "outputId": "cd1615fe-56ee-4ee2-8097-9ea41681fa6e"
      },
      "execution_count": null,
      "outputs": [
        {
          "output_type": "execute_result",
          "data": {
            "text/plain": [
              "90.0"
            ]
          },
          "metadata": {},
          "execution_count": 41
        }
      ]
    },
    {
      "cell_type": "markdown",
      "source": [
        "## case study\n",
        "\n",
        "- kalimat_1 = saya pergi ke rumah nenek saya\n",
        "- kalimat_2 = saya pergi ke rumah kakek saya\n",
        "\n",
        "| Kata Unik | Jumlah Kata di teks_1 | Jumlah Kata di teks_2 |\n",
        "| --- | --- | --- |\n",
        "| saya | 2 | 2 | \n",
        "| pergi | 1 | 1 | \n",
        "| ke | 1 | 1 | \n",
        "| rumah | 1 | 1 | \n",
        "| nenek | 1 | 0 | \n",
        "| kakek | 0 | 1 | "
      ],
      "metadata": {
        "id": "WgYP7aW2Rlsp"
      }
    },
    {
      "cell_type": "code",
      "source": [
        "kal_1 = [2, 1, 1, 1, 1, 0]\n",
        "kal_2 = [2, 1, 1, 1, 0, 1]\n",
        "\n",
        "kal_1 = np.array(kal_1)\n",
        "kal_2 = np.array(kal_2)\n",
        "\n",
        "print(kal_1, kal_2)"
      ],
      "metadata": {
        "colab": {
          "base_uri": "https://localhost:8080/"
        },
        "id": "iuUIBnWoRlLg",
        "outputId": "8b442e36-b0dd-4514-a343-feef4f3279a9"
      },
      "execution_count": null,
      "outputs": [
        {
          "output_type": "stream",
          "name": "stdout",
          "text": [
            "[2 1 1 1 1 0] [2 1 1 1 0 1]\n"
          ]
        }
      ]
    },
    {
      "cell_type": "code",
      "source": [
        "cos_theta = kal_1 @ kal_2 / (np.linalg.norm(kal_1) * np.linalg.norm(kal_2))\n",
        "cos_theta"
      ],
      "metadata": {
        "colab": {
          "base_uri": "https://localhost:8080/"
        },
        "id": "NaDDWzIuSziI",
        "outputId": "4f97e9cd-29e4-4218-ea5a-f18b33e5eec2"
      },
      "execution_count": null,
      "outputs": [
        {
          "output_type": "execute_result",
          "data": {
            "text/plain": [
              "0.8749999999999998"
            ]
          },
          "metadata": {},
          "execution_count": 43
        }
      ]
    },
    {
      "cell_type": "markdown",
      "source": [
        "case study II\n",
        "- kalimat_1 = saya kemarin pergi ke medan\n",
        "- kalimat_2 = ibu saya sedang belanja\n",
        "\n",
        "| Kata Unik | Jumlah Kata di teks_1 | Jumlah Kata di teks_2 |\n",
        "| --- | --- | --- |\n",
        "| saya | 1 | 1 | \n",
        "| kemarin | 1 | 0 | \n",
        "| pergi | 1 | 0 |\n",
        "| ke | 1 | 0 | \n",
        "| medan | 1 | 0 | \n",
        "| ibu | 0 | 1 | \n",
        "| sedang | 0 | 1 | \n",
        "| belanja | 0 | 1 | "
      ],
      "metadata": {
        "id": "8Cu1fc-3UitU"
      }
    },
    {
      "cell_type": "code",
      "source": [
        "vek_1 = [1, 1, 1, 1, 1, 0, 0, 0]\n",
        "vek_2 = [1, 0, 0, 0, 0, 1, 1, 1]\n",
        "\n",
        "vek_1 = np.array(vek_1)\n",
        "vek_2 = np.array(vek_2)\n",
        "\n",
        "print(vek_1)\n",
        "print(vek_2)"
      ],
      "metadata": {
        "colab": {
          "base_uri": "https://localhost:8080/"
        },
        "id": "oUe74II6UgtT",
        "outputId": "06997615-1817-4bb6-a5cf-e7f9394c7352"
      },
      "execution_count": null,
      "outputs": [
        {
          "output_type": "stream",
          "name": "stdout",
          "text": [
            "[1 1 1 1 1 0 0 0]\n",
            "[1 0 0 0 0 1 1 1]\n"
          ]
        }
      ]
    },
    {
      "cell_type": "code",
      "source": [
        "cos_theta = vek_1 @ vek_2 / (np.linalg.norm(vek_1) * np.linalg.norm(vek_2))\n",
        "cos_theta"
      ],
      "metadata": {
        "colab": {
          "base_uri": "https://localhost:8080/"
        },
        "id": "-gTBLt3_VkN1",
        "outputId": "42ff5930-dbc9-4f0d-d2f9-f86de2dc5231"
      },
      "execution_count": null,
      "outputs": [
        {
          "output_type": "execute_result",
          "data": {
            "text/plain": [
              "0.22360679774997896"
            ]
          },
          "metadata": {},
          "execution_count": 45
        }
      ]
    },
    {
      "cell_type": "markdown",
      "source": [
        "## viz"
      ],
      "metadata": {
        "id": "B-fFSjKFWVR4"
      }
    },
    {
      "cell_type": "code",
      "source": [
        "import matplotlib.pyplot as plt\n",
        "\n",
        "def plot_vector2d(vector2d, origin=[0, 0], **options):\n",
        "    return plt.arrow(origin[0], origin[1], vector2d[0], vector2d[1],\n",
        "              head_width=0.2, head_length=0.3, length_includes_head=True,\n",
        "              **options)"
      ],
      "metadata": {
        "id": "WkCk_5wyWKW9"
      },
      "execution_count": null,
      "outputs": []
    },
    {
      "cell_type": "code",
      "source": [
        "arr_5 = np.array([2,4])\n",
        "arr_6 = np.array([8,5])\n",
        "\n",
        "plot_vector2d(arr_5, color=\"r\")\n",
        "plot_vector2d(arr_6, color=\"b\")\n",
        "plt.axis([0, 9, 0, 6])\n",
        "plt.grid()\n",
        "plt.show()"
      ],
      "metadata": {
        "colab": {
          "base_uri": "https://localhost:8080/",
          "height": 269
        },
        "id": "3-elhXRtWMbA",
        "outputId": "c8ee1c32-1ec1-4c4a-90bf-c87860c083e5"
      },
      "execution_count": null,
      "outputs": [
        {
          "output_type": "display_data",
          "data": {
            "image/png": "[encoded data removed]",
            "text/plain": [
              "<Figure size 432x288 with 1 Axes>"
            ]
          },
          "metadata": {
            "needs_background": "light"
          }
        }
      ]
    },
    {
      "cell_type": "code",
      "source": [
        "cos_theta = arr_5 @ arr_6 / (np.linalg.norm(arr_5) * np.linalg.norm(arr_6))\n",
        "rad = np.arccos(cos_theta)\n",
        "degree = np.degrees(rad)\n",
        "\n",
        "print('cosine similarity: ', cos_theta)\n",
        "print('degree: ', degree)"
      ],
      "metadata": {
        "colab": {
          "base_uri": "https://localhost:8080/"
        },
        "id": "Fp8IRvFKWadA",
        "outputId": "edc612e7-6fc3-4f22-e04d-16dc73082876"
      },
      "execution_count": null,
      "outputs": [
        {
          "output_type": "stream",
          "name": "stdout",
          "text": [
            "cosine similarity:  0.8532818336519591\n",
            "degree:  31.429565614838506\n"
          ]
        }
      ]
    }
  ]
}