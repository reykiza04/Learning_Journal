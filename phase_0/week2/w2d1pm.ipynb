{
 "cells": [
  {
   "cell_type": "markdown",
   "metadata": {},
   "source": [
    "# VEKTOR\n",
    "### 21 feb 2022\n",
    "\n",
    "matematika tapi kita akan banyak bahas di numpy\n",
    "\n",
    "objectif\n",
    "- basic understanding vector\n",
    "- bisa mengoprasikan vektor\n",
    "- implementasi vektor\n",
    "--------------------------------------------------------------------------------\n",
    "\n",
    "vektor merupakan besaran yang memiliki nilai dan arah\n",
    "\n",
    "klo di data kita \n",
    "1 row adalah 1 vektor, atau setiap entry data adalah vektor\n",
    "\n",
    "- kita bisa anggap vektor adalah satu nilai dari numbers\n",
    "-------------------------------------------------------------------------------\n",
    "kita akan coba mendefinisikan vektor menggunakan numpy array\n"
   ]
  },
  {
   "cell_type": "code",
   "execution_count": 1,
   "metadata": {},
   "outputs": [],
   "source": [
    "import numpy as np"
   ]
  },
  {
   "cell_type": "code",
   "execution_count": 2,
   "metadata": {},
   "outputs": [
    {
     "data": {
      "text/plain": [
       "array([1, 2, 3])"
      ]
     },
     "execution_count": 2,
     "metadata": {},
     "output_type": "execute_result"
    }
   ],
   "source": [
    "np.array([1,2,3])"
   ]
  },
  {
   "cell_type": "markdown",
   "metadata": {},
   "source": [
    "kalo kita pakai list dia tidak bisa melakukan oprasi aritmatika"
   ]
  },
  {
   "cell_type": "code",
   "execution_count": 4,
   "metadata": {},
   "outputs": [
    {
     "data": {
      "text/plain": [
       "[1, 2, 3, 4, 5, 6]"
      ]
     },
     "execution_count": 4,
     "metadata": {},
     "output_type": "execute_result"
    }
   ],
   "source": [
    "list_1 = [1,2,3]\n",
    "list_2 = [4,5,6]\n",
    "list_1+list_2"
   ]
  },
  {
   "cell_type": "markdown",
   "metadata": {},
   "source": [
    "value nya tidak bertambah tapi yang terjadi adalah append (value nya di belakang)\n",
    "\n",
    "------------------------------------------------------------------------------\n",
    "\n",
    "sekarang kita coba sebagai array"
   ]
  },
  {
   "cell_type": "code",
   "execution_count": 5,
   "metadata": {},
   "outputs": [
    {
     "data": {
      "text/plain": [
       "array([5, 7, 9])"
      ]
     },
     "execution_count": 5,
     "metadata": {},
     "output_type": "execute_result"
    }
   ],
   "source": [
    "arr_1= np.array(list_1)\n",
    "arr_2= np.array(list_2)\n",
    "\n",
    "arr_2+arr_1"
   ]
  },
  {
   "cell_type": "markdown",
   "metadata": {},
   "source": [
    "hasilnya berbeda jadi pada numpy yang kta butuhkan karena valuenya yang berubah"
   ]
  },
  {
   "cell_type": "code",
   "execution_count": 6,
   "metadata": {},
   "outputs": [
    {
     "data": {
      "text/plain": [
       "3"
      ]
     },
     "execution_count": 6,
     "metadata": {},
     "output_type": "execute_result"
    }
   ],
   "source": [
    "arr_1[-1] #kita akses yang paling belakang"
   ]
  },
  {
   "cell_type": "code",
   "execution_count": 7,
   "metadata": {},
   "outputs": [
    {
     "data": {
      "text/plain": [
       "2"
      ]
     },
     "execution_count": 7,
     "metadata": {},
     "output_type": "execute_result"
    }
   ],
   "source": [
    "arr_1[1] #ambil yang tengah"
   ]
  },
  {
   "cell_type": "code",
   "execution_count": 8,
   "metadata": {},
   "outputs": [
    {
     "data": {
      "text/plain": [
       "3"
      ]
     },
     "execution_count": 8,
     "metadata": {},
     "output_type": "execute_result"
    }
   ],
   "source": [
    "arr_1.size #melihat ada berapa element pada array"
   ]
  },
  {
   "cell_type": "markdown",
   "metadata": {},
   "source": [
    "## vector norm\n",
    "\n",
    "- pada konsep matematika di sebut dengan panjang vektor\n",
    "\n",
    "np.linalg.norm(v)"
   ]
  },
  {
   "cell_type": "code",
   "execution_count": 10,
   "metadata": {},
   "outputs": [
    {
     "name": "stdout",
     "output_type": "stream",
     "text": [
      "[1 2 3] [4 5 6]\n"
     ]
    }
   ],
   "source": [
    "print(arr_1,arr_2)"
   ]
  },
  {
   "cell_type": "code",
   "execution_count": 11,
   "metadata": {},
   "outputs": [
    {
     "data": {
      "text/plain": [
       "3.7416573867739413"
      ]
     },
     "execution_count": 11,
     "metadata": {},
     "output_type": "execute_result"
    }
   ],
   "source": [
    "#vectornorm dari arr1\n",
    "np.linalg.norm(arr_1)"
   ]
  },
  {
   "cell_type": "code",
   "execution_count": 12,
   "metadata": {},
   "outputs": [
    {
     "data": {
      "text/plain": [
       "8.774964387392123"
      ]
     },
     "execution_count": 12,
     "metadata": {},
     "output_type": "execute_result"
    }
   ],
   "source": [
    "#vectornorm dari arr2\n",
    "np.linalg.norm(arr_2)"
   ]
  },
  {
   "cell_type": "code",
   "execution_count": 15,
   "metadata": {},
   "outputs": [
    {
     "data": {
      "text/plain": [
       "5.0"
      ]
     },
     "execution_count": 15,
     "metadata": {},
     "output_type": "execute_result"
    }
   ],
   "source": [
    "#default euclidean\n",
    "arr = np.array([3,4])\n",
    "np.linalg.norm(arr)\n",
    "#konsepnya seperti pytagoras"
   ]
  },
  {
   "cell_type": "markdown",
   "metadata": {},
   "source": [
    "bisa di sebut dengan \n",
    "L2 atau euclidean distance (pake pitagoras) 3,4 =5\n",
    "\n",
    "-------------------------------------------------------------------------------------------------\n",
    "\n",
    "L2 atau manhatan distance, ini di jumlahkan berdasarkan sumbunya (penjumblahan biasa) 3+4 =7\n"
   ]
  },
  {
   "cell_type": "code",
   "execution_count": 16,
   "metadata": {},
   "outputs": [
    {
     "data": {
      "text/plain": [
       "7.0"
      ]
     },
     "execution_count": 16,
     "metadata": {},
     "output_type": "execute_result"
    }
   ],
   "source": [
    "#discance manhatan\n",
    "np.linalg.norm(arr,1)"
   ]
  },
  {
   "cell_type": "code",
   "execution_count": 17,
   "metadata": {},
   "outputs": [
    {
     "data": {
      "text/plain": [
       "5.0"
      ]
     },
     "execution_count": 17,
     "metadata": {},
     "output_type": "execute_result"
    }
   ],
   "source": [
    "#disrtance euclidean\n",
    "np.linalg.norm(arr,2)"
   ]
  },
  {
   "cell_type": "markdown",
   "metadata": {},
   "source": [
    "vektor norm ada 2 cara\n",
    "1. loop for (waktu komputasinya lama) \n",
    "- Computational Thinking:norm = 0for i in range( len( vector ) ):norm=0norm+=vector[ I ]**2norm=sqrt( norm \n",
    "2. sec fungction (disarankan yang ini)\n",
    "- Using Numpyimportnumpyasnp# define vector a = array([1, 2, 3])# calculate norm v_norm= np.linalg.norm(a) print(v_norm) Vector Norm on CodeOutput:   3.74165738677"
   ]
  },
  {
   "cell_type": "markdown",
   "metadata": {},
   "source": [
    "## Oprasi aritmatika\n"
   ]
  },
  {
   "cell_type": "markdown",
   "metadata": {},
   "source": [
    "### penjumblajhan antara vektor dan skalar atau vektor dengan vektor"
   ]
  },
  {
   "cell_type": "code",
   "execution_count": 18,
   "metadata": {},
   "outputs": [
    {
     "name": "stdout",
     "output_type": "stream",
     "text": [
      "[1 2 3] [4 5 6]\n"
     ]
    }
   ],
   "source": [
    "print(arr_1,arr_2)"
   ]
  },
  {
   "cell_type": "code",
   "execution_count": 19,
   "metadata": {},
   "outputs": [
    {
     "data": {
      "text/plain": [
       "array([11, 12, 13])"
      ]
     },
     "execution_count": 19,
     "metadata": {},
     "output_type": "execute_result"
    }
   ],
   "source": [
    "#penjumblahan vektor dengan skalar atau bilangan\n",
    "arr_1+10"
   ]
  },
  {
   "cell_type": "markdown",
   "metadata": {},
   "source": [
    "seluruh isi vektornya akan ter tambah dengan angka skalar nya"
   ]
  },
  {
   "cell_type": "code",
   "execution_count": 20,
   "metadata": {},
   "outputs": [
    {
     "data": {
      "text/plain": [
       "array([5, 7, 9])"
      ]
     },
     "execution_count": 20,
     "metadata": {},
     "output_type": "execute_result"
    }
   ],
   "source": [
    "#penjumlahan vektor dengan vektor\n",
    "arr_1+arr_2"
   ]
  },
  {
   "cell_type": "markdown",
   "metadata": {},
   "source": [
    "vektornya akan menambahkan sesuai urutan elementnya\n",
    "\n",
    "untuk penambahanya harus menggunakan jumlah element yang sama"
   ]
  },
  {
   "cell_type": "code",
   "execution_count": 23,
   "metadata": {},
   "outputs": [
    {
     "ename": "ValueError",
     "evalue": "operands could not be broadcast together with shapes (3,) (5,) ",
     "output_type": "error",
     "traceback": [
      "\u001b[1;31m---------------------------------------------------------------------------\u001b[0m",
      "\u001b[1;31mValueError\u001b[0m                                Traceback (most recent call last)",
      "\u001b[1;32m<ipython-input-23-dac2f701f663>\u001b[0m in \u001b[0;36m<module>\u001b[1;34m\u001b[0m\n\u001b[0;32m      1\u001b[0m \u001b[0marr_3\u001b[0m\u001b[1;33m=\u001b[0m\u001b[0mnp\u001b[0m\u001b[1;33m.\u001b[0m\u001b[0marray\u001b[0m\u001b[1;33m(\u001b[0m\u001b[1;33m[\u001b[0m\u001b[1;36m1\u001b[0m\u001b[1;33m,\u001b[0m\u001b[1;36m2\u001b[0m\u001b[1;33m,\u001b[0m\u001b[1;36m3\u001b[0m\u001b[1;33m,\u001b[0m\u001b[1;36m4\u001b[0m\u001b[1;33m,\u001b[0m\u001b[1;36m5\u001b[0m\u001b[1;33m]\u001b[0m\u001b[1;33m)\u001b[0m\u001b[1;33m\u001b[0m\u001b[1;33m\u001b[0m\u001b[0m\n\u001b[0;32m      2\u001b[0m \u001b[1;33m\u001b[0m\u001b[0m\n\u001b[1;32m----> 3\u001b[1;33m \u001b[0marr_1\u001b[0m\u001b[1;33m+\u001b[0m\u001b[0marr_3\u001b[0m\u001b[1;33m\u001b[0m\u001b[1;33m\u001b[0m\u001b[0m\n\u001b[0m",
      "\u001b[1;31mValueError\u001b[0m: operands could not be broadcast together with shapes (3,) (5,) "
     ]
    }
   ],
   "source": [
    "arr_3=np.array([1,2,3,4,5])\n",
    "\n",
    "arr_1+arr_3"
   ]
  },
  {
   "cell_type": "markdown",
   "metadata": {},
   "source": [
    "jika jumlah element oprasinya berbeda maka tidak bisa di oprasikan\n",
    "### element yang di oprasikan harus sama yaaaaaa\n",
    "\n",
    "---------------------------------------------------------------------------------------------------------"
   ]
  },
  {
   "cell_type": "markdown",
   "metadata": {},
   "source": [
    "## pengurangan"
   ]
  },
  {
   "cell_type": "code",
   "execution_count": 24,
   "metadata": {},
   "outputs": [
    {
     "name": "stdout",
     "output_type": "stream",
     "text": [
      "[1 2 3] [4 5 6]\n"
     ]
    }
   ],
   "source": [
    "#pengurangan vektor dan skalar\n",
    "print(arr_1,arr_2)"
   ]
  },
  {
   "cell_type": "code",
   "execution_count": 25,
   "metadata": {},
   "outputs": [
    {
     "data": {
      "text/plain": [
       "array([-9, -8, -7])"
      ]
     },
     "execution_count": 25,
     "metadata": {},
     "output_type": "execute_result"
    }
   ],
   "source": [
    "arr_1-10"
   ]
  },
  {
   "cell_type": "markdown",
   "metadata": {},
   "source": [
    "masing-masing akan di kurangin di seluruh elementnya\n",
    "\n",
    "----------------------------------------------------------------------\n",
    "\n",
    "sekarang kita coba antara vektor dan vektor"
   ]
  },
  {
   "cell_type": "code",
   "execution_count": 26,
   "metadata": {},
   "outputs": [
    {
     "data": {
      "text/plain": [
       "array([-3, -3, -3])"
      ]
     },
     "execution_count": 26,
     "metadata": {},
     "output_type": "execute_result"
    }
   ],
   "source": [
    "arr_1-arr_2\n",
    "\n",
    "#yang terjadi adalah pengurangan sesuai poisis"
   ]
  },
  {
   "cell_type": "markdown",
   "metadata": {},
   "source": [
    "## Pembagiann"
   ]
  },
  {
   "cell_type": "code",
   "execution_count": 27,
   "metadata": {},
   "outputs": [
    {
     "data": {
      "text/plain": [
       "array([0.5, 1. , 1.5])"
      ]
     },
     "execution_count": 27,
     "metadata": {},
     "output_type": "execute_result"
    }
   ],
   "source": [
    "#pembagian vektor dengan bilangan atau skalar\n",
    "\n",
    "arr_1 / 2\n",
    "\n",
    "#setiap element akan di bagi 2"
   ]
  },
  {
   "cell_type": "code",
   "execution_count": 29,
   "metadata": {},
   "outputs": [
    {
     "name": "stdout",
     "output_type": "stream",
     "text": [
      "[1 2 3] [4 5 6]\n"
     ]
    }
   ],
   "source": [
    "print (arr_1,arr_2)"
   ]
  },
  {
   "cell_type": "code",
   "execution_count": 28,
   "metadata": {},
   "outputs": [
    {
     "data": {
      "text/plain": [
       "array([0.25, 0.4 , 0.5 ])"
      ]
     },
     "execution_count": 28,
     "metadata": {},
     "output_type": "execute_result"
    }
   ],
   "source": [
    "#pembagian vektor dengan vektor akan ke element wise\n",
    "arr_1/arr_2"
   ]
  },
  {
   "cell_type": "markdown",
   "metadata": {},
   "source": [
    "# perkalian\n",
    "- disini ad yg berbedaa\n",
    "\n",
    "----------------------------------------------------------------------------\n",
    "ada 3 cara\n",
    "- mullti by scalar atau bilangan\n",
    "- by vector\n",
    "- dot prouct"
   ]
  },
  {
   "cell_type": "code",
   "execution_count": 30,
   "metadata": {},
   "outputs": [
    {
     "name": "stdout",
     "output_type": "stream",
     "text": [
      "[1 2 3] [4 5 6]\n"
     ]
    }
   ],
   "source": [
    "print(arr_1,arr_2)"
   ]
  },
  {
   "cell_type": "markdown",
   "metadata": {},
   "source": [
    "###  scalar dengan vektor\n"
   ]
  },
  {
   "cell_type": "code",
   "execution_count": 31,
   "metadata": {},
   "outputs": [
    {
     "data": {
      "text/plain": [
       "array([2, 4, 6])"
      ]
     },
     "execution_count": 31,
     "metadata": {},
     "output_type": "execute_result"
    }
   ],
   "source": [
    "arr_1 * 2"
   ]
  },
  {
   "cell_type": "code",
   "execution_count": 33,
   "metadata": {},
   "outputs": [
    {
     "data": {
      "text/plain": [
       "array([10, 20, 30, 40, 50])"
      ]
     },
     "execution_count": 33,
     "metadata": {},
     "output_type": "execute_result"
    }
   ],
   "source": [
    "arr_3 * 10\n",
    "#setiap bilangan akan di kalikan dengan bilangan yg sama"
   ]
  },
  {
   "cell_type": "code",
   "execution_count": 34,
   "metadata": {},
   "outputs": [
    {
     "data": {
      "text/plain": [
       "array([ 4, 10, 18])"
      ]
     },
     "execution_count": 34,
     "metadata": {},
     "output_type": "execute_result"
    }
   ],
   "source": [
    "#kalo vektor dengan vektor dia element wise\n",
    "\n",
    "arr_1*arr_2"
   ]
  },
  {
   "cell_type": "markdown",
   "metadata": {},
   "source": [
    "### dot product bberbeda karena hasilnya merupakan sekalar, dan jika di aplikasikan kita akan mendapatkan sudut setiap vektor agar bisa mendapatkan sudut apakah setiap vektor mirip sudutnya"
   ]
  },
  {
   "cell_type": "markdown",
   "metadata": {},
   "source": [
    "simbol dot product adalah '@', setelah kali element wise setelah itu dia akan menjumblahkan dan hasilnya adalah bilangan biasa bukan berbentuk vektor lagi"
   ]
  },
  {
   "cell_type": "markdown",
   "metadata": {},
   "source": [
    "terkait cara penulisan ad beberapa"
   ]
  },
  {
   "cell_type": "code",
   "execution_count": 35,
   "metadata": {},
   "outputs": [
    {
     "data": {
      "text/plain": [
       "32"
      ]
     },
     "execution_count": 35,
     "metadata": {},
     "output_type": "execute_result"
    }
   ],
   "source": [
    "#dot product\n",
    "arr_1 @ arr_2\n"
   ]
  },
  {
   "cell_type": "code",
   "execution_count": 36,
   "metadata": {},
   "outputs": [
    {
     "data": {
      "text/plain": [
       "32"
      ]
     },
     "execution_count": 36,
     "metadata": {},
     "output_type": "execute_result"
    }
   ],
   "source": [
    "arr_1.dot(arr_2)"
   ]
  },
  {
   "cell_type": "code",
   "execution_count": 37,
   "metadata": {},
   "outputs": [
    {
     "data": {
      "text/plain": [
       "32"
      ]
     },
     "execution_count": 37,
     "metadata": {},
     "output_type": "execute_result"
    }
   ],
   "source": [
    "np.dot(arr_1,arr_2)"
   ]
  },
  {
   "cell_type": "markdown",
   "metadata": {},
   "source": [
    "dengan memanfaatkan do tporduct ini bisa mendapatkan sudut tiap vektor yang bis merepretasikan kemiripan atau sudut vektor\n",
    "\n",
    "||a|| adalah vektor norm a\n",
    "\n",
    "a.b= ||a|| ||b|| cos teta nya atau sudut\n",
    "lantak laaaaaaaaaa\n",
    "\n",
    "yang biasa di manfaatkan dari rumus ini adalah cos tetanya maka bisa di modifikasi\n",
    "\n",
    "cos teta = a @ b / ||a|| ||b||\n",
    "\n",
    "\n",
    "semakin kecil sudutnya maka vektor ini bisa di bilang semakin miri p atau berdekatan\n",
    "\n",
    "skalanya 0 - 1 banyak koma juga dong"
   ]
  },
  {
   "cell_type": "markdown",
   "metadata": {},
   "source": [
    "- cosine similarity"
   ]
  },
  {
   "cell_type": "code",
   "execution_count": 39,
   "metadata": {},
   "outputs": [
    {
     "name": "stdout",
     "output_type": "stream",
     "text": [
      "[1 2 3] [4 5 6]\n"
     ]
    }
   ],
   "source": [
    "print(arr_1,arr_2)"
   ]
  },
  {
   "cell_type": "code",
   "execution_count": 42,
   "metadata": {},
   "outputs": [
    {
     "data": {
      "text/plain": [
       "0.9746318461970762"
      ]
     },
     "execution_count": 42,
     "metadata": {},
     "output_type": "execute_result"
    }
   ],
   "source": [
    "cos_theta = arr_1 @ arr_2 / (np.linalg.norm(arr_1)* np.linalg.norm(arr_2))\n",
    "cos_theta\n",
    "#pastikan kembali tanda kurungny klo lupa beda hasilnya"
   ]
  },
  {
   "cell_type": "markdown",
   "metadata": {},
   "source": [
    "kita akan cob ajika vektornya itu ada di satu sumbu yang sama\n",
    "- v1=3,0\n",
    "- v2=5,0\n",
    "- vektor= sumbu x , sumbu y\n"
   ]
  },
  {
   "cell_type": "code",
   "execution_count": 45,
   "metadata": {},
   "outputs": [],
   "source": [
    "arr_3 = np.array([3,0])\n",
    "arr_4 = np.array([5,0])"
   ]
  },
  {
   "cell_type": "code",
   "execution_count": 46,
   "metadata": {},
   "outputs": [
    {
     "data": {
      "text/plain": [
       "1.0"
      ]
     },
     "execution_count": 46,
     "metadata": {},
     "output_type": "execute_result"
    }
   ],
   "source": [
    "cos_theta = arr_3 @ arr_4 / (np.linalg.norm(arr_3)* np.linalg.norm(arr_4))\n",
    "cos_theta\n",
    "#pastikan kembali tanda kurungny klo lupa beda hasilnya"
   ]
  },
  {
   "cell_type": "markdown",
   "metadata": {},
   "source": [
    "kita akan mencoba mencari sudut90derajat dimana cos = 0"
   ]
  },
  {
   "cell_type": "code",
   "execution_count": 49,
   "metadata": {},
   "outputs": [
    {
     "data": {
      "text/plain": [
       "0.0"
      ]
     },
     "execution_count": 49,
     "metadata": {},
     "output_type": "execute_result"
    }
   ],
   "source": [
    "arr_5 = np.array([0,4])\n",
    "arr_6 = np.array([8,0])\n",
    "cos_theta = arr_5 @ arr_6 / (np.linalg.norm(arr_5)* np.linalg.norm(arr_6))\n",
    "cos_theta\n",
    "#pastikan kembali tanda kurungny klo lupa beda hasilnya\n",
    "# ingat dia itu adalah sumbu X , sumbu Y"
   ]
  },
  {
   "cell_type": "markdown",
   "metadata": {},
   "source": [
    "sampai sini baru dapat COS teta nya sekarang kita akan mencari sudut teta\n",
    "\n",
    "di numpy atau python tidak bisa langsung rubah ke sudut harus 2 langkah\n",
    "\n",
    "harus ke radiant dulu baru ke degree"
   ]
  },
  {
   "cell_type": "code",
   "execution_count": 51,
   "metadata": {},
   "outputs": [
    {
     "data": {
      "text/plain": [
       "1.5707963267948966"
      ]
     },
     "execution_count": 51,
     "metadata": {},
     "output_type": "execute_result"
    }
   ],
   "source": [
    "#cara mencari sudut teta\n",
    "#merubah dalam bentuk radian\n",
    "rad = np.arccos(cos_theta)\n",
    "rad"
   ]
  },
  {
   "cell_type": "code",
   "execution_count": 53,
   "metadata": {},
   "outputs": [
    {
     "data": {
      "text/plain": [
       "90.0"
      ]
     },
     "execution_count": 53,
     "metadata": {},
     "output_type": "execute_result"
    }
   ],
   "source": [
    "#convert radian ke degereee\n",
    "degree = np.degrees(rad)\n",
    "degree"
   ]
  },
  {
   "cell_type": "markdown",
   "metadata": {},
   "source": [
    "sesi berakhir setelh ini kita akan cob acontoh kasus terkait penerapan vektor norm ini"
   ]
  },
  {
   "cell_type": "markdown",
   "metadata": {},
   "source": [
    "----------------------------------------"
   ]
  },
  {
   "cell_type": "markdown",
   "metadata": {},
   "source": [
    "## case study\n",
    "\n",
    "memanfaatkan singularity apakah kalimat mirip atau tidak\n",
    "\n",
    "- kalimat1 = saya pergi ke rumah nenek saya\n",
    "- kalimmat2 = saya pergi ke rumah kakek saya\n",
    "-             saya  pergi ke  rumah nenek kakek\n",
    "-              2     1    1   1     1       1 saya lagi di awal uda di tulis\n",
    "kal 1 kakek 0 \n",
    "kal 2 nenek 0\n",
    "\n",
    "caranya kita rubah ke bentuk vektor dengan cara maping dengan kata uniq yang ada\n",
    "\n",
    "- saya\n",
    "- pergi\n",
    "- ke\n",
    "- rumah\n",
    "- nenek\n",
    "- kakek\n",
    "\n",
    "kal_1 = [2,1,1,1,1,0]\n",
    "kal_2 = [2,1,1,1,0,1]\n",
    "\n",
    "\n",
    "ini adalah list kalimat unik, \n",
    "selanjutnya kita kan petakan muncul berapa kali dan muncul aapa aja\n",
    "\n",
    "misal di kalimat saya muncul 2x\n",
    "pergi muncul 1x dst \n",
    "pokonya di kalimat pertama\n",
    "\n",
    "setelah itu dia akan melihatdi kalimat ke 2 berapa kali muncul kalimat\" nya"
   ]
  },
  {
   "cell_type": "code",
   "execution_count": 54,
   "metadata": {},
   "outputs": [
    {
     "name": "stdout",
     "output_type": "stream",
     "text": [
      "[2 1 1 1 1 0] [2 1 1 1 0 1]\n"
     ]
    }
   ],
   "source": [
    "#caranya kita rubah ke bentuk vektor dengan cara maping dengan kata uniq yang ada\n",
    "\n",
    "kal_1 = [2,1,1,1,1,0]\n",
    "kal_2 = [2,1,1,1,0,1]\n",
    "\n",
    "kal_1 = np.array(kal_1)\n",
    "\n",
    "kal_2 = np.array(kal_2)\n",
    "\n",
    "print(kal_1,kal_2)"
   ]
  },
  {
   "cell_type": "code",
   "execution_count": 56,
   "metadata": {},
   "outputs": [
    {
     "data": {
      "text/plain": [
       "0.8749999999999998"
      ]
     },
     "execution_count": 56,
     "metadata": {},
     "output_type": "execute_result"
    }
   ],
   "source": [
    "cos_theta = kal_1 @ kal_2 /(np.linalg.norm(kal_1)*np.linalg.norm(kal_2))\n",
    "cos_theta"
   ]
  },
  {
   "cell_type": "markdown",
   "metadata": {},
   "source": [
    "bisa di bilang kalimat di atas ini adalah mirip\n",
    "0.5 ke atas mirip\n",
    "0.5 le bawah tidak miirip"
   ]
  },
  {
   "cell_type": "markdown",
   "metadata": {},
   "source": [
    "case study 2\n",
    "kalimat 1 = saya kemarin pergi ke medan\n",
    "kalimat 2 = ibu saya sedang belanja\n",
    "\n",
    "sekarang kita akan mapping dulu\n",
    "           '`kal 1           kal2`\n",
    "- saya      1               1\n",
    "- kemarin   1               0   \n",
    "- pergi     1               0\n",
    "- ke        1               0\n",
    "- medan     0               1\n",
    "- ibu       0               1\n",
    "- sedang    0               1\n",
    "- belanja   0               1"
   ]
  },
  {
   "cell_type": "code",
   "execution_count": 57,
   "metadata": {},
   "outputs": [
    {
     "name": "stdout",
     "output_type": "stream",
     "text": [
      "[1 1 1 1 1 0 0 0] [1 0 0 0 0 1 1 1]\n"
     ]
    }
   ],
   "source": [
    "vek_1 = [1,1,1,1,1,0,0,0]\n",
    "vek_2 = [1,0,0,0,0,1,1,1]\n",
    "vek_1= np.array(vek_1)\n",
    "vek_2= np.array(vek_2)\n",
    "print (vek_1,vek_2)"
   ]
  },
  {
   "cell_type": "code",
   "execution_count": 58,
   "metadata": {},
   "outputs": [
    {
     "data": {
      "text/plain": [
       "0.22360679774997896"
      ]
     },
     "execution_count": 58,
     "metadata": {},
     "output_type": "execute_result"
    }
   ],
   "source": [
    "cos_theta = vek_1 @ vek_2 /(np.linalg.norm(vek_1)*np.linalg.norm(vek_2))\n",
    "cos_theta"
   ]
  },
  {
   "cell_type": "markdown",
   "metadata": {},
   "source": [
    "secara perhitungan kalimat yang ada tidak lah mirip begitu karena di bawah 0.5"
   ]
  },
  {
   "cell_type": "code",
   "execution_count": null,
   "metadata": {},
   "outputs": [],
   "source": [
    "# special coba ke grrafik kartesian "
   ]
  }
 ],
 "metadata": {
  "interpreter": {
   "hash": "8a0314e9a3496969cdc3b628708851b260263268c48c6868778a684e0fdc7ce1"
  },
  "kernelspec": {
   "display_name": "Python 3.7.3 ('base')",
   "language": "python",
   "name": "python3"
  },
  "language_info": {
   "codemirror_mode": {
    "name": "ipython",
    "version": 3
   },
   "file_extension": ".py",
   "mimetype": "text/x-python",
   "name": "python",
   "nbconvert_exporter": "python",
   "pygments_lexer": "ipython3",
   "version": "3.7.3"
  },
  "orig_nbformat": 4
 },
 "nbformat": 4,
 "nbformat_minor": 2
}
