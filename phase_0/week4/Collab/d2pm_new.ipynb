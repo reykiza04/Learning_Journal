{
  "nbformat": 4,
  "nbformat_minor": 0,
  "metadata": {
    "colab": {
      "name": "d2pm_new.ipynb",
      "provenance": [],
      "collapsed_sections": []
    },
    "kernelspec": {
      "name": "python3",
      "display_name": "Python 3"
    },
    "language_info": {
      "name": "python"
    }
  },
  "cells": [
    {
      "cell_type": "markdown",
      "metadata": {
        "id": "m9aU5YVElTtS"
      },
      "source": [
        "# Streamlit\n",
        "\n",
        "Streamlit is an open-source Python library that makes it easy to create and share beautiful, custom web apps for machine learning and data science. In just a few minutes you can build and deploy powerful data apps - so let’s get started!\n",
        "\n",
        "1. Make sure that you have Python 3.6+ installed.\n",
        "2. Install Streamlit using PIP and run the ‘hello world’ app:\n",
        "\n",
        "```sh\n",
        "pip install streamlit\n",
        "streamlit hello\n",
        "```\n",
        "\n",
        "That’s it! In the next few seconds the sample app will open in a new tab in your default browser.\n",
        "\n",
        "Still with us? Great! Now make your own app in just 3 more steps:\n",
        "\n",
        "1. Open a new Python file, import Streamlit, and write some code\n",
        "2. Run the file with: `streamlit run [filename]`\n",
        "3. When you’re ready, click `Deploy` from the Streamlit menu to share your app with the world!\n",
        "\n",
        "Now that you’re set up, let’s dive into more of how Streamlit works and how to build great apps."
      ]
    },
    {
      "cell_type": "markdown",
      "metadata": {
        "id": "U4A6d2Vsy7aU"
      },
      "source": [
        ""
      ]
    },
    {
      "cell_type": "markdown",
      "metadata": {
        "id": "8Z8aBqqUwBsn"
      },
      "source": [
        "## Media and Layout\n",
        "\n",
        "st.image\n",
        "\n",
        "Display an image or list of images.\n",
        "\n",
        "```py\n",
        "from PIL import Image\n",
        "image = Image.open('sunrise.jpg')\n",
        "\n",
        "st.image(image, caption='Sunrise by the mountains')\n",
        "```\n",
        "\n",
        "st.columns\n",
        "\n",
        "Insert containers laid out as side-by-side columns.\n",
        "\n",
        "Inserts a number of multi-element containers laid out side-by-side and returns a list of container objects.\n",
        "\n",
        "To add elements to the returned containers, you can use \"with\" notation (preferred) or just call methods directly on the returned object. See examples below.\n",
        "\n",
        "You can use with notation to insert any element into a column:\n",
        "\n",
        "```py\n",
        "col1, col2, col3 = st.columns(3)\n",
        "with col1:\n",
        "  st.header(\"A cat\")\n",
        "  st.image(\"https://static.streamlit.io/examples/cat.jpg\")\n",
        "\n",
        "with col2:\n",
        "  st.header(\"A dog\")\n",
        "  st.image(\"https://static.streamlit.io/examples/dog.jpg\")\n",
        "\n",
        "with col3:\n",
        "  st.header(\"An owl\")\n",
        "  st.image(\"https://static.streamlit.io/examples/owl.jpg\")\n",
        "```\n",
        "\n",
        "Or you can just call methods directly in the returned objects:\n",
        "\n",
        "```py\n",
        "col1, col2 = st.columns([3, 1])\n",
        "data = np.random.randn(10, 1)\n",
        "\n",
        "col1.subheader(\"A wide column with a chart\")\n",
        "col1.line_chart(data)\n",
        "\n",
        "col2.subheader(\"A narrow column with the data\")\n",
        "col2.write(data)\n",
        "```"
      ]
    },
    {
      "cell_type": "markdown",
      "metadata": {
        "id": "TXaUwnowwnbj"
      },
      "source": [
        "st.expander\n",
        "\n",
        "Insert a multi-element container that can be expanded/collapsed.\n",
        "\n",
        "Inserts a container into your app that can be used to hold multiple elements and can be expanded or collapsed by the user. When collapsed, all that is visible is the provided label.\n",
        "\n",
        "To add elements to the returned container, you can use \"with\" notation (preferred) or just call methods directly on the returned object. See examples below.\n",
        "\n",
        "```py\n",
        "st.line_chart({\"data\": [1, 5, 2, 6, 2, 1]})\n",
        "\n",
        "with st.expander(\"See explanation\"):\n",
        "  st.write(\"\"\"\n",
        "     The chart above shows some numbers I picked for you.\n",
        "     I rolled actual dice for these, so they're *guaranteed* to\n",
        "     be random.\n",
        "  \"\"\")\n",
        "\n",
        "  st.image(\"https://static.streamlit.io/examples/dice.jpg\")\n",
        "```"
      ]
    },
    {
      "cell_type": "markdown",
      "metadata": {
        "id": "GMie1dH8w5ks"
      },
      "source": [
        "st.container\n",
        "\n",
        "Insert a multi-element container.\n",
        "\n",
        "Inserts an invisible container into your app that can be used to hold multiple elements. This allows you to, for example, insert multiple elements into your app out of order.\n",
        "\n",
        "To add elements to the returned container, you can use \"with\" notation (preferred) or just call methods directly on the returned object. See examples below.\n",
        "\n",
        "```py\n",
        "with st.container():\n",
        "  st.write(\"This is inside the container\")\n",
        "\n",
        "  # You can call any Streamlit command, including custom components:\n",
        "  st.bar_chart(np.random.randn(50, 3))\n",
        "\n",
        "st.write(\"This is outside the container\")\n",
        "```"
      ]
    },
    {
      "cell_type": "markdown",
      "metadata": {
        "id": "jJThroupxJEe"
      },
      "source": [
        "st.set_page_config\n",
        "\n",
        "Configures the default settings of the page.\n",
        "\n",
        "```py\n",
        "st.set_page_config(\n",
        "    page_title=\"Ex-stream-ly Cool App\",\n",
        "    page_icon=\"🧊\",\n",
        "    layout=\"wide\",\n",
        "    initial_sidebar_state=\"expanded\",\n",
        "    menu_items={\n",
        "        'Get Help': 'https://www.extremelycoolapp.com/help',\n",
        "        'Report a bug': \"https://www.extremelycoolapp.com/bug\",\n",
        "        'About': \"# This is a header. This is an *extremely* cool app!\"\n",
        "    }\n",
        ")\n",
        "```"
      ]
    },
    {
      "cell_type": "markdown",
      "metadata": {
        "id": "0kK193ULsPL7"
      },
      "source": [
        "## Multipage Streamlit\n",
        "\n",
        "We can create multiple apps and navigate across each of them in a main app using a radio button. Let’s see how to do that.\n",
        "\n",
        "1. Create app1.py and app2.py .\n",
        "\n",
        "```py\n",
        "# app1.py\n",
        "import streamlit as st\n",
        "def app():\n",
        "    st.title('APP1')\n",
        "    st.write('Welcome to app1')\n",
        "```\n",
        "\n",
        "```py\n",
        "# app2.py\n",
        "import streamlit as st\n",
        "def app():\n",
        "    st.title('APP2')\n",
        "    st.write('Welcome to app2')\n",
        "```\n",
        "\n",
        "2. Create a main app app.py and add a navigator using radio or select buttons.\n",
        "\n",
        "```py\n",
        "#app.py\n",
        "import app1\n",
        "import app2\n",
        "import streamlit as st\n",
        "PAGES = {\n",
        "    \"App1\": app1,\n",
        "    \"App2\": app2\n",
        "}\n",
        "st.sidebar.title('Navigation')\n",
        "selection = st.sidebar.radio(\"Go to\", list(PAGES.keys()))\n",
        "page = PAGES[selection]\n",
        "page.app()\n",
        "```\n",
        "\n",
        "Now you run the app.py to access and navigate through both the apps."
      ]
    },
    {
      "cell_type": "markdown",
      "metadata": {
        "id": "S98Y0g0-0DMN"
      },
      "source": [
        "## Practice Session.\n",
        "\n",
        "Make your own dashboard using [this](https://www.kaggle.com/peterkmutua/housing-dataset) dataset."
      ]
    },
    {
      "cell_type": "markdown",
      "metadata": {
        "id": "5ilMSfZA1ypz"
      },
      "source": [
        "### Deployment\n",
        "\n",
        "Next, in the project’s root directory, create a file called `runtime.txt` where you’ll specify a Python version for your Heroku app:\n",
        "\n",
        "```txt\n",
        "python-3.8.6\n",
        "```\n",
        "\n",
        "When you deploy your app, Heroku will automatically detect that it’s a Python application and will use the correct buildpack. If you also provide a runtime.txt, then it’ll pin down the Python version that your app will use.\n",
        "\n",
        "Next, create a `requirements.txt` file in the project’s root directory where you’ll copy the libraries required to set up your Dash application on a web server:\n",
        "\n",
        "```py\n",
        "streamlit\n",
        "pandas\n",
        "plotly\n",
        "```\n",
        "Now create a file named `setup.sh` with the following content:\n",
        "\n",
        "```sh\n",
        "mkdir -p ~/.streamlit/\n",
        "echo \"\\\n",
        "[server]\\n\\\n",
        "headless = true\\n\\\n",
        "port = $PORT\\n\\\n",
        "enableCORS = false\\n\\\n",
        "\\n\\\n",
        "\" > ~/.streamlit/config.toml\n",
        "```\n",
        "\n",
        "Now create a file named `Procfile` with the following content:\n",
        "\n",
        "`web: sh setup.sh && streamlit run app.py`\n",
        "\n",
        "This file tells the Heroku index what commands should be executed to start your app.\n",
        "\n",
        "Next, you’ll need to initialize a Git repository. To do that, go to your project’s root directory and execute the following command:\n",
        "\n",
        "`$ git init`\n",
        "\n",
        "This will start a Git repository in h8_dash/. It’ll start tracking all the changes you make to the files in that directory.\n",
        "\n",
        "However, there are files you don’t want to track using Git. For example, you usually want to remove Python compiled files, the contents of your virtual environment folder, or metadata files such as .DS_Store.\n",
        "\n",
        "To avoid tracking unnecessary files, create a file called `.gitignore` in the root directory. Then copy the following content in it:\n",
        "\n",
        "```py\n",
        "venv\n",
        "*.pyc\n",
        ".DS_Store # Only if you are using macOS\n",
        "```\n",
        "\n",
        "This will make sure your repository doesn’t track unnecessary files. Now commit your project files:\n",
        "\n",
        "```sh\n",
        "$ git add .\n",
        "$ git commit -m 'Add dashboard files'\n",
        "```\n",
        "\n",
        "Finally, you need to create an app in Heroku, push your code there using Git, and start the app in one of Heroku’s free server options. You can do that by running the following commands:\n",
        "\n",
        "```sh\n",
        "$ heroku create APP-NAME # Choose a name for your app\n",
        "$ git push heroku master\n",
        "$ heroku ps:scale web=1\n",
        "```\n",
        "\n",
        "The first command will create a new application on Heroku and an associated Git repository. The second will push the changes to that repository, and the third will start your app in one of Heroku’s free server options.\n",
        "\n",
        "That’s it! You’ve built and deployed your dashboard. Now you just need to access it to share it with your friends. To access your app, copy https://APP-NAME.herokuapp.com/ in your browser and replace APP-NAME with the name you defined in the previous step."
      ]
    }
  ]
}