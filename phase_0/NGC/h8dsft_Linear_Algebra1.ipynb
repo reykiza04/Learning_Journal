{
 "cells": [
  {
   "cell_type": "markdown",
   "metadata": {},
   "source": [
    "# Non Graded Challenge 4\n",
    "\n",
    " `Name               : Reyki Seprianza`\n",
    " `Batch              : FTDS009`\n",
    "\n",
    "\n",
    "Non-Graded Assignment ini dibuat guna mengevaluasi pembelajaran pada Hacktiv8 Data Science Fulltime Program khususnya pada konsep Linear Algebra.\n",
    "\n",
    "--------------------------------------------------------------------------------------------\n",
    "\n",
    "## Assignment Instructions\n",
    "1. Buatlah Vector dibawah ini dengan Python:\n",
    "$$ \\begin{bmatrix} 17 \\ 22 \\ 19 \\end{bmatrix} $$\n",
    "\n",
    "2. Diberikan 3 buah vektor 3 dimensi: $$ A= \\begin{bmatrix} 17 \\ 22 \\ 19 \\end{bmatrix} ,B= \\begin{bmatrix} 10 \\ 20 \\ 11 \\end{bmatrix}, C= \\begin{bmatrix} 5 \\ 12 \\ 9 \\end{bmatrix} $$\n",
    "\n",
    "Hitunglah:\n",
    "\n",
    "- A+B\n",
    "\n",
    "- B-C\n",
    "\n",
    "- A dot C\n",
    "\n",
    "- A x B\n",
    "\n",
    "- norm A\n",
    "\n",
    "- Sudut antara vektor A dan B\n",
    "\n",
    "Buatlah plot dari vector berikut ini kedalam bidang 2D:\n",
    "\n",
    "$$ U = \\begin{bmatrix} 2 \\ 5 \\end{bmatrix}, V = \\begin{bmatrix} 3 \\ 1 \\end{bmatrix} $$\n",
    "\n",
    "---------------------------------------------------------------------------------------------------------\n",
    "\n",
    "## Assignment Submission\n",
    "\n",
    "- Simpan assignment pada sesi ini dengan nama h8dsft_Linear_Algebra1.\n",
    "- Push Assigment yang telah kalian buat ke akun Github kalian masing-masing.\n",
    "\n",
    "## Assignment Objectives\n",
    "Non-Graded Assignment ini dibuat guna mengevaluasi konsep Linear Algebra sebagai berikut:\n",
    "\n",
    "- Memahami konsep Scalar dan Vectors\n",
    "- Mampu membuat Scalar dan Vectordengan Python\n",
    "- Mampu menerapkan operasi aritmatika terhadap Scalar dan Vector"
   ]
  },
  {
   "cell_type": "code",
   "execution_count": 1,
   "metadata": {},
   "outputs": [],
   "source": [
    "# Import Liblary yang di butuhkan\n",
    "\n",
    "import numpy as np"
   ]
  },
  {
   "cell_type": "code",
   "execution_count": 3,
   "metadata": {},
   "outputs": [
    {
     "name": "stdout",
     "output_type": "stream",
     "text": [
      "[17 22 19] [10 20 11] [ 5 12  9]\n"
     ]
    }
   ],
   "source": [
    "\n",
    " A = np.array([17,22,19])\n",
    " B = np.array([10,20,11])\n",
    " C = np.array([5,12,9])\n",
    "\n",
    " print(A,B,C)"
   ]
  },
  {
   "cell_type": "code",
   "execution_count": 4,
   "metadata": {},
   "outputs": [
    {
     "data": {
      "text/plain": [
       "array([27, 42, 30])"
      ]
     },
     "execution_count": 4,
     "metadata": {},
     "output_type": "execute_result"
    }
   ],
   "source": [
    "A+B"
   ]
  },
  {
   "cell_type": "code",
   "execution_count": 5,
   "metadata": {},
   "outputs": [
    {
     "data": {
      "text/plain": [
       "array([5, 8, 2])"
      ]
     },
     "execution_count": 5,
     "metadata": {},
     "output_type": "execute_result"
    }
   ],
   "source": [
    "B-C"
   ]
  },
  {
   "cell_type": "code",
   "execution_count": 6,
   "metadata": {},
   "outputs": [
    {
     "data": {
      "text/plain": [
       "520"
      ]
     },
     "execution_count": 6,
     "metadata": {},
     "output_type": "execute_result"
    }
   ],
   "source": [
    "A @ C"
   ]
  },
  {
   "cell_type": "code",
   "execution_count": 7,
   "metadata": {},
   "outputs": [
    {
     "data": {
      "text/plain": [
       "array([170, 440, 209])"
      ]
     },
     "execution_count": 7,
     "metadata": {},
     "output_type": "execute_result"
    }
   ],
   "source": [
    "A * B"
   ]
  },
  {
   "cell_type": "code",
   "execution_count": 8,
   "metadata": {},
   "outputs": [
    {
     "data": {
      "text/plain": [
       "33.67491648096547"
      ]
     },
     "execution_count": 8,
     "metadata": {},
     "output_type": "execute_result"
    }
   ],
   "source": [
    "np.linalg.norm(A)"
   ]
  },
  {
   "cell_type": "code",
   "execution_count": 9,
   "metadata": {},
   "outputs": [
    {
     "data": {
      "text/plain": [
       "0.9759590023331435"
      ]
     },
     "execution_count": 9,
     "metadata": {},
     "output_type": "execute_result"
    }
   ],
   "source": [
    "cos_theta =  A @ B / (np.linalg.norm(A)* np.linalg.norm(B))\n",
    "cos_theta\n",
    "#pastikan kembali tanda kurungny klo lupa beda hasilnya"
   ]
  },
  {
   "cell_type": "code",
   "execution_count": 10,
   "metadata": {},
   "outputs": [
    {
     "data": {
      "text/plain": [
       "0.21971776576153962"
      ]
     },
     "execution_count": 10,
     "metadata": {},
     "output_type": "execute_result"
    }
   ],
   "source": [
    "#cara mencari sudut teta\n",
    "#merubah dalam bentuk radian\n",
    "rad = np.arccos(cos_theta)\n",
    "rad"
   ]
  },
  {
   "cell_type": "code",
   "execution_count": 11,
   "metadata": {},
   "outputs": [
    {
     "data": {
      "text/plain": [
       "12.588900662180242"
      ]
     },
     "execution_count": 11,
     "metadata": {},
     "output_type": "execute_result"
    }
   ],
   "source": [
    "#convert radian ke degereee\n",
    "degree = np.degrees(rad)\n",
    "degree"
   ]
  },
  {
   "cell_type": "code",
   "execution_count": 12,
   "metadata": {},
   "outputs": [
    {
     "name": "stdout",
     "output_type": "stream",
     "text": [
      "[2 5] [3 1]\n"
     ]
    }
   ],
   "source": [
    "U = np.array([2,5])\n",
    "V = np.array([3,1])\n",
    "print(U,V)"
   ]
  },
  {
   "cell_type": "markdown",
   "metadata": {},
   "source": [
    "# Answer\n",
    "\n",
    "- A+B = array([27, 42, 30])\n",
    "\n",
    "- B-C = array([5, 8, 2])\n",
    "\n",
    "- A dot C = 520\n",
    "\n",
    "- A x B = array([170, 440, 209])\n",
    "\n",
    "- norm A = 33.67491648096547\n",
    "\n",
    "- Sudut antara vektor A dan B = 12.588900662180242\n",
    "Buatlah plot dari vector berikut ini kedalam bidang 2D:\n",
    "\n",
    "$$ U = \\begin{bmatrix} 2 \\ 5 \\end{bmatrix}, V = \\begin{bmatrix} 3 \\ 1 \\end{bmatrix} $$\n"
   ]
  },
  {
   "cell_type": "code",
   "execution_count": 15,
   "metadata": {},
   "outputs": [],
   "source": [
    "import matplotlib.pyplot as plt"
   ]
  },
  {
   "cell_type": "code",
   "execution_count": 16,
   "metadata": {},
   "outputs": [],
   "source": [
    "def plot_vector2d(vector2d, origin=[0, 0], **options):\n",
    "    return plt.arrow(origin[0], origin[1], vector2d[0], vector2d[1],\n",
    "          head_width=0.2, head_length=0.3, length_includes_head=True,\n",
    "          width=0.02, \n",
    "          **options)"
   ]
  },
  {
   "cell_type": "code",
   "execution_count": 17,
   "metadata": {},
   "outputs": [
    {
     "data": {
      "image/png": "[encoded data removed]",
      "text/plain": [
       "<Figure size 432x288 with 1 Axes>"
      ]
     },
     "metadata": {
      "needs_background": "light"
     },
     "output_type": "display_data"
    }
   ],
   "source": [
    "plot_vector2d(U, color='r')\n",
    "plot_vector2d(V, color='b')\n",
    "plt.axis([0,6,0,6])\n",
    "plt.grid()\n",
    "plt.show()"
   ]
  },
  {
   "cell_type": "markdown",
   "metadata": {},
   "source": [
    "# END "
   ]
  }
 ],
 "metadata": {
  "interpreter": {
   "hash": "8a0314e9a3496969cdc3b628708851b260263268c48c6868778a684e0fdc7ce1"
  },
  "kernelspec": {
   "display_name": "Python 3.7.3 ('base')",
   "language": "python",
   "name": "python3"
  },
  "language_info": {
   "codemirror_mode": {
    "name": "ipython",
    "version": 3
   },
   "file_extension": ".py",
   "mimetype": "text/x-python",
   "name": "python",
   "nbconvert_exporter": "python",
   "pygments_lexer": "ipython3",
   "version": "3.7.3"
  },
  "orig_nbformat": 4
 },
 "nbformat": 4,
 "nbformat_minor": 2
}
