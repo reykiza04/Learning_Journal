{
 "cells": [
  {
   "cell_type": "markdown",
   "metadata": {},
   "source": [
    "# Non Graded Challenge 4\n",
    "\n",
    "\n",
    " `Name               : Reyki Seprianza`\n",
    " `Batch              : FTDS009`\n",
    "\n",
    "Non-Graded Assignment ini dibuat guna mengevaluasi pembelajaran pada Hacktiv8 Data Science Fulltime Program khususnya pada konsep Linear Algebra.\n",
    "\n",
    "-----------------------------------------"
   ]
  },
  {
   "cell_type": "markdown",
   "metadata": {},
   "source": [
    "1. Buatlah Tensor dibawah ini dengan Python:\n",
    "\n",
    "$$ \\begin{bmatrix} \\begin{bmatrix} 23 & 50 \\ 7 & 12 \\ \\end{bmatrix} \\begin{bmatrix} 57 & 67 \\ 99 & 43 \\end{bmatrix} \\ \\begin{bmatrix} 75 & 21 \\ 57 & 12 \\ \\end{bmatrix} \\begin{bmatrix} 87 & 26 \\ 18 & 84 \\end{bmatrix} \\end{bmatrix} $$\n",
    "\n",
    "2. Lakukan perkalian terhadap matrix berikut:\n",
    "\n",
    "$$ A = \\begin{bmatrix} 23 & 50 & 19 \\ 7 & 12 & 109 \\ 57 & 67 & 98 \\end{bmatrix} \\begin{bmatrix} 17 \\ 22 \\ 19 \\end{bmatrix} $$\n",
    "\n",
    "3. Lakukan Transpose, hitung determinan, dan inverse terhadap matrix dibawah ini:\n",
    "\n",
    "$$ \\begin{bmatrix} 23 & 50 & 19 \\ 7 & 12 & 109 \\ 57 & 67 & 98 \\end{bmatrix} $$"
   ]
  },
  {
   "cell_type": "markdown",
   "metadata": {},
   "source": [
    "# 1. Membuat tensor"
   ]
  },
  {
   "cell_type": "code",
   "execution_count": 2,
   "metadata": {},
   "outputs": [],
   "source": [
    "import numpy as np"
   ]
  },
  {
   "cell_type": "code",
   "execution_count": 12,
   "metadata": {},
   "outputs": [
    {
     "name": "stdout",
     "output_type": "stream",
     "text": [
      "[[23 50]\n",
      " [ 7 12]]\n",
      "\n",
      "shape: (2, 2)\n"
     ]
    }
   ],
   "source": [
    "w = np.array([[23, 50], [7, 12]])\n",
    "print(w)\n",
    "print('')\n",
    "print('shape:', w.shape)"
   ]
  },
  {
   "cell_type": "code",
   "execution_count": 13,
   "metadata": {},
   "outputs": [
    {
     "name": "stdout",
     "output_type": "stream",
     "text": [
      "[[57 67]\n",
      " [99 43]]\n",
      "\n",
      "shape: (2, 2)\n"
     ]
    }
   ],
   "source": [
    "x = np.array([[57,67],[99,43]])\n",
    "print(x)\n",
    "print('')\n",
    "print('shape:', x.shape)"
   ]
  },
  {
   "cell_type": "code",
   "execution_count": 14,
   "metadata": {},
   "outputs": [
    {
     "name": "stdout",
     "output_type": "stream",
     "text": [
      "[[75 21]\n",
      " [57 12]]\n",
      "\n",
      "shape: (2, 2)\n"
     ]
    }
   ],
   "source": [
    "y = np.array([[75,21],[57,12]])\n",
    "print(y)\n",
    "print('')\n",
    "print('shape:', y.shape)"
   ]
  },
  {
   "cell_type": "code",
   "execution_count": 15,
   "metadata": {},
   "outputs": [
    {
     "name": "stdout",
     "output_type": "stream",
     "text": [
      "[[87 26]\n",
      " [18 84]]\n",
      "\n",
      "shape: (2, 2)\n"
     ]
    }
   ],
   "source": [
    "z = np.array([[87,26],[18,84]])\n",
    "print(z)\n",
    "print('')\n",
    "print('shape:', z.shape)"
   ]
  },
  {
   "cell_type": "code",
   "execution_count": 16,
   "metadata": {},
   "outputs": [
    {
     "data": {
      "text/plain": [
       "array([[[23, 50],\n",
       "        [ 7, 12]],\n",
       "\n",
       "       [[57, 67],\n",
       "        [99, 43]],\n",
       "\n",
       "       [[75, 21],\n",
       "        [57, 12]],\n",
       "\n",
       "       [[87, 26],\n",
       "        [18, 84]]])"
      ]
     },
     "execution_count": 16,
     "metadata": {},
     "output_type": "execute_result"
    }
   ],
   "source": [
    "ListOfMatrix = [w,x,y,z]\n",
    "tensor = np.array(ListOfMatrix)\n",
    "tensor"
   ]
  },
  {
   "cell_type": "code",
   "execution_count": 17,
   "metadata": {},
   "outputs": [
    {
     "data": {
      "text/plain": [
       "(4, 2, 2)"
      ]
     },
     "execution_count": 17,
     "metadata": {},
     "output_type": "execute_result"
    }
   ],
   "source": [
    "tensor.shape"
   ]
  },
  {
   "cell_type": "markdown",
   "metadata": {},
   "source": [
    "# 2. Lakukan perkalian terhadap matrix "
   ]
  },
  {
   "cell_type": "code",
   "execution_count": 26,
   "metadata": {},
   "outputs": [],
   "source": [
    "\n",
    "𝐴=np.array([[23,50,19],\n",
    "           [7,12,109],\n",
    "           [57,67,98]]) \n",
    "𝐵=np.array([17,\n",
    "            22,\n",
    "            19])\n"
   ]
  },
  {
   "cell_type": "code",
   "execution_count": 24,
   "metadata": {},
   "outputs": [
    {
     "data": {
      "text/plain": [
       "array([[ 23,  50,  19],\n",
       "       [  7,  12, 109],\n",
       "       [ 57,  67,  98]])"
      ]
     },
     "execution_count": 24,
     "metadata": {},
     "output_type": "execute_result"
    }
   ],
   "source": [
    "A"
   ]
  },
  {
   "cell_type": "code",
   "execution_count": 27,
   "metadata": {},
   "outputs": [
    {
     "data": {
      "text/plain": [
       "array([17, 22, 19])"
      ]
     },
     "execution_count": 27,
     "metadata": {},
     "output_type": "execute_result"
    }
   ],
   "source": [
    "B"
   ]
  },
  {
   "cell_type": "code",
   "execution_count": 28,
   "metadata": {},
   "outputs": [
    {
     "data": {
      "text/plain": [
       "array([1852, 2454, 4305])"
      ]
     },
     "execution_count": 28,
     "metadata": {},
     "output_type": "execute_result"
    }
   ],
   "source": [
    "A@B"
   ]
  },
  {
   "cell_type": "markdown",
   "metadata": {},
   "source": [
    "# 3. Lakukan Transpose, hitung determinan, dan inverse \n"
   ]
  },
  {
   "cell_type": "code",
   "execution_count": 30,
   "metadata": {},
   "outputs": [
    {
     "data": {
      "text/plain": [
       "array([[ 23,  50,  19],\n",
       "       [  7,  12, 109],\n",
       "       [ 57,  67,  98]])"
      ]
     },
     "execution_count": 30,
     "metadata": {},
     "output_type": "execute_result"
    }
   ],
   "source": [
    "𝐴=np.array([[23,50,19],\n",
    "            [7,12,109],\n",
    "            [57,67,98]])\n",
    "A"
   ]
  },
  {
   "cell_type": "code",
   "execution_count": 31,
   "metadata": {},
   "outputs": [
    {
     "data": {
      "text/plain": [
       "array([[ 23,   7,  57],\n",
       "       [ 50,  12,  67],\n",
       "       [ 19, 109,  98]])"
      ]
     },
     "execution_count": 31,
     "metadata": {},
     "output_type": "execute_result"
    }
   ],
   "source": [
    "A.T"
   ]
  }
 ],
 "metadata": {
  "interpreter": {
   "hash": "e64f71a9afba1a7dd11c6344fd0d09aa6e85e2e721e9ab5ed1f0218b8fff2b06"
  },
  "kernelspec": {
   "display_name": "Python 3.9.10 64-bit (windows store)",
   "language": "python",
   "name": "python3"
  },
  "language_info": {
   "codemirror_mode": {
    "name": "ipython",
    "version": 3
   },
   "file_extension": ".py",
   "mimetype": "text/x-python",
   "name": "python",
   "nbconvert_exporter": "python",
   "pygments_lexer": "ipython3",
   "version": "3.7.3"
  },
  "orig_nbformat": 4
 },
 "nbformat": 4,
 "nbformat_minor": 2
}
