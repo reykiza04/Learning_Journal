{
 "cells": [
  {
   "cell_type": "markdown",
   "metadata": {},
   "source": [
    "# Non Graded Challenge 5\n",
    "\n",
    " `Name               : Reyki Seprianza`\n",
    " `Batch              : FTDS009`\n",
    "\n",
    "----------------------------------\n",
    "\n",
    "Non-Graded Assignment ini dibuat guna mengevaluasi pembelajaran pada Hacktiv8 Data Science Fulltime Program khususnya pada konsep Linear Algebra.\n",
    "\n",
    "---------------------------------\n",
    "\n",
    "\n",
    "## Assignment Instructions\n",
    "Apakah \n",
    "\n",
    "$\\begin{bmatrix}1 \\3\\end{bmatrix}$ \n",
    "\n",
    "adalah eigenvector dari \n",
    "\n",
    "$\\begin{bmatrix}1 & -1\\6 &-4 \\end{bmatrix}$\n",
    "\n",
    "? Jika iya, berapakah eigenvalue-nya?\n",
    "\n",
    "## Assignment Submission\n",
    "Simpan assignment pada sesi ini dengan nama h8dsft_Linear_Algebra3.\n",
    "Push Assigment yang telah kalian buat ke akun Github kalian masing-masing.\n",
    "## Assignment Objectives\n",
    "Non-Graded Assignment ini dibuat guna mengevaluasi konsep Linear Algebra sebagai berikut:\n",
    "\n",
    "- Memahami konsep eigenvalue dan eigenvector\n",
    "- Dapat mencari eigenvalue dan eigenvector\n",
    "\n",
    "\n",
    "\n",
    "https://github.com/ardhiraka/FSDS_Guidelines/blob/master/p0/w2/assignments/NG6.md\n",
    "\n",
    "https://www.kode.id/courses/take/ftds0/pdfs/26440113-non-graded-challenge-5"
   ]
  },
  {
   "cell_type": "code",
   "execution_count": 14,
   "metadata": {},
   "outputs": [],
   "source": [
    "import numpy as np\n",
    "from numpy.linalg import eig "
   ]
  },
  {
   "cell_type": "code",
   "execution_count": 3,
   "metadata": {},
   "outputs": [
    {
     "data": {
      "text/plain": [
       "array([[1],\n",
       "       [3]])"
      ]
     },
     "execution_count": 3,
     "metadata": {},
     "output_type": "execute_result"
    }
   ],
   "source": [
    "a= np.array([[1],[3]])\n",
    "a"
   ]
  },
  {
   "cell_type": "code",
   "execution_count": 4,
   "metadata": {},
   "outputs": [
    {
     "data": {
      "text/plain": [
       "array([[ 1, -1],\n",
       "       [ 6,  4]])"
      ]
     },
     "execution_count": 4,
     "metadata": {},
     "output_type": "execute_result"
    }
   ],
   "source": [
    "b= np.array([[1, -1],\n",
    "            [6,4]])\n",
    "b"
   ]
  },
  {
   "cell_type": "code",
   "execution_count": 6,
   "metadata": {},
   "outputs": [],
   "source": [
    "from numpy.linalg import eig\n",
    "eigval, eigvec = eig(b)"
   ]
  },
  {
   "cell_type": "code",
   "execution_count": 7,
   "metadata": {},
   "outputs": [
    {
     "data": {
      "text/plain": [
       "array([2.5+1.93649167j, 2.5-1.93649167j])"
      ]
     },
     "execution_count": 7,
     "metadata": {},
     "output_type": "execute_result"
    }
   ],
   "source": [
    "eigval"
   ]
  },
  {
   "cell_type": "code",
   "execution_count": 8,
   "metadata": {},
   "outputs": [
    {
     "data": {
      "text/plain": [
       "array([[-0.23145502+0.29880715j, -0.23145502-0.29880715j],\n",
       "       [ 0.9258201 +0.j        ,  0.9258201 -0.j        ]])"
      ]
     },
     "execution_count": 8,
     "metadata": {},
     "output_type": "execute_result"
    }
   ],
   "source": [
    "eigvec"
   ]
  },
  {
   "cell_type": "code",
   "execution_count": 12,
   "metadata": {},
   "outputs": [],
   "source": [
    "import matplotlib.pyplot as plt\n",
    "import numpy as np\n",
    "import pandas as pd\n"
   ]
  },
  {
   "cell_type": "code",
   "execution_count": 15,
   "metadata": {},
   "outputs": [
    {
     "ename": "TypeError",
     "evalue": "plot_vector2d() got an unexpected keyword argument 'c'",
     "output_type": "error",
     "traceback": [
      "\u001b[1;31m---------------------------------------------------------------------------\u001b[0m",
      "\u001b[1;31mTypeError\u001b[0m                                 Traceback (most recent call last)",
      "\u001b[1;32m<ipython-input-15-42196e605491>\u001b[0m in \u001b[0;36m<module>\u001b[1;34m\u001b[0m\n\u001b[0;32m      6\u001b[0m               \u001b[0mhead_width\u001b[0m\u001b[1;33m=\u001b[0m\u001b[1;36m0.2\u001b[0m\u001b[1;33m,\u001b[0m \u001b[0mhead_length\u001b[0m\u001b[1;33m=\u001b[0m\u001b[1;36m0.3\u001b[0m\u001b[1;33m,\u001b[0m \u001b[0mlength_includes_head\u001b[0m\u001b[1;33m=\u001b[0m\u001b[1;32mTrue\u001b[0m\u001b[1;33m,\u001b[0m\u001b[1;33m\u001b[0m\u001b[1;33m\u001b[0m\u001b[0m\n\u001b[0;32m      7\u001b[0m               )\n\u001b[1;32m----> 8\u001b[1;33m \u001b[0mplot_vector2d\u001b[0m\u001b[1;33m(\u001b[0m\u001b[0mA\u001b[0m\u001b[1;33m,\u001b[0m \u001b[0mc\u001b[0m\u001b[1;33m=\u001b[0m\u001b[1;34m\"r\"\u001b[0m\u001b[1;33m)\u001b[0m\u001b[1;33m\u001b[0m\u001b[1;33m\u001b[0m\u001b[0m\n\u001b[0m\u001b[0;32m      9\u001b[0m \u001b[0mplot_vector2d\u001b[0m\u001b[1;33m(\u001b[0m\u001b[0mv\u001b[0m\u001b[1;33m,\u001b[0m \u001b[0mc\u001b[0m\u001b[1;33m=\u001b[0m\u001b[1;34m\"b\"\u001b[0m\u001b[1;33m)\u001b[0m\u001b[1;33m\u001b[0m\u001b[1;33m\u001b[0m\u001b[0m\n\u001b[0;32m     10\u001b[0m \u001b[0mplt\u001b[0m\u001b[1;33m.\u001b[0m\u001b[0maxis\u001b[0m\u001b[1;33m(\u001b[0m\u001b[1;33m[\u001b[0m\u001b[1;36m0\u001b[0m\u001b[1;33m,\u001b[0m \u001b[1;36m19\u001b[0m\u001b[1;33m,\u001b[0m \u001b[1;36m0\u001b[0m\u001b[1;33m,\u001b[0m \u001b[1;36m19\u001b[0m\u001b[1;33m]\u001b[0m\u001b[1;33m)\u001b[0m\u001b[1;33m\u001b[0m\u001b[1;33m\u001b[0m\u001b[0m\n",
      "\u001b[1;31mTypeError\u001b[0m: plot_vector2d() got an unexpected keyword argument 'c'"
     ]
    }
   ],
   "source": [
    "A = np.array ([1,3])\n",
    "B = np.array ([[1,-1],[6,4]])\n",
    "\n",
    "def plot_vector2d(vector2d, origin=[0, 0]):\n",
    "    return plt.arrow(origin[0], origin[1], vector2d[0], vector2d[1],\n",
    "              head_width=0.2, head_length=0.3, length_includes_head=True,\n",
    "              )\n",
    "plot_vector2d(A, c=\"r\")\n",
    "plot_vector2d(v, c=\"b\")\n",
    "plt.axis([0, 19, 0, 19])\n",
    "plt.grid()\n",
    "\n",
    "v = A @ B\n",
    "v"
   ]
  }
 ],
 "metadata": {
  "interpreter": {
   "hash": "8a0314e9a3496969cdc3b628708851b260263268c48c6868778a684e0fdc7ce1"
  },
  "kernelspec": {
   "display_name": "Python 3.7.3 ('base')",
   "language": "python",
   "name": "python3"
  },
  "language_info": {
   "codemirror_mode": {
    "name": "ipython",
    "version": 3
   },
   "file_extension": ".py",
   "mimetype": "text/x-python",
   "name": "python",
   "nbconvert_exporter": "python",
   "pygments_lexer": "ipython3",
   "version": "3.7.3"
  },
  "orig_nbformat": 4
 },
 "nbformat": 4,
 "nbformat_minor": 2
}
