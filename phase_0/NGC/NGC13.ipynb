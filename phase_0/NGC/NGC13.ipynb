{
 "cells": [
  {
   "cell_type": "markdown",
   "metadata": {},
   "source": [
    "# Non Graded Challenge 8\n",
    "\n",
    "\n",
    " `Name               : Reyki Seprianza`\n",
    " `Batch              : FTDS009`\n",
    "\n",
    "----------------------------\n",
    "\n",
    "Non-Graded Assignment ini dibuat guna mengevaluasi pembelajaran pada Hacktiv8 Data Science Fulltime Program khususnya pada konsep Calculus.\n",
    "\n",
    "## Assignment Instructions\n",
    "Carilah integral dari sebuah fungsi:\n",
    "$\\int ! (3x^{2}-6x+3) , \\mathrm{d}x.$\n",
    "$\\int ! (8x^{3}-x^{2}+5x-1) , \\mathrm{d}x.$\n",
    "## Assignment Submission\n",
    "Simpan assignment pada sesi ini dengan nama h8dsft_Calculus2.\n",
    "Push Assigment yang telah kalian buat ke akun Github kalian masing-masing.\n",
    "## Assignment Objectives\n",
    "Non-Graded Assignment ini dibuat guna mengevaluasi konsep Calculus sebagai berikut:\n",
    "\n",
    "- Mampu memahami konsep integral\n",
    "- Mampu mencari integral sebuah fungsi dengan menggunakan Python"
   ]
  },
  {
   "cell_type": "code",
   "execution_count": null,
   "metadata": {},
   "outputs": [],
   "source": []
  }
 ],
 "metadata": {
  "interpreter": {
   "hash": "8a0314e9a3496969cdc3b628708851b260263268c48c6868778a684e0fdc7ce1"
  },
  "kernelspec": {
   "display_name": "Python 3.7.3 ('base')",
   "language": "python",
   "name": "python3"
  },
  "language_info": {
   "name": "python",
   "version": "3.7.3"
  },
  "orig_nbformat": 4
 },
 "nbformat": 4,
 "nbformat_minor": 2
}
