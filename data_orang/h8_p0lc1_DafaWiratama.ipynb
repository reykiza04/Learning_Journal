{
 "cells": [
  {
   "cell_type": "markdown",
   "source": [
    "# Introduction\n",
    "**Nama** : Dafa Wiratama\n",
    "**Program** : Data Science\n",
    "**Batch** : Batch 09"
   ],
   "metadata": {
    "collapsed": false
   }
  },
  {
   "cell_type": "markdown",
   "source": [
    "## Problems\n",
    "\n",
    "Kamu adalah salah satu tim relawan back office penanganan COVID-19 di Indonesia. Kamu diminta untuk memperoleh data baru dari dataset yang sudah disediakan. Kerjakan dan jawab pertanyaan-pertanyaan berikut. (**Dataset yang disediakan merupakan jumlah kasus kumulatif bukan harian**)\n",
    "1. Menggunakan Pandas query, ambil data kasus kumulatif Covid-19 tanggal 20 Januari 2022 untuk negara-negara dengan latitude di bawah 0. Negara mana yang paling tinggi jumlah kumulatif kasus Covidnya per tanggal tersebut? Jika bukan Indonesia, bandingkan jumlah kumulatif kasus negara tersebut dengan Indonesia per tanggal yang sama!\n",
    "2. Buatlah fungsi untuk menghitung jumlah kasus harian Covid-19! (Hint: Kamu bisa menggunakan .diff() untuk menghitung perbedaan tiap baris data/menghitung jumlah kasus harian dan .transpose() untuk mengubah kolom menjadi baris atau sebaliknya)\n",
    "3. Pada tanggal berapa puncak tertinggi kasus harian Covid-19 di Indonesia? bandingkan dengan tanggal 20 Januari 2022, apakah mengalami penurunan atau kenaikan jumlah kasus?\n",
    "4. Gunakan for loop dan conditional if untuk membuat sebuah list yang berisikan jumlah kasus harian Covid-19 dengan ketentuan hanya mengambil data Indonesia saja dan jumlah kasus di bawah 10000. Berapa jumlah hari dengan kasus di bawah 10000?"
   ],
   "metadata": {
    "collapsed": false
   }
  },
  {
   "cell_type": "markdown",
   "source": [
    "# Library Import\n",
    "\n",
    "in this assignment, we will be using the following libraries:\n",
    "- pandas"
   ],
   "metadata": {
    "collapsed": false
   }
  },
  {
   "cell_type": "code",
   "execution_count": 1,
   "metadata": {
    "collapsed": true
   },
   "outputs": [],
   "source": [
    "import pandas as pd"
   ]
  },
  {
   "cell_type": "markdown",
   "source": [
    "# Dataset Loading\n",
    "\n",
    "In this section we will perform dataset loading into our pandas dataframe."
   ],
   "metadata": {
    "collapsed": false
   }
  },
  {
   "cell_type": "code",
   "execution_count": 2,
   "outputs": [],
   "source": [
    "url = \"https://raw.githubusercontent.com/CSSEGISandData/COVID-19/master/csse_covid_19_data/csse_covid_19_time_series/time_series_covid19_confirmed_global.csv\"\n",
    "df = pd.read_csv(url)"
   ],
   "metadata": {
    "collapsed": false,
    "pycharm": {
     "name": "#%%\n"
    }
   }
  },
  {
   "cell_type": "markdown",
   "source": [
    "# Dataset Exploration\n",
    "From the dataset, we can see that there are many countries in the dataset. and some columns are not needed or at least in this given form."
   ],
   "metadata": {
    "collapsed": false
   }
  },
  {
   "cell_type": "markdown",
   "source": [
    "### Dataset Inspection\n",
    "by looking at the sample from the dataset we can grasp the following:\n",
    "- there are `Province/State` column in the dataset\n",
    "    but there are some null values in the dataset\n",
    "    for this task we will leave it be because wa cannot replace it with other values because we don't know the value of the Province/State the sample was taken from\n",
    "- there are `Country/Region` column in the dataset\n",
    "    from shallow investigation we can assume this column is unique, and we can use it as a key to join the dataset\n",
    "- there are `Lat` and `Long` columns in the dataset\n",
    "    this column we will use it to query the data from the dataset by geographical location\n",
    "- the rest of the columns are not needed in column, but we will pivot it to make it easier to work with\n"
   ],
   "metadata": {
    "collapsed": false
   }
  },
  {
   "cell_type": "code",
   "execution_count": 3,
   "outputs": [
    {
     "data": {
      "text/plain": "  Province/State Country/Region       Lat       Long  1/22/20  1/23/20  \\\n0            NaN    Afghanistan  33.93911  67.709953        0        0   \n1            NaN        Albania  41.15330  20.168300        0        0   \n2            NaN        Algeria  28.03390   1.659600        0        0   \n3            NaN        Andorra  42.50630   1.521800        0        0   \n4            NaN         Angola -11.20270  17.873900        0        0   \n\n   1/24/20  1/25/20  1/26/20  1/27/20  ...  2/10/22  2/11/22  2/12/22  \\\n0        0        0        0        0  ...   169448   169940   170152   \n1        0        0        0        0  ...   267020   267020   267551   \n2        0        0        0        0  ...   260191   260723   261226   \n3        0        0        0        0  ...    37074    37140    37140   \n4        0        0        0        0  ...    98474    98501    98514   \n\n   2/13/22  2/14/22  2/15/22  2/16/22  2/17/22  2/18/22  2/19/22  \n0   170604   171246   171422   171519   171673   171857   171931  \n1   268008   268304   268491   268940   269301   269601   269904  \n2   261752   262165   262570   262994   263369   263685   263936  \n3    37140    37277    37361    37452    37522    37589    37589  \n4    98514    98514    98555    98568    98585    98605    98617  \n\n[5 rows x 764 columns]",
      "text/html": "<div>\n<style scoped>\n    .dataframe tbody tr th:only-of-type {\n        vertical-align: middle;\n    }\n\n    .dataframe tbody tr th {\n        vertical-align: top;\n    }\n\n    .dataframe thead th {\n        text-align: right;\n    }\n</style>\n<table border=\"1\" class=\"dataframe\">\n  <thead>\n    <tr style=\"text-align: right;\">\n      <th></th>\n      <th>Province/State</th>\n      <th>Country/Region</th>\n      <th>Lat</th>\n      <th>Long</th>\n      <th>1/22/20</th>\n      <th>1/23/20</th>\n      <th>1/24/20</th>\n      <th>1/25/20</th>\n      <th>1/26/20</th>\n      <th>1/27/20</th>\n      <th>...</th>\n      <th>2/10/22</th>\n      <th>2/11/22</th>\n      <th>2/12/22</th>\n      <th>2/13/22</th>\n      <th>2/14/22</th>\n      <th>2/15/22</th>\n      <th>2/16/22</th>\n      <th>2/17/22</th>\n      <th>2/18/22</th>\n      <th>2/19/22</th>\n    </tr>\n  </thead>\n  <tbody>\n    <tr>\n      <th>0</th>\n      <td>NaN</td>\n      <td>Afghanistan</td>\n      <td>33.93911</td>\n      <td>67.709953</td>\n      <td>0</td>\n      <td>0</td>\n      <td>0</td>\n      <td>0</td>\n      <td>0</td>\n      <td>0</td>\n      <td>...</td>\n      <td>169448</td>\n      <td>169940</td>\n      <td>170152</td>\n      <td>170604</td>\n      <td>171246</td>\n      <td>171422</td>\n      <td>171519</td>\n      <td>171673</td>\n      <td>171857</td>\n      <td>171931</td>\n    </tr>\n    <tr>\n      <th>1</th>\n      <td>NaN</td>\n      <td>Albania</td>\n      <td>41.15330</td>\n      <td>20.168300</td>\n      <td>0</td>\n      <td>0</td>\n      <td>0</td>\n      <td>0</td>\n      <td>0</td>\n      <td>0</td>\n      <td>...</td>\n      <td>267020</td>\n      <td>267020</td>\n      <td>267551</td>\n      <td>268008</td>\n      <td>268304</td>\n      <td>268491</td>\n      <td>268940</td>\n      <td>269301</td>\n      <td>269601</td>\n      <td>269904</td>\n    </tr>\n    <tr>\n      <th>2</th>\n      <td>NaN</td>\n      <td>Algeria</td>\n      <td>28.03390</td>\n      <td>1.659600</td>\n      <td>0</td>\n      <td>0</td>\n      <td>0</td>\n      <td>0</td>\n      <td>0</td>\n      <td>0</td>\n      <td>...</td>\n      <td>260191</td>\n      <td>260723</td>\n      <td>261226</td>\n      <td>261752</td>\n      <td>262165</td>\n      <td>262570</td>\n      <td>262994</td>\n      <td>263369</td>\n      <td>263685</td>\n      <td>263936</td>\n    </tr>\n    <tr>\n      <th>3</th>\n      <td>NaN</td>\n      <td>Andorra</td>\n      <td>42.50630</td>\n      <td>1.521800</td>\n      <td>0</td>\n      <td>0</td>\n      <td>0</td>\n      <td>0</td>\n      <td>0</td>\n      <td>0</td>\n      <td>...</td>\n      <td>37074</td>\n      <td>37140</td>\n      <td>37140</td>\n      <td>37140</td>\n      <td>37277</td>\n      <td>37361</td>\n      <td>37452</td>\n      <td>37522</td>\n      <td>37589</td>\n      <td>37589</td>\n    </tr>\n    <tr>\n      <th>4</th>\n      <td>NaN</td>\n      <td>Angola</td>\n      <td>-11.20270</td>\n      <td>17.873900</td>\n      <td>0</td>\n      <td>0</td>\n      <td>0</td>\n      <td>0</td>\n      <td>0</td>\n      <td>0</td>\n      <td>...</td>\n      <td>98474</td>\n      <td>98501</td>\n      <td>98514</td>\n      <td>98514</td>\n      <td>98514</td>\n      <td>98555</td>\n      <td>98568</td>\n      <td>98585</td>\n      <td>98605</td>\n      <td>98617</td>\n    </tr>\n  </tbody>\n</table>\n<p>5 rows × 764 columns</p>\n</div>"
     },
     "execution_count": 3,
     "metadata": {},
     "output_type": "execute_result"
    }
   ],
   "source": [
    "df.head()"
   ],
   "metadata": {
    "collapsed": false,
    "pycharm": {
     "name": "#%%\n"
    }
   }
  },
  {
   "cell_type": "markdown",
   "source": [],
   "metadata": {
    "collapsed": false
   }
  },
  {
   "cell_type": "markdown",
   "source": [
    "## Dataset Cleaning\n",
    "let's start by dividing our dataset into two parts.\n",
    "1. We will use the first part to hold our header\n",
    "2. the second part to hold our historical data.\n",
    "3. we will not perform any nan value replacement because we don't know the value of the Province/State the sample was taken from"
   ],
   "metadata": {
    "collapsed": false
   }
  },
  {
   "cell_type": "code",
   "execution_count": 4,
   "outputs": [],
   "source": [
    "df[\"Identifier\"] = [f\"{df['Country/Region'][i]}-{df['Province/State'][i]}\" for i in range(len(df))]"
   ],
   "metadata": {
    "collapsed": false,
    "pycharm": {
     "name": "#%%\n"
    }
   }
  },
  {
   "cell_type": "markdown",
   "source": [
    "### Dataset Header\n",
    "in this frame we only need the `Country/Region`, `Province/State`, `Lat` and `Long` column."
   ],
   "metadata": {
    "collapsed": false
   }
  },
  {
   "cell_type": "code",
   "execution_count": 5,
   "outputs": [
    {
     "data": {
      "text/plain": "                   Identifier        Country/Region Province/State        Lat  \\\n0             Afghanistan-nan           Afghanistan            NaN  33.939110   \n1                 Albania-nan               Albania            NaN  41.153300   \n2                 Algeria-nan               Algeria            NaN  28.033900   \n3                 Andorra-nan               Andorra            NaN  42.506300   \n4                  Angola-nan                Angola            NaN -11.202700   \n..                        ...                   ...            ...        ...   \n279    West Bank and Gaza-nan    West Bank and Gaza            NaN  31.952200   \n280  Winter Olympics 2022-nan  Winter Olympics 2022            NaN  39.904200   \n281                 Yemen-nan                 Yemen            NaN  15.552727   \n282                Zambia-nan                Zambia            NaN -13.133897   \n283              Zimbabwe-nan              Zimbabwe            NaN -19.015438   \n\n           Long  \n0     67.709953  \n1     20.168300  \n2      1.659600  \n3      1.521800  \n4     17.873900  \n..          ...  \n279   35.233200  \n280  116.407400  \n281   48.516388  \n282   27.849332  \n283   29.154857  \n\n[284 rows x 5 columns]",
      "text/html": "<div>\n<style scoped>\n    .dataframe tbody tr th:only-of-type {\n        vertical-align: middle;\n    }\n\n    .dataframe tbody tr th {\n        vertical-align: top;\n    }\n\n    .dataframe thead th {\n        text-align: right;\n    }\n</style>\n<table border=\"1\" class=\"dataframe\">\n  <thead>\n    <tr style=\"text-align: right;\">\n      <th></th>\n      <th>Identifier</th>\n      <th>Country/Region</th>\n      <th>Province/State</th>\n      <th>Lat</th>\n      <th>Long</th>\n    </tr>\n  </thead>\n  <tbody>\n    <tr>\n      <th>0</th>\n      <td>Afghanistan-nan</td>\n      <td>Afghanistan</td>\n      <td>NaN</td>\n      <td>33.939110</td>\n      <td>67.709953</td>\n    </tr>\n    <tr>\n      <th>1</th>\n      <td>Albania-nan</td>\n      <td>Albania</td>\n      <td>NaN</td>\n      <td>41.153300</td>\n      <td>20.168300</td>\n    </tr>\n    <tr>\n      <th>2</th>\n      <td>Algeria-nan</td>\n      <td>Algeria</td>\n      <td>NaN</td>\n      <td>28.033900</td>\n      <td>1.659600</td>\n    </tr>\n    <tr>\n      <th>3</th>\n      <td>Andorra-nan</td>\n      <td>Andorra</td>\n      <td>NaN</td>\n      <td>42.506300</td>\n      <td>1.521800</td>\n    </tr>\n    <tr>\n      <th>4</th>\n      <td>Angola-nan</td>\n      <td>Angola</td>\n      <td>NaN</td>\n      <td>-11.202700</td>\n      <td>17.873900</td>\n    </tr>\n    <tr>\n      <th>...</th>\n      <td>...</td>\n      <td>...</td>\n      <td>...</td>\n      <td>...</td>\n      <td>...</td>\n    </tr>\n    <tr>\n      <th>279</th>\n      <td>West Bank and Gaza-nan</td>\n      <td>West Bank and Gaza</td>\n      <td>NaN</td>\n      <td>31.952200</td>\n      <td>35.233200</td>\n    </tr>\n    <tr>\n      <th>280</th>\n      <td>Winter Olympics 2022-nan</td>\n      <td>Winter Olympics 2022</td>\n      <td>NaN</td>\n      <td>39.904200</td>\n      <td>116.407400</td>\n    </tr>\n    <tr>\n      <th>281</th>\n      <td>Yemen-nan</td>\n      <td>Yemen</td>\n      <td>NaN</td>\n      <td>15.552727</td>\n      <td>48.516388</td>\n    </tr>\n    <tr>\n      <th>282</th>\n      <td>Zambia-nan</td>\n      <td>Zambia</td>\n      <td>NaN</td>\n      <td>-13.133897</td>\n      <td>27.849332</td>\n    </tr>\n    <tr>\n      <th>283</th>\n      <td>Zimbabwe-nan</td>\n      <td>Zimbabwe</td>\n      <td>NaN</td>\n      <td>-19.015438</td>\n      <td>29.154857</td>\n    </tr>\n  </tbody>\n</table>\n<p>284 rows × 5 columns</p>\n</div>"
     },
     "execution_count": 5,
     "metadata": {},
     "output_type": "execute_result"
    }
   ],
   "source": [
    "df_header = df[[\"Identifier\", \"Country/Region\", \"Province/State\", \"Lat\", \"Long\"]]\n",
    "df_header"
   ],
   "metadata": {
    "collapsed": false,
    "pycharm": {
     "name": "#%%\n"
    }
   }
  },
  {
   "cell_type": "markdown",
   "source": [
    "### Dataset Historical Data\n",
    "In this frame we will transform the data into a format that we can use.\n",
    "in this case historical data, so we will use the `Country/Region` as  column name and the rest of the columns as the row.\n",
    "and we will parse the index of dataframe to be the date."
   ],
   "metadata": {
    "collapsed": false
   }
  },
  {
   "cell_type": "code",
   "execution_count": 6,
   "outputs": [
    {
     "data": {
      "text/plain": "            Afghanistan-nan  Albania-nan  Algeria-nan  Andorra-nan  \\\n2020-01-22                0            0            0            0   \n2020-01-23                0            0            0            0   \n2020-01-24                0            0            0            0   \n2020-01-25                0            0            0            0   \n2020-01-26                0            0            0            0   \n...                     ...          ...          ...          ...   \n2022-02-15           171422       268491       262570        37361   \n2022-02-16           171519       268940       262994        37452   \n2022-02-17           171673       269301       263369        37522   \n2022-02-18           171857       269601       263685        37589   \n2022-02-19           171931       269904       263936        37589   \n\n            Angola-nan  Antarctica-nan  Antigua and Barbuda-nan  \\\n2020-01-22           0               0                        0   \n2020-01-23           0               0                        0   \n2020-01-24           0               0                        0   \n2020-01-25           0               0                        0   \n2020-01-26           0               0                        0   \n...                ...             ...                      ...   \n2022-02-15       98555              11                     7342   \n2022-02-16       98568              11                     7395   \n2022-02-17       98585              11                     7395   \n2022-02-18       98605              11                     7400   \n2022-02-19       98617              11                     7408   \n\n            Argentina-nan  Armenia-nan  \\\n2020-01-22              0            0   \n2020-01-23              0            0   \n2020-01-24              0            0   \n2020-01-25              0            0   \n2020-01-26              0            0   \n...                   ...          ...   \n2022-02-15        8766174       408381   \n2022-02-16        8783208       410155   \n2022-02-17        8799858       411878   \n2022-02-18        8815247       413295   \n2022-02-19        8823054       414764   \n\n            Australia-Australian Capital Territory  ...  Uruguay-nan  \\\n2020-01-22                                       0  ...            0   \n2020-01-23                                       0  ...            0   \n2020-01-24                                       0  ...            0   \n2020-01-25                                       0  ...            0   \n2020-01-26                                       0  ...            0   \n...                                            ...  ...          ...   \n2022-02-15                                   42720  ...       788676   \n2022-02-16                                   43246  ...       795316   \n2022-02-17                                   43768  ...       800833   \n2022-02-18                                   44100  ...       808012   \n2022-02-19                                   44651  ...       812367   \n\n            Uzbekistan-nan  Vanuatu-nan  Venezuela-nan  Vietnam-nan  \\\n2020-01-22               0            0              0            0   \n2020-01-23               0            0              0            2   \n2020-01-24               0            0              0            2   \n2020-01-25               0            0              0            2   \n2020-01-26               0            0              0            2   \n...                    ...          ...            ...          ...   \n2022-02-15          234063            7         506977      2572087   \n2022-02-16          234359            7         508042      2606824   \n2022-02-17          234600            7         508968      2643024   \n2022-02-18          234872            7         509947      2685463   \n2022-02-19          235063           11         510553      2740293   \n\n            West Bank and Gaza-nan  Winter Olympics 2022-nan  Yemen-nan  \\\n2020-01-22                       0                         0          0   \n2020-01-23                       0                         0          0   \n2020-01-24                       0                         0          0   \n2020-01-25                       0                         0          0   \n2020-01-26                       0                         0          0   \n...                            ...                       ...        ...   \n2022-02-15                  618527                       505      11699   \n2022-02-16                  622175                       507      11707   \n2022-02-17                  625028                       507      11718   \n2022-02-18                  627956                       508      11731   \n2022-02-19                  627956                       508      11731   \n\n            Zambia-nan  Zimbabwe-nan  \n2020-01-22           0             0  \n2020-01-23           0             0  \n2020-01-24           0             0  \n2020-01-25           0             0  \n2020-01-26           0             0  \n...                ...           ...  \n2022-02-15      309870        231603  \n2022-02-16      310155        232213  \n2022-02-17      310474        232598  \n2022-02-18      310764        233030  \n2022-02-19      311016        233224  \n\n[760 rows x 284 columns]",
      "text/html": "<div>\n<style scoped>\n    .dataframe tbody tr th:only-of-type {\n        vertical-align: middle;\n    }\n\n    .dataframe tbody tr th {\n        vertical-align: top;\n    }\n\n    .dataframe thead th {\n        text-align: right;\n    }\n</style>\n<table border=\"1\" class=\"dataframe\">\n  <thead>\n    <tr style=\"text-align: right;\">\n      <th></th>\n      <th>Afghanistan-nan</th>\n      <th>Albania-nan</th>\n      <th>Algeria-nan</th>\n      <th>Andorra-nan</th>\n      <th>Angola-nan</th>\n      <th>Antarctica-nan</th>\n      <th>Antigua and Barbuda-nan</th>\n      <th>Argentina-nan</th>\n      <th>Armenia-nan</th>\n      <th>Australia-Australian Capital Territory</th>\n      <th>...</th>\n      <th>Uruguay-nan</th>\n      <th>Uzbekistan-nan</th>\n      <th>Vanuatu-nan</th>\n      <th>Venezuela-nan</th>\n      <th>Vietnam-nan</th>\n      <th>West Bank and Gaza-nan</th>\n      <th>Winter Olympics 2022-nan</th>\n      <th>Yemen-nan</th>\n      <th>Zambia-nan</th>\n      <th>Zimbabwe-nan</th>\n    </tr>\n  </thead>\n  <tbody>\n    <tr>\n      <th>2020-01-22</th>\n      <td>0</td>\n      <td>0</td>\n      <td>0</td>\n      <td>0</td>\n      <td>0</td>\n      <td>0</td>\n      <td>0</td>\n      <td>0</td>\n      <td>0</td>\n      <td>0</td>\n      <td>...</td>\n      <td>0</td>\n      <td>0</td>\n      <td>0</td>\n      <td>0</td>\n      <td>0</td>\n      <td>0</td>\n      <td>0</td>\n      <td>0</td>\n      <td>0</td>\n      <td>0</td>\n    </tr>\n    <tr>\n      <th>2020-01-23</th>\n      <td>0</td>\n      <td>0</td>\n      <td>0</td>\n      <td>0</td>\n      <td>0</td>\n      <td>0</td>\n      <td>0</td>\n      <td>0</td>\n      <td>0</td>\n      <td>0</td>\n      <td>...</td>\n      <td>0</td>\n      <td>0</td>\n      <td>0</td>\n      <td>0</td>\n      <td>2</td>\n      <td>0</td>\n      <td>0</td>\n      <td>0</td>\n      <td>0</td>\n      <td>0</td>\n    </tr>\n    <tr>\n      <th>2020-01-24</th>\n      <td>0</td>\n      <td>0</td>\n      <td>0</td>\n      <td>0</td>\n      <td>0</td>\n      <td>0</td>\n      <td>0</td>\n      <td>0</td>\n      <td>0</td>\n      <td>0</td>\n      <td>...</td>\n      <td>0</td>\n      <td>0</td>\n      <td>0</td>\n      <td>0</td>\n      <td>2</td>\n      <td>0</td>\n      <td>0</td>\n      <td>0</td>\n      <td>0</td>\n      <td>0</td>\n    </tr>\n    <tr>\n      <th>2020-01-25</th>\n      <td>0</td>\n      <td>0</td>\n      <td>0</td>\n      <td>0</td>\n      <td>0</td>\n      <td>0</td>\n      <td>0</td>\n      <td>0</td>\n      <td>0</td>\n      <td>0</td>\n      <td>...</td>\n      <td>0</td>\n      <td>0</td>\n      <td>0</td>\n      <td>0</td>\n      <td>2</td>\n      <td>0</td>\n      <td>0</td>\n      <td>0</td>\n      <td>0</td>\n      <td>0</td>\n    </tr>\n    <tr>\n      <th>2020-01-26</th>\n      <td>0</td>\n      <td>0</td>\n      <td>0</td>\n      <td>0</td>\n      <td>0</td>\n      <td>0</td>\n      <td>0</td>\n      <td>0</td>\n      <td>0</td>\n      <td>0</td>\n      <td>...</td>\n      <td>0</td>\n      <td>0</td>\n      <td>0</td>\n      <td>0</td>\n      <td>2</td>\n      <td>0</td>\n      <td>0</td>\n      <td>0</td>\n      <td>0</td>\n      <td>0</td>\n    </tr>\n    <tr>\n      <th>...</th>\n      <td>...</td>\n      <td>...</td>\n      <td>...</td>\n      <td>...</td>\n      <td>...</td>\n      <td>...</td>\n      <td>...</td>\n      <td>...</td>\n      <td>...</td>\n      <td>...</td>\n      <td>...</td>\n      <td>...</td>\n      <td>...</td>\n      <td>...</td>\n      <td>...</td>\n      <td>...</td>\n      <td>...</td>\n      <td>...</td>\n      <td>...</td>\n      <td>...</td>\n      <td>...</td>\n    </tr>\n    <tr>\n      <th>2022-02-15</th>\n      <td>171422</td>\n      <td>268491</td>\n      <td>262570</td>\n      <td>37361</td>\n      <td>98555</td>\n      <td>11</td>\n      <td>7342</td>\n      <td>8766174</td>\n      <td>408381</td>\n      <td>42720</td>\n      <td>...</td>\n      <td>788676</td>\n      <td>234063</td>\n      <td>7</td>\n      <td>506977</td>\n      <td>2572087</td>\n      <td>618527</td>\n      <td>505</td>\n      <td>11699</td>\n      <td>309870</td>\n      <td>231603</td>\n    </tr>\n    <tr>\n      <th>2022-02-16</th>\n      <td>171519</td>\n      <td>268940</td>\n      <td>262994</td>\n      <td>37452</td>\n      <td>98568</td>\n      <td>11</td>\n      <td>7395</td>\n      <td>8783208</td>\n      <td>410155</td>\n      <td>43246</td>\n      <td>...</td>\n      <td>795316</td>\n      <td>234359</td>\n      <td>7</td>\n      <td>508042</td>\n      <td>2606824</td>\n      <td>622175</td>\n      <td>507</td>\n      <td>11707</td>\n      <td>310155</td>\n      <td>232213</td>\n    </tr>\n    <tr>\n      <th>2022-02-17</th>\n      <td>171673</td>\n      <td>269301</td>\n      <td>263369</td>\n      <td>37522</td>\n      <td>98585</td>\n      <td>11</td>\n      <td>7395</td>\n      <td>8799858</td>\n      <td>411878</td>\n      <td>43768</td>\n      <td>...</td>\n      <td>800833</td>\n      <td>234600</td>\n      <td>7</td>\n      <td>508968</td>\n      <td>2643024</td>\n      <td>625028</td>\n      <td>507</td>\n      <td>11718</td>\n      <td>310474</td>\n      <td>232598</td>\n    </tr>\n    <tr>\n      <th>2022-02-18</th>\n      <td>171857</td>\n      <td>269601</td>\n      <td>263685</td>\n      <td>37589</td>\n      <td>98605</td>\n      <td>11</td>\n      <td>7400</td>\n      <td>8815247</td>\n      <td>413295</td>\n      <td>44100</td>\n      <td>...</td>\n      <td>808012</td>\n      <td>234872</td>\n      <td>7</td>\n      <td>509947</td>\n      <td>2685463</td>\n      <td>627956</td>\n      <td>508</td>\n      <td>11731</td>\n      <td>310764</td>\n      <td>233030</td>\n    </tr>\n    <tr>\n      <th>2022-02-19</th>\n      <td>171931</td>\n      <td>269904</td>\n      <td>263936</td>\n      <td>37589</td>\n      <td>98617</td>\n      <td>11</td>\n      <td>7408</td>\n      <td>8823054</td>\n      <td>414764</td>\n      <td>44651</td>\n      <td>...</td>\n      <td>812367</td>\n      <td>235063</td>\n      <td>11</td>\n      <td>510553</td>\n      <td>2740293</td>\n      <td>627956</td>\n      <td>508</td>\n      <td>11731</td>\n      <td>311016</td>\n      <td>233224</td>\n    </tr>\n  </tbody>\n</table>\n<p>760 rows × 284 columns</p>\n</div>"
     },
     "execution_count": 6,
     "metadata": {},
     "output_type": "execute_result"
    }
   ],
   "source": [
    "df_history_cumsum = df.iloc[:, 4:-1].T\n",
    "df_history_cumsum.index = pd.to_datetime(df_history_cumsum.index)\n",
    "df_history_cumsum.columns = df[\"Identifier\"].values\n",
    "df_history_cumsum"
   ],
   "metadata": {
    "collapsed": false,
    "pycharm": {
     "name": "#%%\n"
    }
   }
  },
  {
   "cell_type": "markdown",
   "source": [
    "### Dataset Historical Delta\n",
    "in this frame we will create the calculation of the delta/difference between the date on each Country."
   ],
   "metadata": {
    "collapsed": false
   }
  },
  {
   "cell_type": "code",
   "execution_count": 7,
   "outputs": [
    {
     "data": {
      "text/plain": "            Afghanistan-nan  Albania-nan  Algeria-nan  Andorra-nan  \\\n2020-01-22              NaN          NaN          NaN          NaN   \n2020-01-23              0.0          0.0          0.0          0.0   \n2020-01-24              0.0          0.0          0.0          0.0   \n2020-01-25              0.0          0.0          0.0          0.0   \n2020-01-26              0.0          0.0          0.0          0.0   \n...                     ...          ...          ...          ...   \n2022-02-15            176.0        187.0        405.0         84.0   \n2022-02-16             97.0        449.0        424.0         91.0   \n2022-02-17            154.0        361.0        375.0         70.0   \n2022-02-18            184.0        300.0        316.0         67.0   \n2022-02-19             74.0        303.0        251.0          0.0   \n\n            Angola-nan  Antarctica-nan  Antigua and Barbuda-nan  \\\n2020-01-22         NaN             NaN                      NaN   \n2020-01-23         0.0             0.0                      0.0   \n2020-01-24         0.0             0.0                      0.0   \n2020-01-25         0.0             0.0                      0.0   \n2020-01-26         0.0             0.0                      0.0   \n...                ...             ...                      ...   \n2022-02-15        41.0             0.0                     11.0   \n2022-02-16        13.0             0.0                     53.0   \n2022-02-17        17.0             0.0                      0.0   \n2022-02-18        20.0             0.0                      5.0   \n2022-02-19        12.0             0.0                      8.0   \n\n            Argentina-nan  Armenia-nan  \\\n2020-01-22            NaN          NaN   \n2020-01-23            0.0          0.0   \n2020-01-24            0.0          0.0   \n2020-01-25            0.0          0.0   \n2020-01-26            0.0          0.0   \n...                   ...          ...   \n2022-02-15        18573.0       1307.0   \n2022-02-16        17034.0       1774.0   \n2022-02-17        16650.0       1723.0   \n2022-02-18        15389.0       1417.0   \n2022-02-19         7807.0       1469.0   \n\n            Australia-Australian Capital Territory  ...  Uruguay-nan  \\\n2020-01-22                                     NaN  ...          NaN   \n2020-01-23                                     0.0  ...          0.0   \n2020-01-24                                     0.0  ...          0.0   \n2020-01-25                                     0.0  ...          0.0   \n2020-01-26                                     0.0  ...          0.0   \n...                                            ...  ...          ...   \n2022-02-15                                   557.0  ...       6120.0   \n2022-02-16                                   526.0  ...       6640.0   \n2022-02-17                                   522.0  ...       5517.0   \n2022-02-18                                   332.0  ...       7179.0   \n2022-02-19                                   551.0  ...       4355.0   \n\n            Uzbekistan-nan  Vanuatu-nan  Venezuela-nan  Vietnam-nan  \\\n2020-01-22             NaN          NaN            NaN          NaN   \n2020-01-23             0.0          0.0            0.0          2.0   \n2020-01-24             0.0          0.0            0.0          0.0   \n2020-01-25             0.0          0.0            0.0          0.0   \n2020-01-26             0.0          0.0            0.0          0.0   \n...                    ...          ...            ...          ...   \n2022-02-15           302.0          0.0         1030.0      31814.0   \n2022-02-16           296.0          0.0         1065.0      34737.0   \n2022-02-17           241.0          0.0          926.0      36200.0   \n2022-02-18           272.0          0.0          979.0      42439.0   \n2022-02-19           191.0          4.0          606.0      54830.0   \n\n            West Bank and Gaza-nan  Winter Olympics 2022-nan  Yemen-nan  \\\n2020-01-22                     NaN                       NaN        NaN   \n2020-01-23                     0.0                       0.0        0.0   \n2020-01-24                     0.0                       0.0        0.0   \n2020-01-25                     0.0                       0.0        0.0   \n2020-01-26                     0.0                       0.0        0.0   \n...                            ...                       ...        ...   \n2022-02-15                  4681.0                       4.0       20.0   \n2022-02-16                  3648.0                       2.0        8.0   \n2022-02-17                  2853.0                       0.0       11.0   \n2022-02-18                  2928.0                       1.0       13.0   \n2022-02-19                     0.0                       0.0        0.0   \n\n            Zambia-nan  Zimbabwe-nan  \n2020-01-22         NaN           NaN  \n2020-01-23         0.0           0.0  \n2020-01-24         0.0           0.0  \n2020-01-25         0.0           0.0  \n2020-01-26         0.0           0.0  \n...                ...           ...  \n2022-02-15       291.0           0.0  \n2022-02-16       285.0         610.0  \n2022-02-17       319.0         385.0  \n2022-02-18       290.0         432.0  \n2022-02-19       252.0         194.0  \n\n[760 rows x 284 columns]",
      "text/html": "<div>\n<style scoped>\n    .dataframe tbody tr th:only-of-type {\n        vertical-align: middle;\n    }\n\n    .dataframe tbody tr th {\n        vertical-align: top;\n    }\n\n    .dataframe thead th {\n        text-align: right;\n    }\n</style>\n<table border=\"1\" class=\"dataframe\">\n  <thead>\n    <tr style=\"text-align: right;\">\n      <th></th>\n      <th>Afghanistan-nan</th>\n      <th>Albania-nan</th>\n      <th>Algeria-nan</th>\n      <th>Andorra-nan</th>\n      <th>Angola-nan</th>\n      <th>Antarctica-nan</th>\n      <th>Antigua and Barbuda-nan</th>\n      <th>Argentina-nan</th>\n      <th>Armenia-nan</th>\n      <th>Australia-Australian Capital Territory</th>\n      <th>...</th>\n      <th>Uruguay-nan</th>\n      <th>Uzbekistan-nan</th>\n      <th>Vanuatu-nan</th>\n      <th>Venezuela-nan</th>\n      <th>Vietnam-nan</th>\n      <th>West Bank and Gaza-nan</th>\n      <th>Winter Olympics 2022-nan</th>\n      <th>Yemen-nan</th>\n      <th>Zambia-nan</th>\n      <th>Zimbabwe-nan</th>\n    </tr>\n  </thead>\n  <tbody>\n    <tr>\n      <th>2020-01-22</th>\n      <td>NaN</td>\n      <td>NaN</td>\n      <td>NaN</td>\n      <td>NaN</td>\n      <td>NaN</td>\n      <td>NaN</td>\n      <td>NaN</td>\n      <td>NaN</td>\n      <td>NaN</td>\n      <td>NaN</td>\n      <td>...</td>\n      <td>NaN</td>\n      <td>NaN</td>\n      <td>NaN</td>\n      <td>NaN</td>\n      <td>NaN</td>\n      <td>NaN</td>\n      <td>NaN</td>\n      <td>NaN</td>\n      <td>NaN</td>\n      <td>NaN</td>\n    </tr>\n    <tr>\n      <th>2020-01-23</th>\n      <td>0.0</td>\n      <td>0.0</td>\n      <td>0.0</td>\n      <td>0.0</td>\n      <td>0.0</td>\n      <td>0.0</td>\n      <td>0.0</td>\n      <td>0.0</td>\n      <td>0.0</td>\n      <td>0.0</td>\n      <td>...</td>\n      <td>0.0</td>\n      <td>0.0</td>\n      <td>0.0</td>\n      <td>0.0</td>\n      <td>2.0</td>\n      <td>0.0</td>\n      <td>0.0</td>\n      <td>0.0</td>\n      <td>0.0</td>\n      <td>0.0</td>\n    </tr>\n    <tr>\n      <th>2020-01-24</th>\n      <td>0.0</td>\n      <td>0.0</td>\n      <td>0.0</td>\n      <td>0.0</td>\n      <td>0.0</td>\n      <td>0.0</td>\n      <td>0.0</td>\n      <td>0.0</td>\n      <td>0.0</td>\n      <td>0.0</td>\n      <td>...</td>\n      <td>0.0</td>\n      <td>0.0</td>\n      <td>0.0</td>\n      <td>0.0</td>\n      <td>0.0</td>\n      <td>0.0</td>\n      <td>0.0</td>\n      <td>0.0</td>\n      <td>0.0</td>\n      <td>0.0</td>\n    </tr>\n    <tr>\n      <th>2020-01-25</th>\n      <td>0.0</td>\n      <td>0.0</td>\n      <td>0.0</td>\n      <td>0.0</td>\n      <td>0.0</td>\n      <td>0.0</td>\n      <td>0.0</td>\n      <td>0.0</td>\n      <td>0.0</td>\n      <td>0.0</td>\n      <td>...</td>\n      <td>0.0</td>\n      <td>0.0</td>\n      <td>0.0</td>\n      <td>0.0</td>\n      <td>0.0</td>\n      <td>0.0</td>\n      <td>0.0</td>\n      <td>0.0</td>\n      <td>0.0</td>\n      <td>0.0</td>\n    </tr>\n    <tr>\n      <th>2020-01-26</th>\n      <td>0.0</td>\n      <td>0.0</td>\n      <td>0.0</td>\n      <td>0.0</td>\n      <td>0.0</td>\n      <td>0.0</td>\n      <td>0.0</td>\n      <td>0.0</td>\n      <td>0.0</td>\n      <td>0.0</td>\n      <td>...</td>\n      <td>0.0</td>\n      <td>0.0</td>\n      <td>0.0</td>\n      <td>0.0</td>\n      <td>0.0</td>\n      <td>0.0</td>\n      <td>0.0</td>\n      <td>0.0</td>\n      <td>0.0</td>\n      <td>0.0</td>\n    </tr>\n    <tr>\n      <th>...</th>\n      <td>...</td>\n      <td>...</td>\n      <td>...</td>\n      <td>...</td>\n      <td>...</td>\n      <td>...</td>\n      <td>...</td>\n      <td>...</td>\n      <td>...</td>\n      <td>...</td>\n      <td>...</td>\n      <td>...</td>\n      <td>...</td>\n      <td>...</td>\n      <td>...</td>\n      <td>...</td>\n      <td>...</td>\n      <td>...</td>\n      <td>...</td>\n      <td>...</td>\n      <td>...</td>\n    </tr>\n    <tr>\n      <th>2022-02-15</th>\n      <td>176.0</td>\n      <td>187.0</td>\n      <td>405.0</td>\n      <td>84.0</td>\n      <td>41.0</td>\n      <td>0.0</td>\n      <td>11.0</td>\n      <td>18573.0</td>\n      <td>1307.0</td>\n      <td>557.0</td>\n      <td>...</td>\n      <td>6120.0</td>\n      <td>302.0</td>\n      <td>0.0</td>\n      <td>1030.0</td>\n      <td>31814.0</td>\n      <td>4681.0</td>\n      <td>4.0</td>\n      <td>20.0</td>\n      <td>291.0</td>\n      <td>0.0</td>\n    </tr>\n    <tr>\n      <th>2022-02-16</th>\n      <td>97.0</td>\n      <td>449.0</td>\n      <td>424.0</td>\n      <td>91.0</td>\n      <td>13.0</td>\n      <td>0.0</td>\n      <td>53.0</td>\n      <td>17034.0</td>\n      <td>1774.0</td>\n      <td>526.0</td>\n      <td>...</td>\n      <td>6640.0</td>\n      <td>296.0</td>\n      <td>0.0</td>\n      <td>1065.0</td>\n      <td>34737.0</td>\n      <td>3648.0</td>\n      <td>2.0</td>\n      <td>8.0</td>\n      <td>285.0</td>\n      <td>610.0</td>\n    </tr>\n    <tr>\n      <th>2022-02-17</th>\n      <td>154.0</td>\n      <td>361.0</td>\n      <td>375.0</td>\n      <td>70.0</td>\n      <td>17.0</td>\n      <td>0.0</td>\n      <td>0.0</td>\n      <td>16650.0</td>\n      <td>1723.0</td>\n      <td>522.0</td>\n      <td>...</td>\n      <td>5517.0</td>\n      <td>241.0</td>\n      <td>0.0</td>\n      <td>926.0</td>\n      <td>36200.0</td>\n      <td>2853.0</td>\n      <td>0.0</td>\n      <td>11.0</td>\n      <td>319.0</td>\n      <td>385.0</td>\n    </tr>\n    <tr>\n      <th>2022-02-18</th>\n      <td>184.0</td>\n      <td>300.0</td>\n      <td>316.0</td>\n      <td>67.0</td>\n      <td>20.0</td>\n      <td>0.0</td>\n      <td>5.0</td>\n      <td>15389.0</td>\n      <td>1417.0</td>\n      <td>332.0</td>\n      <td>...</td>\n      <td>7179.0</td>\n      <td>272.0</td>\n      <td>0.0</td>\n      <td>979.0</td>\n      <td>42439.0</td>\n      <td>2928.0</td>\n      <td>1.0</td>\n      <td>13.0</td>\n      <td>290.0</td>\n      <td>432.0</td>\n    </tr>\n    <tr>\n      <th>2022-02-19</th>\n      <td>74.0</td>\n      <td>303.0</td>\n      <td>251.0</td>\n      <td>0.0</td>\n      <td>12.0</td>\n      <td>0.0</td>\n      <td>8.0</td>\n      <td>7807.0</td>\n      <td>1469.0</td>\n      <td>551.0</td>\n      <td>...</td>\n      <td>4355.0</td>\n      <td>191.0</td>\n      <td>4.0</td>\n      <td>606.0</td>\n      <td>54830.0</td>\n      <td>0.0</td>\n      <td>0.0</td>\n      <td>0.0</td>\n      <td>252.0</td>\n      <td>194.0</td>\n    </tr>\n  </tbody>\n</table>\n<p>760 rows × 284 columns</p>\n</div>"
     },
     "execution_count": 7,
     "metadata": {},
     "output_type": "execute_result"
    }
   ],
   "source": [
    "df_history_delta = df_history_cumsum.diff()\n",
    "df_history_delta"
   ],
   "metadata": {
    "collapsed": false,
    "pycharm": {
     "name": "#%%\n"
    }
   }
  },
  {
   "cell_type": "markdown",
   "source": [
    "# Dataset Visualization\n",
    "After trying to understand the dataset, we can see that it is impossible to visualize the data in a meaningful way.\n",
    "because the data is too large."
   ],
   "metadata": {
    "collapsed": false
   }
  },
  {
   "cell_type": "code",
   "execution_count": 8,
   "outputs": [],
   "source": [
    "# df_history_delta.plot()"
   ],
   "metadata": {
    "collapsed": false,
    "pycharm": {
     "name": "#%%\n"
    }
   }
  },
  {
   "cell_type": "markdown",
   "source": [
    "## Utility Functions\n",
    "this function will be used to format numerical data into a readable format."
   ],
   "metadata": {
    "collapsed": false
   }
  },
  {
   "cell_type": "code",
   "execution_count": 9,
   "outputs": [],
   "source": [
    "def formatter(x):\n",
    "    return \"{:,}\".format(x)"
   ],
   "metadata": {
    "collapsed": false,
    "pycharm": {
     "name": "#%%\n"
    }
   }
  },
  {
   "cell_type": "markdown",
   "source": [
    "# Question 1\n",
    "Menggunakan Pandas query, ambil data kasus kumulatif Covid-19 tanggal 20 Januari 2022 untuk negara-negara dengan latitude di bawah 0. Negara mana yang paling tinggi jumlah kumulatif kasus Covidnya per tanggal tersebut? Jika bukan Indonesia, bandingkan jumlah kumulatif kasus negara tersebut dengan Indonesia per tanggal yang sama!\n",
    "\n",
    "## Answer :\n",
    "\n",
    "Negara yang paling tinggi jumlah kumulatif kasus Covidnya per tanggal tersebut adalah 'Brazil' dengan jumlah kasus kumulatif Covid-19 23,595,178\n",
    "Sementara negara Indonesia paling tinggi jumlah kumulatif kasus Covid-19 per tanggal tersebut adalah 4,277,644"
   ],
   "metadata": {
    "collapsed": false
   }
  },
  {
   "cell_type": "code",
   "execution_count": 10,
   "outputs": [
    {
     "name": "stdout",
     "output_type": "stream",
     "text": [
      "Negara yang paling tinggi jumlah kumulatif kasus Covidnya per tanggal tersebut adalah 'Brazil' dengan jumlah kasus kumulatif Covid-19 23,595,178\n",
      "Sementara negara Indonesia paling tinggi jumlah kumulatif kasus Covid-19 per tanggal tersebut adalah 4,277,644\n"
     ]
    }
   ],
   "source": [
    "latitude_below_0 = df_header[(df_header[\"Lat\"] < 0) & (df_header[\"Country/Region\"] != \"Indonesia\")]\n",
    "df_result = df_history_cumsum[[col for col in latitude_below_0[\"Identifier\"]]]\n",
    "result = df_result.loc[\"20/01/22\"].idxmax()\n",
    "print(\n",
    "    f\"Negara yang paling tinggi jumlah kumulatif kasus Covidnya per tanggal tersebut adalah '{result.split('-')[0]}' dengan jumlah kasus kumulatif Covid-19 {formatter(df_result.loc['20/01/22'][result])}\")\n",
    "print(\n",
    "    f\"Sementara negara Indonesia paling tinggi jumlah kumulatif kasus Covid-19 per tanggal tersebut adalah {formatter(df_history_cumsum.loc['20/01/22']['Indonesia-nan'])}\")"
   ],
   "metadata": {
    "collapsed": false,
    "pycharm": {
     "name": "#%%\n"
    }
   }
  },
  {
   "cell_type": "markdown",
   "source": [
    "# Question 2\n",
    "Buatlah fungsi untuk menghitung jumlah kasus harian Covid-19! (Hint: Kamu bisa menggunakan .diff() untuk menghitung perbedaan tiap baris data/menghitung jumlah kasus harian dan .transpose() untuk mengubah kolom menjadi baris atau sebaliknya)\n",
    "\n",
    "# Answer :\n",
    "- Using index locator we will retrieve the historical data\n",
    "- doing transpose to pivot the frame\n",
    "- parsing the index to be the date.\n",
    "- using col `Identifier` to set column name\n",
    "- then use diff to calculate the delta/difference between the date on each Country.\n"
   ],
   "metadata": {
    "collapsed": false
   }
  },
  {
   "cell_type": "code",
   "execution_count": 11,
   "outputs": [
    {
     "data": {
      "text/plain": "            Afghanistan-nan  Albania-nan  Algeria-nan  Andorra-nan  \\\n2020-01-22              NaN          NaN          NaN          NaN   \n2020-01-23              0.0          0.0          0.0          0.0   \n2020-01-24              0.0          0.0          0.0          0.0   \n2020-01-25              0.0          0.0          0.0          0.0   \n2020-01-26              0.0          0.0          0.0          0.0   \n...                     ...          ...          ...          ...   \n2022-02-15            176.0        187.0        405.0         84.0   \n2022-02-16             97.0        449.0        424.0         91.0   \n2022-02-17            154.0        361.0        375.0         70.0   \n2022-02-18            184.0        300.0        316.0         67.0   \n2022-02-19             74.0        303.0        251.0          0.0   \n\n            Angola-nan  Antarctica-nan  Antigua and Barbuda-nan  \\\n2020-01-22         NaN             NaN                      NaN   \n2020-01-23         0.0             0.0                      0.0   \n2020-01-24         0.0             0.0                      0.0   \n2020-01-25         0.0             0.0                      0.0   \n2020-01-26         0.0             0.0                      0.0   \n...                ...             ...                      ...   \n2022-02-15        41.0             0.0                     11.0   \n2022-02-16        13.0             0.0                     53.0   \n2022-02-17        17.0             0.0                      0.0   \n2022-02-18        20.0             0.0                      5.0   \n2022-02-19        12.0             0.0                      8.0   \n\n            Argentina-nan  Armenia-nan  \\\n2020-01-22            NaN          NaN   \n2020-01-23            0.0          0.0   \n2020-01-24            0.0          0.0   \n2020-01-25            0.0          0.0   \n2020-01-26            0.0          0.0   \n...                   ...          ...   \n2022-02-15        18573.0       1307.0   \n2022-02-16        17034.0       1774.0   \n2022-02-17        16650.0       1723.0   \n2022-02-18        15389.0       1417.0   \n2022-02-19         7807.0       1469.0   \n\n            Australia-Australian Capital Territory  ...  Uruguay-nan  \\\n2020-01-22                                     NaN  ...          NaN   \n2020-01-23                                     0.0  ...          0.0   \n2020-01-24                                     0.0  ...          0.0   \n2020-01-25                                     0.0  ...          0.0   \n2020-01-26                                     0.0  ...          0.0   \n...                                            ...  ...          ...   \n2022-02-15                                   557.0  ...       6120.0   \n2022-02-16                                   526.0  ...       6640.0   \n2022-02-17                                   522.0  ...       5517.0   \n2022-02-18                                   332.0  ...       7179.0   \n2022-02-19                                   551.0  ...       4355.0   \n\n            Uzbekistan-nan  Vanuatu-nan  Venezuela-nan  Vietnam-nan  \\\n2020-01-22             NaN          NaN            NaN          NaN   \n2020-01-23             0.0          0.0            0.0          2.0   \n2020-01-24             0.0          0.0            0.0          0.0   \n2020-01-25             0.0          0.0            0.0          0.0   \n2020-01-26             0.0          0.0            0.0          0.0   \n...                    ...          ...            ...          ...   \n2022-02-15           302.0          0.0         1030.0      31814.0   \n2022-02-16           296.0          0.0         1065.0      34737.0   \n2022-02-17           241.0          0.0          926.0      36200.0   \n2022-02-18           272.0          0.0          979.0      42439.0   \n2022-02-19           191.0          4.0          606.0      54830.0   \n\n            West Bank and Gaza-nan  Winter Olympics 2022-nan  Yemen-nan  \\\n2020-01-22                     NaN                       NaN        NaN   \n2020-01-23                     0.0                       0.0        0.0   \n2020-01-24                     0.0                       0.0        0.0   \n2020-01-25                     0.0                       0.0        0.0   \n2020-01-26                     0.0                       0.0        0.0   \n...                            ...                       ...        ...   \n2022-02-15                  4681.0                       4.0       20.0   \n2022-02-16                  3648.0                       2.0        8.0   \n2022-02-17                  2853.0                       0.0       11.0   \n2022-02-18                  2928.0                       1.0       13.0   \n2022-02-19                     0.0                       0.0        0.0   \n\n            Zambia-nan  Zimbabwe-nan  \n2020-01-22         NaN           NaN  \n2020-01-23         0.0           0.0  \n2020-01-24         0.0           0.0  \n2020-01-25         0.0           0.0  \n2020-01-26         0.0           0.0  \n...                ...           ...  \n2022-02-15       291.0           0.0  \n2022-02-16       285.0         610.0  \n2022-02-17       319.0         385.0  \n2022-02-18       290.0         432.0  \n2022-02-19       252.0         194.0  \n\n[760 rows x 284 columns]",
      "text/html": "<div>\n<style scoped>\n    .dataframe tbody tr th:only-of-type {\n        vertical-align: middle;\n    }\n\n    .dataframe tbody tr th {\n        vertical-align: top;\n    }\n\n    .dataframe thead th {\n        text-align: right;\n    }\n</style>\n<table border=\"1\" class=\"dataframe\">\n  <thead>\n    <tr style=\"text-align: right;\">\n      <th></th>\n      <th>Afghanistan-nan</th>\n      <th>Albania-nan</th>\n      <th>Algeria-nan</th>\n      <th>Andorra-nan</th>\n      <th>Angola-nan</th>\n      <th>Antarctica-nan</th>\n      <th>Antigua and Barbuda-nan</th>\n      <th>Argentina-nan</th>\n      <th>Armenia-nan</th>\n      <th>Australia-Australian Capital Territory</th>\n      <th>...</th>\n      <th>Uruguay-nan</th>\n      <th>Uzbekistan-nan</th>\n      <th>Vanuatu-nan</th>\n      <th>Venezuela-nan</th>\n      <th>Vietnam-nan</th>\n      <th>West Bank and Gaza-nan</th>\n      <th>Winter Olympics 2022-nan</th>\n      <th>Yemen-nan</th>\n      <th>Zambia-nan</th>\n      <th>Zimbabwe-nan</th>\n    </tr>\n  </thead>\n  <tbody>\n    <tr>\n      <th>2020-01-22</th>\n      <td>NaN</td>\n      <td>NaN</td>\n      <td>NaN</td>\n      <td>NaN</td>\n      <td>NaN</td>\n      <td>NaN</td>\n      <td>NaN</td>\n      <td>NaN</td>\n      <td>NaN</td>\n      <td>NaN</td>\n      <td>...</td>\n      <td>NaN</td>\n      <td>NaN</td>\n      <td>NaN</td>\n      <td>NaN</td>\n      <td>NaN</td>\n      <td>NaN</td>\n      <td>NaN</td>\n      <td>NaN</td>\n      <td>NaN</td>\n      <td>NaN</td>\n    </tr>\n    <tr>\n      <th>2020-01-23</th>\n      <td>0.0</td>\n      <td>0.0</td>\n      <td>0.0</td>\n      <td>0.0</td>\n      <td>0.0</td>\n      <td>0.0</td>\n      <td>0.0</td>\n      <td>0.0</td>\n      <td>0.0</td>\n      <td>0.0</td>\n      <td>...</td>\n      <td>0.0</td>\n      <td>0.0</td>\n      <td>0.0</td>\n      <td>0.0</td>\n      <td>2.0</td>\n      <td>0.0</td>\n      <td>0.0</td>\n      <td>0.0</td>\n      <td>0.0</td>\n      <td>0.0</td>\n    </tr>\n    <tr>\n      <th>2020-01-24</th>\n      <td>0.0</td>\n      <td>0.0</td>\n      <td>0.0</td>\n      <td>0.0</td>\n      <td>0.0</td>\n      <td>0.0</td>\n      <td>0.0</td>\n      <td>0.0</td>\n      <td>0.0</td>\n      <td>0.0</td>\n      <td>...</td>\n      <td>0.0</td>\n      <td>0.0</td>\n      <td>0.0</td>\n      <td>0.0</td>\n      <td>0.0</td>\n      <td>0.0</td>\n      <td>0.0</td>\n      <td>0.0</td>\n      <td>0.0</td>\n      <td>0.0</td>\n    </tr>\n    <tr>\n      <th>2020-01-25</th>\n      <td>0.0</td>\n      <td>0.0</td>\n      <td>0.0</td>\n      <td>0.0</td>\n      <td>0.0</td>\n      <td>0.0</td>\n      <td>0.0</td>\n      <td>0.0</td>\n      <td>0.0</td>\n      <td>0.0</td>\n      <td>...</td>\n      <td>0.0</td>\n      <td>0.0</td>\n      <td>0.0</td>\n      <td>0.0</td>\n      <td>0.0</td>\n      <td>0.0</td>\n      <td>0.0</td>\n      <td>0.0</td>\n      <td>0.0</td>\n      <td>0.0</td>\n    </tr>\n    <tr>\n      <th>2020-01-26</th>\n      <td>0.0</td>\n      <td>0.0</td>\n      <td>0.0</td>\n      <td>0.0</td>\n      <td>0.0</td>\n      <td>0.0</td>\n      <td>0.0</td>\n      <td>0.0</td>\n      <td>0.0</td>\n      <td>0.0</td>\n      <td>...</td>\n      <td>0.0</td>\n      <td>0.0</td>\n      <td>0.0</td>\n      <td>0.0</td>\n      <td>0.0</td>\n      <td>0.0</td>\n      <td>0.0</td>\n      <td>0.0</td>\n      <td>0.0</td>\n      <td>0.0</td>\n    </tr>\n    <tr>\n      <th>...</th>\n      <td>...</td>\n      <td>...</td>\n      <td>...</td>\n      <td>...</td>\n      <td>...</td>\n      <td>...</td>\n      <td>...</td>\n      <td>...</td>\n      <td>...</td>\n      <td>...</td>\n      <td>...</td>\n      <td>...</td>\n      <td>...</td>\n      <td>...</td>\n      <td>...</td>\n      <td>...</td>\n      <td>...</td>\n      <td>...</td>\n      <td>...</td>\n      <td>...</td>\n      <td>...</td>\n    </tr>\n    <tr>\n      <th>2022-02-15</th>\n      <td>176.0</td>\n      <td>187.0</td>\n      <td>405.0</td>\n      <td>84.0</td>\n      <td>41.0</td>\n      <td>0.0</td>\n      <td>11.0</td>\n      <td>18573.0</td>\n      <td>1307.0</td>\n      <td>557.0</td>\n      <td>...</td>\n      <td>6120.0</td>\n      <td>302.0</td>\n      <td>0.0</td>\n      <td>1030.0</td>\n      <td>31814.0</td>\n      <td>4681.0</td>\n      <td>4.0</td>\n      <td>20.0</td>\n      <td>291.0</td>\n      <td>0.0</td>\n    </tr>\n    <tr>\n      <th>2022-02-16</th>\n      <td>97.0</td>\n      <td>449.0</td>\n      <td>424.0</td>\n      <td>91.0</td>\n      <td>13.0</td>\n      <td>0.0</td>\n      <td>53.0</td>\n      <td>17034.0</td>\n      <td>1774.0</td>\n      <td>526.0</td>\n      <td>...</td>\n      <td>6640.0</td>\n      <td>296.0</td>\n      <td>0.0</td>\n      <td>1065.0</td>\n      <td>34737.0</td>\n      <td>3648.0</td>\n      <td>2.0</td>\n      <td>8.0</td>\n      <td>285.0</td>\n      <td>610.0</td>\n    </tr>\n    <tr>\n      <th>2022-02-17</th>\n      <td>154.0</td>\n      <td>361.0</td>\n      <td>375.0</td>\n      <td>70.0</td>\n      <td>17.0</td>\n      <td>0.0</td>\n      <td>0.0</td>\n      <td>16650.0</td>\n      <td>1723.0</td>\n      <td>522.0</td>\n      <td>...</td>\n      <td>5517.0</td>\n      <td>241.0</td>\n      <td>0.0</td>\n      <td>926.0</td>\n      <td>36200.0</td>\n      <td>2853.0</td>\n      <td>0.0</td>\n      <td>11.0</td>\n      <td>319.0</td>\n      <td>385.0</td>\n    </tr>\n    <tr>\n      <th>2022-02-18</th>\n      <td>184.0</td>\n      <td>300.0</td>\n      <td>316.0</td>\n      <td>67.0</td>\n      <td>20.0</td>\n      <td>0.0</td>\n      <td>5.0</td>\n      <td>15389.0</td>\n      <td>1417.0</td>\n      <td>332.0</td>\n      <td>...</td>\n      <td>7179.0</td>\n      <td>272.0</td>\n      <td>0.0</td>\n      <td>979.0</td>\n      <td>42439.0</td>\n      <td>2928.0</td>\n      <td>1.0</td>\n      <td>13.0</td>\n      <td>290.0</td>\n      <td>432.0</td>\n    </tr>\n    <tr>\n      <th>2022-02-19</th>\n      <td>74.0</td>\n      <td>303.0</td>\n      <td>251.0</td>\n      <td>0.0</td>\n      <td>12.0</td>\n      <td>0.0</td>\n      <td>8.0</td>\n      <td>7807.0</td>\n      <td>1469.0</td>\n      <td>551.0</td>\n      <td>...</td>\n      <td>4355.0</td>\n      <td>191.0</td>\n      <td>4.0</td>\n      <td>606.0</td>\n      <td>54830.0</td>\n      <td>0.0</td>\n      <td>0.0</td>\n      <td>0.0</td>\n      <td>252.0</td>\n      <td>194.0</td>\n    </tr>\n  </tbody>\n</table>\n<p>760 rows × 284 columns</p>\n</div>"
     },
     "execution_count": 11,
     "metadata": {},
     "output_type": "execute_result"
    }
   ],
   "source": [
    "def pivot(df):\n",
    "    _df = df.iloc[:, 4:-1].T\n",
    "    _df.index = pd.to_datetime(df_history_cumsum.index)\n",
    "    _df.columns = df[\"Identifier\"].values\n",
    "    return _df.diff()\n",
    "\n",
    "pivot(df)"
   ],
   "metadata": {
    "collapsed": false,
    "pycharm": {
     "name": "#%%\n"
    }
   }
  },
  {
   "cell_type": "markdown",
   "source": [
    "# Question 3\n",
    "Pada tanggal berapa puncak tertinggi kasus harian Covid-19 di Indonesia? bandingkan dengan tanggal 20 Januari 2022, apakah mengalami penurunan atau kenaikan jumlah kasus?\n",
    "\n",
    "## Answer :\n",
    "After doing some query in this section, we can conclude that the peak case count is 5,149,021 and the peak case on 20 January 2022 is 4,277,644.\n",
    "so we can conclude that there is an increase of Covid-19 Cases after 20 January 2022."
   ],
   "metadata": {
    "collapsed": false
   }
  },
  {
   "cell_type": "code",
   "execution_count": 12,
   "outputs": [
    {
     "name": "stdout",
     "output_type": "stream",
     "text": [
      "Jumlah kasus harian Covid-19 di Indonesia pada tanggal 20 Januari 2022 adalah 4,277,644\n",
      "Sementara Jumlah kasus harian Covid-19 di Indonesia Tertinggi adalah 5,149,021\n"
     ]
    }
   ],
   "source": [
    "indonesia_history = df_history_cumsum[\"Indonesia-nan\"]\n",
    "print(\"Jumlah kasus harian Covid-19 di Indonesia pada tanggal 20 Januari 2022 adalah\", formatter(indonesia_history.loc[\"20/01/22\"]))\n",
    "print(\"Sementara Jumlah kasus harian Covid-19 di Indonesia Tertinggi adalah\", formatter(indonesia_history.max()))"
   ],
   "metadata": {
    "collapsed": false,
    "pycharm": {
     "name": "#%%\n"
    }
   }
  },
  {
   "cell_type": "markdown",
   "source": [
    "# Question 4\n",
    "Gunakan for loop dan conditional if untuk membuat sebuah list yang berisikan jumlah kasus harian Covid-19 dengan ketentuan hanya mengambil data Indonesia saja dan jumlah kasus di bawah 10000. Berapa jumlah hari dengan kasus di bawah 10000?\n",
    "\n",
    "## Answer :\n",
    "from the query result, we can conclude that there are 99 days with less than 10,000 cases."
   ],
   "metadata": {
    "collapsed": false
   }
  },
  {
   "cell_type": "code",
   "execution_count": 13,
   "outputs": [
    {
     "name": "stdout",
     "output_type": "stream",
     "text": [
      "Jumlah hari dengan kasus di bawah 10.000 adalah 99\n"
     ]
    }
   ],
   "source": [
    "result = [i for i in df_history_cumsum[\"Indonesia-nan\"] if i < 10_000]\n",
    "\n",
    "print(f\"Jumlah hari dengan kasus di bawah 10.000 adalah {len(result)}\")"
   ],
   "metadata": {
    "collapsed": false,
    "pycharm": {
     "name": "#%%\n"
    }
   }
  },
  {
   "cell_type": "markdown",
   "source": [],
   "metadata": {
    "collapsed": false
   }
  }
 ],
 "metadata": {
  "kernelspec": {
   "display_name": "Python 3",
   "language": "python",
   "name": "python3"
  },
  "language_info": {
   "codemirror_mode": {
    "name": "ipython",
    "version": 2
   },
   "file_extension": ".py",
   "mimetype": "text/x-python",
   "name": "python",
   "nbconvert_exporter": "python",
   "pygments_lexer": "ipython2",
   "version": "2.7.6"
  }
 },
 "nbformat": 4,
 "nbformat_minor": 0
}