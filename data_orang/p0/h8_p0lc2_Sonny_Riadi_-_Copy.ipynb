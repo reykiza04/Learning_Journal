{
  "cells": [
    {
      "cell_type": "markdown",
      "metadata": {
        "id": "O6_FFsQVKK5V"
      },
      "source": [
        "# Live Code 2 Phase 0\n",
        "\n",
        "Nama: Sonny Riadi\n",
        "\n",
        "Batch: FTDS 009"
      ]
    },
    {
      "cell_type": "markdown",
      "metadata": {
        "id": "KF_9GsjGKTPp"
      },
      "source": [
        "# Problems"
      ]
    },
    {
      "cell_type": "markdown",
      "metadata": {
        "id": "TSTfQxuiKXw7"
      },
      "source": [
        "## Nomor 1\n",
        "\n",
        "Perang sedang berkecamuk! Tentara negara kita ingin melakukan komunikasi ke sekutunya tanpa diketahui oleh negara musuh. Untuk itu, kamu diminta untuk mengubah pesan kalimat menjadi pesan transmisi.\n",
        "\n",
        "Pesan yang ingin dikirim adalah: \"Prepare to negotiate\"."
      ]
    },
    {
      "cell_type": "markdown",
      "metadata": {},
      "source": [
        "### Import Library"
      ]
    },
    {
      "cell_type": "code",
      "execution_count": 1,
      "metadata": {},
      "outputs": [],
      "source": [
        "import numpy as np"
      ]
    },
    {
      "cell_type": "markdown",
      "metadata": {},
      "source": [
        "### Mathematical Calculations"
      ]
    },
    {
      "cell_type": "markdown",
      "metadata": {},
      "source": [
        "##### Konversi dari huruf ke angka"
      ]
    },
    {
      "cell_type": "code",
      "execution_count": 2,
      "metadata": {
        "id": "Yt4ReLTMKDJ4"
      },
      "outputs": [
        {
          "data": {
            "text/plain": [
              "array([16, 18,  5, 16,  1, 18,  5,  0, 20, 15,  0, 14,  5,  7, 15, 20,  9,\n",
              "        1, 20,  5])"
            ]
          },
          "execution_count": 2,
          "metadata": {},
          "output_type": "execute_result"
        }
      ],
      "source": [
        "pesan =[]\n",
        "def encode(text):\n",
        "    '''Fungsi untuk melakukan encode pesan'''\n",
        "    for i in str.lower(text):\n",
        "        if i == \" \":\n",
        "            pesan.append(0)\n",
        "        if i != \" \":\n",
        "            pesan.append(ord(i)-96)\n",
        "\n",
        "encode('Prepare to negotiate')\n",
        "\n",
        "pesan = np.array(pesan)\n",
        "pesan\n"
      ]
    },
    {
      "cell_type": "markdown",
      "metadata": {},
      "source": [
        "##### Melakukan pengecekan jumlah shape"
      ]
    },
    {
      "cell_type": "code",
      "execution_count": 3,
      "metadata": {},
      "outputs": [
        {
          "data": {
            "text/plain": [
              "(20,)"
            ]
          },
          "execution_count": 3,
          "metadata": {},
          "output_type": "execute_result"
        }
      ],
      "source": [
        "pesan.shape"
      ]
    },
    {
      "cell_type": "markdown",
      "metadata": {},
      "source": [
        "diketahui bahwa pesan berbentuk vektor dengan 20 data"
      ]
    },
    {
      "cell_type": "markdown",
      "metadata": {},
      "source": [
        "##### Matrix Encoder\n",
        "![Matrix Encoder](https://camo.githubusercontent.com/e0ce5822aff5c19565b19bbd2eef06c53c4858aafd2521f027ff30a532c545d4/68747470733a2f2f6c617465782e636f6465636f67732e636f6d2f6769662e6c617465783f453d5c626567696e7b626d61747269787d2673706163653b322673706163653b262673706163653b312673706163653b262673706163653b302673706163653b262673706163653b345c5c2673706163653b332673706163653b262673706163653b342673706163653b262673706163653b322673706163653b262673706163653b315c5c2673706163653b312673706163653b262673706163653b312673706163653b262673706163653b392673706163653b262673706163653b305c5c2673706163653b302673706163653b262673706163653b372673706163653b262673706163653b382673706163653b2673706163653b262673706163653b335c656e647b626d61747269787d)"
      ]
    },
    {
      "cell_type": "code",
      "execution_count": 4,
      "metadata": {},
      "outputs": [
        {
          "data": {
            "text/plain": [
              "array([[2, 1, 0, 4],\n",
              "       [3, 4, 2, 1],\n",
              "       [1, 1, 9, 0],\n",
              "       [0, 7, 8, 3]])"
            ]
          },
          "execution_count": 4,
          "metadata": {},
          "output_type": "execute_result"
        }
      ],
      "source": [
        "encoder = np.array([\n",
        "    [2,1,0,4],\n",
        "    [3,4,2,1],\n",
        "    [1,1,9,0],\n",
        "    [0,7,8,3]\n",
        "])\n",
        "\n",
        "encoder"
      ]
    },
    {
      "cell_type": "markdown",
      "metadata": {},
      "source": [
        "##### Reshape pesan agar memenuhi syarat untuk dikalikan dengan Matrix Encoder"
      ]
    },
    {
      "cell_type": "code",
      "execution_count": 5,
      "metadata": {},
      "outputs": [
        {
          "data": {
            "text/plain": [
              "(4, 4)"
            ]
          },
          "execution_count": 5,
          "metadata": {},
          "output_type": "execute_result"
        }
      ],
      "source": [
        "encoder.shape"
      ]
    },
    {
      "cell_type": "markdown",
      "metadata": {},
      "source": [
        "diketahui bahwa matriks encoder memiliki 4 baris dan 4 kolom, agar dapat memenuhi aturan perkalian matriks, maka matriks pesan harus dirubah menjadi 5 baris dan 4 kolom\n"
      ]
    },
    {
      "cell_type": "code",
      "execution_count": 6,
      "metadata": {},
      "outputs": [
        {
          "data": {
            "text/plain": [
              "array([[16, 18,  5, 16],\n",
              "       [ 1, 18,  5,  0],\n",
              "       [20, 15,  0, 14],\n",
              "       [ 5,  7, 15, 20],\n",
              "       [ 9,  1, 20,  5]])"
            ]
          },
          "execution_count": 6,
          "metadata": {},
          "output_type": "execute_result"
        }
      ],
      "source": [
        "pesan_reshape = pesan.reshape(5,4)\n",
        "pesan_reshape"
      ]
    },
    {
      "cell_type": "markdown",
      "metadata": {},
      "source": [
        "##### Perkalian Matrix dengan Encoder"
      ]
    },
    {
      "cell_type": "code",
      "execution_count": 7,
      "metadata": {},
      "outputs": [
        {
          "data": {
            "text/plain": [
              "array([[ 91, 205, 209, 130],\n",
              "       [ 61,  78,  81,  22],\n",
              "       [ 85, 178, 142, 137],\n",
              "       [ 46, 188, 309,  87],\n",
              "       [ 41,  68, 222,  52]])"
            ]
          },
          "execution_count": 7,
          "metadata": {},
          "output_type": "execute_result"
        }
      ],
      "source": [
        "matriks_transmisi = pesan_reshape @ encoder\n",
        "matriks_transmisi"
      ]
    },
    {
      "cell_type": "markdown",
      "metadata": {},
      "source": [
        "### Decode Pesan"
      ]
    },
    {
      "cell_type": "markdown",
      "metadata": {},
      "source": [
        "inverse dari matriks encoder"
      ]
    },
    {
      "cell_type": "code",
      "execution_count": 8,
      "metadata": {},
      "outputs": [
        {
          "data": {
            "text/plain": [
              "array([[ 0.06325707,  0.25975774,  0.09421265, -0.17092867],\n",
              "       [-0.11170929,  0.11574697, -0.12382234,  0.11036339],\n",
              "       [ 0.00538358, -0.04172275,  0.11440108,  0.00672948],\n",
              "       [ 0.24629879, -0.15881561, -0.01615074,  0.05787349]])"
            ]
          },
          "execution_count": 8,
          "metadata": {},
          "output_type": "execute_result"
        }
      ],
      "source": [
        "encoder_inv = np.linalg.inv(encoder)\n",
        "encoder_inv"
      ]
    },
    {
      "cell_type": "markdown",
      "metadata": {},
      "source": [
        "perkalian matrik transmisi dengan inverse matriks encoder"
      ]
    },
    {
      "cell_type": "code",
      "execution_count": 9,
      "metadata": {},
      "outputs": [
        {
          "data": {
            "text/plain": [
              "array([[16., 18.,  5., 16.],\n",
              "       [ 1., 18.,  5.,  0.],\n",
              "       [20., 15.,  0., 14.],\n",
              "       [ 5.,  7., 15., 20.],\n",
              "       [ 9.,  1., 20.,  5.]])"
            ]
          },
          "execution_count": 9,
          "metadata": {},
          "output_type": "execute_result"
        }
      ],
      "source": [
        "decode = np.around(matriks_transmisi @ encoder_inv)\n",
        "decode"
      ]
    },
    {
      "cell_type": "markdown",
      "metadata": {},
      "source": [
        "check apakah hasil decode sudah sesuai"
      ]
    },
    {
      "cell_type": "code",
      "execution_count": 10,
      "metadata": {},
      "outputs": [
        {
          "data": {
            "text/plain": [
              "True"
            ]
          },
          "execution_count": 10,
          "metadata": {},
          "output_type": "execute_result"
        }
      ],
      "source": [
        "np.allclose(pesan_reshape,decode)"
      ]
    },
    {
      "cell_type": "markdown",
      "metadata": {
        "id": "dLJzjPkiKgSu"
      },
      "source": [
        "### Hasil\n",
        "\n",
        "1. Pada langkah c, berapa ukuran matriks yang pesan yang memungkinkan untuk dapat dikalikan dengan matriks encoder? dan mengapa jawabannya demikian?\\\n",
        "\n",
        "    `berdasarkan aturan perkalian matriks diketahui terdapat sebuah syarat yaitu kolom matriks A = Baris Matriks B`\\\n",
        "    `diketahui bahwa matriks encoder terdiri dari 4 baris dan 4 kolom (4*4). maka,`\\\n",
        "    `jika perkalian matriks pesan @ matriks encoder, maka ukuran matriks pesan yang memungkinkan yaitu dengan ukuran 5 * 4 (5 baris dan 4 kolom)`\\\n",
        "    `jika perkalian matriks encoder @ matriks pesan, maka ukuran matriks pesan yang memungkinkan yaitu dengan ukuran 4 * 5 (4 baris dan 5 kolom)`\n"
      ]
    },
    {
      "cell_type": "markdown",
      "metadata": {},
      "source": [
        "\n",
        "2. Apakah susunan perkalian yang benar antara matriks pesan x matriks encoder atau matriks encoder x matriks pesan sama saja? jika sama, mengapa? dan jika berbeda mengapa demikian dan susunan mana yang benar?\n",
        "\n",
        "    `Tidak sama, dikarenakan dalam aturan perkalian matriks, terdapat persayaratan yaitu kolom matriks A harus sama dengan baris Matriks B, dalam cases dapat diketahui bahwa matriks pesan memiliki 5 baris dan 4 kolom sementara matriks encoder memiliki 4 baris dan 4 kolom. sehingga jika susnan perkalian ditukar maka syarat perkalian matriks tidak dapat terpenuhi`\n",
        "\n"
      ]
    },
    {
      "cell_type": "markdown",
      "metadata": {},
      "source": [
        "\n",
        "3. Pada langkah f, untuk melakukan decoding, digunakan perkalian antara matriks transmisi dengan inverse matriks encoder dimana harapannya hasil perkaliannya menghasilkan matriks yang sama/mirip dengan matriks pesan. Mengapa mengalikan matriks transmisi dengan inverse matriks encoder dan mengapa tidak dengan matriks encoder biasa saja tanpa di-inverse?\\\n",
        "`Diketahui bahwa Matriks Transmisi adalah hasil perkalian dari Matriks Pesan dan Matriks Encoder, maka untuk melakukan decoder Matriks transmisi perlu di kalikan dengan inverse matriks encoder atau pangkat-1 dari matriks encoder agar dapat kembali ke matriks bentuk semula. jika dikalikan kembali dengan matriks encoder biasa maka matriks transmisi akan mengalami 2 kali encode `"
      ]
    },
    {
      "cell_type": "markdown",
      "metadata": {
        "id": "FzKsEVTKKmYh"
      },
      "source": [
        "## Nomor 2\n",
        "\n",
        "Dalam training data dengan model machine learning, salah satu metrik yang dapat dijadikan referensi untuk mengevaluasi kecocokan antara model dan data adalah ROC (Receiver Operating Charateristics) curve. ROC curve dibangun dari hubungan antara False Positive Rate/FPR (sumbu X) dan True Positive Rate/TPR (sumbu Y), masing-masing bernilai dari 0-1. Selain ROC Curve, kadangkala orang mengevaluasi model menggunakan ROC AUC score yang tidak lain adalah luas area di bawah kurva ROC. Untuk menghitung ROC AUC score, gunakan konsep integral."
      ]
    },
    {
      "cell_type": "markdown",
      "metadata": {},
      "source": [
        "### Import Library"
      ]
    },
    {
      "cell_type": "code",
      "execution_count": 11,
      "metadata": {},
      "outputs": [],
      "source": [
        "import numpy as np\n",
        "import pandas as pd\n",
        "import matplotlib.pyplot as plt\n",
        "from scipy import integrate"
      ]
    },
    {
      "cell_type": "markdown",
      "metadata": {},
      "source": [
        "### Loading Data"
      ]
    },
    {
      "cell_type": "code",
      "execution_count": 12,
      "metadata": {},
      "outputs": [],
      "source": [
        "df = pd.read_csv('https://raw.githubusercontent.com/fahmimnalfrzki/Dataset/main/ROC%20Curve%20SVR%20-%20Random%20Forest.csv?token=AEZDEHVS66CKQBUSHKZ534TA44EVO')"
      ]
    },
    {
      "cell_type": "code",
      "execution_count": 13,
      "metadata": {},
      "outputs": [
        {
          "data": {
            "text/html": [
              "<div>\n",
              "<style scoped>\n",
              "    .dataframe tbody tr th:only-of-type {\n",
              "        vertical-align: middle;\n",
              "    }\n",
              "\n",
              "    .dataframe tbody tr th {\n",
              "        vertical-align: top;\n",
              "    }\n",
              "\n",
              "    .dataframe thead th {\n",
              "        text-align: right;\n",
              "    }\n",
              "</style>\n",
              "<table border=\"1\" class=\"dataframe\">\n",
              "  <thead>\n",
              "    <tr style=\"text-align: right;\">\n",
              "      <th></th>\n",
              "      <th>svr_fpr</th>\n",
              "      <th>svr_tpr</th>\n",
              "      <th>rfr_fpr</th>\n",
              "      <th>rfr_tpr</th>\n",
              "    </tr>\n",
              "    <tr>\n",
              "      <th>Unnamed: 0</th>\n",
              "      <th></th>\n",
              "      <th></th>\n",
              "      <th></th>\n",
              "      <th></th>\n",
              "    </tr>\n",
              "  </thead>\n",
              "  <tbody>\n",
              "    <tr>\n",
              "      <th>0</th>\n",
              "      <td>0.000000</td>\n",
              "      <td>0.000000</td>\n",
              "      <td>0.000000</td>\n",
              "      <td>0.000000</td>\n",
              "    </tr>\n",
              "    <tr>\n",
              "      <th>1</th>\n",
              "      <td>0.000000</td>\n",
              "      <td>0.015152</td>\n",
              "      <td>0.000000</td>\n",
              "      <td>0.030303</td>\n",
              "    </tr>\n",
              "    <tr>\n",
              "      <th>2</th>\n",
              "      <td>0.004831</td>\n",
              "      <td>0.030303</td>\n",
              "      <td>0.000000</td>\n",
              "      <td>0.060606</td>\n",
              "    </tr>\n",
              "    <tr>\n",
              "      <th>3</th>\n",
              "      <td>0.009662</td>\n",
              "      <td>0.030303</td>\n",
              "      <td>0.000000</td>\n",
              "      <td>0.106061</td>\n",
              "    </tr>\n",
              "    <tr>\n",
              "      <th>4</th>\n",
              "      <td>0.012077</td>\n",
              "      <td>0.045455</td>\n",
              "      <td>0.002415</td>\n",
              "      <td>0.121212</td>\n",
              "    </tr>\n",
              "  </tbody>\n",
              "</table>\n",
              "</div>"
            ],
            "text/plain": [
              "             svr_fpr   svr_tpr   rfr_fpr   rfr_tpr\n",
              "Unnamed: 0                                        \n",
              "0           0.000000  0.000000  0.000000  0.000000\n",
              "1           0.000000  0.015152  0.000000  0.030303\n",
              "2           0.004831  0.030303  0.000000  0.060606\n",
              "3           0.009662  0.030303  0.000000  0.106061\n",
              "4           0.012077  0.045455  0.002415  0.121212"
            ]
          },
          "execution_count": 13,
          "metadata": {},
          "output_type": "execute_result"
        }
      ],
      "source": [
        "df.set_index('Unnamed: 0',inplace=True)\n",
        "df.head()"
      ]
    },
    {
      "cell_type": "markdown",
      "metadata": {},
      "source": [
        "Keterangan kolom:\n",
        "\n",
        "    svr_fpr = False Positive Rate model SVR\n",
        "    svr_tpr = True Positive Rate model SVR\n",
        "    rfr_fpr = False Positive Rate model Random Forest\n",
        "    rfr_tpr = True Positive Rate model Random Forest\n"
      ]
    },
    {
      "cell_type": "markdown",
      "metadata": {},
      "source": [
        "##### Pada dataset yang tersedia, hitung nilai ROC AUC score untuk masing-masing model Random Forest Regressor dan Support Machine Regressor (SVR). Manakah yang terbaik?"
      ]
    },
    {
      "cell_type": "markdown",
      "metadata": {},
      "source": [
        "### Matehematical Calculation"
      ]
    },
    {
      "cell_type": "markdown",
      "metadata": {},
      "source": [
        "### Jawaban dari Pertanyaan sebelum menyelesaikan problem dengan code\n",
        "\n",
        "1. Jenis integral apakah untuk menghitung luas area di bawah kurva ROC? mengapa demikian?\\\n",
        "   `integral yang digukanan adalah integral numeric data-array, hal tersebut dikarenakan kita sudah memiliki data x dan y berbentuk array`\n"
      ]
    },
    {
      "cell_type": "markdown",
      "metadata": {},
      "source": [
        "2. Untuk menyelesaikan persoalan menghitung ROC AUC score, metode apa yang kita pakai, simbolik atau numerik? apakah perlu pendefinisian fungsi matematis?\\\n",
        "`Metode yang dipakai adalah metode numerik data-array, tidak perlu pendefinisian fungsi matematis`"
      ]
    },
    {
      "cell_type": "markdown",
      "metadata": {},
      "source": [
        "##### Menghitung ROC AUC Score model SVR"
      ]
    },
    {
      "cell_type": "markdown",
      "metadata": {},
      "source": [
        "##### define variable x dan y"
      ]
    },
    {
      "cell_type": "code",
      "execution_count": 14,
      "metadata": {},
      "outputs": [],
      "source": [
        "svr_x = df['svr_fpr']\n",
        "svr_y = df['svr_tpr']"
      ]
    },
    {
      "cell_type": "markdown",
      "metadata": {},
      "source": [
        "##### plot data x dan y"
      ]
    },
    {
      "cell_type": "code",
      "execution_count": 15,
      "metadata": {},
      "outputs": [
        {
          "data": {
            "text/plain": [
              "<function matplotlib.pyplot.imshow(X, cmap=None, norm=None, aspect=None, interpolation=None, alpha=None, vmin=None, vmax=None, origin=None, extent=None, *, filternorm=True, filterrad=4.0, resample=None, url=None, data=None, **kwargs)>"
            ]
          },
          "execution_count": 15,
          "metadata": {},
          "output_type": "execute_result"
        },
        {
          "data": {
            "image/png": "[encoded data removed]",
            "text/plain": [
              "<Figure size 432x288 with 1 Axes>"
            ]
          },
          "metadata": {
            "needs_background": "light"
          },
          "output_type": "display_data"
        }
      ],
      "source": [
        "plt.plot(svr_x,svr_y)\n",
        "plt.xlabel('False Positive Rate model SVR', fontsize=10)\n",
        "plt.ylabel('True Positive Rate model SVR', fontsize=10)\n",
        "plt.imshow"
      ]
    },
    {
      "cell_type": "markdown",
      "metadata": {},
      "source": [
        "##### menghitung dengan integral trapezoid"
      ]
    },
    {
      "cell_type": "code",
      "execution_count": 16,
      "metadata": {},
      "outputs": [
        {
          "name": "stdout",
          "output_type": "stream",
          "text": [
            "0.8817889035280342\n"
          ]
        }
      ],
      "source": [
        "score_svr = integrate.trapz(svr_y,svr_x)\n",
        "print(score_svr)"
      ]
    },
    {
      "cell_type": "markdown",
      "metadata": {},
      "source": [
        "##### Menghitung ROC AUC Score model RFR"
      ]
    },
    {
      "cell_type": "markdown",
      "metadata": {},
      "source": [
        "##### define variable x dan y"
      ]
    },
    {
      "cell_type": "code",
      "execution_count": 17,
      "metadata": {},
      "outputs": [],
      "source": [
        "rfr_x = df['rfr_fpr']\n",
        "rfr_y = df['rfr_tpr']"
      ]
    },
    {
      "cell_type": "markdown",
      "metadata": {},
      "source": [
        "##### plot data x dan y"
      ]
    },
    {
      "cell_type": "code",
      "execution_count": 18,
      "metadata": {},
      "outputs": [
        {
          "data": {
            "text/plain": [
              "<function matplotlib.pyplot.imshow(X, cmap=None, norm=None, aspect=None, interpolation=None, alpha=None, vmin=None, vmax=None, origin=None, extent=None, *, filternorm=True, filterrad=4.0, resample=None, url=None, data=None, **kwargs)>"
            ]
          },
          "execution_count": 18,
          "metadata": {},
          "output_type": "execute_result"
        },
        {
          "data": {
            "image/png": "[encoded data removed]",
            "text/plain": [
              "<Figure size 432x288 with 1 Axes>"
            ]
          },
          "metadata": {
            "needs_background": "light"
          },
          "output_type": "display_data"
        }
      ],
      "source": [
        "plt.plot(rfr_x,rfr_y)\n",
        "plt.xlabel('False Positive Rate model RFR', fontsize=10)\n",
        "plt.ylabel('True Positive Rate model RFR', fontsize=10)\n",
        "plt.imshow"
      ]
    },
    {
      "cell_type": "markdown",
      "metadata": {},
      "source": [
        "##### Menghitung dengan integral trapezoid"
      ]
    },
    {
      "cell_type": "code",
      "execution_count": 19,
      "metadata": {},
      "outputs": [
        {
          "name": "stdout",
          "output_type": "stream",
          "text": [
            "0.9160262040696824\n"
          ]
        }
      ],
      "source": [
        "score_rfr = integrate.trapz(rfr_y,rfr_x)\n",
        "print(score_rfr)"
      ]
    },
    {
      "cell_type": "markdown",
      "metadata": {
        "id": "eaAeb3MCLRqF"
      },
      "source": [
        "### Hasil\n",
        "\n",
        "3. Manakah model yang terbaik berdasarkan hasil perhitungan ROC AUC score? jelaskan mengapa!\\\n",
        "`Dapat diketahui bahwa model terbaik adalah model yang memiliki nilai paling besar dan mendekati 1, maka model yang terbaik adalah model RFR dengan nilai score yaitu 0.9160. `"
      ]
    }
  ],
  "metadata": {
    "colab": {
      "name": "Assignment Templates.ipynb",
      "provenance": []
    },
    "kernelspec": {
      "display_name": "Python 3",
      "name": "python3"
    },
    "language_info": {
      "codemirror_mode": {
        "name": "ipython",
        "version": 3
      },
      "file_extension": ".py",
      "mimetype": "text/x-python",
      "name": "python",
      "nbconvert_exporter": "python",
      "pygments_lexer": "ipython3",
      "version": "3.9.7"
    }
  },
  "nbformat": 4,
  "nbformat_minor": 0
}
