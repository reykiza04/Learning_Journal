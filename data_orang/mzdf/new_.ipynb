{
 "cells": [
  {
   "cell_type": "code",
   "execution_count": 236,
   "metadata": {
    "collapsed": true
   },
   "outputs": [],
   "source": [
    "import matplotlib.pyplot as plt\n",
    "import numpy as np\n",
    "from sklearn.pipeline import Pipeline\n",
    "from sklearn.compose import ColumnTransformer\n",
    "from sklearn.preprocessing import MinMaxScaler, OrdinalEncoder\n",
    "from sklearn.linear_model import LinearRegression, Ridge, Lasso, ElasticNet, SGDRegressor, BayesianRidge\n",
    "from sklearn.model_selection import train_test_split\n",
    "from sklearn.metrics import mean_squared_error, mean_absolute_error, mean_absolute_percentage_error, r2_score\n",
    "import pandas as pd\n",
    "import requests"
   ]
  },
  {
   "cell_type": "code",
   "execution_count": 237,
   "outputs": [],
   "source": [
    "df = pd.read_csv('rideshare_kaggle.csv')"
   ],
   "metadata": {
    "collapsed": false,
    "pycharm": {
     "name": "#%%\n"
    }
   }
  },
  {
   "cell_type": "code",
   "execution_count": 238,
   "outputs": [
    {
     "data": {
      "text/plain": "                                          id     timestamp  hour  day  month  \\\n18      fa5fb705-03a0-4eb9-82d9-7fe80872f754  1.543674e+09    14    1     12   \n31      eee70d94-6706-4b95-a8ce-0e34f0fa8f37  1.543795e+09    23    2     12   \n40      7f47ff53-7cf2-4a6a-8049-83c90e042593  1.543524e+09    20   29     11   \n60      43abdbe4-ab9e-4f39-afdc-31cfa375dc25  1.544732e+09    20   13     12   \n69      80db1c49-9d51-4575-a4f4-1ec23b4d3e31  1.543583e+09    13   30     11   \n...                                      ...           ...   ...  ...    ...   \n693025  70ad9983-92dd-4cdf-af16-732e7e9ee9d0  1.544887e+09    15   15     12   \n693047  84e05ef0-781a-4bd5-a593-bbbf659d4ba0  1.543456e+09     1   29     11   \n693049  885ef635-299e-45cf-8052-c45a39e9822a  1.543456e+09     1   29     11   \n693060  50a7b6be-ed2a-4a11-8d36-73bd977ad66a  1.543728e+09     5    2     12   \n693068  64d451d0-639f-47a4-9b7c-6fd92fbd264f  1.543708e+09    23    1     12   \n\n                   datetime          timezone            source  \\\n18      2018-12-01 14:13:04  America/New_York         North End   \n31      2018-12-02 23:52:56  America/New_York       Beacon Hill   \n40      2018-11-29 20:38:05  America/New_York     North Station   \n60      2018-12-13 20:10:16  America/New_York         North End   \n69      2018-11-30 13:08:03  America/New_York         North End   \n...                     ...               ...               ...   \n693025  2018-12-15 15:15:13  America/New_York     South Station   \n693047  2018-11-29 01:47:08  America/New_York  Haymarket Square   \n693049  2018-11-29 01:47:08  America/New_York         North End   \n693060  2018-12-02 05:28:04  America/New_York  Theatre District   \n693068  2018-12-01 23:53:05  America/New_York          West End   \n\n             destination cab_type  ... precipIntensityMax uvIndexTime  \\\n18              West End     Uber  ...             0.0000  1543683600   \n31         South Station     Uber  ...             0.0904  1543770000   \n40                Fenway     Uber  ...             0.0000  1543510800   \n60              West End     Uber  ...             0.0001  1544716800   \n69           Beacon Hill     Uber  ...             0.0003  1543593600   \n...                  ...      ...  ...                ...         ...   \n693025       Beacon Hill     Uber  ...             0.0081  1544893200   \n693047       Beacon Hill     Uber  ...             0.0000  1543420800   \n693049       Beacon Hill     Uber  ...             0.0000  1543420800   \n693060  Haymarket Square     Uber  ...             0.0916  1543770000   \n693068         North End     Uber  ...             0.0000  1543683600   \n\n        temperatureMin  temperatureMinTime  temperatureMax  \\\n18               31.71          1543658400           44.66   \n31               36.45          1543726800           50.73   \n40               35.15          1543550400           44.66   \n60               18.29          1544688000           33.83   \n69               28.79          1543579200           42.52   \n...                ...                 ...             ...   \n693025           39.68          1544929200           54.46   \n693047           33.85          1543399200           42.61   \n693049           33.85          1543399200           42.61   \n693060           36.32          1543726800           50.80   \n693068           31.42          1543658400           44.76   \n\n        temperatureMaxTime  apparentTemperatureMin  \\\n18              1543690800                   28.06   \n31              1543788000                   35.85   \n40              1543510800                   30.98   \n60              1544731200                   13.79   \n69              1543600800                   26.41   \n...                    ...                     ...   \n693025          1544896800                   36.43   \n693047          1543438800                   30.03   \n693049          1543438800                   30.03   \n693060          1543788000                   35.84   \n693068          1543690800                   27.77   \n\n        apparentTemperatureMinTime  apparentTemperatureMax  \\\n18                      1543658400                   43.99   \n31                      1543748400                   50.06   \n40                      1543550400                   38.30   \n60                      1544688000                   32.85   \n69                      1543575600                   40.53   \n...                            ...                     ...   \n693025                  1544929200                   53.79   \n693047                  1543399200                   36.57   \n693049                  1543399200                   36.57   \n693060                  1543748400                   50.13   \n693068                  1543658400                   44.09   \n\n       apparentTemperatureMaxTime  \n18                     1543690800  \n31                     1543788000  \n40                     1543510800  \n60                     1544734800  \n69                     1543611600  \n...                           ...  \n693025                 1544896800  \n693047                 1543438800  \n693049                 1543438800  \n693060                 1543788000  \n693068                 1543690800  \n\n[55095 rows x 57 columns]",
      "text/html": "<div>\n<style scoped>\n    .dataframe tbody tr th:only-of-type {\n        vertical-align: middle;\n    }\n\n    .dataframe tbody tr th {\n        vertical-align: top;\n    }\n\n    .dataframe thead th {\n        text-align: right;\n    }\n</style>\n<table border=\"1\" class=\"dataframe\">\n  <thead>\n    <tr style=\"text-align: right;\">\n      <th></th>\n      <th>id</th>\n      <th>timestamp</th>\n      <th>hour</th>\n      <th>day</th>\n      <th>month</th>\n      <th>datetime</th>\n      <th>timezone</th>\n      <th>source</th>\n      <th>destination</th>\n      <th>cab_type</th>\n      <th>...</th>\n      <th>precipIntensityMax</th>\n      <th>uvIndexTime</th>\n      <th>temperatureMin</th>\n      <th>temperatureMinTime</th>\n      <th>temperatureMax</th>\n      <th>temperatureMaxTime</th>\n      <th>apparentTemperatureMin</th>\n      <th>apparentTemperatureMinTime</th>\n      <th>apparentTemperatureMax</th>\n      <th>apparentTemperatureMaxTime</th>\n    </tr>\n  </thead>\n  <tbody>\n    <tr>\n      <th>18</th>\n      <td>fa5fb705-03a0-4eb9-82d9-7fe80872f754</td>\n      <td>1.543674e+09</td>\n      <td>14</td>\n      <td>1</td>\n      <td>12</td>\n      <td>2018-12-01 14:13:04</td>\n      <td>America/New_York</td>\n      <td>North End</td>\n      <td>West End</td>\n      <td>Uber</td>\n      <td>...</td>\n      <td>0.0000</td>\n      <td>1543683600</td>\n      <td>31.71</td>\n      <td>1543658400</td>\n      <td>44.66</td>\n      <td>1543690800</td>\n      <td>28.06</td>\n      <td>1543658400</td>\n      <td>43.99</td>\n      <td>1543690800</td>\n    </tr>\n    <tr>\n      <th>31</th>\n      <td>eee70d94-6706-4b95-a8ce-0e34f0fa8f37</td>\n      <td>1.543795e+09</td>\n      <td>23</td>\n      <td>2</td>\n      <td>12</td>\n      <td>2018-12-02 23:52:56</td>\n      <td>America/New_York</td>\n      <td>Beacon Hill</td>\n      <td>South Station</td>\n      <td>Uber</td>\n      <td>...</td>\n      <td>0.0904</td>\n      <td>1543770000</td>\n      <td>36.45</td>\n      <td>1543726800</td>\n      <td>50.73</td>\n      <td>1543788000</td>\n      <td>35.85</td>\n      <td>1543748400</td>\n      <td>50.06</td>\n      <td>1543788000</td>\n    </tr>\n    <tr>\n      <th>40</th>\n      <td>7f47ff53-7cf2-4a6a-8049-83c90e042593</td>\n      <td>1.543524e+09</td>\n      <td>20</td>\n      <td>29</td>\n      <td>11</td>\n      <td>2018-11-29 20:38:05</td>\n      <td>America/New_York</td>\n      <td>North Station</td>\n      <td>Fenway</td>\n      <td>Uber</td>\n      <td>...</td>\n      <td>0.0000</td>\n      <td>1543510800</td>\n      <td>35.15</td>\n      <td>1543550400</td>\n      <td>44.66</td>\n      <td>1543510800</td>\n      <td>30.98</td>\n      <td>1543550400</td>\n      <td>38.30</td>\n      <td>1543510800</td>\n    </tr>\n    <tr>\n      <th>60</th>\n      <td>43abdbe4-ab9e-4f39-afdc-31cfa375dc25</td>\n      <td>1.544732e+09</td>\n      <td>20</td>\n      <td>13</td>\n      <td>12</td>\n      <td>2018-12-13 20:10:16</td>\n      <td>America/New_York</td>\n      <td>North End</td>\n      <td>West End</td>\n      <td>Uber</td>\n      <td>...</td>\n      <td>0.0001</td>\n      <td>1544716800</td>\n      <td>18.29</td>\n      <td>1544688000</td>\n      <td>33.83</td>\n      <td>1544731200</td>\n      <td>13.79</td>\n      <td>1544688000</td>\n      <td>32.85</td>\n      <td>1544734800</td>\n    </tr>\n    <tr>\n      <th>69</th>\n      <td>80db1c49-9d51-4575-a4f4-1ec23b4d3e31</td>\n      <td>1.543583e+09</td>\n      <td>13</td>\n      <td>30</td>\n      <td>11</td>\n      <td>2018-11-30 13:08:03</td>\n      <td>America/New_York</td>\n      <td>North End</td>\n      <td>Beacon Hill</td>\n      <td>Uber</td>\n      <td>...</td>\n      <td>0.0003</td>\n      <td>1543593600</td>\n      <td>28.79</td>\n      <td>1543579200</td>\n      <td>42.52</td>\n      <td>1543600800</td>\n      <td>26.41</td>\n      <td>1543575600</td>\n      <td>40.53</td>\n      <td>1543611600</td>\n    </tr>\n    <tr>\n      <th>...</th>\n      <td>...</td>\n      <td>...</td>\n      <td>...</td>\n      <td>...</td>\n      <td>...</td>\n      <td>...</td>\n      <td>...</td>\n      <td>...</td>\n      <td>...</td>\n      <td>...</td>\n      <td>...</td>\n      <td>...</td>\n      <td>...</td>\n      <td>...</td>\n      <td>...</td>\n      <td>...</td>\n      <td>...</td>\n      <td>...</td>\n      <td>...</td>\n      <td>...</td>\n      <td>...</td>\n    </tr>\n    <tr>\n      <th>693025</th>\n      <td>70ad9983-92dd-4cdf-af16-732e7e9ee9d0</td>\n      <td>1.544887e+09</td>\n      <td>15</td>\n      <td>15</td>\n      <td>12</td>\n      <td>2018-12-15 15:15:13</td>\n      <td>America/New_York</td>\n      <td>South Station</td>\n      <td>Beacon Hill</td>\n      <td>Uber</td>\n      <td>...</td>\n      <td>0.0081</td>\n      <td>1544893200</td>\n      <td>39.68</td>\n      <td>1544929200</td>\n      <td>54.46</td>\n      <td>1544896800</td>\n      <td>36.43</td>\n      <td>1544929200</td>\n      <td>53.79</td>\n      <td>1544896800</td>\n    </tr>\n    <tr>\n      <th>693047</th>\n      <td>84e05ef0-781a-4bd5-a593-bbbf659d4ba0</td>\n      <td>1.543456e+09</td>\n      <td>1</td>\n      <td>29</td>\n      <td>11</td>\n      <td>2018-11-29 01:47:08</td>\n      <td>America/New_York</td>\n      <td>Haymarket Square</td>\n      <td>Beacon Hill</td>\n      <td>Uber</td>\n      <td>...</td>\n      <td>0.0000</td>\n      <td>1543420800</td>\n      <td>33.85</td>\n      <td>1543399200</td>\n      <td>42.61</td>\n      <td>1543438800</td>\n      <td>30.03</td>\n      <td>1543399200</td>\n      <td>36.57</td>\n      <td>1543438800</td>\n    </tr>\n    <tr>\n      <th>693049</th>\n      <td>885ef635-299e-45cf-8052-c45a39e9822a</td>\n      <td>1.543456e+09</td>\n      <td>1</td>\n      <td>29</td>\n      <td>11</td>\n      <td>2018-11-29 01:47:08</td>\n      <td>America/New_York</td>\n      <td>North End</td>\n      <td>Beacon Hill</td>\n      <td>Uber</td>\n      <td>...</td>\n      <td>0.0000</td>\n      <td>1543420800</td>\n      <td>33.85</td>\n      <td>1543399200</td>\n      <td>42.61</td>\n      <td>1543438800</td>\n      <td>30.03</td>\n      <td>1543399200</td>\n      <td>36.57</td>\n      <td>1543438800</td>\n    </tr>\n    <tr>\n      <th>693060</th>\n      <td>50a7b6be-ed2a-4a11-8d36-73bd977ad66a</td>\n      <td>1.543728e+09</td>\n      <td>5</td>\n      <td>2</td>\n      <td>12</td>\n      <td>2018-12-02 05:28:04</td>\n      <td>America/New_York</td>\n      <td>Theatre District</td>\n      <td>Haymarket Square</td>\n      <td>Uber</td>\n      <td>...</td>\n      <td>0.0916</td>\n      <td>1543770000</td>\n      <td>36.32</td>\n      <td>1543726800</td>\n      <td>50.80</td>\n      <td>1543788000</td>\n      <td>35.84</td>\n      <td>1543748400</td>\n      <td>50.13</td>\n      <td>1543788000</td>\n    </tr>\n    <tr>\n      <th>693068</th>\n      <td>64d451d0-639f-47a4-9b7c-6fd92fbd264f</td>\n      <td>1.543708e+09</td>\n      <td>23</td>\n      <td>1</td>\n      <td>12</td>\n      <td>2018-12-01 23:53:05</td>\n      <td>America/New_York</td>\n      <td>West End</td>\n      <td>North End</td>\n      <td>Uber</td>\n      <td>...</td>\n      <td>0.0000</td>\n      <td>1543683600</td>\n      <td>31.42</td>\n      <td>1543658400</td>\n      <td>44.76</td>\n      <td>1543690800</td>\n      <td>27.77</td>\n      <td>1543658400</td>\n      <td>44.09</td>\n      <td>1543690800</td>\n    </tr>\n  </tbody>\n</table>\n<p>55095 rows × 57 columns</p>\n</div>"
     },
     "execution_count": 238,
     "metadata": {},
     "output_type": "execute_result"
    }
   ],
   "source": [
    "missing_df = df[df.isnull().any(axis=1)]\n",
    "missing_df"
   ],
   "metadata": {
    "collapsed": false,
    "pycharm": {
     "name": "#%%\n"
    }
   }
  },
  {
   "cell_type": "code",
   "execution_count": 239,
   "outputs": [
    {
     "data": {
      "text/plain": "                                          id     timestamp  hour  day  month  \\\n0       424553bb-7174-41ea-aeb4-fe06d4f4b9d7  1.544953e+09     9   16     12   \n1       4bd23055-6827-41c6-b23b-3c491f24e74d  1.543284e+09     2   27     11   \n2       981a3613-77af-4620-a42a-0c0866077d1e  1.543367e+09     1   28     11   \n3       c2d88af2-d278-4bfd-a8d0-29ca77cc5512  1.543554e+09     4   30     11   \n4       e0126e1f-8ca9-4f2e-82b3-50505a09db9a  1.543463e+09     3   29     11   \n...                                      ...           ...   ...  ...    ...   \n693065  353e6566-b272-479e-a9c6-98bd6cb23f25  1.543708e+09    23    1     12   \n693066  616d3611-1820-450a-9845-a9ff304a4842  1.543708e+09    23    1     12   \n693067  633a3fc3-1f86-4b9e-9d48-2b7132112341  1.543708e+09    23    1     12   \n693069  727e5f07-a96b-4ad1-a2c7-9abc3ad55b4e  1.543708e+09    23    1     12   \n693070  e7fdc087-fe86-40a5-a3c3-3b2a8badcbda  1.543708e+09    23    1     12   \n\n                   datetime          timezone            source  \\\n0       2018-12-16 09:30:07  America/New_York  Haymarket Square   \n1       2018-11-27 02:00:23  America/New_York  Haymarket Square   \n2       2018-11-28 01:00:22  America/New_York  Haymarket Square   \n3       2018-11-30 04:53:02  America/New_York  Haymarket Square   \n4       2018-11-29 03:49:20  America/New_York  Haymarket Square   \n...                     ...               ...               ...   \n693065  2018-12-01 23:53:05  America/New_York          West End   \n693066  2018-12-01 23:53:05  America/New_York          West End   \n693067  2018-12-01 23:53:05  America/New_York          West End   \n693069  2018-12-01 23:53:05  America/New_York          West End   \n693070  2018-12-01 23:53:05  America/New_York          West End   \n\n          destination cab_type  ... precipIntensityMax uvIndexTime  \\\n0       North Station     Lyft  ...             0.1276  1544979600   \n1       North Station     Lyft  ...             0.1300  1543251600   \n2       North Station     Lyft  ...             0.1064  1543338000   \n3       North Station     Lyft  ...             0.0000  1543507200   \n4       North Station     Lyft  ...             0.0001  1543420800   \n...               ...      ...  ...                ...         ...   \n693065      North End     Uber  ...             0.0000  1543683600   \n693066      North End     Uber  ...             0.0000  1543683600   \n693067      North End     Uber  ...             0.0000  1543683600   \n693069      North End     Uber  ...             0.0000  1543683600   \n693070      North End     Uber  ...             0.0000  1543683600   \n\n        temperatureMin  temperatureMinTime  temperatureMax  \\\n0                39.89          1545012000           43.68   \n1                40.49          1543233600           47.30   \n2                35.36          1543377600           47.55   \n3                34.67          1543550400           45.03   \n4                33.10          1543402800           42.18   \n...                ...                 ...             ...   \n693065           31.42          1543658400           44.76   \n693066           31.42          1543658400           44.76   \n693067           31.42          1543658400           44.76   \n693069           31.42          1543658400           44.76   \n693070           31.42          1543658400           44.76   \n\n        temperatureMaxTime  apparentTemperatureMin  \\\n0               1544968800                   33.73   \n1               1543251600                   36.20   \n2               1543320000                   31.04   \n3               1543510800                   30.30   \n4               1543420800                   29.11   \n...                    ...                     ...   \n693065          1543690800                   27.77   \n693066          1543690800                   27.77   \n693067          1543690800                   27.77   \n693069          1543690800                   27.77   \n693070          1543690800                   27.77   \n\n        apparentTemperatureMinTime  apparentTemperatureMax  \\\n0                       1545012000                   38.07   \n1                       1543291200                   43.92   \n2                       1543377600                   44.12   \n3                       1543550400                   38.53   \n4                       1543392000                   35.75   \n...                            ...                     ...   \n693065                  1543658400                   44.09   \n693066                  1543658400                   44.09   \n693067                  1543658400                   44.09   \n693069                  1543658400                   44.09   \n693070                  1543658400                   44.09   \n\n       apparentTemperatureMaxTime  \n0                      1544958000  \n1                      1543251600  \n2                      1543320000  \n3                      1543510800  \n4                      1543420800  \n...                           ...  \n693065                 1543690800  \n693066                 1543690800  \n693067                 1543690800  \n693069                 1543690800  \n693070                 1543690800  \n\n[637976 rows x 57 columns]",
      "text/html": "<div>\n<style scoped>\n    .dataframe tbody tr th:only-of-type {\n        vertical-align: middle;\n    }\n\n    .dataframe tbody tr th {\n        vertical-align: top;\n    }\n\n    .dataframe thead th {\n        text-align: right;\n    }\n</style>\n<table border=\"1\" class=\"dataframe\">\n  <thead>\n    <tr style=\"text-align: right;\">\n      <th></th>\n      <th>id</th>\n      <th>timestamp</th>\n      <th>hour</th>\n      <th>day</th>\n      <th>month</th>\n      <th>datetime</th>\n      <th>timezone</th>\n      <th>source</th>\n      <th>destination</th>\n      <th>cab_type</th>\n      <th>...</th>\n      <th>precipIntensityMax</th>\n      <th>uvIndexTime</th>\n      <th>temperatureMin</th>\n      <th>temperatureMinTime</th>\n      <th>temperatureMax</th>\n      <th>temperatureMaxTime</th>\n      <th>apparentTemperatureMin</th>\n      <th>apparentTemperatureMinTime</th>\n      <th>apparentTemperatureMax</th>\n      <th>apparentTemperatureMaxTime</th>\n    </tr>\n  </thead>\n  <tbody>\n    <tr>\n      <th>0</th>\n      <td>424553bb-7174-41ea-aeb4-fe06d4f4b9d7</td>\n      <td>1.544953e+09</td>\n      <td>9</td>\n      <td>16</td>\n      <td>12</td>\n      <td>2018-12-16 09:30:07</td>\n      <td>America/New_York</td>\n      <td>Haymarket Square</td>\n      <td>North Station</td>\n      <td>Lyft</td>\n      <td>...</td>\n      <td>0.1276</td>\n      <td>1544979600</td>\n      <td>39.89</td>\n      <td>1545012000</td>\n      <td>43.68</td>\n      <td>1544968800</td>\n      <td>33.73</td>\n      <td>1545012000</td>\n      <td>38.07</td>\n      <td>1544958000</td>\n    </tr>\n    <tr>\n      <th>1</th>\n      <td>4bd23055-6827-41c6-b23b-3c491f24e74d</td>\n      <td>1.543284e+09</td>\n      <td>2</td>\n      <td>27</td>\n      <td>11</td>\n      <td>2018-11-27 02:00:23</td>\n      <td>America/New_York</td>\n      <td>Haymarket Square</td>\n      <td>North Station</td>\n      <td>Lyft</td>\n      <td>...</td>\n      <td>0.1300</td>\n      <td>1543251600</td>\n      <td>40.49</td>\n      <td>1543233600</td>\n      <td>47.30</td>\n      <td>1543251600</td>\n      <td>36.20</td>\n      <td>1543291200</td>\n      <td>43.92</td>\n      <td>1543251600</td>\n    </tr>\n    <tr>\n      <th>2</th>\n      <td>981a3613-77af-4620-a42a-0c0866077d1e</td>\n      <td>1.543367e+09</td>\n      <td>1</td>\n      <td>28</td>\n      <td>11</td>\n      <td>2018-11-28 01:00:22</td>\n      <td>America/New_York</td>\n      <td>Haymarket Square</td>\n      <td>North Station</td>\n      <td>Lyft</td>\n      <td>...</td>\n      <td>0.1064</td>\n      <td>1543338000</td>\n      <td>35.36</td>\n      <td>1543377600</td>\n      <td>47.55</td>\n      <td>1543320000</td>\n      <td>31.04</td>\n      <td>1543377600</td>\n      <td>44.12</td>\n      <td>1543320000</td>\n    </tr>\n    <tr>\n      <th>3</th>\n      <td>c2d88af2-d278-4bfd-a8d0-29ca77cc5512</td>\n      <td>1.543554e+09</td>\n      <td>4</td>\n      <td>30</td>\n      <td>11</td>\n      <td>2018-11-30 04:53:02</td>\n      <td>America/New_York</td>\n      <td>Haymarket Square</td>\n      <td>North Station</td>\n      <td>Lyft</td>\n      <td>...</td>\n      <td>0.0000</td>\n      <td>1543507200</td>\n      <td>34.67</td>\n      <td>1543550400</td>\n      <td>45.03</td>\n      <td>1543510800</td>\n      <td>30.30</td>\n      <td>1543550400</td>\n      <td>38.53</td>\n      <td>1543510800</td>\n    </tr>\n    <tr>\n      <th>4</th>\n      <td>e0126e1f-8ca9-4f2e-82b3-50505a09db9a</td>\n      <td>1.543463e+09</td>\n      <td>3</td>\n      <td>29</td>\n      <td>11</td>\n      <td>2018-11-29 03:49:20</td>\n      <td>America/New_York</td>\n      <td>Haymarket Square</td>\n      <td>North Station</td>\n      <td>Lyft</td>\n      <td>...</td>\n      <td>0.0001</td>\n      <td>1543420800</td>\n      <td>33.10</td>\n      <td>1543402800</td>\n      <td>42.18</td>\n      <td>1543420800</td>\n      <td>29.11</td>\n      <td>1543392000</td>\n      <td>35.75</td>\n      <td>1543420800</td>\n    </tr>\n    <tr>\n      <th>...</th>\n      <td>...</td>\n      <td>...</td>\n      <td>...</td>\n      <td>...</td>\n      <td>...</td>\n      <td>...</td>\n      <td>...</td>\n      <td>...</td>\n      <td>...</td>\n      <td>...</td>\n      <td>...</td>\n      <td>...</td>\n      <td>...</td>\n      <td>...</td>\n      <td>...</td>\n      <td>...</td>\n      <td>...</td>\n      <td>...</td>\n      <td>...</td>\n      <td>...</td>\n      <td>...</td>\n    </tr>\n    <tr>\n      <th>693065</th>\n      <td>353e6566-b272-479e-a9c6-98bd6cb23f25</td>\n      <td>1.543708e+09</td>\n      <td>23</td>\n      <td>1</td>\n      <td>12</td>\n      <td>2018-12-01 23:53:05</td>\n      <td>America/New_York</td>\n      <td>West End</td>\n      <td>North End</td>\n      <td>Uber</td>\n      <td>...</td>\n      <td>0.0000</td>\n      <td>1543683600</td>\n      <td>31.42</td>\n      <td>1543658400</td>\n      <td>44.76</td>\n      <td>1543690800</td>\n      <td>27.77</td>\n      <td>1543658400</td>\n      <td>44.09</td>\n      <td>1543690800</td>\n    </tr>\n    <tr>\n      <th>693066</th>\n      <td>616d3611-1820-450a-9845-a9ff304a4842</td>\n      <td>1.543708e+09</td>\n      <td>23</td>\n      <td>1</td>\n      <td>12</td>\n      <td>2018-12-01 23:53:05</td>\n      <td>America/New_York</td>\n      <td>West End</td>\n      <td>North End</td>\n      <td>Uber</td>\n      <td>...</td>\n      <td>0.0000</td>\n      <td>1543683600</td>\n      <td>31.42</td>\n      <td>1543658400</td>\n      <td>44.76</td>\n      <td>1543690800</td>\n      <td>27.77</td>\n      <td>1543658400</td>\n      <td>44.09</td>\n      <td>1543690800</td>\n    </tr>\n    <tr>\n      <th>693067</th>\n      <td>633a3fc3-1f86-4b9e-9d48-2b7132112341</td>\n      <td>1.543708e+09</td>\n      <td>23</td>\n      <td>1</td>\n      <td>12</td>\n      <td>2018-12-01 23:53:05</td>\n      <td>America/New_York</td>\n      <td>West End</td>\n      <td>North End</td>\n      <td>Uber</td>\n      <td>...</td>\n      <td>0.0000</td>\n      <td>1543683600</td>\n      <td>31.42</td>\n      <td>1543658400</td>\n      <td>44.76</td>\n      <td>1543690800</td>\n      <td>27.77</td>\n      <td>1543658400</td>\n      <td>44.09</td>\n      <td>1543690800</td>\n    </tr>\n    <tr>\n      <th>693069</th>\n      <td>727e5f07-a96b-4ad1-a2c7-9abc3ad55b4e</td>\n      <td>1.543708e+09</td>\n      <td>23</td>\n      <td>1</td>\n      <td>12</td>\n      <td>2018-12-01 23:53:05</td>\n      <td>America/New_York</td>\n      <td>West End</td>\n      <td>North End</td>\n      <td>Uber</td>\n      <td>...</td>\n      <td>0.0000</td>\n      <td>1543683600</td>\n      <td>31.42</td>\n      <td>1543658400</td>\n      <td>44.76</td>\n      <td>1543690800</td>\n      <td>27.77</td>\n      <td>1543658400</td>\n      <td>44.09</td>\n      <td>1543690800</td>\n    </tr>\n    <tr>\n      <th>693070</th>\n      <td>e7fdc087-fe86-40a5-a3c3-3b2a8badcbda</td>\n      <td>1.543708e+09</td>\n      <td>23</td>\n      <td>1</td>\n      <td>12</td>\n      <td>2018-12-01 23:53:05</td>\n      <td>America/New_York</td>\n      <td>West End</td>\n      <td>North End</td>\n      <td>Uber</td>\n      <td>...</td>\n      <td>0.0000</td>\n      <td>1543683600</td>\n      <td>31.42</td>\n      <td>1543658400</td>\n      <td>44.76</td>\n      <td>1543690800</td>\n      <td>27.77</td>\n      <td>1543658400</td>\n      <td>44.09</td>\n      <td>1543690800</td>\n    </tr>\n  </tbody>\n</table>\n<p>637976 rows × 57 columns</p>\n</div>"
     },
     "execution_count": 239,
     "metadata": {},
     "output_type": "execute_result"
    }
   ],
   "source": [
    "df = df.dropna()\n",
    "df"
   ],
   "metadata": {
    "collapsed": false,
    "pycharm": {
     "name": "#%%\n"
    }
   }
  },
  {
   "cell_type": "code",
   "execution_count": 240,
   "outputs": [],
   "source": [
    "categorical_features = []\n",
    "numerical_features = []"
   ],
   "metadata": {
    "collapsed": false,
    "pycharm": {
     "name": "#%%\n"
    }
   }
  },
  {
   "cell_type": "markdown",
   "source": [
    "# IV. Exploratory Data Analysis\n",
    "> ## Dataset Analysis\n",
    ">> ### Shape"
   ],
   "metadata": {
    "collapsed": false
   }
  },
  {
   "cell_type": "code",
   "execution_count": 241,
   "outputs": [
    {
     "data": {
      "text/plain": "(637976, 57)"
     },
     "execution_count": 241,
     "metadata": {},
     "output_type": "execute_result"
    }
   ],
   "source": [
    "df.shape"
   ],
   "metadata": {
    "collapsed": false,
    "pycharm": {
     "name": "#%%\n"
    }
   }
  },
  {
   "cell_type": "markdown",
   "source": [
    ">> ### Data Types"
   ],
   "metadata": {
    "collapsed": false
   }
  },
  {
   "cell_type": "code",
   "execution_count": 242,
   "outputs": [
    {
     "data": {
      "text/plain": "id                              object\ntimestamp                      float64\nhour                             int64\nday                              int64\nmonth                            int64\ndatetime                        object\ntimezone                        object\nsource                          object\ndestination                     object\ncab_type                        object\nproduct_id                      object\nname                            object\nprice                          float64\ndistance                       float64\nsurge_multiplier               float64\nlatitude                       float64\nlongitude                      float64\ntemperature                    float64\napparentTemperature            float64\nshort_summary                   object\nlong_summary                    object\nprecipIntensity                float64\nprecipProbability              float64\nhumidity                       float64\nwindSpeed                      float64\nwindGust                       float64\nwindGustTime                     int64\nvisibility                     float64\ntemperatureHigh                float64\ntemperatureHighTime              int64\ntemperatureLow                 float64\ntemperatureLowTime               int64\napparentTemperatureHigh        float64\napparentTemperatureHighTime      int64\napparentTemperatureLow         float64\napparentTemperatureLowTime       int64\nicon                            object\ndewPoint                       float64\npressure                       float64\nwindBearing                      int64\ncloudCover                     float64\nuvIndex                          int64\nvisibility.1                   float64\nozone                          float64\nsunriseTime                      int64\nsunsetTime                       int64\nmoonPhase                      float64\nprecipIntensityMax             float64\nuvIndexTime                      int64\ntemperatureMin                 float64\ntemperatureMinTime               int64\ntemperatureMax                 float64\ntemperatureMaxTime               int64\napparentTemperatureMin         float64\napparentTemperatureMinTime       int64\napparentTemperatureMax         float64\napparentTemperatureMaxTime       int64\ndtype: object"
     },
     "execution_count": 242,
     "metadata": {},
     "output_type": "execute_result"
    }
   ],
   "source": [
    "df.dtypes"
   ],
   "metadata": {
    "collapsed": false,
    "pycharm": {
     "name": "#%%\n"
    }
   }
  },
  {
   "cell_type": "markdown",
   "source": [
    ">> ### Sample Inspection"
   ],
   "metadata": {
    "collapsed": false
   }
  },
  {
   "cell_type": "code",
   "execution_count": 243,
   "outputs": [
    {
     "data": {
      "text/plain": "                                     id     timestamp  hour  day  month  \\\n0  424553bb-7174-41ea-aeb4-fe06d4f4b9d7  1.544953e+09     9   16     12   \n1  4bd23055-6827-41c6-b23b-3c491f24e74d  1.543284e+09     2   27     11   \n2  981a3613-77af-4620-a42a-0c0866077d1e  1.543367e+09     1   28     11   \n3  c2d88af2-d278-4bfd-a8d0-29ca77cc5512  1.543554e+09     4   30     11   \n4  e0126e1f-8ca9-4f2e-82b3-50505a09db9a  1.543463e+09     3   29     11   \n5  f6f6d7e4-3e18-4922-a5f5-181cdd3fa6f2  1.545071e+09    18   17     12   \n6  462816a3-820d-408b-8549-0b39e82f65ac  1.543209e+09     5   26     11   \n7  474d6376-bc59-4ec9-bf57-4e6d6faeb165  1.543780e+09    19    2     12   \n\n              datetime          timezone            source  \\\n0  2018-12-16 09:30:07  America/New_York  Haymarket Square   \n1  2018-11-27 02:00:23  America/New_York  Haymarket Square   \n2  2018-11-28 01:00:22  America/New_York  Haymarket Square   \n3  2018-11-30 04:53:02  America/New_York  Haymarket Square   \n4  2018-11-29 03:49:20  America/New_York  Haymarket Square   \n5  2018-12-17 18:25:12  America/New_York  Haymarket Square   \n6  2018-11-26 05:03:00  America/New_York          Back Bay   \n7  2018-12-02 19:53:04  America/New_York          Back Bay   \n\n               destination cab_type  ... precipIntensityMax uvIndexTime  \\\n0            North Station     Lyft  ...             0.1276  1544979600   \n1            North Station     Lyft  ...             0.1300  1543251600   \n2            North Station     Lyft  ...             0.1064  1543338000   \n3            North Station     Lyft  ...             0.0000  1543507200   \n4            North Station     Lyft  ...             0.0001  1543420800   \n5            North Station     Lyft  ...             0.0221  1545066000   \n6  Northeastern University     Lyft  ...             0.1245  1543251600   \n7  Northeastern University     Lyft  ...             0.0916  1543770000   \n\n   temperatureMin  temperatureMinTime  temperatureMax  temperatureMaxTime  \\\n0           39.89          1545012000           43.68          1544968800   \n1           40.49          1543233600           47.30          1543251600   \n2           35.36          1543377600           47.55          1543320000   \n3           34.67          1543550400           45.03          1543510800   \n4           33.10          1543402800           42.18          1543420800   \n5           34.19          1545048000           40.66          1545022800   \n6           40.67          1543233600           46.46          1543255200   \n7           36.32          1543726800           50.80          1543788000   \n\n   apparentTemperatureMin  apparentTemperatureMinTime  apparentTemperatureMax  \\\n0                   33.73                  1545012000                   38.07   \n1                   36.20                  1543291200                   43.92   \n2                   31.04                  1543377600                   44.12   \n3                   30.30                  1543550400                   38.53   \n4                   29.11                  1543392000                   35.75   \n5                   27.39                  1545044400                   34.97   \n6                   37.45                  1543291200                   43.81   \n7                   35.84                  1543748400                   50.13   \n\n  apparentTemperatureMaxTime  \n0                 1544958000  \n1                 1543251600  \n2                 1543320000  \n3                 1543510800  \n4                 1543420800  \n5                 1545080400  \n6                 1543251600  \n7                 1543788000  \n\n[8 rows x 57 columns]",
      "text/html": "<div>\n<style scoped>\n    .dataframe tbody tr th:only-of-type {\n        vertical-align: middle;\n    }\n\n    .dataframe tbody tr th {\n        vertical-align: top;\n    }\n\n    .dataframe thead th {\n        text-align: right;\n    }\n</style>\n<table border=\"1\" class=\"dataframe\">\n  <thead>\n    <tr style=\"text-align: right;\">\n      <th></th>\n      <th>id</th>\n      <th>timestamp</th>\n      <th>hour</th>\n      <th>day</th>\n      <th>month</th>\n      <th>datetime</th>\n      <th>timezone</th>\n      <th>source</th>\n      <th>destination</th>\n      <th>cab_type</th>\n      <th>...</th>\n      <th>precipIntensityMax</th>\n      <th>uvIndexTime</th>\n      <th>temperatureMin</th>\n      <th>temperatureMinTime</th>\n      <th>temperatureMax</th>\n      <th>temperatureMaxTime</th>\n      <th>apparentTemperatureMin</th>\n      <th>apparentTemperatureMinTime</th>\n      <th>apparentTemperatureMax</th>\n      <th>apparentTemperatureMaxTime</th>\n    </tr>\n  </thead>\n  <tbody>\n    <tr>\n      <th>0</th>\n      <td>424553bb-7174-41ea-aeb4-fe06d4f4b9d7</td>\n      <td>1.544953e+09</td>\n      <td>9</td>\n      <td>16</td>\n      <td>12</td>\n      <td>2018-12-16 09:30:07</td>\n      <td>America/New_York</td>\n      <td>Haymarket Square</td>\n      <td>North Station</td>\n      <td>Lyft</td>\n      <td>...</td>\n      <td>0.1276</td>\n      <td>1544979600</td>\n      <td>39.89</td>\n      <td>1545012000</td>\n      <td>43.68</td>\n      <td>1544968800</td>\n      <td>33.73</td>\n      <td>1545012000</td>\n      <td>38.07</td>\n      <td>1544958000</td>\n    </tr>\n    <tr>\n      <th>1</th>\n      <td>4bd23055-6827-41c6-b23b-3c491f24e74d</td>\n      <td>1.543284e+09</td>\n      <td>2</td>\n      <td>27</td>\n      <td>11</td>\n      <td>2018-11-27 02:00:23</td>\n      <td>America/New_York</td>\n      <td>Haymarket Square</td>\n      <td>North Station</td>\n      <td>Lyft</td>\n      <td>...</td>\n      <td>0.1300</td>\n      <td>1543251600</td>\n      <td>40.49</td>\n      <td>1543233600</td>\n      <td>47.30</td>\n      <td>1543251600</td>\n      <td>36.20</td>\n      <td>1543291200</td>\n      <td>43.92</td>\n      <td>1543251600</td>\n    </tr>\n    <tr>\n      <th>2</th>\n      <td>981a3613-77af-4620-a42a-0c0866077d1e</td>\n      <td>1.543367e+09</td>\n      <td>1</td>\n      <td>28</td>\n      <td>11</td>\n      <td>2018-11-28 01:00:22</td>\n      <td>America/New_York</td>\n      <td>Haymarket Square</td>\n      <td>North Station</td>\n      <td>Lyft</td>\n      <td>...</td>\n      <td>0.1064</td>\n      <td>1543338000</td>\n      <td>35.36</td>\n      <td>1543377600</td>\n      <td>47.55</td>\n      <td>1543320000</td>\n      <td>31.04</td>\n      <td>1543377600</td>\n      <td>44.12</td>\n      <td>1543320000</td>\n    </tr>\n    <tr>\n      <th>3</th>\n      <td>c2d88af2-d278-4bfd-a8d0-29ca77cc5512</td>\n      <td>1.543554e+09</td>\n      <td>4</td>\n      <td>30</td>\n      <td>11</td>\n      <td>2018-11-30 04:53:02</td>\n      <td>America/New_York</td>\n      <td>Haymarket Square</td>\n      <td>North Station</td>\n      <td>Lyft</td>\n      <td>...</td>\n      <td>0.0000</td>\n      <td>1543507200</td>\n      <td>34.67</td>\n      <td>1543550400</td>\n      <td>45.03</td>\n      <td>1543510800</td>\n      <td>30.30</td>\n      <td>1543550400</td>\n      <td>38.53</td>\n      <td>1543510800</td>\n    </tr>\n    <tr>\n      <th>4</th>\n      <td>e0126e1f-8ca9-4f2e-82b3-50505a09db9a</td>\n      <td>1.543463e+09</td>\n      <td>3</td>\n      <td>29</td>\n      <td>11</td>\n      <td>2018-11-29 03:49:20</td>\n      <td>America/New_York</td>\n      <td>Haymarket Square</td>\n      <td>North Station</td>\n      <td>Lyft</td>\n      <td>...</td>\n      <td>0.0001</td>\n      <td>1543420800</td>\n      <td>33.10</td>\n      <td>1543402800</td>\n      <td>42.18</td>\n      <td>1543420800</td>\n      <td>29.11</td>\n      <td>1543392000</td>\n      <td>35.75</td>\n      <td>1543420800</td>\n    </tr>\n    <tr>\n      <th>5</th>\n      <td>f6f6d7e4-3e18-4922-a5f5-181cdd3fa6f2</td>\n      <td>1.545071e+09</td>\n      <td>18</td>\n      <td>17</td>\n      <td>12</td>\n      <td>2018-12-17 18:25:12</td>\n      <td>America/New_York</td>\n      <td>Haymarket Square</td>\n      <td>North Station</td>\n      <td>Lyft</td>\n      <td>...</td>\n      <td>0.0221</td>\n      <td>1545066000</td>\n      <td>34.19</td>\n      <td>1545048000</td>\n      <td>40.66</td>\n      <td>1545022800</td>\n      <td>27.39</td>\n      <td>1545044400</td>\n      <td>34.97</td>\n      <td>1545080400</td>\n    </tr>\n    <tr>\n      <th>6</th>\n      <td>462816a3-820d-408b-8549-0b39e82f65ac</td>\n      <td>1.543209e+09</td>\n      <td>5</td>\n      <td>26</td>\n      <td>11</td>\n      <td>2018-11-26 05:03:00</td>\n      <td>America/New_York</td>\n      <td>Back Bay</td>\n      <td>Northeastern University</td>\n      <td>Lyft</td>\n      <td>...</td>\n      <td>0.1245</td>\n      <td>1543251600</td>\n      <td>40.67</td>\n      <td>1543233600</td>\n      <td>46.46</td>\n      <td>1543255200</td>\n      <td>37.45</td>\n      <td>1543291200</td>\n      <td>43.81</td>\n      <td>1543251600</td>\n    </tr>\n    <tr>\n      <th>7</th>\n      <td>474d6376-bc59-4ec9-bf57-4e6d6faeb165</td>\n      <td>1.543780e+09</td>\n      <td>19</td>\n      <td>2</td>\n      <td>12</td>\n      <td>2018-12-02 19:53:04</td>\n      <td>America/New_York</td>\n      <td>Back Bay</td>\n      <td>Northeastern University</td>\n      <td>Lyft</td>\n      <td>...</td>\n      <td>0.0916</td>\n      <td>1543770000</td>\n      <td>36.32</td>\n      <td>1543726800</td>\n      <td>50.80</td>\n      <td>1543788000</td>\n      <td>35.84</td>\n      <td>1543748400</td>\n      <td>50.13</td>\n      <td>1543788000</td>\n    </tr>\n  </tbody>\n</table>\n<p>8 rows × 57 columns</p>\n</div>"
     },
     "execution_count": 243,
     "metadata": {},
     "output_type": "execute_result"
    }
   ],
   "source": [
    "df.head(8)"
   ],
   "metadata": {
    "collapsed": false,
    "pycharm": {
     "name": "#%%\n"
    }
   }
  },
  {
   "cell_type": "markdown",
   "source": [
    ">> ### Fixing Index"
   ],
   "metadata": {
    "collapsed": false
   }
  },
  {
   "cell_type": "code",
   "execution_count": 244,
   "outputs": [],
   "source": [
    "df.index = df.pop('id')"
   ],
   "metadata": {
    "collapsed": false,
    "pycharm": {
     "name": "#%%\n"
    }
   }
  },
  {
   "cell_type": "markdown",
   "source": [
    ">> ### Fixing Types"
   ],
   "metadata": {
    "collapsed": false
   }
  },
  {
   "cell_type": "code",
   "execution_count": 245,
   "outputs": [
    {
     "name": "stdout",
     "output_type": "stream",
     "text": [
      "timestamp\n",
      "datetime\n",
      "timezone\n",
      "windGustTime\n",
      "temperatureHighTime\n",
      "temperatureLowTime\n",
      "apparentTemperatureHighTime\n",
      "apparentTemperatureLowTime\n",
      "sunriseTime\n",
      "sunsetTime\n",
      "uvIndexTime\n",
      "temperatureMinTime\n",
      "temperatureMaxTime\n",
      "apparentTemperatureMinTime\n",
      "apparentTemperatureMaxTime\n"
     ]
    }
   ],
   "source": [
    "for col in df.columns:\n",
    "    if 'time' in col.lower():\n",
    "        try:\n",
    "            # df[col] = pd.to_datetime(df[col], unit='s').timestamp()\n",
    "            print(col)\n",
    "        except:\n",
    "            pass"
   ],
   "metadata": {
    "collapsed": false,
    "pycharm": {
     "name": "#%%\n"
    }
   }
  },
  {
   "cell_type": "code",
   "execution_count": 246,
   "outputs": [
    {
     "name": "stdout",
     "output_type": "stream",
     "text": [
      "<class 'pandas.core.frame.DataFrame'>\n",
      "Index: 637976 entries, 424553bb-7174-41ea-aeb4-fe06d4f4b9d7 to e7fdc087-fe86-40a5-a3c3-3b2a8badcbda\n",
      "Data columns (total 56 columns):\n",
      " #   Column                       Non-Null Count   Dtype  \n",
      "---  ------                       --------------   -----  \n",
      " 0   timestamp                    637976 non-null  float64\n",
      " 1   hour                         637976 non-null  int64  \n",
      " 2   day                          637976 non-null  int64  \n",
      " 3   month                        637976 non-null  int64  \n",
      " 4   datetime                     637976 non-null  object \n",
      " 5   timezone                     637976 non-null  object \n",
      " 6   source                       637976 non-null  object \n",
      " 7   destination                  637976 non-null  object \n",
      " 8   cab_type                     637976 non-null  object \n",
      " 9   product_id                   637976 non-null  object \n",
      " 10  name                         637976 non-null  object \n",
      " 11  price                        637976 non-null  float64\n",
      " 12  distance                     637976 non-null  float64\n",
      " 13  surge_multiplier             637976 non-null  float64\n",
      " 14  latitude                     637976 non-null  float64\n",
      " 15  longitude                    637976 non-null  float64\n",
      " 16  temperature                  637976 non-null  float64\n",
      " 17  apparentTemperature          637976 non-null  float64\n",
      " 18  short_summary                637976 non-null  object \n",
      " 19  long_summary                 637976 non-null  object \n",
      " 20  precipIntensity              637976 non-null  float64\n",
      " 21  precipProbability            637976 non-null  float64\n",
      " 22  humidity                     637976 non-null  float64\n",
      " 23  windSpeed                    637976 non-null  float64\n",
      " 24  windGust                     637976 non-null  float64\n",
      " 25  windGustTime                 637976 non-null  int64  \n",
      " 26  visibility                   637976 non-null  float64\n",
      " 27  temperatureHigh              637976 non-null  float64\n",
      " 28  temperatureHighTime          637976 non-null  int64  \n",
      " 29  temperatureLow               637976 non-null  float64\n",
      " 30  temperatureLowTime           637976 non-null  int64  \n",
      " 31  apparentTemperatureHigh      637976 non-null  float64\n",
      " 32  apparentTemperatureHighTime  637976 non-null  int64  \n",
      " 33  apparentTemperatureLow       637976 non-null  float64\n",
      " 34  apparentTemperatureLowTime   637976 non-null  int64  \n",
      " 35  icon                         637976 non-null  object \n",
      " 36  dewPoint                     637976 non-null  float64\n",
      " 37  pressure                     637976 non-null  float64\n",
      " 38  windBearing                  637976 non-null  int64  \n",
      " 39  cloudCover                   637976 non-null  float64\n",
      " 40  uvIndex                      637976 non-null  int64  \n",
      " 41  visibility.1                 637976 non-null  float64\n",
      " 42  ozone                        637976 non-null  float64\n",
      " 43  sunriseTime                  637976 non-null  int64  \n",
      " 44  sunsetTime                   637976 non-null  int64  \n",
      " 45  moonPhase                    637976 non-null  float64\n",
      " 46  precipIntensityMax           637976 non-null  float64\n",
      " 47  uvIndexTime                  637976 non-null  int64  \n",
      " 48  temperatureMin               637976 non-null  float64\n",
      " 49  temperatureMinTime           637976 non-null  int64  \n",
      " 50  temperatureMax               637976 non-null  float64\n",
      " 51  temperatureMaxTime           637976 non-null  int64  \n",
      " 52  apparentTemperatureMin       637976 non-null  float64\n",
      " 53  apparentTemperatureMinTime   637976 non-null  int64  \n",
      " 54  apparentTemperatureMax       637976 non-null  float64\n",
      " 55  apparentTemperatureMaxTime   637976 non-null  int64  \n",
      "dtypes: float64(29), int64(17), object(10)\n",
      "memory usage: 277.4+ MB\n"
     ]
    }
   ],
   "source": [
    "df.info()"
   ],
   "metadata": {
    "collapsed": false,
    "pycharm": {
     "name": "#%%\n"
    }
   }
  },
  {
   "cell_type": "markdown",
   "source": [],
   "metadata": {
    "collapsed": false
   }
  },
  {
   "cell_type": "code",
   "execution_count": 247,
   "outputs": [
    {
     "data": {
      "text/plain": "                                         timestamp  hour  day  month  \\\nid                                                                     \n424553bb-7174-41ea-aeb4-fe06d4f4b9d7  1.544953e+09     9   16     12   \n4bd23055-6827-41c6-b23b-3c491f24e74d  1.543284e+09     2   27     11   \n981a3613-77af-4620-a42a-0c0866077d1e  1.543367e+09     1   28     11   \nc2d88af2-d278-4bfd-a8d0-29ca77cc5512  1.543554e+09     4   30     11   \ne0126e1f-8ca9-4f2e-82b3-50505a09db9a  1.543463e+09     3   29     11   \n...                                            ...   ...  ...    ...   \n353e6566-b272-479e-a9c6-98bd6cb23f25  1.543708e+09    23    1     12   \n616d3611-1820-450a-9845-a9ff304a4842  1.543708e+09    23    1     12   \n633a3fc3-1f86-4b9e-9d48-2b7132112341  1.543708e+09    23    1     12   \n727e5f07-a96b-4ad1-a2c7-9abc3ad55b4e  1.543708e+09    23    1     12   \ne7fdc087-fe86-40a5-a3c3-3b2a8badcbda  1.543708e+09    23    1     12   \n\n                                                 datetime          timezone  \\\nid                                                                            \n424553bb-7174-41ea-aeb4-fe06d4f4b9d7  2018-12-16 09:30:07  America/New_York   \n4bd23055-6827-41c6-b23b-3c491f24e74d  2018-11-27 02:00:23  America/New_York   \n981a3613-77af-4620-a42a-0c0866077d1e  2018-11-28 01:00:22  America/New_York   \nc2d88af2-d278-4bfd-a8d0-29ca77cc5512  2018-11-30 04:53:02  America/New_York   \ne0126e1f-8ca9-4f2e-82b3-50505a09db9a  2018-11-29 03:49:20  America/New_York   \n...                                                   ...               ...   \n353e6566-b272-479e-a9c6-98bd6cb23f25  2018-12-01 23:53:05  America/New_York   \n616d3611-1820-450a-9845-a9ff304a4842  2018-12-01 23:53:05  America/New_York   \n633a3fc3-1f86-4b9e-9d48-2b7132112341  2018-12-01 23:53:05  America/New_York   \n727e5f07-a96b-4ad1-a2c7-9abc3ad55b4e  2018-12-01 23:53:05  America/New_York   \ne7fdc087-fe86-40a5-a3c3-3b2a8badcbda  2018-12-01 23:53:05  America/New_York   \n\n                                                source    destination  \\\nid                                                                      \n424553bb-7174-41ea-aeb4-fe06d4f4b9d7  Haymarket Square  North Station   \n4bd23055-6827-41c6-b23b-3c491f24e74d  Haymarket Square  North Station   \n981a3613-77af-4620-a42a-0c0866077d1e  Haymarket Square  North Station   \nc2d88af2-d278-4bfd-a8d0-29ca77cc5512  Haymarket Square  North Station   \ne0126e1f-8ca9-4f2e-82b3-50505a09db9a  Haymarket Square  North Station   \n...                                                ...            ...   \n353e6566-b272-479e-a9c6-98bd6cb23f25          West End      North End   \n616d3611-1820-450a-9845-a9ff304a4842          West End      North End   \n633a3fc3-1f86-4b9e-9d48-2b7132112341          West End      North End   \n727e5f07-a96b-4ad1-a2c7-9abc3ad55b4e          West End      North End   \ne7fdc087-fe86-40a5-a3c3-3b2a8badcbda          West End      North End   \n\n                                     cab_type  \\\nid                                              \n424553bb-7174-41ea-aeb4-fe06d4f4b9d7     Lyft   \n4bd23055-6827-41c6-b23b-3c491f24e74d     Lyft   \n981a3613-77af-4620-a42a-0c0866077d1e     Lyft   \nc2d88af2-d278-4bfd-a8d0-29ca77cc5512     Lyft   \ne0126e1f-8ca9-4f2e-82b3-50505a09db9a     Lyft   \n...                                       ...   \n353e6566-b272-479e-a9c6-98bd6cb23f25     Uber   \n616d3611-1820-450a-9845-a9ff304a4842     Uber   \n633a3fc3-1f86-4b9e-9d48-2b7132112341     Uber   \n727e5f07-a96b-4ad1-a2c7-9abc3ad55b4e     Uber   \ne7fdc087-fe86-40a5-a3c3-3b2a8badcbda     Uber   \n\n                                                                product_id  \\\nid                                                                           \n424553bb-7174-41ea-aeb4-fe06d4f4b9d7                             lyft_line   \n4bd23055-6827-41c6-b23b-3c491f24e74d                          lyft_premier   \n981a3613-77af-4620-a42a-0c0866077d1e                                  lyft   \nc2d88af2-d278-4bfd-a8d0-29ca77cc5512                           lyft_luxsuv   \ne0126e1f-8ca9-4f2e-82b3-50505a09db9a                             lyft_plus   \n...                                                                    ...   \n353e6566-b272-479e-a9c6-98bd6cb23f25  9a0e7b09-b92b-4c41-9779-2ad22b4d779d   \n616d3611-1820-450a-9845-a9ff304a4842  6f72dfc5-27f1-42e8-84db-ccc7a75f6969   \n633a3fc3-1f86-4b9e-9d48-2b7132112341  55c66225-fbe7-4fd5-9072-eab1ece5e23e   \n727e5f07-a96b-4ad1-a2c7-9abc3ad55b4e  6d318bcc-22a3-4af6-bddd-b409bfce1546   \ne7fdc087-fe86-40a5-a3c3-3b2a8badcbda  997acbb5-e102-41e1-b155-9df7de0a73f2   \n\n                                      ... precipIntensityMax  uvIndexTime  \\\nid                                    ...                                   \n424553bb-7174-41ea-aeb4-fe06d4f4b9d7  ...             0.1276   1544979600   \n4bd23055-6827-41c6-b23b-3c491f24e74d  ...             0.1300   1543251600   \n981a3613-77af-4620-a42a-0c0866077d1e  ...             0.1064   1543338000   \nc2d88af2-d278-4bfd-a8d0-29ca77cc5512  ...             0.0000   1543507200   \ne0126e1f-8ca9-4f2e-82b3-50505a09db9a  ...             0.0001   1543420800   \n...                                   ...                ...          ...   \n353e6566-b272-479e-a9c6-98bd6cb23f25  ...             0.0000   1543683600   \n616d3611-1820-450a-9845-a9ff304a4842  ...             0.0000   1543683600   \n633a3fc3-1f86-4b9e-9d48-2b7132112341  ...             0.0000   1543683600   \n727e5f07-a96b-4ad1-a2c7-9abc3ad55b4e  ...             0.0000   1543683600   \ne7fdc087-fe86-40a5-a3c3-3b2a8badcbda  ...             0.0000   1543683600   \n\n                                      temperatureMin  temperatureMinTime  \\\nid                                                                         \n424553bb-7174-41ea-aeb4-fe06d4f4b9d7           39.89          1545012000   \n4bd23055-6827-41c6-b23b-3c491f24e74d           40.49          1543233600   \n981a3613-77af-4620-a42a-0c0866077d1e           35.36          1543377600   \nc2d88af2-d278-4bfd-a8d0-29ca77cc5512           34.67          1543550400   \ne0126e1f-8ca9-4f2e-82b3-50505a09db9a           33.10          1543402800   \n...                                              ...                 ...   \n353e6566-b272-479e-a9c6-98bd6cb23f25           31.42          1543658400   \n616d3611-1820-450a-9845-a9ff304a4842           31.42          1543658400   \n633a3fc3-1f86-4b9e-9d48-2b7132112341           31.42          1543658400   \n727e5f07-a96b-4ad1-a2c7-9abc3ad55b4e           31.42          1543658400   \ne7fdc087-fe86-40a5-a3c3-3b2a8badcbda           31.42          1543658400   \n\n                                      temperatureMax  temperatureMaxTime  \\\nid                                                                         \n424553bb-7174-41ea-aeb4-fe06d4f4b9d7           43.68          1544968800   \n4bd23055-6827-41c6-b23b-3c491f24e74d           47.30          1543251600   \n981a3613-77af-4620-a42a-0c0866077d1e           47.55          1543320000   \nc2d88af2-d278-4bfd-a8d0-29ca77cc5512           45.03          1543510800   \ne0126e1f-8ca9-4f2e-82b3-50505a09db9a           42.18          1543420800   \n...                                              ...                 ...   \n353e6566-b272-479e-a9c6-98bd6cb23f25           44.76          1543690800   \n616d3611-1820-450a-9845-a9ff304a4842           44.76          1543690800   \n633a3fc3-1f86-4b9e-9d48-2b7132112341           44.76          1543690800   \n727e5f07-a96b-4ad1-a2c7-9abc3ad55b4e           44.76          1543690800   \ne7fdc087-fe86-40a5-a3c3-3b2a8badcbda           44.76          1543690800   \n\n                                      apparentTemperatureMin  \\\nid                                                             \n424553bb-7174-41ea-aeb4-fe06d4f4b9d7                   33.73   \n4bd23055-6827-41c6-b23b-3c491f24e74d                   36.20   \n981a3613-77af-4620-a42a-0c0866077d1e                   31.04   \nc2d88af2-d278-4bfd-a8d0-29ca77cc5512                   30.30   \ne0126e1f-8ca9-4f2e-82b3-50505a09db9a                   29.11   \n...                                                      ...   \n353e6566-b272-479e-a9c6-98bd6cb23f25                   27.77   \n616d3611-1820-450a-9845-a9ff304a4842                   27.77   \n633a3fc3-1f86-4b9e-9d48-2b7132112341                   27.77   \n727e5f07-a96b-4ad1-a2c7-9abc3ad55b4e                   27.77   \ne7fdc087-fe86-40a5-a3c3-3b2a8badcbda                   27.77   \n\n                                      apparentTemperatureMinTime  \\\nid                                                                 \n424553bb-7174-41ea-aeb4-fe06d4f4b9d7                  1545012000   \n4bd23055-6827-41c6-b23b-3c491f24e74d                  1543291200   \n981a3613-77af-4620-a42a-0c0866077d1e                  1543377600   \nc2d88af2-d278-4bfd-a8d0-29ca77cc5512                  1543550400   \ne0126e1f-8ca9-4f2e-82b3-50505a09db9a                  1543392000   \n...                                                          ...   \n353e6566-b272-479e-a9c6-98bd6cb23f25                  1543658400   \n616d3611-1820-450a-9845-a9ff304a4842                  1543658400   \n633a3fc3-1f86-4b9e-9d48-2b7132112341                  1543658400   \n727e5f07-a96b-4ad1-a2c7-9abc3ad55b4e                  1543658400   \ne7fdc087-fe86-40a5-a3c3-3b2a8badcbda                  1543658400   \n\n                                     apparentTemperatureMax  \\\nid                                                            \n424553bb-7174-41ea-aeb4-fe06d4f4b9d7                  38.07   \n4bd23055-6827-41c6-b23b-3c491f24e74d                  43.92   \n981a3613-77af-4620-a42a-0c0866077d1e                  44.12   \nc2d88af2-d278-4bfd-a8d0-29ca77cc5512                  38.53   \ne0126e1f-8ca9-4f2e-82b3-50505a09db9a                  35.75   \n...                                                     ...   \n353e6566-b272-479e-a9c6-98bd6cb23f25                  44.09   \n616d3611-1820-450a-9845-a9ff304a4842                  44.09   \n633a3fc3-1f86-4b9e-9d48-2b7132112341                  44.09   \n727e5f07-a96b-4ad1-a2c7-9abc3ad55b4e                  44.09   \ne7fdc087-fe86-40a5-a3c3-3b2a8badcbda                  44.09   \n\n                                     apparentTemperatureMaxTime  \nid                                                               \n424553bb-7174-41ea-aeb4-fe06d4f4b9d7                 1544958000  \n4bd23055-6827-41c6-b23b-3c491f24e74d                 1543251600  \n981a3613-77af-4620-a42a-0c0866077d1e                 1543320000  \nc2d88af2-d278-4bfd-a8d0-29ca77cc5512                 1543510800  \ne0126e1f-8ca9-4f2e-82b3-50505a09db9a                 1543420800  \n...                                                         ...  \n353e6566-b272-479e-a9c6-98bd6cb23f25                 1543690800  \n616d3611-1820-450a-9845-a9ff304a4842                 1543690800  \n633a3fc3-1f86-4b9e-9d48-2b7132112341                 1543690800  \n727e5f07-a96b-4ad1-a2c7-9abc3ad55b4e                 1543690800  \ne7fdc087-fe86-40a5-a3c3-3b2a8badcbda                 1543690800  \n\n[637976 rows x 56 columns]",
      "text/html": "<div>\n<style scoped>\n    .dataframe tbody tr th:only-of-type {\n        vertical-align: middle;\n    }\n\n    .dataframe tbody tr th {\n        vertical-align: top;\n    }\n\n    .dataframe thead th {\n        text-align: right;\n    }\n</style>\n<table border=\"1\" class=\"dataframe\">\n  <thead>\n    <tr style=\"text-align: right;\">\n      <th></th>\n      <th>timestamp</th>\n      <th>hour</th>\n      <th>day</th>\n      <th>month</th>\n      <th>datetime</th>\n      <th>timezone</th>\n      <th>source</th>\n      <th>destination</th>\n      <th>cab_type</th>\n      <th>product_id</th>\n      <th>...</th>\n      <th>precipIntensityMax</th>\n      <th>uvIndexTime</th>\n      <th>temperatureMin</th>\n      <th>temperatureMinTime</th>\n      <th>temperatureMax</th>\n      <th>temperatureMaxTime</th>\n      <th>apparentTemperatureMin</th>\n      <th>apparentTemperatureMinTime</th>\n      <th>apparentTemperatureMax</th>\n      <th>apparentTemperatureMaxTime</th>\n    </tr>\n    <tr>\n      <th>id</th>\n      <th></th>\n      <th></th>\n      <th></th>\n      <th></th>\n      <th></th>\n      <th></th>\n      <th></th>\n      <th></th>\n      <th></th>\n      <th></th>\n      <th></th>\n      <th></th>\n      <th></th>\n      <th></th>\n      <th></th>\n      <th></th>\n      <th></th>\n      <th></th>\n      <th></th>\n      <th></th>\n      <th></th>\n    </tr>\n  </thead>\n  <tbody>\n    <tr>\n      <th>424553bb-7174-41ea-aeb4-fe06d4f4b9d7</th>\n      <td>1.544953e+09</td>\n      <td>9</td>\n      <td>16</td>\n      <td>12</td>\n      <td>2018-12-16 09:30:07</td>\n      <td>America/New_York</td>\n      <td>Haymarket Square</td>\n      <td>North Station</td>\n      <td>Lyft</td>\n      <td>lyft_line</td>\n      <td>...</td>\n      <td>0.1276</td>\n      <td>1544979600</td>\n      <td>39.89</td>\n      <td>1545012000</td>\n      <td>43.68</td>\n      <td>1544968800</td>\n      <td>33.73</td>\n      <td>1545012000</td>\n      <td>38.07</td>\n      <td>1544958000</td>\n    </tr>\n    <tr>\n      <th>4bd23055-6827-41c6-b23b-3c491f24e74d</th>\n      <td>1.543284e+09</td>\n      <td>2</td>\n      <td>27</td>\n      <td>11</td>\n      <td>2018-11-27 02:00:23</td>\n      <td>America/New_York</td>\n      <td>Haymarket Square</td>\n      <td>North Station</td>\n      <td>Lyft</td>\n      <td>lyft_premier</td>\n      <td>...</td>\n      <td>0.1300</td>\n      <td>1543251600</td>\n      <td>40.49</td>\n      <td>1543233600</td>\n      <td>47.30</td>\n      <td>1543251600</td>\n      <td>36.20</td>\n      <td>1543291200</td>\n      <td>43.92</td>\n      <td>1543251600</td>\n    </tr>\n    <tr>\n      <th>981a3613-77af-4620-a42a-0c0866077d1e</th>\n      <td>1.543367e+09</td>\n      <td>1</td>\n      <td>28</td>\n      <td>11</td>\n      <td>2018-11-28 01:00:22</td>\n      <td>America/New_York</td>\n      <td>Haymarket Square</td>\n      <td>North Station</td>\n      <td>Lyft</td>\n      <td>lyft</td>\n      <td>...</td>\n      <td>0.1064</td>\n      <td>1543338000</td>\n      <td>35.36</td>\n      <td>1543377600</td>\n      <td>47.55</td>\n      <td>1543320000</td>\n      <td>31.04</td>\n      <td>1543377600</td>\n      <td>44.12</td>\n      <td>1543320000</td>\n    </tr>\n    <tr>\n      <th>c2d88af2-d278-4bfd-a8d0-29ca77cc5512</th>\n      <td>1.543554e+09</td>\n      <td>4</td>\n      <td>30</td>\n      <td>11</td>\n      <td>2018-11-30 04:53:02</td>\n      <td>America/New_York</td>\n      <td>Haymarket Square</td>\n      <td>North Station</td>\n      <td>Lyft</td>\n      <td>lyft_luxsuv</td>\n      <td>...</td>\n      <td>0.0000</td>\n      <td>1543507200</td>\n      <td>34.67</td>\n      <td>1543550400</td>\n      <td>45.03</td>\n      <td>1543510800</td>\n      <td>30.30</td>\n      <td>1543550400</td>\n      <td>38.53</td>\n      <td>1543510800</td>\n    </tr>\n    <tr>\n      <th>e0126e1f-8ca9-4f2e-82b3-50505a09db9a</th>\n      <td>1.543463e+09</td>\n      <td>3</td>\n      <td>29</td>\n      <td>11</td>\n      <td>2018-11-29 03:49:20</td>\n      <td>America/New_York</td>\n      <td>Haymarket Square</td>\n      <td>North Station</td>\n      <td>Lyft</td>\n      <td>lyft_plus</td>\n      <td>...</td>\n      <td>0.0001</td>\n      <td>1543420800</td>\n      <td>33.10</td>\n      <td>1543402800</td>\n      <td>42.18</td>\n      <td>1543420800</td>\n      <td>29.11</td>\n      <td>1543392000</td>\n      <td>35.75</td>\n      <td>1543420800</td>\n    </tr>\n    <tr>\n      <th>...</th>\n      <td>...</td>\n      <td>...</td>\n      <td>...</td>\n      <td>...</td>\n      <td>...</td>\n      <td>...</td>\n      <td>...</td>\n      <td>...</td>\n      <td>...</td>\n      <td>...</td>\n      <td>...</td>\n      <td>...</td>\n      <td>...</td>\n      <td>...</td>\n      <td>...</td>\n      <td>...</td>\n      <td>...</td>\n      <td>...</td>\n      <td>...</td>\n      <td>...</td>\n      <td>...</td>\n    </tr>\n    <tr>\n      <th>353e6566-b272-479e-a9c6-98bd6cb23f25</th>\n      <td>1.543708e+09</td>\n      <td>23</td>\n      <td>1</td>\n      <td>12</td>\n      <td>2018-12-01 23:53:05</td>\n      <td>America/New_York</td>\n      <td>West End</td>\n      <td>North End</td>\n      <td>Uber</td>\n      <td>9a0e7b09-b92b-4c41-9779-2ad22b4d779d</td>\n      <td>...</td>\n      <td>0.0000</td>\n      <td>1543683600</td>\n      <td>31.42</td>\n      <td>1543658400</td>\n      <td>44.76</td>\n      <td>1543690800</td>\n      <td>27.77</td>\n      <td>1543658400</td>\n      <td>44.09</td>\n      <td>1543690800</td>\n    </tr>\n    <tr>\n      <th>616d3611-1820-450a-9845-a9ff304a4842</th>\n      <td>1.543708e+09</td>\n      <td>23</td>\n      <td>1</td>\n      <td>12</td>\n      <td>2018-12-01 23:53:05</td>\n      <td>America/New_York</td>\n      <td>West End</td>\n      <td>North End</td>\n      <td>Uber</td>\n      <td>6f72dfc5-27f1-42e8-84db-ccc7a75f6969</td>\n      <td>...</td>\n      <td>0.0000</td>\n      <td>1543683600</td>\n      <td>31.42</td>\n      <td>1543658400</td>\n      <td>44.76</td>\n      <td>1543690800</td>\n      <td>27.77</td>\n      <td>1543658400</td>\n      <td>44.09</td>\n      <td>1543690800</td>\n    </tr>\n    <tr>\n      <th>633a3fc3-1f86-4b9e-9d48-2b7132112341</th>\n      <td>1.543708e+09</td>\n      <td>23</td>\n      <td>1</td>\n      <td>12</td>\n      <td>2018-12-01 23:53:05</td>\n      <td>America/New_York</td>\n      <td>West End</td>\n      <td>North End</td>\n      <td>Uber</td>\n      <td>55c66225-fbe7-4fd5-9072-eab1ece5e23e</td>\n      <td>...</td>\n      <td>0.0000</td>\n      <td>1543683600</td>\n      <td>31.42</td>\n      <td>1543658400</td>\n      <td>44.76</td>\n      <td>1543690800</td>\n      <td>27.77</td>\n      <td>1543658400</td>\n      <td>44.09</td>\n      <td>1543690800</td>\n    </tr>\n    <tr>\n      <th>727e5f07-a96b-4ad1-a2c7-9abc3ad55b4e</th>\n      <td>1.543708e+09</td>\n      <td>23</td>\n      <td>1</td>\n      <td>12</td>\n      <td>2018-12-01 23:53:05</td>\n      <td>America/New_York</td>\n      <td>West End</td>\n      <td>North End</td>\n      <td>Uber</td>\n      <td>6d318bcc-22a3-4af6-bddd-b409bfce1546</td>\n      <td>...</td>\n      <td>0.0000</td>\n      <td>1543683600</td>\n      <td>31.42</td>\n      <td>1543658400</td>\n      <td>44.76</td>\n      <td>1543690800</td>\n      <td>27.77</td>\n      <td>1543658400</td>\n      <td>44.09</td>\n      <td>1543690800</td>\n    </tr>\n    <tr>\n      <th>e7fdc087-fe86-40a5-a3c3-3b2a8badcbda</th>\n      <td>1.543708e+09</td>\n      <td>23</td>\n      <td>1</td>\n      <td>12</td>\n      <td>2018-12-01 23:53:05</td>\n      <td>America/New_York</td>\n      <td>West End</td>\n      <td>North End</td>\n      <td>Uber</td>\n      <td>997acbb5-e102-41e1-b155-9df7de0a73f2</td>\n      <td>...</td>\n      <td>0.0000</td>\n      <td>1543683600</td>\n      <td>31.42</td>\n      <td>1543658400</td>\n      <td>44.76</td>\n      <td>1543690800</td>\n      <td>27.77</td>\n      <td>1543658400</td>\n      <td>44.09</td>\n      <td>1543690800</td>\n    </tr>\n  </tbody>\n</table>\n<p>637976 rows × 56 columns</p>\n</div>"
     },
     "execution_count": 247,
     "metadata": {},
     "output_type": "execute_result"
    }
   ],
   "source": [
    "df"
   ],
   "metadata": {
    "collapsed": false,
    "pycharm": {
     "name": "#%%\n"
    }
   }
  },
  {
   "cell_type": "code",
   "execution_count": 248,
   "outputs": [],
   "source": [
    "def date_to_cyclic_signal(x):\n",
    "    return np.sin(2 * np.pi * x), np.cos(2 * np.pi * x)"
   ],
   "metadata": {
    "collapsed": false,
    "pycharm": {
     "name": "#%%\n"
    }
   }
  },
  {
   "cell_type": "code",
   "execution_count": 249,
   "outputs": [],
   "source": [
    "df.timestamp = pd.to_datetime(df.datetime, format='%Y-%m-%d %H:%M:%S').astype(np.int64) / 1e9"
   ],
   "metadata": {
    "collapsed": false,
    "pycharm": {
     "name": "#%%\n"
    }
   }
  },
  {
   "cell_type": "code",
   "execution_count": 250,
   "outputs": [
    {
     "data": {
      "text/plain": "<matplotlib.collections.PathCollection at 0x1d53c746d90>"
     },
     "execution_count": 250,
     "metadata": {},
     "output_type": "execute_result"
    },
    {
     "data": {
      "text/plain": "<Figure size 576x576 with 1 Axes>",
      "image/png": "[encoded data removed]"
     },
     "metadata": {
      "needs_background": "light"
     },
     "output_type": "display_data"
    }
   ],
   "source": [
    "day_seconds = 24 * 60 * 60\n",
    "week_seconds = 7 * day_seconds\n",
    "\n",
    "plt.figure(figsize=(8, 8))\n",
    "t = df.timestamp.sort_values().values / day_seconds\n",
    "a = df.timestamp.sort_values().values / week_seconds\n",
    "t, t_ = date_to_cyclic_signal(t)\n",
    "a, a_ = date_to_cyclic_signal(a)\n",
    "\n",
    "df['hour_sin'] = t\n",
    "df['hour_cos'] = t_\n",
    "df['week_sin'] = a\n",
    "df['week_cos'] = a_\n",
    "\n",
    "plt.scatter(t, t_)"
   ],
   "metadata": {
    "collapsed": false,
    "pycharm": {
     "name": "#%%\n"
    }
   }
  },
  {
   "cell_type": "code",
   "execution_count": 251,
   "outputs": [
    {
     "data": {
      "text/plain": "                                         timestamp  hour  day  month  \\\nid                                                                     \n424553bb-7174-41ea-aeb4-fe06d4f4b9d7  1.544953e+09     9   16     12   \n4bd23055-6827-41c6-b23b-3c491f24e74d  1.543284e+09     2   27     11   \n981a3613-77af-4620-a42a-0c0866077d1e  1.543367e+09     1   28     11   \nc2d88af2-d278-4bfd-a8d0-29ca77cc5512  1.543554e+09     4   30     11   \ne0126e1f-8ca9-4f2e-82b3-50505a09db9a  1.543463e+09     3   29     11   \n...                                            ...   ...  ...    ...   \n353e6566-b272-479e-a9c6-98bd6cb23f25  1.543708e+09    23    1     12   \n616d3611-1820-450a-9845-a9ff304a4842  1.543708e+09    23    1     12   \n633a3fc3-1f86-4b9e-9d48-2b7132112341  1.543708e+09    23    1     12   \n727e5f07-a96b-4ad1-a2c7-9abc3ad55b4e  1.543708e+09    23    1     12   \ne7fdc087-fe86-40a5-a3c3-3b2a8badcbda  1.543708e+09    23    1     12   \n\n                                                 datetime          timezone  \\\nid                                                                            \n424553bb-7174-41ea-aeb4-fe06d4f4b9d7  2018-12-16 09:30:07  America/New_York   \n4bd23055-6827-41c6-b23b-3c491f24e74d  2018-11-27 02:00:23  America/New_York   \n981a3613-77af-4620-a42a-0c0866077d1e  2018-11-28 01:00:22  America/New_York   \nc2d88af2-d278-4bfd-a8d0-29ca77cc5512  2018-11-30 04:53:02  America/New_York   \ne0126e1f-8ca9-4f2e-82b3-50505a09db9a  2018-11-29 03:49:20  America/New_York   \n...                                                   ...               ...   \n353e6566-b272-479e-a9c6-98bd6cb23f25  2018-12-01 23:53:05  America/New_York   \n616d3611-1820-450a-9845-a9ff304a4842  2018-12-01 23:53:05  America/New_York   \n633a3fc3-1f86-4b9e-9d48-2b7132112341  2018-12-01 23:53:05  America/New_York   \n727e5f07-a96b-4ad1-a2c7-9abc3ad55b4e  2018-12-01 23:53:05  America/New_York   \ne7fdc087-fe86-40a5-a3c3-3b2a8badcbda  2018-12-01 23:53:05  America/New_York   \n\n                                                source    destination  \\\nid                                                                      \n424553bb-7174-41ea-aeb4-fe06d4f4b9d7  Haymarket Square  North Station   \n4bd23055-6827-41c6-b23b-3c491f24e74d  Haymarket Square  North Station   \n981a3613-77af-4620-a42a-0c0866077d1e  Haymarket Square  North Station   \nc2d88af2-d278-4bfd-a8d0-29ca77cc5512  Haymarket Square  North Station   \ne0126e1f-8ca9-4f2e-82b3-50505a09db9a  Haymarket Square  North Station   \n...                                                ...            ...   \n353e6566-b272-479e-a9c6-98bd6cb23f25          West End      North End   \n616d3611-1820-450a-9845-a9ff304a4842          West End      North End   \n633a3fc3-1f86-4b9e-9d48-2b7132112341          West End      North End   \n727e5f07-a96b-4ad1-a2c7-9abc3ad55b4e          West End      North End   \ne7fdc087-fe86-40a5-a3c3-3b2a8badcbda          West End      North End   \n\n                                     cab_type  \\\nid                                              \n424553bb-7174-41ea-aeb4-fe06d4f4b9d7     Lyft   \n4bd23055-6827-41c6-b23b-3c491f24e74d     Lyft   \n981a3613-77af-4620-a42a-0c0866077d1e     Lyft   \nc2d88af2-d278-4bfd-a8d0-29ca77cc5512     Lyft   \ne0126e1f-8ca9-4f2e-82b3-50505a09db9a     Lyft   \n...                                       ...   \n353e6566-b272-479e-a9c6-98bd6cb23f25     Uber   \n616d3611-1820-450a-9845-a9ff304a4842     Uber   \n633a3fc3-1f86-4b9e-9d48-2b7132112341     Uber   \n727e5f07-a96b-4ad1-a2c7-9abc3ad55b4e     Uber   \ne7fdc087-fe86-40a5-a3c3-3b2a8badcbda     Uber   \n\n                                                                product_id  \\\nid                                                                           \n424553bb-7174-41ea-aeb4-fe06d4f4b9d7                             lyft_line   \n4bd23055-6827-41c6-b23b-3c491f24e74d                          lyft_premier   \n981a3613-77af-4620-a42a-0c0866077d1e                                  lyft   \nc2d88af2-d278-4bfd-a8d0-29ca77cc5512                           lyft_luxsuv   \ne0126e1f-8ca9-4f2e-82b3-50505a09db9a                             lyft_plus   \n...                                                                    ...   \n353e6566-b272-479e-a9c6-98bd6cb23f25  9a0e7b09-b92b-4c41-9779-2ad22b4d779d   \n616d3611-1820-450a-9845-a9ff304a4842  6f72dfc5-27f1-42e8-84db-ccc7a75f6969   \n633a3fc3-1f86-4b9e-9d48-2b7132112341  55c66225-fbe7-4fd5-9072-eab1ece5e23e   \n727e5f07-a96b-4ad1-a2c7-9abc3ad55b4e  6d318bcc-22a3-4af6-bddd-b409bfce1546   \ne7fdc087-fe86-40a5-a3c3-3b2a8badcbda  997acbb5-e102-41e1-b155-9df7de0a73f2   \n\n                                      ... temperatureMax  temperatureMaxTime  \\\nid                                    ...                                      \n424553bb-7174-41ea-aeb4-fe06d4f4b9d7  ...          43.68          1544968800   \n4bd23055-6827-41c6-b23b-3c491f24e74d  ...          47.30          1543251600   \n981a3613-77af-4620-a42a-0c0866077d1e  ...          47.55          1543320000   \nc2d88af2-d278-4bfd-a8d0-29ca77cc5512  ...          45.03          1543510800   \ne0126e1f-8ca9-4f2e-82b3-50505a09db9a  ...          42.18          1543420800   \n...                                   ...            ...                 ...   \n353e6566-b272-479e-a9c6-98bd6cb23f25  ...          44.76          1543690800   \n616d3611-1820-450a-9845-a9ff304a4842  ...          44.76          1543690800   \n633a3fc3-1f86-4b9e-9d48-2b7132112341  ...          44.76          1543690800   \n727e5f07-a96b-4ad1-a2c7-9abc3ad55b4e  ...          44.76          1543690800   \ne7fdc087-fe86-40a5-a3c3-3b2a8badcbda  ...          44.76          1543690800   \n\n                                      apparentTemperatureMin  \\\nid                                                             \n424553bb-7174-41ea-aeb4-fe06d4f4b9d7                   33.73   \n4bd23055-6827-41c6-b23b-3c491f24e74d                   36.20   \n981a3613-77af-4620-a42a-0c0866077d1e                   31.04   \nc2d88af2-d278-4bfd-a8d0-29ca77cc5512                   30.30   \ne0126e1f-8ca9-4f2e-82b3-50505a09db9a                   29.11   \n...                                                      ...   \n353e6566-b272-479e-a9c6-98bd6cb23f25                   27.77   \n616d3611-1820-450a-9845-a9ff304a4842                   27.77   \n633a3fc3-1f86-4b9e-9d48-2b7132112341                   27.77   \n727e5f07-a96b-4ad1-a2c7-9abc3ad55b4e                   27.77   \ne7fdc087-fe86-40a5-a3c3-3b2a8badcbda                   27.77   \n\n                                      apparentTemperatureMinTime  \\\nid                                                                 \n424553bb-7174-41ea-aeb4-fe06d4f4b9d7                  1545012000   \n4bd23055-6827-41c6-b23b-3c491f24e74d                  1543291200   \n981a3613-77af-4620-a42a-0c0866077d1e                  1543377600   \nc2d88af2-d278-4bfd-a8d0-29ca77cc5512                  1543550400   \ne0126e1f-8ca9-4f2e-82b3-50505a09db9a                  1543392000   \n...                                                          ...   \n353e6566-b272-479e-a9c6-98bd6cb23f25                  1543658400   \n616d3611-1820-450a-9845-a9ff304a4842                  1543658400   \n633a3fc3-1f86-4b9e-9d48-2b7132112341                  1543658400   \n727e5f07-a96b-4ad1-a2c7-9abc3ad55b4e                  1543658400   \ne7fdc087-fe86-40a5-a3c3-3b2a8badcbda                  1543658400   \n\n                                      apparentTemperatureMax  \\\nid                                                             \n424553bb-7174-41ea-aeb4-fe06d4f4b9d7                   38.07   \n4bd23055-6827-41c6-b23b-3c491f24e74d                   43.92   \n981a3613-77af-4620-a42a-0c0866077d1e                   44.12   \nc2d88af2-d278-4bfd-a8d0-29ca77cc5512                   38.53   \ne0126e1f-8ca9-4f2e-82b3-50505a09db9a                   35.75   \n...                                                      ...   \n353e6566-b272-479e-a9c6-98bd6cb23f25                   44.09   \n616d3611-1820-450a-9845-a9ff304a4842                   44.09   \n633a3fc3-1f86-4b9e-9d48-2b7132112341                   44.09   \n727e5f07-a96b-4ad1-a2c7-9abc3ad55b4e                   44.09   \ne7fdc087-fe86-40a5-a3c3-3b2a8badcbda                   44.09   \n\n                                      apparentTemperatureMaxTime  hour_sin  \\\nid                                                                           \n424553bb-7174-41ea-aeb4-fe06d4f4b9d7                  1544958000  0.821066   \n4bd23055-6827-41c6-b23b-3c491f24e74d                  1543251600  0.821066   \n981a3613-77af-4620-a42a-0c0866077d1e                  1543320000  0.821066   \nc2d88af2-d278-4bfd-a8d0-29ca77cc5512                  1543510800  0.821066   \ne0126e1f-8ca9-4f2e-82b3-50505a09db9a                  1543420800  0.821066   \n...                                                          ...       ...   \n353e6566-b272-479e-a9c6-98bd6cb23f25                  1543690800 -0.946696   \n616d3611-1820-450a-9845-a9ff304a4842                  1543690800 -0.946696   \n633a3fc3-1f86-4b9e-9d48-2b7132112341                  1543690800 -0.946696   \n727e5f07-a96b-4ad1-a2c7-9abc3ad55b4e                  1543690800 -0.946696   \ne7fdc087-fe86-40a5-a3c3-3b2a8badcbda                  1543690800 -0.946696   \n\n                                      hour_cos  week_sin  week_cos  \nid                                                                  \n424553bb-7174-41ea-aeb4-fe06d4f4b9d7  0.570833 -0.553374 -0.832933  \n4bd23055-6827-41c6-b23b-3c491f24e74d  0.570833 -0.553374 -0.832933  \n981a3613-77af-4620-a42a-0c0866077d1e  0.570833 -0.553374 -0.832933  \nc2d88af2-d278-4bfd-a8d0-29ca77cc5512  0.570833 -0.553374 -0.832933  \ne0126e1f-8ca9-4f2e-82b3-50505a09db9a  0.570833 -0.553374 -0.832933  \n...                                        ...       ...       ...  \n353e6566-b272-479e-a9c6-98bd6cb23f25  0.322128 -0.879658  0.475606  \n616d3611-1820-450a-9845-a9ff304a4842  0.322128 -0.879658  0.475606  \n633a3fc3-1f86-4b9e-9d48-2b7132112341  0.322128 -0.879658  0.475606  \n727e5f07-a96b-4ad1-a2c7-9abc3ad55b4e  0.322128 -0.879658  0.475606  \ne7fdc087-fe86-40a5-a3c3-3b2a8badcbda  0.322128 -0.879658  0.475606  \n\n[637976 rows x 60 columns]",
      "text/html": "<div>\n<style scoped>\n    .dataframe tbody tr th:only-of-type {\n        vertical-align: middle;\n    }\n\n    .dataframe tbody tr th {\n        vertical-align: top;\n    }\n\n    .dataframe thead th {\n        text-align: right;\n    }\n</style>\n<table border=\"1\" class=\"dataframe\">\n  <thead>\n    <tr style=\"text-align: right;\">\n      <th></th>\n      <th>timestamp</th>\n      <th>hour</th>\n      <th>day</th>\n      <th>month</th>\n      <th>datetime</th>\n      <th>timezone</th>\n      <th>source</th>\n      <th>destination</th>\n      <th>cab_type</th>\n      <th>product_id</th>\n      <th>...</th>\n      <th>temperatureMax</th>\n      <th>temperatureMaxTime</th>\n      <th>apparentTemperatureMin</th>\n      <th>apparentTemperatureMinTime</th>\n      <th>apparentTemperatureMax</th>\n      <th>apparentTemperatureMaxTime</th>\n      <th>hour_sin</th>\n      <th>hour_cos</th>\n      <th>week_sin</th>\n      <th>week_cos</th>\n    </tr>\n    <tr>\n      <th>id</th>\n      <th></th>\n      <th></th>\n      <th></th>\n      <th></th>\n      <th></th>\n      <th></th>\n      <th></th>\n      <th></th>\n      <th></th>\n      <th></th>\n      <th></th>\n      <th></th>\n      <th></th>\n      <th></th>\n      <th></th>\n      <th></th>\n      <th></th>\n      <th></th>\n      <th></th>\n      <th></th>\n      <th></th>\n    </tr>\n  </thead>\n  <tbody>\n    <tr>\n      <th>424553bb-7174-41ea-aeb4-fe06d4f4b9d7</th>\n      <td>1.544953e+09</td>\n      <td>9</td>\n      <td>16</td>\n      <td>12</td>\n      <td>2018-12-16 09:30:07</td>\n      <td>America/New_York</td>\n      <td>Haymarket Square</td>\n      <td>North Station</td>\n      <td>Lyft</td>\n      <td>lyft_line</td>\n      <td>...</td>\n      <td>43.68</td>\n      <td>1544968800</td>\n      <td>33.73</td>\n      <td>1545012000</td>\n      <td>38.07</td>\n      <td>1544958000</td>\n      <td>0.821066</td>\n      <td>0.570833</td>\n      <td>-0.553374</td>\n      <td>-0.832933</td>\n    </tr>\n    <tr>\n      <th>4bd23055-6827-41c6-b23b-3c491f24e74d</th>\n      <td>1.543284e+09</td>\n      <td>2</td>\n      <td>27</td>\n      <td>11</td>\n      <td>2018-11-27 02:00:23</td>\n      <td>America/New_York</td>\n      <td>Haymarket Square</td>\n      <td>North Station</td>\n      <td>Lyft</td>\n      <td>lyft_premier</td>\n      <td>...</td>\n      <td>47.30</td>\n      <td>1543251600</td>\n      <td>36.20</td>\n      <td>1543291200</td>\n      <td>43.92</td>\n      <td>1543251600</td>\n      <td>0.821066</td>\n      <td>0.570833</td>\n      <td>-0.553374</td>\n      <td>-0.832933</td>\n    </tr>\n    <tr>\n      <th>981a3613-77af-4620-a42a-0c0866077d1e</th>\n      <td>1.543367e+09</td>\n      <td>1</td>\n      <td>28</td>\n      <td>11</td>\n      <td>2018-11-28 01:00:22</td>\n      <td>America/New_York</td>\n      <td>Haymarket Square</td>\n      <td>North Station</td>\n      <td>Lyft</td>\n      <td>lyft</td>\n      <td>...</td>\n      <td>47.55</td>\n      <td>1543320000</td>\n      <td>31.04</td>\n      <td>1543377600</td>\n      <td>44.12</td>\n      <td>1543320000</td>\n      <td>0.821066</td>\n      <td>0.570833</td>\n      <td>-0.553374</td>\n      <td>-0.832933</td>\n    </tr>\n    <tr>\n      <th>c2d88af2-d278-4bfd-a8d0-29ca77cc5512</th>\n      <td>1.543554e+09</td>\n      <td>4</td>\n      <td>30</td>\n      <td>11</td>\n      <td>2018-11-30 04:53:02</td>\n      <td>America/New_York</td>\n      <td>Haymarket Square</td>\n      <td>North Station</td>\n      <td>Lyft</td>\n      <td>lyft_luxsuv</td>\n      <td>...</td>\n      <td>45.03</td>\n      <td>1543510800</td>\n      <td>30.30</td>\n      <td>1543550400</td>\n      <td>38.53</td>\n      <td>1543510800</td>\n      <td>0.821066</td>\n      <td>0.570833</td>\n      <td>-0.553374</td>\n      <td>-0.832933</td>\n    </tr>\n    <tr>\n      <th>e0126e1f-8ca9-4f2e-82b3-50505a09db9a</th>\n      <td>1.543463e+09</td>\n      <td>3</td>\n      <td>29</td>\n      <td>11</td>\n      <td>2018-11-29 03:49:20</td>\n      <td>America/New_York</td>\n      <td>Haymarket Square</td>\n      <td>North Station</td>\n      <td>Lyft</td>\n      <td>lyft_plus</td>\n      <td>...</td>\n      <td>42.18</td>\n      <td>1543420800</td>\n      <td>29.11</td>\n      <td>1543392000</td>\n      <td>35.75</td>\n      <td>1543420800</td>\n      <td>0.821066</td>\n      <td>0.570833</td>\n      <td>-0.553374</td>\n      <td>-0.832933</td>\n    </tr>\n    <tr>\n      <th>...</th>\n      <td>...</td>\n      <td>...</td>\n      <td>...</td>\n      <td>...</td>\n      <td>...</td>\n      <td>...</td>\n      <td>...</td>\n      <td>...</td>\n      <td>...</td>\n      <td>...</td>\n      <td>...</td>\n      <td>...</td>\n      <td>...</td>\n      <td>...</td>\n      <td>...</td>\n      <td>...</td>\n      <td>...</td>\n      <td>...</td>\n      <td>...</td>\n      <td>...</td>\n      <td>...</td>\n    </tr>\n    <tr>\n      <th>353e6566-b272-479e-a9c6-98bd6cb23f25</th>\n      <td>1.543708e+09</td>\n      <td>23</td>\n      <td>1</td>\n      <td>12</td>\n      <td>2018-12-01 23:53:05</td>\n      <td>America/New_York</td>\n      <td>West End</td>\n      <td>North End</td>\n      <td>Uber</td>\n      <td>9a0e7b09-b92b-4c41-9779-2ad22b4d779d</td>\n      <td>...</td>\n      <td>44.76</td>\n      <td>1543690800</td>\n      <td>27.77</td>\n      <td>1543658400</td>\n      <td>44.09</td>\n      <td>1543690800</td>\n      <td>-0.946696</td>\n      <td>0.322128</td>\n      <td>-0.879658</td>\n      <td>0.475606</td>\n    </tr>\n    <tr>\n      <th>616d3611-1820-450a-9845-a9ff304a4842</th>\n      <td>1.543708e+09</td>\n      <td>23</td>\n      <td>1</td>\n      <td>12</td>\n      <td>2018-12-01 23:53:05</td>\n      <td>America/New_York</td>\n      <td>West End</td>\n      <td>North End</td>\n      <td>Uber</td>\n      <td>6f72dfc5-27f1-42e8-84db-ccc7a75f6969</td>\n      <td>...</td>\n      <td>44.76</td>\n      <td>1543690800</td>\n      <td>27.77</td>\n      <td>1543658400</td>\n      <td>44.09</td>\n      <td>1543690800</td>\n      <td>-0.946696</td>\n      <td>0.322128</td>\n      <td>-0.879658</td>\n      <td>0.475606</td>\n    </tr>\n    <tr>\n      <th>633a3fc3-1f86-4b9e-9d48-2b7132112341</th>\n      <td>1.543708e+09</td>\n      <td>23</td>\n      <td>1</td>\n      <td>12</td>\n      <td>2018-12-01 23:53:05</td>\n      <td>America/New_York</td>\n      <td>West End</td>\n      <td>North End</td>\n      <td>Uber</td>\n      <td>55c66225-fbe7-4fd5-9072-eab1ece5e23e</td>\n      <td>...</td>\n      <td>44.76</td>\n      <td>1543690800</td>\n      <td>27.77</td>\n      <td>1543658400</td>\n      <td>44.09</td>\n      <td>1543690800</td>\n      <td>-0.946696</td>\n      <td>0.322128</td>\n      <td>-0.879658</td>\n      <td>0.475606</td>\n    </tr>\n    <tr>\n      <th>727e5f07-a96b-4ad1-a2c7-9abc3ad55b4e</th>\n      <td>1.543708e+09</td>\n      <td>23</td>\n      <td>1</td>\n      <td>12</td>\n      <td>2018-12-01 23:53:05</td>\n      <td>America/New_York</td>\n      <td>West End</td>\n      <td>North End</td>\n      <td>Uber</td>\n      <td>6d318bcc-22a3-4af6-bddd-b409bfce1546</td>\n      <td>...</td>\n      <td>44.76</td>\n      <td>1543690800</td>\n      <td>27.77</td>\n      <td>1543658400</td>\n      <td>44.09</td>\n      <td>1543690800</td>\n      <td>-0.946696</td>\n      <td>0.322128</td>\n      <td>-0.879658</td>\n      <td>0.475606</td>\n    </tr>\n    <tr>\n      <th>e7fdc087-fe86-40a5-a3c3-3b2a8badcbda</th>\n      <td>1.543708e+09</td>\n      <td>23</td>\n      <td>1</td>\n      <td>12</td>\n      <td>2018-12-01 23:53:05</td>\n      <td>America/New_York</td>\n      <td>West End</td>\n      <td>North End</td>\n      <td>Uber</td>\n      <td>997acbb5-e102-41e1-b155-9df7de0a73f2</td>\n      <td>...</td>\n      <td>44.76</td>\n      <td>1543690800</td>\n      <td>27.77</td>\n      <td>1543658400</td>\n      <td>44.09</td>\n      <td>1543690800</td>\n      <td>-0.946696</td>\n      <td>0.322128</td>\n      <td>-0.879658</td>\n      <td>0.475606</td>\n    </tr>\n  </tbody>\n</table>\n<p>637976 rows × 60 columns</p>\n</div>"
     },
     "execution_count": 251,
     "metadata": {},
     "output_type": "execute_result"
    }
   ],
   "source": [
    "df"
   ],
   "metadata": {
    "collapsed": false,
    "pycharm": {
     "name": "#%%\n"
    }
   }
  },
  {
   "cell_type": "markdown",
   "source": [
    ">> ### Column Meaning\n",
    ">>> #### ID\n",
    ">>> as we can see from the sample data, the ID column is most likely to be the primary key of the dataset. in my suspicion, the ID column is not useful in the model because it is just a unique identifier even though it is not a numerical value. because in some databases the primary id is randomly generated and saved as encoded string like mongodb\n",
    ">>>\n",
    ">>> **let's see if I can validate my assumption.**\n",
    ">>>\n",
    ">>>> I will check the ID column against online UUID [`(Universally Unique Identifier library)`](https://www.uuidtools.com/decode) Decoder if it can decode the ID then my first assumption is correct.\n",
    ">>>> and from the code result bellow we can see that the api is successfully decoding the ID column. and from that we can see that it is was UUID Version 4.\n",
    ">>>>\n",
    ">>>> **And What it Means?**\n",
    ">>>> UUID Version 4 is a random generated UUID.\n",
    ">>>>\n",
    ">>>> **How do I know if it is Randomly Generated?**\n",
    ">>>> Lets open the `International Standard (ISO)` Bible `(ISO/IEC 11578:1996)` and read the section on [`uuid - Universally Unique Identifier library`](http://ftp.riken.jp/Linux/cern/slc61/x86_64/SLC/repoview/uuid.html)"
   ],
   "metadata": {
    "collapsed": false
   }
  },
  {
   "cell_type": "code",
   "execution_count": 252,
   "outputs": [
    {
     "data": {
      "text/plain": "{'encode': {'STR': '424553bb-7174-41ea-aeb4-fe06d4f4b9d7',\n  'SIV': '88089014495819196761931943528637970903'},\n 'decode': {'variant': 'DCE 1.1, ISO/IEC 11578:1996',\n  'version': '4 (random data based)',\n  'contents': '42:45:53:BB:71:74:01:EA:2E:B4:FE:06:D4:F4:B9:D7\\n(no semantics: random data only)'}}"
     },
     "execution_count": 252,
     "metadata": {},
     "output_type": "execute_result"
    }
   ],
   "source": [
    "requests.get('https://www.uuidtools.com/api/decode/424553bb-7174-41ea-aeb4-fe06d4f4b9d7').json()"
   ],
   "metadata": {
    "collapsed": false,
    "pycharm": {
     "name": "#%%\n"
    }
   }
  },
  {
   "cell_type": "markdown",
   "source": [
    ">>>> **What was the result?**\n",
    ">>>> this is the version description\n",
    ">>>> - version1 (time and node based)\n",
    ">>>> - version 3 (name based, MD5)\n",
    ">>>> - version 4 (random number based)\n",
    ">>>> - version 5 (name based, SHA-1)\n",
    ">>>>\n",
    ">>>> from those result we can see that version 4 truly is random number based and\n",
    ">>>> **it is not useful at all for any kind of information processing. Except Document Identifier**\n",
    "> so I will use the ID column from the dataset as index."
   ],
   "metadata": {
    "collapsed": false
   }
  },
  {
   "cell_type": "markdown",
   "source": [
    ">>> #### TimeStamp, Hour, Month, DateTime\n",
    ">>> the timestamp column is the time when the data was collected. and the name of column is self-explanatory.\n",
    ">>>> **Do it Useful?**\n",
    ">>>> Yep it is useful. but the column has similarity with `hour`, `date`, `month` and `datetime` column, why? because it all of this column was generated using the timestamp column.\n",
    ">>>> **so I will keep some column and drop the similar one.**"
   ],
   "metadata": {
    "collapsed": false
   }
  },
  {
   "cell_type": "code",
   "execution_count": 255,
   "outputs": [
    {
     "data": {
      "text/plain": "hour\n0     7.581720\n1     7.573383\n2     7.552165\n3     7.557765\n4     7.609826\n5     7.587002\n6     7.545699\n7     7.582429\n8     7.549984\n9     7.544324\n10    7.483556\n11    7.593080\n12    7.553881\n13    7.596813\n14    7.537360\n15    7.491344\n16    7.595117\n17    7.548889\n18    7.519464\n19    7.522752\n20    7.555536\n21    7.527808\n22    7.585963\n23    7.586925\ndtype: float64"
     },
     "execution_count": 255,
     "metadata": {},
     "output_type": "execute_result"
    }
   ],
   "source": [
    "_data = train_df.groupby('hour').sum()\n",
    "_data = _data.price / _data.distance\n",
    "_data"
   ],
   "metadata": {
    "collapsed": false,
    "pycharm": {
     "name": "#%%\n"
    }
   }
  },
  {
   "cell_type": "code",
   "execution_count": 215,
   "outputs": [],
   "source": [
    "# categorical_features.append('hour')\n",
    "# categorical_features.append('day')\n",
    "# categorical_features.append('month')"
   ],
   "metadata": {
    "collapsed": false,
    "pycharm": {
     "name": "#%%\n"
    }
   }
  },
  {
   "cell_type": "markdown",
   "source": [
    ">>> #### TimeZone\n",
    ">>> the timezone column is the time zone of the data.\n",
    ">>>> **Do it Useful?**\n",
    ">>>> Yes it should be but in this case It is **not useful in this dataset** because the timezone is **the same for all the data**.\n",
    ">>>> **How do I Know that?**\n",
    ">>>> let's see how many timezone are there in the dataset."
   ],
   "metadata": {
    "collapsed": false
   }
  },
  {
   "cell_type": "code",
   "execution_count": 216,
   "outputs": [
    {
     "name": "stdout",
     "output_type": "stream",
     "text": [
      "There are 1 timezone in the dataset\n"
     ]
    }
   ],
   "source": [
    "print(f\"There are {len(df['timezone'].unique())} timezone in the dataset\")"
   ],
   "metadata": {
    "collapsed": false,
    "pycharm": {
     "name": "#%%\n"
    }
   }
  },
  {
   "cell_type": "markdown",
   "source": [
    ">>>> **What is the result?**\n",
    ">>>> as you can see from the result above, there are **only one timezone in the dataset.**\n",
    ">>>>\n",
    ">>>> **so I will not use the timezone column from the dataset because it has no meaning at all when there is only one category in dataset.**"
   ],
   "metadata": {
    "collapsed": false
   }
  },
  {
   "cell_type": "code",
   "execution_count": 216,
   "outputs": [],
   "source": [],
   "metadata": {
    "collapsed": false,
    "pycharm": {
     "name": "#%%\n"
    }
   }
  },
  {
   "cell_type": "markdown",
   "source": [
    ">>> #### Source And Destination\n",
    ">>> the source column is the starting point of the ride in this case the city name. and what should we do with this column?\n",
    ">>>> **Do it Useful?**\n",
    ">>>> Yes it is useful"
   ],
   "metadata": {
    "collapsed": false
   }
  },
  {
   "cell_type": "code",
   "execution_count": 217,
   "outputs": [],
   "source": [
    "categorical_features.append('source')\n",
    "categorical_features.append('destination')\n",
    "categorical_features.append('name')\n",
    "categorical_features.append('long_summary')"
   ],
   "metadata": {
    "collapsed": false,
    "pycharm": {
     "name": "#%%\n"
    }
   }
  },
  {
   "cell_type": "markdown",
   "source": [
    ">>> #### Cab Type, Product ID, Name\n",
    ">>> the cab type column is the type of the cab `(Uber, Lyft)`. and the product id column is the product id of the cab. and the name column is the name of the product id.\n",
    ">>>> **Do all of it Useful?**\n",
    ">>>> some column are not useful.\n",
    ">>>>\n",
    ">>>> **Why?**\n",
    ">>>> because the product id and name are the same thing only represented by different value but still contain the same information `product id` was mean for unique identifier and the name was for human reader. so I will merge the two column and drop the product id column.\n",
    ">>>> **What should we do with this?**\n",
    ">>>> first we will drop the product id column, and then we will merge the two column fusing them together with their corresponding value."
   ],
   "metadata": {
    "collapsed": false
   }
  },
  {
   "cell_type": "code",
   "execution_count": 218,
   "outputs": [
    {
     "name": "stdout",
     "output_type": "stream",
     "text": [
      "There are 2 cab type in the dataset\n",
      "There are 12 product id in the dataset\n",
      "There are 12 name in the dataset\n"
     ]
    }
   ],
   "source": [
    "print(f\"There are {len(df['cab_type'].unique())} cab type in the dataset\")\n",
    "print(f\"There are {len(df['product_id'].unique())} product id in the dataset\")\n",
    "print(f\"There are {len(df['name'].unique())} name in the dataset\")"
   ],
   "metadata": {
    "collapsed": false,
    "pycharm": {
     "name": "#%%\n"
    }
   }
  },
  {
   "cell_type": "markdown",
   "source": [
    ">>> #### Sort Summary, Long Summary, Icon\n",
    ">>> what are those columns? or what is their meaning?\n",
    ">>>> they are column that contain the weather information. sort summary is the weather when the ride started. and long summary is the weather forcast and icon is the icon of the weather showed in UI.\n",
    ">>>>\n",
    ">>>> **Let's Inspect Them**"
   ],
   "metadata": {
    "collapsed": false
   }
  },
  {
   "cell_type": "code",
   "execution_count": 219,
   "outputs": [
    {
     "name": "stdout",
     "output_type": "stream",
     "text": [
      "There are 9 values in the short summary column\n",
      "There are 11 values in the long summary column\n",
      "There are 7 values in the icon column\n"
     ]
    }
   ],
   "source": [
    "print(f\"There are {len(df['short_summary'].unique())} values in the short summary column\")\n",
    "print(f\"There are {len(df['long_summary'].unique())} values in the long summary column\")\n",
    "print(f\"There are {len(df['icon'].unique())} values in the icon column\")"
   ],
   "metadata": {
    "collapsed": false,
    "pycharm": {
     "name": "#%%\n"
    }
   }
  },
  {
   "cell_type": "markdown",
   "source": [
    ">>> **Do They Have Any Correlation?**\n",
    ">>>> Yes They Have, in fact they have strong correlation but why?\n",
    ">>>> Because they are the same information that packet with different use. one for system and one for user and one for UI"
   ],
   "metadata": {
    "collapsed": false
   }
  },
  {
   "cell_type": "code",
   "execution_count": 220,
   "outputs": [
    {
     "data": {
      "text/plain": "         short_summary                                       long_summary  \\\n0               Clear                              Foggy in the morning.    \n1               Clear           Light rain in the morning and overnight.    \n2               Clear                         Light rain in the morning.    \n3               Clear                  Mostly cloudy throughout the day.    \n4               Clear                  Partly cloudy throughout the day.    \n5               Clear                           Rain throughout the day.    \n6             Drizzle                         Light rain in the morning.    \n7             Drizzle    Rain until morning, starting again in the eve...   \n8               Foggy                              Foggy in the morning.    \n9               Foggy                 Rain in the morning and afternoon.    \n10              Foggy    Rain until morning, starting again in the eve...   \n11         Light Rain           Light rain in the morning and overnight.    \n12         Light Rain                         Light rain in the morning.    \n13         Light Rain                          Light rain until evening.    \n14         Light Rain                           Rain throughout the day.    \n15         Light Rain    Rain until morning, starting again in the eve...   \n16      Mostly Cloudy                              Foggy in the morning.    \n17      Mostly Cloudy           Light rain in the morning and overnight.    \n18      Mostly Cloudy                         Light rain in the morning.    \n19      Mostly Cloudy                  Mostly cloudy throughout the day.    \n20      Mostly Cloudy                       Overcast throughout the day.    \n21      Mostly Cloudy                  Partly cloudy throughout the day.    \n22      Mostly Cloudy                           Rain throughout the day.    \n23           Overcast                              Foggy in the morning.    \n24           Overcast           Light rain in the morning and overnight.    \n25           Overcast                         Light rain in the morning.    \n26           Overcast                          Light rain until evening.    \n27           Overcast                  Mostly cloudy throughout the day.    \n28           Overcast                       Overcast throughout the day.    \n29           Overcast                  Partly cloudy throughout the day.    \n30           Overcast                   Possible drizzle in the morning.    \n31           Overcast                 Rain in the morning and afternoon.    \n32           Overcast                           Rain throughout the day.    \n33           Overcast    Rain until morning, starting again in the eve...   \n34      Partly Cloudy                              Foggy in the morning.    \n35      Partly Cloudy           Light rain in the morning and overnight.    \n36      Partly Cloudy                         Light rain in the morning.    \n37      Partly Cloudy                  Mostly cloudy throughout the day.    \n38      Partly Cloudy                  Partly cloudy throughout the day.    \n39      Partly Cloudy                           Rain throughout the day.    \n40   Possible Drizzle                         Light rain in the morning.    \n41   Possible Drizzle                          Light rain until evening.    \n42   Possible Drizzle                           Rain throughout the day.    \n43   Possible Drizzle    Rain until morning, starting again in the eve...   \n44               Rain                         Light rain in the morning.    \n45               Rain                           Rain throughout the day.    \n46               Rain    Rain until morning, starting again in the eve...   \n\n     icon  \n0    3438  \n1    3455  \n2    3617  \n3   31883  \n4   34394  \n5    3469  \n6    5183  \n7    1542  \n8    5136  \n9      77  \n10   3079  \n11   1727  \n12  20082  \n13  15486  \n14  10330  \n15   2863  \n16  10184  \n17  17241  \n18  15557  \n19  52758  \n20   3468  \n21  33684  \n22   1711  \n23  13787  \n24   6912  \n25  33296  \n26  13757  \n27  63050  \n28   3438  \n29  23858  \n30   1708  \n31    390  \n32  24085  \n33  17148  \n34   8656  \n35  17240  \n36   7505  \n37  38571  \n38  41808  \n39   3446  \n40   6335  \n41   3447  \n42   3465  \n43   3929  \n44   2848  \n45   3423  \n46  15510  ",
      "text/html": "<div>\n<style scoped>\n    .dataframe tbody tr th:only-of-type {\n        vertical-align: middle;\n    }\n\n    .dataframe tbody tr th {\n        vertical-align: top;\n    }\n\n    .dataframe thead th {\n        text-align: right;\n    }\n</style>\n<table border=\"1\" class=\"dataframe\">\n  <thead>\n    <tr style=\"text-align: right;\">\n      <th></th>\n      <th>short_summary</th>\n      <th>long_summary</th>\n      <th>icon</th>\n    </tr>\n  </thead>\n  <tbody>\n    <tr>\n      <th>0</th>\n      <td>Clear</td>\n      <td>Foggy in the morning.</td>\n      <td>3438</td>\n    </tr>\n    <tr>\n      <th>1</th>\n      <td>Clear</td>\n      <td>Light rain in the morning and overnight.</td>\n      <td>3455</td>\n    </tr>\n    <tr>\n      <th>2</th>\n      <td>Clear</td>\n      <td>Light rain in the morning.</td>\n      <td>3617</td>\n    </tr>\n    <tr>\n      <th>3</th>\n      <td>Clear</td>\n      <td>Mostly cloudy throughout the day.</td>\n      <td>31883</td>\n    </tr>\n    <tr>\n      <th>4</th>\n      <td>Clear</td>\n      <td>Partly cloudy throughout the day.</td>\n      <td>34394</td>\n    </tr>\n    <tr>\n      <th>5</th>\n      <td>Clear</td>\n      <td>Rain throughout the day.</td>\n      <td>3469</td>\n    </tr>\n    <tr>\n      <th>6</th>\n      <td>Drizzle</td>\n      <td>Light rain in the morning.</td>\n      <td>5183</td>\n    </tr>\n    <tr>\n      <th>7</th>\n      <td>Drizzle</td>\n      <td>Rain until morning, starting again in the eve...</td>\n      <td>1542</td>\n    </tr>\n    <tr>\n      <th>8</th>\n      <td>Foggy</td>\n      <td>Foggy in the morning.</td>\n      <td>5136</td>\n    </tr>\n    <tr>\n      <th>9</th>\n      <td>Foggy</td>\n      <td>Rain in the morning and afternoon.</td>\n      <td>77</td>\n    </tr>\n    <tr>\n      <th>10</th>\n      <td>Foggy</td>\n      <td>Rain until morning, starting again in the eve...</td>\n      <td>3079</td>\n    </tr>\n    <tr>\n      <th>11</th>\n      <td>Light Rain</td>\n      <td>Light rain in the morning and overnight.</td>\n      <td>1727</td>\n    </tr>\n    <tr>\n      <th>12</th>\n      <td>Light Rain</td>\n      <td>Light rain in the morning.</td>\n      <td>20082</td>\n    </tr>\n    <tr>\n      <th>13</th>\n      <td>Light Rain</td>\n      <td>Light rain until evening.</td>\n      <td>15486</td>\n    </tr>\n    <tr>\n      <th>14</th>\n      <td>Light Rain</td>\n      <td>Rain throughout the day.</td>\n      <td>10330</td>\n    </tr>\n    <tr>\n      <th>15</th>\n      <td>Light Rain</td>\n      <td>Rain until morning, starting again in the eve...</td>\n      <td>2863</td>\n    </tr>\n    <tr>\n      <th>16</th>\n      <td>Mostly Cloudy</td>\n      <td>Foggy in the morning.</td>\n      <td>10184</td>\n    </tr>\n    <tr>\n      <th>17</th>\n      <td>Mostly Cloudy</td>\n      <td>Light rain in the morning and overnight.</td>\n      <td>17241</td>\n    </tr>\n    <tr>\n      <th>18</th>\n      <td>Mostly Cloudy</td>\n      <td>Light rain in the morning.</td>\n      <td>15557</td>\n    </tr>\n    <tr>\n      <th>19</th>\n      <td>Mostly Cloudy</td>\n      <td>Mostly cloudy throughout the day.</td>\n      <td>52758</td>\n    </tr>\n    <tr>\n      <th>20</th>\n      <td>Mostly Cloudy</td>\n      <td>Overcast throughout the day.</td>\n      <td>3468</td>\n    </tr>\n    <tr>\n      <th>21</th>\n      <td>Mostly Cloudy</td>\n      <td>Partly cloudy throughout the day.</td>\n      <td>33684</td>\n    </tr>\n    <tr>\n      <th>22</th>\n      <td>Mostly Cloudy</td>\n      <td>Rain throughout the day.</td>\n      <td>1711</td>\n    </tr>\n    <tr>\n      <th>23</th>\n      <td>Overcast</td>\n      <td>Foggy in the morning.</td>\n      <td>13787</td>\n    </tr>\n    <tr>\n      <th>24</th>\n      <td>Overcast</td>\n      <td>Light rain in the morning and overnight.</td>\n      <td>6912</td>\n    </tr>\n    <tr>\n      <th>25</th>\n      <td>Overcast</td>\n      <td>Light rain in the morning.</td>\n      <td>33296</td>\n    </tr>\n    <tr>\n      <th>26</th>\n      <td>Overcast</td>\n      <td>Light rain until evening.</td>\n      <td>13757</td>\n    </tr>\n    <tr>\n      <th>27</th>\n      <td>Overcast</td>\n      <td>Mostly cloudy throughout the day.</td>\n      <td>63050</td>\n    </tr>\n    <tr>\n      <th>28</th>\n      <td>Overcast</td>\n      <td>Overcast throughout the day.</td>\n      <td>3438</td>\n    </tr>\n    <tr>\n      <th>29</th>\n      <td>Overcast</td>\n      <td>Partly cloudy throughout the day.</td>\n      <td>23858</td>\n    </tr>\n    <tr>\n      <th>30</th>\n      <td>Overcast</td>\n      <td>Possible drizzle in the morning.</td>\n      <td>1708</td>\n    </tr>\n    <tr>\n      <th>31</th>\n      <td>Overcast</td>\n      <td>Rain in the morning and afternoon.</td>\n      <td>390</td>\n    </tr>\n    <tr>\n      <th>32</th>\n      <td>Overcast</td>\n      <td>Rain throughout the day.</td>\n      <td>24085</td>\n    </tr>\n    <tr>\n      <th>33</th>\n      <td>Overcast</td>\n      <td>Rain until morning, starting again in the eve...</td>\n      <td>17148</td>\n    </tr>\n    <tr>\n      <th>34</th>\n      <td>Partly Cloudy</td>\n      <td>Foggy in the morning.</td>\n      <td>8656</td>\n    </tr>\n    <tr>\n      <th>35</th>\n      <td>Partly Cloudy</td>\n      <td>Light rain in the morning and overnight.</td>\n      <td>17240</td>\n    </tr>\n    <tr>\n      <th>36</th>\n      <td>Partly Cloudy</td>\n      <td>Light rain in the morning.</td>\n      <td>7505</td>\n    </tr>\n    <tr>\n      <th>37</th>\n      <td>Partly Cloudy</td>\n      <td>Mostly cloudy throughout the day.</td>\n      <td>38571</td>\n    </tr>\n    <tr>\n      <th>38</th>\n      <td>Partly Cloudy</td>\n      <td>Partly cloudy throughout the day.</td>\n      <td>41808</td>\n    </tr>\n    <tr>\n      <th>39</th>\n      <td>Partly Cloudy</td>\n      <td>Rain throughout the day.</td>\n      <td>3446</td>\n    </tr>\n    <tr>\n      <th>40</th>\n      <td>Possible Drizzle</td>\n      <td>Light rain in the morning.</td>\n      <td>6335</td>\n    </tr>\n    <tr>\n      <th>41</th>\n      <td>Possible Drizzle</td>\n      <td>Light rain until evening.</td>\n      <td>3447</td>\n    </tr>\n    <tr>\n      <th>42</th>\n      <td>Possible Drizzle</td>\n      <td>Rain throughout the day.</td>\n      <td>3465</td>\n    </tr>\n    <tr>\n      <th>43</th>\n      <td>Possible Drizzle</td>\n      <td>Rain until morning, starting again in the eve...</td>\n      <td>3929</td>\n    </tr>\n    <tr>\n      <th>44</th>\n      <td>Rain</td>\n      <td>Light rain in the morning.</td>\n      <td>2848</td>\n    </tr>\n    <tr>\n      <th>45</th>\n      <td>Rain</td>\n      <td>Rain throughout the day.</td>\n      <td>3423</td>\n    </tr>\n    <tr>\n      <th>46</th>\n      <td>Rain</td>\n      <td>Rain until morning, starting again in the eve...</td>\n      <td>15510</td>\n    </tr>\n  </tbody>\n</table>\n</div>"
     },
     "execution_count": 220,
     "metadata": {},
     "output_type": "execute_result"
    }
   ],
   "source": [
    "df.groupby(['short_summary', 'long_summary']).count().reset_index()[['short_summary', 'long_summary', 'icon']]"
   ],
   "metadata": {
    "collapsed": false,
    "pycharm": {
     "name": "#%%\n"
    }
   }
  },
  {
   "cell_type": "markdown",
   "source": [],
   "metadata": {
    "collapsed": false
   }
  },
  {
   "cell_type": "code",
   "execution_count": 221,
   "outputs": [],
   "source": [
    "numerical_features.append('distance')\n",
    "numerical_features.append('surge_multiplier')\n",
    "numerical_features.append('hour_sin')\n",
    "numerical_features.append('hour_cos')\n",
    "numerical_features.append('week_sin')\n",
    "numerical_features.append('week_cos')"
   ],
   "metadata": {
    "collapsed": false,
    "pycharm": {
     "name": "#%%\n"
    }
   }
  },
  {
   "cell_type": "code",
   "execution_count": 222,
   "outputs": [
    {
     "data": {
      "text/plain": "Index(['timestamp', 'hour', 'day', 'month', 'datetime', 'timezone', 'source',\n       'destination', 'cab_type', 'product_id', 'name', 'price', 'distance',\n       'surge_multiplier', 'latitude', 'longitude', 'temperature',\n       'apparentTemperature', 'short_summary', 'long_summary',\n       'precipIntensity', 'precipProbability', 'humidity', 'windSpeed',\n       'windGust', 'windGustTime', 'visibility', 'temperatureHigh',\n       'temperatureHighTime', 'temperatureLow', 'temperatureLowTime',\n       'apparentTemperatureHigh', 'apparentTemperatureHighTime',\n       'apparentTemperatureLow', 'apparentTemperatureLowTime', 'icon',\n       'dewPoint', 'pressure', 'windBearing', 'cloudCover', 'uvIndex',\n       'visibility.1', 'ozone', 'sunriseTime', 'sunsetTime', 'moonPhase',\n       'precipIntensityMax', 'uvIndexTime', 'temperatureMin',\n       'temperatureMinTime', 'temperatureMax', 'temperatureMaxTime',\n       'apparentTemperatureMin', 'apparentTemperatureMinTime',\n       'apparentTemperatureMax', 'apparentTemperatureMaxTime', 'hour_sin',\n       'hour_cos', 'week_sin', 'week_cos'],\n      dtype='object')"
     },
     "execution_count": 222,
     "metadata": {},
     "output_type": "execute_result"
    }
   ],
   "source": [
    "df.columns"
   ],
   "metadata": {
    "collapsed": false,
    "pycharm": {
     "name": "#%%\n"
    }
   }
  },
  {
   "cell_type": "code",
   "execution_count": 222,
   "outputs": [],
   "source": [],
   "metadata": {
    "collapsed": false,
    "pycharm": {
     "name": "#%%\n"
    }
   }
  },
  {
   "cell_type": "code",
   "execution_count": 223,
   "outputs": [
    {
     "name": "stdout",
     "output_type": "stream",
     "text": [
      "['distance', 'surge_multiplier', 'hour_sin', 'hour_cos', 'week_sin', 'week_cos']\n",
      "['source', 'destination', 'name', 'long_summary']\n"
     ]
    }
   ],
   "source": [
    "print(numerical_features)\n",
    "print(categorical_features)"
   ],
   "metadata": {
    "collapsed": false,
    "pycharm": {
     "name": "#%%\n"
    }
   }
  },
  {
   "cell_type": "code",
   "execution_count": 224,
   "outputs": [],
   "source": [
    "TRAINING_RATIO = 0.8\n",
    "TEST_SAMPLE = 32"
   ],
   "metadata": {
    "collapsed": false,
    "pycharm": {
     "name": "#%%\n"
    }
   }
  },
  {
   "cell_type": "code",
   "execution_count": 225,
   "outputs": [],
   "source": [
    "split_label = lambda _df: (_df.drop(['price'], axis=1), _df['price'])\n",
    "\n",
    "train_ds, val_ds = train_test_split(df[:-TEST_SAMPLE], train_size=TRAINING_RATIO, random_state=42)\n",
    "test_ds = df[-TEST_SAMPLE:]\n",
    "\n",
    "# train_ds, val_ds, test_ds = map(split_label, [train_ds, val_ds, test_ds])"
   ],
   "metadata": {
    "collapsed": false,
    "pycharm": {
     "name": "#%%\n"
    }
   }
  },
  {
   "cell_type": "code",
   "execution_count": 226,
   "outputs": [
    {
     "data": {
      "text/plain": "array([' Possible drizzle in the morning. ',\n       ' Partly cloudy throughout the day. ',\n       ' Rain in the morning and afternoon. ',\n       ' Light rain until evening. ', ' Rain throughout the day. ',\n       ' Light rain in the morning and overnight. ',\n       ' Rain until morning, starting again in the evening. ',\n       ' Light rain in the morning. ',\n       ' Mostly cloudy throughout the day. ',\n       ' Overcast throughout the day. ', ' Foggy in the morning. '],\n      dtype=object)"
     },
     "execution_count": 226,
     "metadata": {},
     "output_type": "execute_result"
    }
   ],
   "source": [
    "_y = train_ds.groupby('long_summary').sum()\n",
    "_y = _y['price'] / _y['distance']\n",
    "long_summary_map = _y.sort_values(ascending=True).index.values\n",
    "long_summary_map"
   ],
   "metadata": {
    "collapsed": false,
    "pycharm": {
     "name": "#%%\n"
    }
   }
  },
  {
   "cell_type": "code",
   "execution_count": 227,
   "outputs": [
    {
     "data": {
      "text/plain": "array(['Boston University', 'Fenway', 'Northeastern University',\n       'Financial District', 'North Station', 'West End', 'Beacon Hill',\n       'Back Bay', 'Theatre District', 'South Station', 'North End',\n       'Haymarket Square'], dtype=object)"
     },
     "execution_count": 227,
     "metadata": {},
     "output_type": "execute_result"
    }
   ],
   "source": [
    "_city_map = train_ds.groupby('source').sum()\n",
    "_city_map = _city_map['price'] / _city_map['distance']\n",
    "_city_map = _city_map.sort_values(ascending=True).index.values\n",
    "_city_map"
   ],
   "metadata": {
    "collapsed": false,
    "pycharm": {
     "name": "#%%\n"
    }
   }
  },
  {
   "cell_type": "code",
   "execution_count": 228,
   "outputs": [
    {
     "data": {
      "text/plain": "array(['Shared', 'UberPool', 'Lyft', 'UberX', 'WAV', 'Lyft XL', 'UberXL',\n       'Lux', 'Black', 'Lux Black', 'Black SUV', 'Lux Black XL'],\n      dtype=object)"
     },
     "execution_count": 228,
     "metadata": {},
     "output_type": "execute_result"
    }
   ],
   "source": [
    "_y = df.groupby('name').sum()\n",
    "_y = _y['price'] / _y['distance']\n",
    "cab_type = _y.sort_values(ascending=True).index.values\n",
    "cab_type"
   ],
   "metadata": {
    "collapsed": false,
    "pycharm": {
     "name": "#%%\n"
    }
   }
  },
  {
   "cell_type": "code",
   "execution_count": 229,
   "outputs": [],
   "source": [
    "train_ds, val_ds, test_ds = map(split_label, [train_ds, val_ds, test_ds])"
   ],
   "metadata": {
    "collapsed": false,
    "pycharm": {
     "name": "#%%\n"
    }
   }
  },
  {
   "cell_type": "code",
   "execution_count": 230,
   "outputs": [],
   "source": [
    "categorical_encoder = OrdinalEncoder(\n",
    "    categories=[\n",
    "        _city_map,\n",
    "        _city_map,\n",
    "        cab_type,\n",
    "        long_summary_map,\n",
    "    ]\n",
    ")\n",
    "numerical_encoder = MinMaxScaler()\n",
    "\n",
    "preprocess = ColumnTransformer(\n",
    "    transformers=[\n",
    "        ('cat', categorical_encoder, categorical_features),\n",
    "        ('num', numerical_encoder, numerical_features)\n",
    "    ]\n",
    ")\n",
    "\n",
    "preprocess.fit(train_ds[0]);"
   ],
   "metadata": {
    "collapsed": false,
    "pycharm": {
     "name": "#%%\n"
    }
   }
  },
  {
   "cell_type": "code",
   "execution_count": 231,
   "outputs": [],
   "source": [
    "# preprocess."
   ],
   "metadata": {
    "collapsed": false,
    "pycharm": {
     "name": "#%%\n"
    }
   }
  },
  {
   "cell_type": "code",
   "execution_count": 232,
   "outputs": [
    {
     "name": "stdout",
     "output_type": "stream",
     "text": [
      "Training models...\n",
      "- LinearRegression Done\n",
      "- Ridge Done\n",
      "- Lasso Done\n",
      "- ElasticNet Done\n",
      "- SGDRegressor Done\n",
      "- BayesianRidge Done\n"
     ]
    }
   ],
   "source": [
    "models = [LinearRegression(), Ridge(), Lasso(), ElasticNet(), SGDRegressor(), BayesianRidge()]\n",
    "models = [Pipeline(steps=[('preprocess', preprocess), ('model', model)]) for model in models]\n",
    "\n",
    "print('Training models...')\n",
    "for model in models:\n",
    "    print(f\"- {model.get_params()['model'].__class__.__name__}\", end='')\n",
    "    model.fit(train_ds[0], train_ds[1])\n",
    "    print(\" Done\")"
   ],
   "metadata": {
    "collapsed": false,
    "pycharm": {
     "name": "#%%\n"
    }
   }
  },
  {
   "cell_type": "code",
   "execution_count": 233,
   "outputs": [
    {
     "data": {
      "text/plain": "                        mse       mae      mape        r2\nmodel                                                    \nLinearRegression  11.311046  2.647071  0.210929  0.869588\nRidge             11.311019  2.647034  0.210923  0.869588\nLasso             21.101914  3.304997  0.233971  0.756703\nElasticNet        21.139784  3.299860  0.232906  0.756266\nSGDRegressor      11.454766  2.687143  0.219085  0.867931\nBayesianRidge     11.311044  2.647068  0.210928  0.869588",
      "text/html": "<div>\n<style scoped>\n    .dataframe tbody tr th:only-of-type {\n        vertical-align: middle;\n    }\n\n    .dataframe tbody tr th {\n        vertical-align: top;\n    }\n\n    .dataframe thead th {\n        text-align: right;\n    }\n</style>\n<table border=\"1\" class=\"dataframe\">\n  <thead>\n    <tr style=\"text-align: right;\">\n      <th></th>\n      <th>mse</th>\n      <th>mae</th>\n      <th>mape</th>\n      <th>r2</th>\n    </tr>\n    <tr>\n      <th>model</th>\n      <th></th>\n      <th></th>\n      <th></th>\n      <th></th>\n    </tr>\n  </thead>\n  <tbody>\n    <tr>\n      <th>LinearRegression</th>\n      <td>11.311046</td>\n      <td>2.647071</td>\n      <td>0.210929</td>\n      <td>0.869588</td>\n    </tr>\n    <tr>\n      <th>Ridge</th>\n      <td>11.311019</td>\n      <td>2.647034</td>\n      <td>0.210923</td>\n      <td>0.869588</td>\n    </tr>\n    <tr>\n      <th>Lasso</th>\n      <td>21.101914</td>\n      <td>3.304997</td>\n      <td>0.233971</td>\n      <td>0.756703</td>\n    </tr>\n    <tr>\n      <th>ElasticNet</th>\n      <td>21.139784</td>\n      <td>3.299860</td>\n      <td>0.232906</td>\n      <td>0.756266</td>\n    </tr>\n    <tr>\n      <th>SGDRegressor</th>\n      <td>11.454766</td>\n      <td>2.687143</td>\n      <td>0.219085</td>\n      <td>0.867931</td>\n    </tr>\n    <tr>\n      <th>BayesianRidge</th>\n      <td>11.311044</td>\n      <td>2.647068</td>\n      <td>0.210928</td>\n      <td>0.869588</td>\n    </tr>\n  </tbody>\n</table>\n</div>"
     },
     "execution_count": 233,
     "metadata": {},
     "output_type": "execute_result"
    }
   ],
   "source": [
    "def evaluate(y, _y):\n",
    "    return {\n",
    "        'mse': mean_squared_error(y, _y),\n",
    "        'mae': mean_absolute_error(y, _y),\n",
    "        'mape': mean_absolute_percentage_error(y, _y),\n",
    "        'r2': r2_score(y, _y)\n",
    "    }\n",
    "\n",
    "\n",
    "val_x, val_y = val_ds\n",
    "summary = []\n",
    "\n",
    "for model in models:\n",
    "    _y = model.predict(val_x)\n",
    "    result = evaluate(val_y, _y)\n",
    "    result['model'] = model.get_params()['model'].__class__.__name__\n",
    "    summary.append(result)\n",
    "df = pd.DataFrame(summary)\n",
    "df.index = df.pop('model')\n",
    "df"
   ],
   "metadata": {
    "collapsed": false,
    "pycharm": {
     "name": "#%%\n"
    }
   }
  },
  {
   "cell_type": "code",
   "execution_count": 234,
   "outputs": [
    {
     "ename": "NameError",
     "evalue": "name 'asd' is not defined",
     "output_type": "error",
     "traceback": [
      "\u001B[1;31m---------------------------------------------------------------------------\u001B[0m",
      "\u001B[1;31mNameError\u001B[0m                                 Traceback (most recent call last)",
      "Input \u001B[1;32mIn [234]\u001B[0m, in \u001B[0;36m<cell line: 1>\u001B[1;34m()\u001B[0m\n\u001B[1;32m----> 1\u001B[0m \u001B[43masd\u001B[49m\n",
      "\u001B[1;31mNameError\u001B[0m: name 'asd' is not defined"
     ]
    }
   ],
   "source": [
    "asd"
   ],
   "metadata": {
    "collapsed": false,
    "pycharm": {
     "name": "#%%\n"
    }
   }
  },
  {
   "cell_type": "code",
   "execution_count": null,
   "outputs": [],
   "source": [
    "import tensorflow as tf\n",
    "\n",
    "models = tf.keras.models\n",
    "layers = tf.keras.layers\n",
    "optimizers = tf.keras.optimizers\n",
    "\n",
    "input = layers.Input(shape=(10,))\n",
    "x = layers.Dense(64, activation='relu')(input)\n",
    "x = layers.Dense(32, activation='tanh')(x)\n",
    "x = layers.Dense(1, activation='relu')(x)\n",
    "\n",
    "model = models.Model(inputs=input, outputs=x)\n",
    "\n",
    "model.compile(optimizer=optimizers.Adam(learning_rate=1e-3), loss='mae', metrics=['mae', 'mape'])\n",
    "\n",
    "x, y = preprocess.transform(train_ds[0]), train_ds[1]\n",
    "val = preprocess.transform(val_ds[0]), val_ds[1]\n",
    "\n",
    "model.fit(x, y, validation_data=val, batch_size=256, shuffle=True, epochs=32)"
   ],
   "metadata": {
    "collapsed": false,
    "pycharm": {
     "name": "#%%\n"
    }
   }
  },
  {
   "cell_type": "code",
   "execution_count": null,
   "outputs": [],
   "source": [
    "test_x, test_y = preprocess.transform(test_ds[0]), test_ds[1]\n",
    "_y = model.predict(test_x)[:, 0]\n",
    "print(evaluate(test_y, _y))\n",
    "np.array([_y, test_y]).T"
   ],
   "metadata": {
    "collapsed": false,
    "pycharm": {
     "name": "#%%\n"
    }
   }
  }
 ],
 "metadata": {
  "kernelspec": {
   "display_name": "Python 3",
   "language": "python",
   "name": "python3"
  },
  "language_info": {
   "codemirror_mode": {
    "name": "ipython",
    "version": 2
   },
   "file_extension": ".py",
   "mimetype": "text/x-python",
   "name": "python",
   "nbconvert_exporter": "python",
   "pygments_lexer": "ipython2",
   "version": "2.7.6"
  }
 },
 "nbformat": 4,
 "nbformat_minor": 0
}