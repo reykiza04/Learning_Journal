{
 "cells": [
  {
   "cell_type": "markdown",
   "source": [
    "# Milestone 1\n",
    "**Name:** Dafa Wiratama\n",
    "**Batch:** Data Science Batch 09"
   ],
   "metadata": {
    "collapsed": false
   }
  },
  {
   "cell_type": "markdown",
   "source": [
    "# Library Import"
   ],
   "metadata": {
    "collapsed": false
   }
  },
  {
   "cell_type": "code",
   "execution_count": 2,
   "outputs": [
    {
     "name": "stdout",
     "output_type": "stream",
     "text": [
      "Collecting streamlit\n",
      "  Downloading streamlit-1.7.0-py2.py3-none-any.whl (9.9 MB)\n",
      "Requirement already satisfied: pillow>=6.2.0 in c:\\users\\dafaw\\anaconda3\\envs\\hactive8\\lib\\site-packages (from streamlit) (9.0.1)\n",
      "Requirement already satisfied: click>=7.0 in c:\\users\\dafaw\\anaconda3\\envs\\hactive8\\lib\\site-packages (from streamlit) (8.0.3)\n",
      "Requirement already satisfied: protobuf!=3.11,>=3.6.0 in c:\\users\\dafaw\\anaconda3\\envs\\hactive8\\lib\\site-packages (from streamlit) (3.19.4)\n",
      "Collecting gitpython!=3.1.19\n",
      "  Downloading GitPython-3.1.27-py3-none-any.whl (181 kB)\n",
      "Collecting toml\n",
      "  Downloading toml-0.10.2-py2.py3-none-any.whl (16 kB)\n",
      "Requirement already satisfied: attrs in c:\\users\\dafaw\\anaconda3\\envs\\hactive8\\lib\\site-packages (from streamlit) (21.4.0)\n",
      "Collecting pyarrow\n",
      "  Downloading pyarrow-7.0.0-cp310-cp310-win_amd64.whl (16.1 MB)\n",
      "Requirement already satisfied: cachetools>=4.0 in c:\\users\\dafaw\\anaconda3\\envs\\hactive8\\lib\\site-packages (from streamlit) (5.0.0)\n",
      "Collecting base58\n",
      "  Downloading base58-2.1.1-py3-none-any.whl (5.6 kB)\n",
      "Requirement already satisfied: requests in c:\\users\\dafaw\\anaconda3\\envs\\hactive8\\lib\\site-packages (from streamlit) (2.27.1)\n",
      "Collecting astor\n",
      "  Downloading astor-0.8.1-py2.py3-none-any.whl (27 kB)\n",
      "Collecting watchdog\n",
      "  Downloading watchdog-2.1.6-py3-none-win_amd64.whl (76 kB)\n",
      "Requirement already satisfied: python-dateutil in c:\\users\\dafaw\\anaconda3\\envs\\hactive8\\lib\\site-packages (from streamlit) (2.8.2)\n",
      "Requirement already satisfied: pandas>=0.21.0 in c:\\users\\dafaw\\anaconda3\\envs\\hactive8\\lib\\site-packages (from streamlit) (1.4.1)\n",
      "Collecting altair>=3.2.0\n",
      "  Downloading altair-4.2.0-py3-none-any.whl (812 kB)\n",
      "Requirement already satisfied: numpy in c:\\users\\dafaw\\anaconda3\\envs\\hactive8\\lib\\site-packages (from streamlit) (1.22.2)\n",
      "Collecting semver\n",
      "  Downloading semver-2.13.0-py2.py3-none-any.whl (12 kB)\n",
      "Collecting pympler>=0.9\n",
      "  Downloading Pympler-1.0.1-py3-none-any.whl (164 kB)\n",
      "Requirement already satisfied: packaging in c:\\users\\dafaw\\anaconda3\\envs\\hactive8\\lib\\site-packages (from streamlit) (21.3)\n",
      "Collecting validators\n",
      "  Downloading validators-0.18.2-py3-none-any.whl (19 kB)\n",
      "Collecting importlib-metadata>=1.4\n",
      "  Downloading importlib_metadata-4.11.2-py3-none-any.whl (17 kB)\n",
      "Collecting pydeck>=0.1.dev5\n",
      "  Downloading pydeck-0.7.1-py2.py3-none-any.whl (4.3 MB)\n",
      "Requirement already satisfied: tornado>=5.0 in c:\\users\\dafaw\\anaconda3\\envs\\hactive8\\lib\\site-packages (from streamlit) (6.1)\n",
      "Collecting blinker\n",
      "  Downloading blinker-1.4.tar.gz (111 kB)\n",
      "Collecting tzlocal\n",
      "  Downloading tzlocal-4.1-py3-none-any.whl (19 kB)\n",
      "Requirement already satisfied: jsonschema>=3.0 in c:\\users\\dafaw\\anaconda3\\envs\\hactive8\\lib\\site-packages (from altair>=3.2.0->streamlit) (4.4.0)\n",
      "Requirement already satisfied: jinja2 in c:\\users\\dafaw\\anaconda3\\envs\\hactive8\\lib\\site-packages (from altair>=3.2.0->streamlit) (3.0.3)\n",
      "Collecting toolz\n",
      "  Downloading toolz-0.11.2-py3-none-any.whl (55 kB)\n",
      "Requirement already satisfied: entrypoints in c:\\users\\dafaw\\anaconda3\\envs\\hactive8\\lib\\site-packages (from altair>=3.2.0->streamlit) (0.4)\n",
      "Requirement already satisfied: colorama in c:\\users\\dafaw\\anaconda3\\envs\\hactive8\\lib\\site-packages (from click>=7.0->streamlit) (0.4.4)\n",
      "Collecting gitdb<5,>=4.0.1\n",
      "  Downloading gitdb-4.0.9-py3-none-any.whl (63 kB)\n",
      "Collecting smmap<6,>=3.0.1\n",
      "  Downloading smmap-5.0.0-py3-none-any.whl (24 kB)\n",
      "Collecting zipp>=0.5\n",
      "  Downloading zipp-3.7.0-py3-none-any.whl (5.3 kB)\n",
      "Requirement already satisfied: pyrsistent!=0.17.0,!=0.17.1,!=0.17.2,>=0.14.0 in c:\\users\\dafaw\\anaconda3\\envs\\hactive8\\lib\\site-packages (from jsonschema>=3.0->altair>=3.2.0->streamlit) (0.18.1)\n",
      "Requirement already satisfied: pytz>=2020.1 in c:\\users\\dafaw\\anaconda3\\envs\\hactive8\\lib\\site-packages (from pandas>=0.21.0->streamlit) (2021.3)\n",
      "Requirement already satisfied: ipykernel>=5.1.2 in c:\\users\\dafaw\\anaconda3\\envs\\hactive8\\lib\\site-packages (from pydeck>=0.1.dev5->streamlit) (6.9.0)\n",
      "Collecting ipywidgets>=7.0.0\n",
      "  Downloading ipywidgets-7.6.5-py2.py3-none-any.whl (121 kB)\n",
      "Requirement already satisfied: traitlets>=4.3.2 in c:\\users\\dafaw\\anaconda3\\envs\\hactive8\\lib\\site-packages (from pydeck>=0.1.dev5->streamlit) (5.1.1)\n",
      "Requirement already satisfied: matplotlib-inline<0.2.0,>=0.1.0 in c:\\users\\dafaw\\anaconda3\\envs\\hactive8\\lib\\site-packages (from ipykernel>=5.1.2->pydeck>=0.1.dev5->streamlit) (0.1.3)\n",
      "Requirement already satisfied: nest-asyncio in c:\\users\\dafaw\\anaconda3\\envs\\hactive8\\lib\\site-packages (from ipykernel>=5.1.2->pydeck>=0.1.dev5->streamlit) (1.5.4)\n",
      "Requirement already satisfied: ipython>=7.23.1 in c:\\users\\dafaw\\anaconda3\\envs\\hactive8\\lib\\site-packages (from ipykernel>=5.1.2->pydeck>=0.1.dev5->streamlit) (8.0.1)\n",
      "Requirement already satisfied: debugpy<2.0,>=1.0.0 in c:\\users\\dafaw\\anaconda3\\envs\\hactive8\\lib\\site-packages (from ipykernel>=5.1.2->pydeck>=0.1.dev5->streamlit) (1.5.1)\n",
      "Requirement already satisfied: jupyter-client<8.0 in c:\\users\\dafaw\\anaconda3\\envs\\hactive8\\lib\\site-packages (from ipykernel>=5.1.2->pydeck>=0.1.dev5->streamlit) (7.1.2)\n",
      "Requirement already satisfied: prompt-toolkit!=3.0.0,!=3.0.1,<3.1.0,>=2.0.0 in c:\\users\\dafaw\\anaconda3\\envs\\hactive8\\lib\\site-packages (from ipython>=7.23.1->ipykernel>=5.1.2->pydeck>=0.1.dev5->streamlit) (3.0.28)\n",
      "Requirement already satisfied: black in c:\\users\\dafaw\\anaconda3\\envs\\hactive8\\lib\\site-packages (from ipython>=7.23.1->ipykernel>=5.1.2->pydeck>=0.1.dev5->streamlit) (22.1.0)\n",
      "Requirement already satisfied: pygments in c:\\users\\dafaw\\anaconda3\\envs\\hactive8\\lib\\site-packages (from ipython>=7.23.1->ipykernel>=5.1.2->pydeck>=0.1.dev5->streamlit) (2.11.2)\n",
      "Requirement already satisfied: pickleshare in c:\\users\\dafaw\\anaconda3\\envs\\hactive8\\lib\\site-packages (from ipython>=7.23.1->ipykernel>=5.1.2->pydeck>=0.1.dev5->streamlit) (0.7.5)\n",
      "Requirement already satisfied: setuptools>=18.5 in c:\\users\\dafaw\\anaconda3\\envs\\hactive8\\lib\\site-packages (from ipython>=7.23.1->ipykernel>=5.1.2->pydeck>=0.1.dev5->streamlit) (58.0.4)\n",
      "Requirement already satisfied: stack-data in c:\\users\\dafaw\\anaconda3\\envs\\hactive8\\lib\\site-packages (from ipython>=7.23.1->ipykernel>=5.1.2->pydeck>=0.1.dev5->streamlit) (0.2.0)\n",
      "Requirement already satisfied: backcall in c:\\users\\dafaw\\anaconda3\\envs\\hactive8\\lib\\site-packages (from ipython>=7.23.1->ipykernel>=5.1.2->pydeck>=0.1.dev5->streamlit) (0.2.0)\n",
      "Requirement already satisfied: jedi>=0.16 in c:\\users\\dafaw\\anaconda3\\envs\\hactive8\\lib\\site-packages (from ipython>=7.23.1->ipykernel>=5.1.2->pydeck>=0.1.dev5->streamlit) (0.18.1)\n",
      "Requirement already satisfied: decorator in c:\\users\\dafaw\\anaconda3\\envs\\hactive8\\lib\\site-packages (from ipython>=7.23.1->ipykernel>=5.1.2->pydeck>=0.1.dev5->streamlit) (5.1.1)\n",
      "Collecting jupyterlab-widgets>=1.0.0\n",
      "  Downloading jupyterlab_widgets-1.0.2-py3-none-any.whl (243 kB)\n",
      "Collecting widgetsnbextension~=3.5.0\n",
      "  Downloading widgetsnbextension-3.5.2-py2.py3-none-any.whl (1.6 MB)\n",
      "Requirement already satisfied: nbformat>=4.2.0 in c:\\users\\dafaw\\anaconda3\\envs\\hactive8\\lib\\site-packages (from ipywidgets>=7.0.0->pydeck>=0.1.dev5->streamlit) (5.1.3)\n",
      "Requirement already satisfied: ipython-genutils~=0.2.0 in c:\\users\\dafaw\\anaconda3\\envs\\hactive8\\lib\\site-packages (from ipywidgets>=7.0.0->pydeck>=0.1.dev5->streamlit) (0.2.0)\n",
      "Requirement already satisfied: parso<0.9.0,>=0.8.0 in c:\\users\\dafaw\\anaconda3\\envs\\hactive8\\lib\\site-packages (from jedi>=0.16->ipython>=7.23.1->ipykernel>=5.1.2->pydeck>=0.1.dev5->streamlit) (0.8.3)\n",
      "Requirement already satisfied: MarkupSafe>=2.0 in c:\\users\\dafaw\\anaconda3\\envs\\hactive8\\lib\\site-packages (from jinja2->altair>=3.2.0->streamlit) (2.0.1)\n",
      "Requirement already satisfied: pyzmq>=13 in c:\\users\\dafaw\\anaconda3\\envs\\hactive8\\lib\\site-packages (from jupyter-client<8.0->ipykernel>=5.1.2->pydeck>=0.1.dev5->streamlit) (22.3.0)\n",
      "Requirement already satisfied: jupyter-core>=4.6.0 in c:\\users\\dafaw\\anaconda3\\envs\\hactive8\\lib\\site-packages (from jupyter-client<8.0->ipykernel>=5.1.2->pydeck>=0.1.dev5->streamlit) (4.9.1)\n",
      "Requirement already satisfied: pywin32>=1.0 in c:\\users\\dafaw\\anaconda3\\envs\\hactive8\\lib\\site-packages (from jupyter-core>=4.6.0->jupyter-client<8.0->ipykernel>=5.1.2->pydeck>=0.1.dev5->streamlit) (303)\n",
      "Requirement already satisfied: wcwidth in c:\\users\\dafaw\\anaconda3\\envs\\hactive8\\lib\\site-packages (from prompt-toolkit!=3.0.0,!=3.0.1,<3.1.0,>=2.0.0->ipython>=7.23.1->ipykernel>=5.1.2->pydeck>=0.1.dev5->streamlit) (0.2.5)\n",
      "Requirement already satisfied: six>=1.5 in c:\\users\\dafaw\\anaconda3\\envs\\hactive8\\lib\\site-packages (from python-dateutil->streamlit) (1.16.0)\n",
      "Requirement already satisfied: notebook>=4.4.1 in c:\\users\\dafaw\\anaconda3\\envs\\hactive8\\lib\\site-packages (from widgetsnbextension~=3.5.0->ipywidgets>=7.0.0->pydeck>=0.1.dev5->streamlit) (6.4.8)\n",
      "Requirement already satisfied: nbconvert in c:\\users\\dafaw\\anaconda3\\envs\\hactive8\\lib\\site-packages (from notebook>=4.4.1->widgetsnbextension~=3.5.0->ipywidgets>=7.0.0->pydeck>=0.1.dev5->streamlit) (6.4.2)\n",
      "Requirement already satisfied: argon2-cffi in c:\\users\\dafaw\\anaconda3\\envs\\hactive8\\lib\\site-packages (from notebook>=4.4.1->widgetsnbextension~=3.5.0->ipywidgets>=7.0.0->pydeck>=0.1.dev5->streamlit) (21.3.0)\n",
      "Requirement already satisfied: Send2Trash>=1.8.0 in c:\\users\\dafaw\\anaconda3\\envs\\hactive8\\lib\\site-packages (from notebook>=4.4.1->widgetsnbextension~=3.5.0->ipywidgets>=7.0.0->pydeck>=0.1.dev5->streamlit) (1.8.0)\n",
      "Requirement already satisfied: terminado>=0.8.3 in c:\\users\\dafaw\\anaconda3\\envs\\hactive8\\lib\\site-packages (from notebook>=4.4.1->widgetsnbextension~=3.5.0->ipywidgets>=7.0.0->pydeck>=0.1.dev5->streamlit) (0.13.1)\n",
      "Requirement already satisfied: prometheus-client in c:\\users\\dafaw\\anaconda3\\envs\\hactive8\\lib\\site-packages (from notebook>=4.4.1->widgetsnbextension~=3.5.0->ipywidgets>=7.0.0->pydeck>=0.1.dev5->streamlit) (0.13.1)\n",
      "Requirement already satisfied: pywinpty>=1.1.0 in c:\\users\\dafaw\\anaconda3\\envs\\hactive8\\lib\\site-packages (from terminado>=0.8.3->notebook>=4.4.1->widgetsnbextension~=3.5.0->ipywidgets>=7.0.0->pydeck>=0.1.dev5->streamlit) (1.1.6)\n",
      "Requirement already satisfied: argon2-cffi-bindings in c:\\users\\dafaw\\anaconda3\\envs\\hactive8\\lib\\site-packages (from argon2-cffi->notebook>=4.4.1->widgetsnbextension~=3.5.0->ipywidgets>=7.0.0->pydeck>=0.1.dev5->streamlit) (21.2.0)\n",
      "Requirement already satisfied: cffi>=1.0.1 in c:\\users\\dafaw\\anaconda3\\envs\\hactive8\\lib\\site-packages (from argon2-cffi-bindings->argon2-cffi->notebook>=4.4.1->widgetsnbextension~=3.5.0->ipywidgets>=7.0.0->pydeck>=0.1.dev5->streamlit) (1.15.0)\n",
      "Requirement already satisfied: pycparser in c:\\users\\dafaw\\anaconda3\\envs\\hactive8\\lib\\site-packages (from cffi>=1.0.1->argon2-cffi-bindings->argon2-cffi->notebook>=4.4.1->widgetsnbextension~=3.5.0->ipywidgets>=7.0.0->pydeck>=0.1.dev5->streamlit) (2.21)\n",
      "Requirement already satisfied: pathspec>=0.9.0 in c:\\users\\dafaw\\anaconda3\\envs\\hactive8\\lib\\site-packages (from black->ipython>=7.23.1->ipykernel>=5.1.2->pydeck>=0.1.dev5->streamlit) (0.9.0)\n",
      "Requirement already satisfied: mypy-extensions>=0.4.3 in c:\\users\\dafaw\\anaconda3\\envs\\hactive8\\lib\\site-packages (from black->ipython>=7.23.1->ipykernel>=5.1.2->pydeck>=0.1.dev5->streamlit) (0.4.3)\n",
      "Requirement already satisfied: tomli>=1.1.0 in c:\\users\\dafaw\\anaconda3\\envs\\hactive8\\lib\\site-packages (from black->ipython>=7.23.1->ipykernel>=5.1.2->pydeck>=0.1.dev5->streamlit) (2.0.1)\n",
      "Requirement already satisfied: platformdirs>=2 in c:\\users\\dafaw\\anaconda3\\envs\\hactive8\\lib\\site-packages (from black->ipython>=7.23.1->ipykernel>=5.1.2->pydeck>=0.1.dev5->streamlit) (2.5.0)\n",
      "Requirement already satisfied: testpath in c:\\users\\dafaw\\anaconda3\\envs\\hactive8\\lib\\site-packages (from nbconvert->notebook>=4.4.1->widgetsnbextension~=3.5.0->ipywidgets>=7.0.0->pydeck>=0.1.dev5->streamlit) (0.5.0)\n",
      "Requirement already satisfied: bleach in c:\\users\\dafaw\\anaconda3\\envs\\hactive8\\lib\\site-packages (from nbconvert->notebook>=4.4.1->widgetsnbextension~=3.5.0->ipywidgets>=7.0.0->pydeck>=0.1.dev5->streamlit) (4.1.0)\n",
      "Requirement already satisfied: defusedxml in c:\\users\\dafaw\\anaconda3\\envs\\hactive8\\lib\\site-packages (from nbconvert->notebook>=4.4.1->widgetsnbextension~=3.5.0->ipywidgets>=7.0.0->pydeck>=0.1.dev5->streamlit) (0.7.1)\n",
      "Requirement already satisfied: nbclient<0.6.0,>=0.5.0 in c:\\users\\dafaw\\anaconda3\\envs\\hactive8\\lib\\site-packages (from nbconvert->notebook>=4.4.1->widgetsnbextension~=3.5.0->ipywidgets>=7.0.0->pydeck>=0.1.dev5->streamlit) (0.5.11)\n",
      "Requirement already satisfied: mistune<2,>=0.8.1 in c:\\users\\dafaw\\anaconda3\\envs\\hactive8\\lib\\site-packages (from nbconvert->notebook>=4.4.1->widgetsnbextension~=3.5.0->ipywidgets>=7.0.0->pydeck>=0.1.dev5->streamlit) (0.8.4)\n",
      "Requirement already satisfied: pandocfilters>=1.4.1 in c:\\users\\dafaw\\anaconda3\\envs\\hactive8\\lib\\site-packages (from nbconvert->notebook>=4.4.1->widgetsnbextension~=3.5.0->ipywidgets>=7.0.0->pydeck>=0.1.dev5->streamlit) (1.5.0)\n",
      "Requirement already satisfied: jupyterlab-pygments in c:\\users\\dafaw\\anaconda3\\envs\\hactive8\\lib\\site-packages (from nbconvert->notebook>=4.4.1->widgetsnbextension~=3.5.0->ipywidgets>=7.0.0->pydeck>=0.1.dev5->streamlit) (0.1.2)\n",
      "Requirement already satisfied: webencodings in c:\\users\\dafaw\\anaconda3\\envs\\hactive8\\lib\\site-packages (from bleach->nbconvert->notebook>=4.4.1->widgetsnbextension~=3.5.0->ipywidgets>=7.0.0->pydeck>=0.1.dev5->streamlit) (0.5.1)\n",
      "Requirement already satisfied: pyparsing!=3.0.5,>=2.0.2 in c:\\users\\dafaw\\anaconda3\\envs\\hactive8\\lib\\site-packages (from packaging->streamlit) (3.0.7)\n",
      "Requirement already satisfied: idna<4,>=2.5 in c:\\users\\dafaw\\anaconda3\\envs\\hactive8\\lib\\site-packages (from requests->streamlit) (3.3)\n",
      "Requirement already satisfied: urllib3<1.27,>=1.21.1 in c:\\users\\dafaw\\anaconda3\\envs\\hactive8\\lib\\site-packages (from requests->streamlit) (1.26.8)\n",
      "Requirement already satisfied: certifi>=2017.4.17 in c:\\users\\dafaw\\anaconda3\\envs\\hactive8\\lib\\site-packages (from requests->streamlit) (2020.6.20)\n",
      "Requirement already satisfied: charset-normalizer~=2.0.0 in c:\\users\\dafaw\\anaconda3\\envs\\hactive8\\lib\\site-packages (from requests->streamlit) (2.0.12)\n",
      "Requirement already satisfied: pure-eval in c:\\users\\dafaw\\anaconda3\\envs\\hactive8\\lib\\site-packages (from stack-data->ipython>=7.23.1->ipykernel>=5.1.2->pydeck>=0.1.dev5->streamlit) (0.2.2)\n",
      "Requirement already satisfied: asttokens in c:\\users\\dafaw\\anaconda3\\envs\\hactive8\\lib\\site-packages (from stack-data->ipython>=7.23.1->ipykernel>=5.1.2->pydeck>=0.1.dev5->streamlit) (2.0.5)\n",
      "Requirement already satisfied: executing in c:\\users\\dafaw\\anaconda3\\envs\\hactive8\\lib\\site-packages (from stack-data->ipython>=7.23.1->ipykernel>=5.1.2->pydeck>=0.1.dev5->streamlit) (0.8.2)\n",
      "Collecting tzdata\n",
      "  Downloading tzdata-2021.5-py2.py3-none-any.whl (339 kB)\n",
      "Collecting pytz-deprecation-shim\n",
      "  Downloading pytz_deprecation_shim-0.1.0.post0-py2.py3-none-any.whl (15 kB)\n",
      "Building wheels for collected packages: blinker\n",
      "  Building wheel for blinker (setup.py): started\n",
      "  Building wheel for blinker (setup.py): finished with status 'done'\n",
      "  Created wheel for blinker: filename=blinker-1.4-py3-none-any.whl size=13478 sha256=9176e28d4e06d61de3294b6e9d4cf887a4a0abcb7180805dae5c7d7003803b8a\n",
      "  Stored in directory: c:\\users\\dafaw\\appdata\\local\\pip\\cache\\wheels\\46\\d1\\36\\f5bd574e4181b8e1ca3e12dd8d243aa9218725603566fd3c1d\n",
      "Successfully built blinker\n",
      "Installing collected packages: widgetsnbextension, tzdata, smmap, jupyterlab-widgets, zipp, toolz, pytz-deprecation-shim, ipywidgets, gitdb, watchdog, validators, tzlocal, toml, semver, pympler, pydeck, pyarrow, importlib-metadata, gitpython, blinker, base58, astor, altair, streamlit\n",
      "Successfully installed altair-4.2.0 astor-0.8.1 base58-2.1.1 blinker-1.4 gitdb-4.0.9 gitpython-3.1.27 importlib-metadata-4.11.2 ipywidgets-7.6.5 jupyterlab-widgets-1.0.2 pyarrow-7.0.0 pydeck-0.7.1 pympler-1.0.1 pytz-deprecation-shim-0.1.0.post0 semver-2.13.0 smmap-5.0.0 streamlit-1.7.0 toml-0.10.2 toolz-0.11.2 tzdata-2021.5 tzlocal-4.1 validators-0.18.2 watchdog-2.1.6 widgetsnbextension-3.5.2 zipp-3.7.0\n"
     ]
    }
   ],
   "source": [
    "!pip install streamlit"
   ],
   "metadata": {
    "collapsed": false,
    "pycharm": {
     "name": "#%%\n"
    }
   }
  },
  {
   "cell_type": "code",
   "execution_count": 3,
   "metadata": {
    "collapsed": true
   },
   "outputs": [],
   "source": [
    "import pandas as pd\n",
    "import numpy as np\n",
    "import matplotlib.pyplot as plt\n",
    "import streamlit as st"
   ]
  },
  {
   "cell_type": "markdown",
   "source": [
    "# Data Wrangling"
   ],
   "metadata": {
    "collapsed": false
   }
  },
  {
   "cell_type": "code",
   "execution_count": 7,
   "outputs": [
    {
     "data": {
      "text/plain": "    Invoice ID Branch       City Customer type  Gender  \\\n0  750-67-8428      A     Yangon        Member  Female   \n1  226-31-3081      C  Naypyitaw        Normal  Female   \n2  631-41-3108      A     Yangon        Normal    Male   \n3  123-19-1176      A     Yangon        Member    Male   \n4  373-73-7910      A     Yangon        Normal    Male   \n\n             Product line  Unit price  Quantity   Tax 5%     Total       Date  \\\n0       Health and beauty       74.69         7  26.1415  548.9715   1/5/2019   \n1  Electronic accessories       15.28         5   3.8200   80.2200   3/8/2019   \n2      Home and lifestyle       46.33         7  16.2155  340.5255   3/3/2019   \n3       Health and beauty       58.22         8  23.2880  489.0480  1/27/2019   \n4       Sports and travel       86.31         7  30.2085  634.3785   2/8/2019   \n\n    Time      Payment    cogs  gross margin percentage  gross income  Rating  \n0  13:08      Ewallet  522.83                 4.761905       26.1415     9.1  \n1  10:29         Cash   76.40                 4.761905        3.8200     9.6  \n2  13:23  Credit card  324.31                 4.761905       16.2155     7.4  \n3  20:33      Ewallet  465.76                 4.761905       23.2880     8.4  \n4  10:37      Ewallet  604.17                 4.761905       30.2085     5.3  ",
      "text/html": "<div>\n<style scoped>\n    .dataframe tbody tr th:only-of-type {\n        vertical-align: middle;\n    }\n\n    .dataframe tbody tr th {\n        vertical-align: top;\n    }\n\n    .dataframe thead th {\n        text-align: right;\n    }\n</style>\n<table border=\"1\" class=\"dataframe\">\n  <thead>\n    <tr style=\"text-align: right;\">\n      <th></th>\n      <th>Invoice ID</th>\n      <th>Branch</th>\n      <th>City</th>\n      <th>Customer type</th>\n      <th>Gender</th>\n      <th>Product line</th>\n      <th>Unit price</th>\n      <th>Quantity</th>\n      <th>Tax 5%</th>\n      <th>Total</th>\n      <th>Date</th>\n      <th>Time</th>\n      <th>Payment</th>\n      <th>cogs</th>\n      <th>gross margin percentage</th>\n      <th>gross income</th>\n      <th>Rating</th>\n    </tr>\n  </thead>\n  <tbody>\n    <tr>\n      <th>0</th>\n      <td>750-67-8428</td>\n      <td>A</td>\n      <td>Yangon</td>\n      <td>Member</td>\n      <td>Female</td>\n      <td>Health and beauty</td>\n      <td>74.69</td>\n      <td>7</td>\n      <td>26.1415</td>\n      <td>548.9715</td>\n      <td>1/5/2019</td>\n      <td>13:08</td>\n      <td>Ewallet</td>\n      <td>522.83</td>\n      <td>4.761905</td>\n      <td>26.1415</td>\n      <td>9.1</td>\n    </tr>\n    <tr>\n      <th>1</th>\n      <td>226-31-3081</td>\n      <td>C</td>\n      <td>Naypyitaw</td>\n      <td>Normal</td>\n      <td>Female</td>\n      <td>Electronic accessories</td>\n      <td>15.28</td>\n      <td>5</td>\n      <td>3.8200</td>\n      <td>80.2200</td>\n      <td>3/8/2019</td>\n      <td>10:29</td>\n      <td>Cash</td>\n      <td>76.40</td>\n      <td>4.761905</td>\n      <td>3.8200</td>\n      <td>9.6</td>\n    </tr>\n    <tr>\n      <th>2</th>\n      <td>631-41-3108</td>\n      <td>A</td>\n      <td>Yangon</td>\n      <td>Normal</td>\n      <td>Male</td>\n      <td>Home and lifestyle</td>\n      <td>46.33</td>\n      <td>7</td>\n      <td>16.2155</td>\n      <td>340.5255</td>\n      <td>3/3/2019</td>\n      <td>13:23</td>\n      <td>Credit card</td>\n      <td>324.31</td>\n      <td>4.761905</td>\n      <td>16.2155</td>\n      <td>7.4</td>\n    </tr>\n    <tr>\n      <th>3</th>\n      <td>123-19-1176</td>\n      <td>A</td>\n      <td>Yangon</td>\n      <td>Member</td>\n      <td>Male</td>\n      <td>Health and beauty</td>\n      <td>58.22</td>\n      <td>8</td>\n      <td>23.2880</td>\n      <td>489.0480</td>\n      <td>1/27/2019</td>\n      <td>20:33</td>\n      <td>Ewallet</td>\n      <td>465.76</td>\n      <td>4.761905</td>\n      <td>23.2880</td>\n      <td>8.4</td>\n    </tr>\n    <tr>\n      <th>4</th>\n      <td>373-73-7910</td>\n      <td>A</td>\n      <td>Yangon</td>\n      <td>Normal</td>\n      <td>Male</td>\n      <td>Sports and travel</td>\n      <td>86.31</td>\n      <td>7</td>\n      <td>30.2085</td>\n      <td>634.3785</td>\n      <td>2/8/2019</td>\n      <td>10:37</td>\n      <td>Ewallet</td>\n      <td>604.17</td>\n      <td>4.761905</td>\n      <td>30.2085</td>\n      <td>5.3</td>\n    </tr>\n  </tbody>\n</table>\n</div>"
     },
     "execution_count": 7,
     "metadata": {},
     "output_type": "execute_result"
    }
   ],
   "source": [
    "df = pd.read_csv(\"deployment/dataset/supermarket_sales - Sheet1.csv\")\n",
    "df.head()"
   ],
   "metadata": {
    "collapsed": false,
    "pycharm": {
     "name": "#%%\n"
    }
   }
  },
  {
   "cell_type": "code",
   "execution_count": 8,
   "outputs": [
    {
     "name": "stdout",
     "output_type": "stream",
     "text": [
      "<class 'pandas.core.frame.DataFrame'>\n",
      "RangeIndex: 1000 entries, 0 to 999\n",
      "Data columns (total 17 columns):\n",
      " #   Column                   Non-Null Count  Dtype  \n",
      "---  ------                   --------------  -----  \n",
      " 0   Invoice ID               1000 non-null   object \n",
      " 1   Branch                   1000 non-null   object \n",
      " 2   City                     1000 non-null   object \n",
      " 3   Customer type            1000 non-null   object \n",
      " 4   Gender                   1000 non-null   object \n",
      " 5   Product line             1000 non-null   object \n",
      " 6   Unit price               1000 non-null   float64\n",
      " 7   Quantity                 1000 non-null   int64  \n",
      " 8   Tax 5%                   1000 non-null   float64\n",
      " 9   Total                    1000 non-null   float64\n",
      " 10  Date                     1000 non-null   object \n",
      " 11  Time                     1000 non-null   object \n",
      " 12  Payment                  1000 non-null   object \n",
      " 13  cogs                     1000 non-null   float64\n",
      " 14  gross margin percentage  1000 non-null   float64\n",
      " 15  gross income             1000 non-null   float64\n",
      " 16  Rating                   1000 non-null   float64\n",
      "dtypes: float64(7), int64(1), object(9)\n",
      "memory usage: 132.9+ KB\n"
     ]
    }
   ],
   "source": [
    "df.info()"
   ],
   "metadata": {
    "collapsed": false,
    "pycharm": {
     "name": "#%%\n"
    }
   }
  },
  {
   "cell_type": "code",
   "execution_count": 10,
   "outputs": [
    {
     "data": {
      "text/plain": "                          count        mean         std        min  \\\nUnit price               1000.0   55.672130   26.494628  10.080000   \nQuantity                 1000.0    5.510000    2.923431   1.000000   \nTax 5%                   1000.0   15.379369   11.708825   0.508500   \nTotal                    1000.0  322.966749  245.885335  10.678500   \ncogs                     1000.0  307.587380  234.176510  10.170000   \ngross margin percentage  1000.0    4.761905    0.000000   4.761905   \ngross income             1000.0   15.379369   11.708825   0.508500   \nRating                   1000.0    6.972700    1.718580   4.000000   \n\n                                25%         50%         75%          max  \nUnit price                32.875000   55.230000   77.935000    99.960000  \nQuantity                   3.000000    5.000000    8.000000    10.000000  \nTax 5%                     5.924875   12.088000   22.445250    49.650000  \nTotal                    124.422375  253.848000  471.350250  1042.650000  \ncogs                     118.497500  241.760000  448.905000   993.000000  \ngross margin percentage    4.761905    4.761905    4.761905     4.761905  \ngross income               5.924875   12.088000   22.445250    49.650000  \nRating                     5.500000    7.000000    8.500000    10.000000  ",
      "text/html": "<div>\n<style scoped>\n    .dataframe tbody tr th:only-of-type {\n        vertical-align: middle;\n    }\n\n    .dataframe tbody tr th {\n        vertical-align: top;\n    }\n\n    .dataframe thead th {\n        text-align: right;\n    }\n</style>\n<table border=\"1\" class=\"dataframe\">\n  <thead>\n    <tr style=\"text-align: right;\">\n      <th></th>\n      <th>count</th>\n      <th>mean</th>\n      <th>std</th>\n      <th>min</th>\n      <th>25%</th>\n      <th>50%</th>\n      <th>75%</th>\n      <th>max</th>\n    </tr>\n  </thead>\n  <tbody>\n    <tr>\n      <th>Unit price</th>\n      <td>1000.0</td>\n      <td>55.672130</td>\n      <td>26.494628</td>\n      <td>10.080000</td>\n      <td>32.875000</td>\n      <td>55.230000</td>\n      <td>77.935000</td>\n      <td>99.960000</td>\n    </tr>\n    <tr>\n      <th>Quantity</th>\n      <td>1000.0</td>\n      <td>5.510000</td>\n      <td>2.923431</td>\n      <td>1.000000</td>\n      <td>3.000000</td>\n      <td>5.000000</td>\n      <td>8.000000</td>\n      <td>10.000000</td>\n    </tr>\n    <tr>\n      <th>Tax 5%</th>\n      <td>1000.0</td>\n      <td>15.379369</td>\n      <td>11.708825</td>\n      <td>0.508500</td>\n      <td>5.924875</td>\n      <td>12.088000</td>\n      <td>22.445250</td>\n      <td>49.650000</td>\n    </tr>\n    <tr>\n      <th>Total</th>\n      <td>1000.0</td>\n      <td>322.966749</td>\n      <td>245.885335</td>\n      <td>10.678500</td>\n      <td>124.422375</td>\n      <td>253.848000</td>\n      <td>471.350250</td>\n      <td>1042.650000</td>\n    </tr>\n    <tr>\n      <th>cogs</th>\n      <td>1000.0</td>\n      <td>307.587380</td>\n      <td>234.176510</td>\n      <td>10.170000</td>\n      <td>118.497500</td>\n      <td>241.760000</td>\n      <td>448.905000</td>\n      <td>993.000000</td>\n    </tr>\n    <tr>\n      <th>gross margin percentage</th>\n      <td>1000.0</td>\n      <td>4.761905</td>\n      <td>0.000000</td>\n      <td>4.761905</td>\n      <td>4.761905</td>\n      <td>4.761905</td>\n      <td>4.761905</td>\n      <td>4.761905</td>\n    </tr>\n    <tr>\n      <th>gross income</th>\n      <td>1000.0</td>\n      <td>15.379369</td>\n      <td>11.708825</td>\n      <td>0.508500</td>\n      <td>5.924875</td>\n      <td>12.088000</td>\n      <td>22.445250</td>\n      <td>49.650000</td>\n    </tr>\n    <tr>\n      <th>Rating</th>\n      <td>1000.0</td>\n      <td>6.972700</td>\n      <td>1.718580</td>\n      <td>4.000000</td>\n      <td>5.500000</td>\n      <td>7.000000</td>\n      <td>8.500000</td>\n      <td>10.000000</td>\n    </tr>\n  </tbody>\n</table>\n</div>"
     },
     "execution_count": 10,
     "metadata": {},
     "output_type": "execute_result"
    }
   ],
   "source": [
    "df.describe().T"
   ],
   "metadata": {
    "collapsed": false,
    "pycharm": {
     "name": "#%%\n"
    }
   }
  },
  {
   "cell_type": "code",
   "execution_count": 65,
   "outputs": [],
   "source": [
    "df = df.drop(['Branch'], axis=1)"
   ],
   "metadata": {
    "collapsed": false,
    "pycharm": {
     "name": "#%%\n"
    }
   }
  },
  {
   "cell_type": "code",
   "execution_count": 23,
   "outputs": [],
   "source": [
    "df['time'] = pd.to_datetime(df['Date'] + ' ' + df['Time'])\n",
    "df = df.drop(['Date', 'Time'], axis=1)"
   ],
   "metadata": {
    "collapsed": false,
    "pycharm": {
     "name": "#%%\n"
    }
   }
  },
  {
   "cell_type": "code",
   "execution_count": 146,
   "outputs": [],
   "source": [
    "df.rename(\n",
    "    columns={\n",
    "        'Invoice ID': 'invoice_id',\n",
    "        'Product line': 'product_line',\n",
    "        'Quantity': 'quantity',\n",
    "        'Rating': 'rating',\n",
    "        'Gender': 'gender',\n",
    "        'Unit price': 'unit_price',\n",
    "        'Total': 'total',\n",
    "    }, inplace=True)"
   ],
   "metadata": {
    "collapsed": false,
    "pycharm": {
     "name": "#%%\n"
    }
   }
  },
  {
   "cell_type": "code",
   "execution_count": 145,
   "outputs": [
    {
     "data": {
      "text/plain": "      invoice_id       City Customer type  gender            product_line  \\\n0    750-67-8428     Yangon        Member  Female       Health and beauty   \n1    226-31-3081  Naypyitaw        Normal  Female  Electronic accessories   \n2    631-41-3108     Yangon        Normal    Male      Home and lifestyle   \n3    123-19-1176     Yangon        Member    Male       Health and beauty   \n4    373-73-7910     Yangon        Normal    Male       Sports and travel   \n..           ...        ...           ...     ...                     ...   \n995  233-67-5758  Naypyitaw        Normal    Male       Health and beauty   \n996  303-96-2227   Mandalay        Normal  Female      Home and lifestyle   \n997  727-02-1313     Yangon        Member    Male      Food and beverages   \n998  347-56-2442     Yangon        Normal    Male      Home and lifestyle   \n999  849-09-3807     Yangon        Member  Female     Fashion accessories   \n\n     unit_price  quantity   Tax 5%      Total      Payment    cogs  \\\n0         74.69         7  26.1415   548.9715      Ewallet  522.83   \n1         15.28         5   3.8200    80.2200         Cash   76.40   \n2         46.33         7  16.2155   340.5255  Credit card  324.31   \n3         58.22         8  23.2880   489.0480      Ewallet  465.76   \n4         86.31         7  30.2085   634.3785      Ewallet  604.17   \n..          ...       ...      ...        ...          ...     ...   \n995       40.35         1   2.0175    42.3675      Ewallet   40.35   \n996       97.38        10  48.6900  1022.4900      Ewallet  973.80   \n997       31.84         1   1.5920    33.4320         Cash   31.84   \n998       65.82         1   3.2910    69.1110         Cash   65.82   \n999       88.34         7  30.9190   649.2990         Cash  618.38   \n\n     gross margin percentage  gross income  rating                time  \\\n0                   4.761905       26.1415     9.1 2019-01-05 13:08:00   \n1                   4.761905        3.8200     9.6 2019-03-08 10:29:00   \n2                   4.761905       16.2155     7.4 2019-03-03 13:23:00   \n3                   4.761905       23.2880     8.4 2019-01-27 20:33:00   \n4                   4.761905       30.2085     5.3 2019-02-08 10:37:00   \n..                       ...           ...     ...                 ...   \n995                 4.761905        2.0175     6.2 2019-01-29 13:46:00   \n996                 4.761905       48.6900     4.4 2019-03-02 17:16:00   \n997                 4.761905        1.5920     7.7 2019-02-09 13:22:00   \n998                 4.761905        3.2910     4.1 2019-02-22 15:33:00   \n999                 4.761905       30.9190     6.6 2019-02-18 13:28:00   \n\n          day  \n0    Saturday  \n1      Friday  \n2      Sunday  \n3      Sunday  \n4      Friday  \n..        ...  \n995   Tuesday  \n996  Saturday  \n997  Saturday  \n998    Friday  \n999    Monday  \n\n[1000 rows x 16 columns]",
      "text/html": "<div>\n<style scoped>\n    .dataframe tbody tr th:only-of-type {\n        vertical-align: middle;\n    }\n\n    .dataframe tbody tr th {\n        vertical-align: top;\n    }\n\n    .dataframe thead th {\n        text-align: right;\n    }\n</style>\n<table border=\"1\" class=\"dataframe\">\n  <thead>\n    <tr style=\"text-align: right;\">\n      <th></th>\n      <th>invoice_id</th>\n      <th>City</th>\n      <th>Customer type</th>\n      <th>gender</th>\n      <th>product_line</th>\n      <th>unit_price</th>\n      <th>quantity</th>\n      <th>Tax 5%</th>\n      <th>Total</th>\n      <th>Payment</th>\n      <th>cogs</th>\n      <th>gross margin percentage</th>\n      <th>gross income</th>\n      <th>rating</th>\n      <th>time</th>\n      <th>day</th>\n    </tr>\n  </thead>\n  <tbody>\n    <tr>\n      <th>0</th>\n      <td>750-67-8428</td>\n      <td>Yangon</td>\n      <td>Member</td>\n      <td>Female</td>\n      <td>Health and beauty</td>\n      <td>74.69</td>\n      <td>7</td>\n      <td>26.1415</td>\n      <td>548.9715</td>\n      <td>Ewallet</td>\n      <td>522.83</td>\n      <td>4.761905</td>\n      <td>26.1415</td>\n      <td>9.1</td>\n      <td>2019-01-05 13:08:00</td>\n      <td>Saturday</td>\n    </tr>\n    <tr>\n      <th>1</th>\n      <td>226-31-3081</td>\n      <td>Naypyitaw</td>\n      <td>Normal</td>\n      <td>Female</td>\n      <td>Electronic accessories</td>\n      <td>15.28</td>\n      <td>5</td>\n      <td>3.8200</td>\n      <td>80.2200</td>\n      <td>Cash</td>\n      <td>76.40</td>\n      <td>4.761905</td>\n      <td>3.8200</td>\n      <td>9.6</td>\n      <td>2019-03-08 10:29:00</td>\n      <td>Friday</td>\n    </tr>\n    <tr>\n      <th>2</th>\n      <td>631-41-3108</td>\n      <td>Yangon</td>\n      <td>Normal</td>\n      <td>Male</td>\n      <td>Home and lifestyle</td>\n      <td>46.33</td>\n      <td>7</td>\n      <td>16.2155</td>\n      <td>340.5255</td>\n      <td>Credit card</td>\n      <td>324.31</td>\n      <td>4.761905</td>\n      <td>16.2155</td>\n      <td>7.4</td>\n      <td>2019-03-03 13:23:00</td>\n      <td>Sunday</td>\n    </tr>\n    <tr>\n      <th>3</th>\n      <td>123-19-1176</td>\n      <td>Yangon</td>\n      <td>Member</td>\n      <td>Male</td>\n      <td>Health and beauty</td>\n      <td>58.22</td>\n      <td>8</td>\n      <td>23.2880</td>\n      <td>489.0480</td>\n      <td>Ewallet</td>\n      <td>465.76</td>\n      <td>4.761905</td>\n      <td>23.2880</td>\n      <td>8.4</td>\n      <td>2019-01-27 20:33:00</td>\n      <td>Sunday</td>\n    </tr>\n    <tr>\n      <th>4</th>\n      <td>373-73-7910</td>\n      <td>Yangon</td>\n      <td>Normal</td>\n      <td>Male</td>\n      <td>Sports and travel</td>\n      <td>86.31</td>\n      <td>7</td>\n      <td>30.2085</td>\n      <td>634.3785</td>\n      <td>Ewallet</td>\n      <td>604.17</td>\n      <td>4.761905</td>\n      <td>30.2085</td>\n      <td>5.3</td>\n      <td>2019-02-08 10:37:00</td>\n      <td>Friday</td>\n    </tr>\n    <tr>\n      <th>...</th>\n      <td>...</td>\n      <td>...</td>\n      <td>...</td>\n      <td>...</td>\n      <td>...</td>\n      <td>...</td>\n      <td>...</td>\n      <td>...</td>\n      <td>...</td>\n      <td>...</td>\n      <td>...</td>\n      <td>...</td>\n      <td>...</td>\n      <td>...</td>\n      <td>...</td>\n      <td>...</td>\n    </tr>\n    <tr>\n      <th>995</th>\n      <td>233-67-5758</td>\n      <td>Naypyitaw</td>\n      <td>Normal</td>\n      <td>Male</td>\n      <td>Health and beauty</td>\n      <td>40.35</td>\n      <td>1</td>\n      <td>2.0175</td>\n      <td>42.3675</td>\n      <td>Ewallet</td>\n      <td>40.35</td>\n      <td>4.761905</td>\n      <td>2.0175</td>\n      <td>6.2</td>\n      <td>2019-01-29 13:46:00</td>\n      <td>Tuesday</td>\n    </tr>\n    <tr>\n      <th>996</th>\n      <td>303-96-2227</td>\n      <td>Mandalay</td>\n      <td>Normal</td>\n      <td>Female</td>\n      <td>Home and lifestyle</td>\n      <td>97.38</td>\n      <td>10</td>\n      <td>48.6900</td>\n      <td>1022.4900</td>\n      <td>Ewallet</td>\n      <td>973.80</td>\n      <td>4.761905</td>\n      <td>48.6900</td>\n      <td>4.4</td>\n      <td>2019-03-02 17:16:00</td>\n      <td>Saturday</td>\n    </tr>\n    <tr>\n      <th>997</th>\n      <td>727-02-1313</td>\n      <td>Yangon</td>\n      <td>Member</td>\n      <td>Male</td>\n      <td>Food and beverages</td>\n      <td>31.84</td>\n      <td>1</td>\n      <td>1.5920</td>\n      <td>33.4320</td>\n      <td>Cash</td>\n      <td>31.84</td>\n      <td>4.761905</td>\n      <td>1.5920</td>\n      <td>7.7</td>\n      <td>2019-02-09 13:22:00</td>\n      <td>Saturday</td>\n    </tr>\n    <tr>\n      <th>998</th>\n      <td>347-56-2442</td>\n      <td>Yangon</td>\n      <td>Normal</td>\n      <td>Male</td>\n      <td>Home and lifestyle</td>\n      <td>65.82</td>\n      <td>1</td>\n      <td>3.2910</td>\n      <td>69.1110</td>\n      <td>Cash</td>\n      <td>65.82</td>\n      <td>4.761905</td>\n      <td>3.2910</td>\n      <td>4.1</td>\n      <td>2019-02-22 15:33:00</td>\n      <td>Friday</td>\n    </tr>\n    <tr>\n      <th>999</th>\n      <td>849-09-3807</td>\n      <td>Yangon</td>\n      <td>Member</td>\n      <td>Female</td>\n      <td>Fashion accessories</td>\n      <td>88.34</td>\n      <td>7</td>\n      <td>30.9190</td>\n      <td>649.2990</td>\n      <td>Cash</td>\n      <td>618.38</td>\n      <td>4.761905</td>\n      <td>30.9190</td>\n      <td>6.6</td>\n      <td>2019-02-18 13:28:00</td>\n      <td>Monday</td>\n    </tr>\n  </tbody>\n</table>\n<p>1000 rows × 16 columns</p>\n</div>"
     },
     "execution_count": 145,
     "metadata": {},
     "output_type": "execute_result"
    }
   ],
   "source": [
    "df"
   ],
   "metadata": {
    "collapsed": false,
    "pycharm": {
     "name": "#%%\n"
    }
   }
  },
  {
   "cell_type": "code",
   "execution_count": 136,
   "outputs": [
    {
     "ename": "KeyError",
     "evalue": "\"Column(s) ['Invoice ID'] do not exist\"",
     "output_type": "error",
     "traceback": [
      "\u001B[1;31m---------------------------------------------------------------------------\u001B[0m",
      "\u001B[1;31mKeyError\u001B[0m                                  Traceback (most recent call last)",
      "Input \u001B[1;32mIn [136]\u001B[0m, in \u001B[0;36m<module>\u001B[1;34m\u001B[0m\n\u001B[1;32m----> 1\u001B[0m day_sale_df \u001B[38;5;241m=\u001B[39m \u001B[43mdf\u001B[49m\u001B[38;5;241;43m.\u001B[39;49m\u001B[43mgroupby\u001B[49m\u001B[43m(\u001B[49m\u001B[43mdf\u001B[49m\u001B[43m[\u001B[49m\u001B[38;5;124;43m'\u001B[39;49m\u001B[38;5;124;43mtime\u001B[39;49m\u001B[38;5;124;43m'\u001B[39;49m\u001B[43m]\u001B[49m\u001B[38;5;241;43m.\u001B[39;49m\u001B[43mdt\u001B[49m\u001B[38;5;241;43m.\u001B[39;49m\u001B[43mdayofweek\u001B[49m\u001B[43m)\u001B[49m\u001B[38;5;241;43m.\u001B[39;49m\u001B[43magg\u001B[49m\u001B[43m(\u001B[49m\u001B[43m{\u001B[49m\u001B[38;5;124;43m'\u001B[39;49m\u001B[38;5;124;43mInvoice ID\u001B[39;49m\u001B[38;5;124;43m'\u001B[39;49m\u001B[43m:\u001B[49m\u001B[43m \u001B[49m\u001B[38;5;124;43m'\u001B[39;49m\u001B[38;5;124;43mcount\u001B[39;49m\u001B[38;5;124;43m'\u001B[39;49m\u001B[43m}\u001B[49m\u001B[43m)\u001B[49m\n\u001B[0;32m      2\u001B[0m day_sale_df \u001B[38;5;241m=\u001B[39m day_sale_df\u001B[38;5;241m.\u001B[39mrename(columns\u001B[38;5;241m=\u001B[39m{\u001B[38;5;124m'\u001B[39m\u001B[38;5;124mInvoice ID\u001B[39m\u001B[38;5;124m'\u001B[39m: \u001B[38;5;124m'\u001B[39m\u001B[38;5;124mtransaction\u001B[39m\u001B[38;5;124m'\u001B[39m})\n\u001B[0;32m      3\u001B[0m day_sale_df\u001B[38;5;241m.\u001B[39mindex \u001B[38;5;241m=\u001B[39m [\u001B[38;5;124m'\u001B[39m\u001B[38;5;124mMonday\u001B[39m\u001B[38;5;124m'\u001B[39m, \u001B[38;5;124m'\u001B[39m\u001B[38;5;124mTuesday\u001B[39m\u001B[38;5;124m'\u001B[39m, \u001B[38;5;124m'\u001B[39m\u001B[38;5;124mWednesday\u001B[39m\u001B[38;5;124m'\u001B[39m, \u001B[38;5;124m'\u001B[39m\u001B[38;5;124mThursday\u001B[39m\u001B[38;5;124m'\u001B[39m, \u001B[38;5;124m'\u001B[39m\u001B[38;5;124mFriday\u001B[39m\u001B[38;5;124m'\u001B[39m, \u001B[38;5;124m'\u001B[39m\u001B[38;5;124mSaturday\u001B[39m\u001B[38;5;124m'\u001B[39m, \u001B[38;5;124m'\u001B[39m\u001B[38;5;124mSunday\u001B[39m\u001B[38;5;124m'\u001B[39m]\n",
      "File \u001B[1;32m~\\anaconda3\\envs\\Hactive8\\lib\\site-packages\\pandas\\core\\groupby\\generic.py:869\u001B[0m, in \u001B[0;36mDataFrameGroupBy.aggregate\u001B[1;34m(self, func, engine, engine_kwargs, *args, **kwargs)\u001B[0m\n\u001B[0;32m    866\u001B[0m func \u001B[38;5;241m=\u001B[39m maybe_mangle_lambdas(func)\n\u001B[0;32m    868\u001B[0m op \u001B[38;5;241m=\u001B[39m GroupByApply(\u001B[38;5;28mself\u001B[39m, func, args, kwargs)\n\u001B[1;32m--> 869\u001B[0m result \u001B[38;5;241m=\u001B[39m \u001B[43mop\u001B[49m\u001B[38;5;241;43m.\u001B[39;49m\u001B[43magg\u001B[49m\u001B[43m(\u001B[49m\u001B[43m)\u001B[49m\n\u001B[0;32m    870\u001B[0m \u001B[38;5;28;01mif\u001B[39;00m \u001B[38;5;129;01mnot\u001B[39;00m is_dict_like(func) \u001B[38;5;129;01mand\u001B[39;00m result \u001B[38;5;129;01mis\u001B[39;00m \u001B[38;5;129;01mnot\u001B[39;00m \u001B[38;5;28;01mNone\u001B[39;00m:\n\u001B[0;32m    871\u001B[0m     \u001B[38;5;28;01mreturn\u001B[39;00m result\n",
      "File \u001B[1;32m~\\anaconda3\\envs\\Hactive8\\lib\\site-packages\\pandas\\core\\apply.py:168\u001B[0m, in \u001B[0;36mApply.agg\u001B[1;34m(self)\u001B[0m\n\u001B[0;32m    165\u001B[0m     \u001B[38;5;28;01mreturn\u001B[39;00m \u001B[38;5;28mself\u001B[39m\u001B[38;5;241m.\u001B[39mapply_str()\n\u001B[0;32m    167\u001B[0m \u001B[38;5;28;01mif\u001B[39;00m is_dict_like(arg):\n\u001B[1;32m--> 168\u001B[0m     \u001B[38;5;28;01mreturn\u001B[39;00m \u001B[38;5;28;43mself\u001B[39;49m\u001B[38;5;241;43m.\u001B[39;49m\u001B[43magg_dict_like\u001B[49m\u001B[43m(\u001B[49m\u001B[43m)\u001B[49m\n\u001B[0;32m    169\u001B[0m \u001B[38;5;28;01melif\u001B[39;00m is_list_like(arg):\n\u001B[0;32m    170\u001B[0m     \u001B[38;5;66;03m# we require a list, but not a 'str'\u001B[39;00m\n\u001B[0;32m    171\u001B[0m     \u001B[38;5;28;01mreturn\u001B[39;00m \u001B[38;5;28mself\u001B[39m\u001B[38;5;241m.\u001B[39magg_list_like()\n",
      "File \u001B[1;32m~\\anaconda3\\envs\\Hactive8\\lib\\site-packages\\pandas\\core\\apply.py:467\u001B[0m, in \u001B[0;36mApply.agg_dict_like\u001B[1;34m(self)\u001B[0m\n\u001B[0;32m    464\u001B[0m     selected_obj \u001B[38;5;241m=\u001B[39m obj\u001B[38;5;241m.\u001B[39m_selected_obj\n\u001B[0;32m    465\u001B[0m     selection \u001B[38;5;241m=\u001B[39m obj\u001B[38;5;241m.\u001B[39m_selection\n\u001B[1;32m--> 467\u001B[0m arg \u001B[38;5;241m=\u001B[39m \u001B[38;5;28;43mself\u001B[39;49m\u001B[38;5;241;43m.\u001B[39;49m\u001B[43mnormalize_dictlike_arg\u001B[49m\u001B[43m(\u001B[49m\u001B[38;5;124;43m\"\u001B[39;49m\u001B[38;5;124;43magg\u001B[39;49m\u001B[38;5;124;43m\"\u001B[39;49m\u001B[43m,\u001B[49m\u001B[43m \u001B[49m\u001B[43mselected_obj\u001B[49m\u001B[43m,\u001B[49m\u001B[43m \u001B[49m\u001B[43marg\u001B[49m\u001B[43m)\u001B[49m\n\u001B[0;32m    469\u001B[0m \u001B[38;5;28;01mif\u001B[39;00m selected_obj\u001B[38;5;241m.\u001B[39mndim \u001B[38;5;241m==\u001B[39m \u001B[38;5;241m1\u001B[39m:\n\u001B[0;32m    470\u001B[0m     \u001B[38;5;66;03m# key only used for output\u001B[39;00m\n\u001B[0;32m    471\u001B[0m     colg \u001B[38;5;241m=\u001B[39m obj\u001B[38;5;241m.\u001B[39m_gotitem(selection, ndim\u001B[38;5;241m=\u001B[39m\u001B[38;5;241m1\u001B[39m)\n",
      "File \u001B[1;32m~\\anaconda3\\envs\\Hactive8\\lib\\site-packages\\pandas\\core\\apply.py:585\u001B[0m, in \u001B[0;36mApply.normalize_dictlike_arg\u001B[1;34m(self, how, obj, func)\u001B[0m\n\u001B[0;32m    583\u001B[0m     \u001B[38;5;28;01mif\u001B[39;00m \u001B[38;5;28mlen\u001B[39m(cols) \u001B[38;5;241m>\u001B[39m \u001B[38;5;241m0\u001B[39m:\n\u001B[0;32m    584\u001B[0m         cols_sorted \u001B[38;5;241m=\u001B[39m \u001B[38;5;28mlist\u001B[39m(safe_sort(\u001B[38;5;28mlist\u001B[39m(cols)))\n\u001B[1;32m--> 585\u001B[0m         \u001B[38;5;28;01mraise\u001B[39;00m \u001B[38;5;167;01mKeyError\u001B[39;00m(\u001B[38;5;124mf\u001B[39m\u001B[38;5;124m\"\u001B[39m\u001B[38;5;124mColumn(s) \u001B[39m\u001B[38;5;132;01m{\u001B[39;00mcols_sorted\u001B[38;5;132;01m}\u001B[39;00m\u001B[38;5;124m do not exist\u001B[39m\u001B[38;5;124m\"\u001B[39m)\n\u001B[0;32m    587\u001B[0m is_aggregator \u001B[38;5;241m=\u001B[39m \u001B[38;5;28;01mlambda\u001B[39;00m x: \u001B[38;5;28misinstance\u001B[39m(x, (\u001B[38;5;28mlist\u001B[39m, \u001B[38;5;28mtuple\u001B[39m, \u001B[38;5;28mdict\u001B[39m))\n\u001B[0;32m    589\u001B[0m \u001B[38;5;66;03m# if we have a dict of any non-scalars\u001B[39;00m\n\u001B[0;32m    590\u001B[0m \u001B[38;5;66;03m# eg. {'A' : ['mean']}, normalize all to\u001B[39;00m\n\u001B[0;32m    591\u001B[0m \u001B[38;5;66;03m# be list-likes\u001B[39;00m\n\u001B[0;32m    592\u001B[0m \u001B[38;5;66;03m# Cannot use func.values() because arg may be a Series\u001B[39;00m\n",
      "\u001B[1;31mKeyError\u001B[0m: \"Column(s) ['Invoice ID'] do not exist\""
     ]
    }
   ],
   "source": [
    "day_sale_df = df.groupby(df['time'].dt.dayofweek).agg({'Invoice ID': 'count'})\n",
    "day_sale_df = day_sale_df.rename(columns={'Invoice ID': 'transaction'})\n",
    "day_sale_df.index = ['Monday', 'Tuesday', 'Wednesday', 'Thursday', 'Friday', 'Saturday', 'Sunday']\n",
    "day_sale_df['item_sold'] = df.groupby(df['time'].dt.day_name()).agg({'Quantity': 'sum'})\n",
    "\n",
    "day_sale_df.plot(kind='bar', figsize=(10, 5))"
   ],
   "metadata": {
    "collapsed": false,
    "pycharm": {
     "name": "#%%\n"
    }
   }
  },
  {
   "cell_type": "code",
   "execution_count": 153,
   "outputs": [
    {
     "data": {
      "text/plain": "                        freq  quantity    rating  unit_price       total  \\\nproduct_line                                                               \nElectronic accessories   170       971  6.924706    9.375664  54337.5315   \nFashion accessories      178       902  7.029213   11.278659  54305.8950   \nFood and beverages       174       952  7.113218   10.236912  56144.8440   \nHealth and beauty        152       854  7.003289    9.763326  49193.7390   \nHome and lifestyle       160       911  6.837500    9.715379  53861.9130   \nSports and travel        166       920  6.916265   10.283565  55122.8265   \n\n                        gender_male  gender_female  quantity_avg   total_avg  \nproduct_line                                                                  \nElectronic accessories           86             84      5.711765  319.632538  \nFashion accessories              82             96      5.067416  305.089298  \nFood and beverages               84             90      5.471264  322.671517  \nHealth and beauty                88             64      5.618421  323.643020  \nHome and lifestyle               81             79      5.693750  336.636956  \nSports and travel                78             88      5.542169  332.065220  ",
      "text/html": "<div>\n<style scoped>\n    .dataframe tbody tr th:only-of-type {\n        vertical-align: middle;\n    }\n\n    .dataframe tbody tr th {\n        vertical-align: top;\n    }\n\n    .dataframe thead th {\n        text-align: right;\n    }\n</style>\n<table border=\"1\" class=\"dataframe\">\n  <thead>\n    <tr style=\"text-align: right;\">\n      <th></th>\n      <th>freq</th>\n      <th>quantity</th>\n      <th>rating</th>\n      <th>unit_price</th>\n      <th>total</th>\n      <th>gender_male</th>\n      <th>gender_female</th>\n      <th>quantity_avg</th>\n      <th>total_avg</th>\n    </tr>\n    <tr>\n      <th>product_line</th>\n      <th></th>\n      <th></th>\n      <th></th>\n      <th></th>\n      <th></th>\n      <th></th>\n      <th></th>\n      <th></th>\n      <th></th>\n    </tr>\n  </thead>\n  <tbody>\n    <tr>\n      <th>Electronic accessories</th>\n      <td>170</td>\n      <td>971</td>\n      <td>6.924706</td>\n      <td>9.375664</td>\n      <td>54337.5315</td>\n      <td>86</td>\n      <td>84</td>\n      <td>5.711765</td>\n      <td>319.632538</td>\n    </tr>\n    <tr>\n      <th>Fashion accessories</th>\n      <td>178</td>\n      <td>902</td>\n      <td>7.029213</td>\n      <td>11.278659</td>\n      <td>54305.8950</td>\n      <td>82</td>\n      <td>96</td>\n      <td>5.067416</td>\n      <td>305.089298</td>\n    </tr>\n    <tr>\n      <th>Food and beverages</th>\n      <td>174</td>\n      <td>952</td>\n      <td>7.113218</td>\n      <td>10.236912</td>\n      <td>56144.8440</td>\n      <td>84</td>\n      <td>90</td>\n      <td>5.471264</td>\n      <td>322.671517</td>\n    </tr>\n    <tr>\n      <th>Health and beauty</th>\n      <td>152</td>\n      <td>854</td>\n      <td>7.003289</td>\n      <td>9.763326</td>\n      <td>49193.7390</td>\n      <td>88</td>\n      <td>64</td>\n      <td>5.618421</td>\n      <td>323.643020</td>\n    </tr>\n    <tr>\n      <th>Home and lifestyle</th>\n      <td>160</td>\n      <td>911</td>\n      <td>6.837500</td>\n      <td>9.715379</td>\n      <td>53861.9130</td>\n      <td>81</td>\n      <td>79</td>\n      <td>5.693750</td>\n      <td>336.636956</td>\n    </tr>\n    <tr>\n      <th>Sports and travel</th>\n      <td>166</td>\n      <td>920</td>\n      <td>6.916265</td>\n      <td>10.283565</td>\n      <td>55122.8265</td>\n      <td>78</td>\n      <td>88</td>\n      <td>5.542169</td>\n      <td>332.065220</td>\n    </tr>\n  </tbody>\n</table>\n</div>"
     },
     "execution_count": 153,
     "metadata": {},
     "output_type": "execute_result"
    }
   ],
   "source": [
    "product_df = df.groupby('product_line').agg({'invoice_id': 'count', 'quantity': 'sum', 'rating': 'mean', 'unit_price': 'sum', 'total': 'sum'})\n",
    "product_df = product_df.rename(columns={'invoice_id': 'freq'})\n",
    "product_df[\"gender_male\"] = df[df.gender == 'Male'].groupby('product_line').count().gender\n",
    "product_df['gender_female'] = df[df.gender == 'Female'].groupby('product_line').count().gender\n",
    "product_df['unit_price'] /= product_df.quantity\n",
    "product_df['quantity_avg'] = product_df.quantity / product_df.freq\n",
    "product_df['total_avg'] = product_df.total / product_df.freq\n",
    "product_df"
   ],
   "metadata": {
    "collapsed": false,
    "pycharm": {
     "name": "#%%\n"
    }
   }
  }
 ],
 "metadata": {
  "kernelspec": {
   "display_name": "Python 3",
   "language": "python",
   "name": "python3"
  },
  "language_info": {
   "codemirror_mode": {
    "name": "ipython",
    "version": 2
   },
   "file_extension": ".py",
   "mimetype": "text/x-python",
   "name": "python",
   "nbconvert_exporter": "python",
   "pygments_lexer": "ipython2",
   "version": "2.7.6"
  }
 },
 "nbformat": 4,
 "nbformat_minor": 0
}