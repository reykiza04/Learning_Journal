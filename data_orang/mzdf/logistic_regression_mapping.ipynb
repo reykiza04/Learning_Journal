{
 "cells": [
  {
   "cell_type": "markdown",
   "source": [
    "# Library"
   ],
   "metadata": {
    "collapsed": false
   }
  },
  {
   "cell_type": "code",
   "execution_count": 240,
   "metadata": {
    "collapsed": true
   },
   "outputs": [],
   "source": [
    "import numpy as np\n",
    "import matplotlib.pyplot as plt"
   ]
  },
  {
   "cell_type": "markdown",
   "source": [
    "# Seed Buat Konsistensi"
   ],
   "metadata": {
    "collapsed": false
   }
  },
  {
   "cell_type": "code",
   "execution_count": 241,
   "outputs": [],
   "source": [
    "np.random.seed(0)"
   ],
   "metadata": {
    "collapsed": false,
    "pycharm": {
     "name": "#%%\n"
    }
   }
  },
  {
   "cell_type": "markdown",
   "source": [
    "# Toy Dataset"
   ],
   "metadata": {
    "collapsed": false
   }
  },
  {
   "cell_type": "code",
   "execution_count": 242,
   "outputs": [
    {
     "data": {
      "text/plain": "<matplotlib.legend.Legend at 0x2432f45d790>"
     },
     "execution_count": 242,
     "metadata": {},
     "output_type": "execute_result"
    },
    {
     "data": {
      "text/plain": "<Figure size 432x288 with 1 Axes>",
      "image/png": "[encoded data removed]"
     },
     "metadata": {
      "needs_background": "light"
     },
     "output_type": "display_data"
    }
   ],
   "source": [
    "n_sample = 32\n",
    "_a_x = np.random.normal(32, 8, size=n_sample)\n",
    "_b_x = np.random.normal(64, 8, size=n_sample)\n",
    "\n",
    "x = np.concatenate((_a_x, _b_x))\n",
    "y = np.concatenate((np.zeros(n_sample), np.ones(n_sample)))\n",
    "\n",
    "plt.scatter(_a_x, np.zeros(n_sample), label='Class A')\n",
    "plt.scatter(_b_x, np.zeros(n_sample), label='Class B')\n",
    "plt.legend()"
   ],
   "metadata": {
    "collapsed": false,
    "pycharm": {
     "name": "#%%\n"
    }
   }
  },
  {
   "cell_type": "markdown",
   "source": [
    "# Model Definisi"
   ],
   "metadata": {
    "collapsed": false
   }
  },
  {
   "cell_type": "code",
   "execution_count": 243,
   "outputs": [],
   "source": [
    "def forward(x, w, b, activation: lambda x: x):\n",
    "    return activation(x * w + b)\n",
    "\n",
    "\n",
    "logistic = lambda x: 1. / (1. + np.exp(-x))"
   ],
   "metadata": {
    "collapsed": false,
    "pycharm": {
     "name": "#%%\n"
    }
   }
  },
  {
   "cell_type": "markdown",
   "source": [
    "# Parameter Definisi"
   ],
   "metadata": {
    "collapsed": false
   }
  },
  {
   "cell_type": "code",
   "execution_count": 244,
   "outputs": [
    {
     "name": "stdout",
     "output_type": "stream",
     "text": [
      "w: 0.17742614225375283, b: 0.0\n"
     ]
    }
   ],
   "source": [
    "w = np.random.randn(1)\n",
    "b = 0.\n",
    "\n",
    "print(f\"w: {w[0]}, b: {b}\")"
   ],
   "metadata": {
    "collapsed": false,
    "pycharm": {
     "name": "#%%\n"
    }
   }
  },
  {
   "cell_type": "markdown",
   "source": [
    "# Sebelum Training"
   ],
   "metadata": {
    "collapsed": false
   }
  },
  {
   "cell_type": "code",
   "execution_count": 245,
   "outputs": [
    {
     "data": {
      "text/plain": "<matplotlib.legend.Legend at 0x2432f49bd00>"
     },
     "execution_count": 245,
     "metadata": {},
     "output_type": "execute_result"
    },
    {
     "data": {
      "text/plain": "<Figure size 432x288 with 1 Axes>",
      "image/png": "[encoded data removed]"
     },
     "metadata": {
      "needs_background": "light"
     },
     "output_type": "display_data"
    }
   ],
   "source": [
    "plt.plot(np.arange(100), forward(np.arange(100), w, b, logistic), label='Probability')\n",
    "plt.scatter(x[y==0], np.zeros(len(x))[y==0], label='Class A')\n",
    "plt.scatter(x[y==1], np.zeros(len(x))[y==1], label='Class B')\n",
    "plt.legend()"
   ],
   "metadata": {
    "collapsed": false,
    "pycharm": {
     "name": "#%%\n"
    }
   }
  },
  {
   "cell_type": "code",
   "execution_count": 246,
   "outputs": [
    {
     "name": "stdout",
     "output_type": "stream",
     "text": [
      "Accuracy: 0.5\n"
     ]
    }
   ],
   "source": [
    "y_pred = forward(x, w, b, logistic)\n",
    "y_pred_class = np.where(y_pred > 0.5, 1, 0)\n",
    "print(f\"Accuracy: {np.mean(y_pred_class == y)}\")"
   ],
   "metadata": {
    "collapsed": false,
    "pycharm": {
     "name": "#%%\n"
    }
   }
  },
  {
   "cell_type": "markdown",
   "source": [
    "# Training/Fitting"
   ],
   "metadata": {
    "collapsed": false
   }
  },
  {
   "cell_type": "code",
   "execution_count": 247,
   "outputs": [
    {
     "name": "stdout",
     "output_type": "stream",
     "text": [
      "Loss: 0.4932538212120722\n",
      "Loss: 0.22823792163865186\n",
      "Loss: 0.22171698446672766\n",
      "Loss: 0.21545879712300922\n",
      "Loss: 0.20945831097610135\n",
      "Loss: 0.20370936072474538\n",
      "Loss: 0.19820488160842054\n",
      "Loss: 0.19293711169247207\n",
      "Loss: 0.1878977758342265\n",
      "Loss: 0.18307824937676506\n",
      "Loss: 0.17846970083657773\n",
      "Loss: 0.17406321382216877\n",
      "Loss: 0.16984988914356705\n",
      "Loss: 0.16582092856822528\n",
      "Loss: 0.16196770197926066\n",
      "Loss: 0.15828179983454538\n",
      "Loss: 0.15475507284694195\n",
      "Loss: 0.15137966074091241\n",
      "Loss: 0.148148011817793\n",
      "Loss: 0.14505289490465734\n",
      "Loss: 0.14208740508790085\n",
      "Loss: 0.13924496445560167\n",
      "Loss: 0.13651931890140753\n",
      "Loss: 0.13390453188292462\n",
      "Loss: 0.1313949758826101\n",
      "Loss: 0.12898532219043712\n",
      "Loss: 0.1266705295152714\n",
      "Loss: 0.12444583183529473\n",
      "Loss: 0.12230672581576746\n",
      "Loss: 0.12024895805348723\n",
      "Loss: 0.11826851234995275\n",
      "Loss: 0.11636159716794006\n",
      "Loss: 0.11452463338752975\n",
      "Loss: 0.11275424244624814\n",
      "Loss: 0.1110472349227637\n",
      "Loss: 0.10940059960344765\n",
      "Loss: 0.10781149305522218\n",
      "Loss: 0.10627722971568018\n",
      "Loss: 0.1047952725018726\n",
      "Loss: 0.10336322393185424\n",
      "Loss: 0.10197881774762893\n",
      "Loss: 0.1006399110241687\n",
      "Loss: 0.09934447674640116\n",
      "Loss: 0.09809059683419902\n",
      "Loss: 0.0968764555942983\n",
      "Loss: 0.09570033357751279\n",
      "Loss: 0.09456060181950288\n",
      "Loss: 0.09345571644357564\n",
      "Loss: 0.09238421360445584\n",
      "Loss: 0.09134470475261024\n",
      "Loss: 0.09033587219947647\n",
      "Loss: 0.08935646496479721\n",
      "Loss: 0.08840529488816393\n",
      "Loss: 0.08748123298779867\n",
      "Loss: 0.08658320605053457\n",
      "Loss: 0.08571019343787922\n",
      "Loss: 0.08486122409394664\n",
      "Loss: 0.08403537374191576\n",
      "Loss: 0.08323176225651875\n",
      "Loss: 0.08244955120086131\n",
      "Loss: 0.08168794151664394\n",
      "Loss: 0.08094617135757864\n",
      "Loss: 0.08022351405647213\n",
      "Loss: 0.07951927621709787\n",
      "Loss: 0.07883279592257855\n",
      "Loss: 0.07816344105256606\n",
      "Loss: 0.07751060770203624\n",
      "Loss: 0.07687371869501253\n",
      "Loss: 0.0762522221869881\n",
      "Loss: 0.07564559035025188\n",
      "Loss: 0.07505331813671956\n",
      "Loss: 0.07447492211324834\n",
      "Loss: 0.07390993936475498\n",
      "Loss: 0.07335792646078332\n",
      "Loss: 0.07281845848146379\n",
      "Loss: 0.07229112809909027\n",
      "Loss: 0.071775544711792\n",
      "Loss: 0.071271333626021\n",
      "Loss: 0.07077813528480255\n",
      "Loss: 0.07029560453889633\n",
      "Loss: 0.0698234099582116\n",
      "Loss: 0.06936123318099859\n",
      "Loss: 0.06890876829850517\n",
      "Loss: 0.06846572127293815\n",
      "Loss: 0.06803180938671582\n",
      "Loss: 0.06760676072112982\n",
      "Loss: 0.06719031366265676\n",
      "Loss: 0.06678221643527855\n",
      "Loss: 0.0663822266572739\n",
      "Loss: 0.06599011092104437\n",
      "Loss: 0.06560564439463096\n",
      "Loss: 0.06522861044366372\n",
      "Loss: 0.06485880027256691\n",
      "Loss: 0.06449601258391438\n",
      "Loss: 0.06414005325490454\n",
      "Loss: 0.0637907350299856\n",
      "Loss: 0.06344787722872083\n",
      "Loss: 0.0631113054680448\n",
      "Loss: 0.06278085139811\n",
      "Loss: 0.062456352450972655\n",
      "w: 0.128, b: -5.981, loss: 0.062\n"
     ]
    }
   ],
   "source": [
    "def loss(y_pred, y):\n",
    "    return np.mean(np.square(y_pred - y))\n",
    "\n",
    "\n",
    "def gradient_decent(x, y, w, b, act, learning_rate):\n",
    "    for i in range(100000):\n",
    "        y_pred = forward(x, w, b, act)\n",
    "        l = loss(y_pred, y)\n",
    "        w -= learning_rate * np.mean(x * (y_pred - y))\n",
    "        b -= learning_rate * np.mean(y_pred - y)\n",
    "        if i % 1000 == 0:\n",
    "            print(f\"Loss: {l}\")\n",
    "    return w, b, l\n",
    "\n",
    "\n",
    "w, b, l = gradient_decent(x, y, w, b, logistic, 1e-3)\n",
    "print(f\"w: {w[0]:.3f}, b: {b:.3f}, loss: {l:.3f}\")"
   ],
   "metadata": {
    "collapsed": false,
    "pycharm": {
     "name": "#%%\n"
    }
   }
  },
  {
   "cell_type": "markdown",
   "source": [
    "# Setelah Training"
   ],
   "metadata": {
    "collapsed": false,
    "pycharm": {
     "name": "#%% md\n"
    }
   }
  },
  {
   "cell_type": "code",
   "execution_count": 248,
   "outputs": [
    {
     "data": {
      "text/plain": "<matplotlib.legend.Legend at 0x2432f50bb20>"
     },
     "execution_count": 248,
     "metadata": {},
     "output_type": "execute_result"
    },
    {
     "data": {
      "text/plain": "<Figure size 432x288 with 1 Axes>",
      "image/png": "[encoded data removed]"
     },
     "metadata": {
      "needs_background": "light"
     },
     "output_type": "display_data"
    }
   ],
   "source": [
    "plt.plot(np.arange(100), forward(np.arange(100), w, b, logistic), label='Probability')\n",
    "plt.scatter(x[y==0], np.zeros(len(x))[y==0], label='Class A')\n",
    "plt.scatter(x[y==1], np.zeros(len(x))[y==1], label='Class B')\n",
    "plt.legend()"
   ],
   "metadata": {
    "collapsed": false,
    "pycharm": {
     "name": "#%%\n"
    }
   }
  }
 ],
 "metadata": {
  "kernelspec": {
   "display_name": "Python 3",
   "language": "python",
   "name": "python3"
  },
  "language_info": {
   "codemirror_mode": {
    "name": "ipython",
    "version": 2
   },
   "file_extension": ".py",
   "mimetype": "text/x-python",
   "name": "python",
   "nbconvert_exporter": "python",
   "pygments_lexer": "ipython2",
   "version": "2.7.6"
  }
 },
 "nbformat": 4,
 "nbformat_minor": 0
}