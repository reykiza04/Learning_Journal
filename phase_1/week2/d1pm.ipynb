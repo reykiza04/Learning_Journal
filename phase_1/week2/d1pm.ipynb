{
 "cells": [
  {
   "cell_type": "markdown",
   "metadata": {},
   "source": [
    "# d1 after LC fahmi SUPORT VECTOR MACHINE"
   ]
  },
  {
   "cell_type": "markdown",
   "metadata": {},
   "source": [
    "# SVM\n",
    "\n",
    "menentukan klasifikasi akan di tentukan menggunakan VEKTOR (TITIK DATA)\n",
    " - suport vector \n",
    "    > dalam klasifikasi memisahkan data berdasarkan kelasnya, kira\" batasnya di mana saja\n",
    "\n",
    "    > titik terdekat dengan vector satunya di sebut support vector\n",
    "\n",
    "    > KNN sensitiv sama seperti SVM (yg menghitung jarak harus di bersihkan outlier dan sama feature scales)"
   ]
  },
  {
   "cell_type": "markdown",
   "metadata": {},
   "source": [
    "di SVM ada beberaoa bentuk kernel yang di gunakan untuk membatasi\n",
    "\n",
    "- fungsi polynomial\n",
    "- rbf dll"
   ]
  },
  {
   "cell_type": "markdown",
   "metadata": {},
   "source": [
    "- klasifikasi\n",
    "\n",
    "- regresi\n",
    "    - ada tambahan hyper parameter, epsilon(batasan margin)\n",
    "\n",
    "    SVM \n",
    "    SVC\n",
    "    regresi pakai SVR epsilon dan C menjadi penentu\n",
    "\n",
    "berbeda cara---"
   ]
  },
  {
   "cell_type": "code",
   "execution_count": null,
   "metadata": {},
   "outputs": [],
   "source": []
  }
 ],
 "metadata": {
  "interpreter": {
   "hash": "8a0314e9a3496969cdc3b628708851b260263268c48c6868778a684e0fdc7ce1"
  },
  "kernelspec": {
   "display_name": "Python 3.9.7 ('base')",
   "language": "python",
   "name": "python3"
  },
  "language_info": {
   "name": "python",
   "version": "3.9.7"
  },
  "orig_nbformat": 4
 },
 "nbformat": 4,
 "nbformat_minor": 2
}
