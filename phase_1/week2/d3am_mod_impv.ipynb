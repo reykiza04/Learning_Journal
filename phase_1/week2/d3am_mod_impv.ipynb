{
 "cells": [
  {
   "cell_type": "markdown",
   "metadata": {},
   "source": [
    "# d3am Model Improvement\n",
    "\n",
    "Cross industry standard proces for data mining\n",
    "- kehidupan kita nanti saat kerja nanti, ada alurnya sendiri\n",
    "- data understanding sangatlah penting\n",
    "\n",
    "- Parameter -> seperti slope dan inscept dari outpun model\n",
    "- Hyper Parameter -> tunning awal pada definisi model\n",
    "\n",
    "parameter di hasilkan oleh hyperparameter sebagai dasar rule algoritmanya berjalan\n",
    "\n",
    "karena hyper parameter di set pada awal maka sangat berefek pada model\n",
    "\n",
    "tapi kembali lagi tidak ada tune default beda case beda hyperparameter\n",
    "\n",
    "ML akan menghasilkan model atau rule yang kadang bisa di ukur ataupun tidak\n",
    "\n",
    "\n",
    "SVM tidak ada parameter JUST BELIVE but lama komputasinya"
   ]
  },
  {
   "cell_type": "markdown",
   "metadata": {},
   "source": [
    "## Kita tidak bisa menentukan HYPERPARAMETER sama semua makanya ada kelas ini\n",
    "\n",
    "\n",
    "makin sstabil model makin kecil standard deviasi\n",
    "\n",
    "\n",
    "## Cross Validation \n",
    " Leave One out -> regression\n",
    " Leave P out -> classification"
   ]
  },
  {
   "cell_type": "code",
   "execution_count": null,
   "metadata": {},
   "outputs": [],
   "source": [
    "import pandas as pd"
   ]
  },
  {
   "cell_type": "markdown",
   "metadata": {},
   "source": [
    "---\n",
    "\n",
    "pipeline adalah proses yang menggabungkan beberapa proses yang berbeda\n",
    "bagaikan kantong yang berisi banyak bahan\n",
    "pipe.fit sebagai proses yang pertama\n",
    "yang bisa masuk ke pipeline adalah fit\n",
    "\n",
    "contoh lain winsorize yang penting ada metode fit_transform\n",
    "\n",
    "pipie.fit(X_train, y_train)\n",
    "pipe.predic(X_test, y_test) dia otomatis akan menghasilkan y_pred\n",
    "outlier tidak di kerjakan pada test hanya di train, agar hasil prediksinya tidak sama dengan train bahkan bisa melampaui\n",
    "\n"
   ]
  }
 ],
 "metadata": {
  "language_info": {
   "name": "python"
  },
  "orig_nbformat": 4
 },
 "nbformat": 4,
 "nbformat_minor": 2
}
