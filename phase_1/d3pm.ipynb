{
 "cells": [
  {
   "cell_type": "markdown",
   "metadata": {},
   "source": [
    "# Logistic Regression\n",
    "\n",
    "misal punya binari 0 dan 1, jadi kita akan menklasifikasikan dia masuk ke mana\n",
    "ada agen yang namanya fungsi signoid atau fungsi aktifasi, memberikan prebolitas ke kelas 0 atas 1\n",
    "\n",
    "dalam logistik regresion yang berberan penting adalah logistik linier\n",
    "\n",
    "misal\n",
    "\n",
    "y= wx+b\n",
    "y = bobot * X + B\n",
    "y akan di imput kedalam fungsi sigmoid\n",
    "y^ = Q(y)\n",
    "\n",
    "\n",
    "\n",
    "----\n",
    "\n",
    "scikit-learn.org\n",
    "\n",
    "\n",
    "makin kuat regularisasi makin kecil C\n",
    "\n",
    "\n",
    "penalti adalah l1 l2 laso dll\n",
    "\n",
    "solver teknik\n",
    "\n",
    "penalty itu l1, l2 L1 regularization adds an L1 penalty equal to the absolute value of the magnitude of coefficients. In other words, it limits the size of the coefficients. L1 can yield sparse models (i.e. models with few coefficients); Some coefficients can become zero and eliminated. Lasso regression uses this method.\n",
    "L2 regularization adds an L2 penalty equal to the square of the magnitude of coefficients. L2 will not yield sparse models and all coefficients are shrunk by the same factor (none are eliminated). Ridge regression and SVMs use this method.\n",
    "Elastic nets combine L1 & L2 methods, but do add a hyperparameter (see this paper by Zou and Hastie).\n",
    "https://www.statisticshowto.com/regularization/\n",
    "\n",
    "\n",
    "\n",
    "klasifikasi prediksi kelas\n",
    "\n",
    "clustering mencari kwsamaan dan di kelompokan\n",
    "\n"
   ]
  }
 ],
 "metadata": {
  "interpreter": {
   "hash": "8a0314e9a3496969cdc3b628708851b260263268c48c6868778a684e0fdc7ce1"
  },
  "kernelspec": {
   "display_name": "Python 3.9.7 ('base')",
   "language": "python",
   "name": "python3"
  },
  "language_info": {
   "codemirror_mode": {
    "name": "ipython",
    "version": 3
   },
   "file_extension": ".py",
   "mimetype": "text/x-python",
   "name": "python",
   "nbconvert_exporter": "python",
   "pygments_lexer": "ipython3",
   "version": "3.9.7"
  },
  "orig_nbformat": 4
 },
 "nbformat": 4,
 "nbformat_minor": 2
}
