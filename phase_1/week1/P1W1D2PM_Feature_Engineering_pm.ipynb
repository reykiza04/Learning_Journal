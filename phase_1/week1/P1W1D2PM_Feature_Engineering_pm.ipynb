{
  "cells": [
    {
      "cell_type": "markdown",
      "metadata": {
        "id": "az08qa37dEYx"
      },
      "source": [
        "# A. Outliers Explanation"
      ]
    },
    {
      "cell_type": "markdown",
      "metadata": {
        "id": "KzMpVbAaQXOX"
      },
      "source": [
        "## Datasets: \n",
        "\n",
        "In this section, we will use the *House Prices* and *Titanic* datasets.\n",
        "- *House Prices* : from Scikit Learn\n",
        "- *Titanic* : https://www.openml.org/data/get_csv/16826755/phpMYEkMl\n",
        "\n",
        "\n",
        "\n",
        "outlier adalah data di luar kelaziman data yang ada"
      ]
    },
    {
      "cell_type": "code",
      "execution_count": 1,
      "metadata": {
        "colab": {
          "base_uri": "https://localhost:8080/"
        },
        "id": "EZbUIyxtQXOb",
        "outputId": "7bcdbf3f-9ed8-4a7c-bf50-235c63a5f64f"
      },
      "outputs": [
        {
          "name": "stdout",
          "output_type": "stream",
          "text": [
            ".. _boston_dataset:\n",
            "\n",
            "Boston house prices dataset\n",
            "---------------------------\n",
            "\n",
            "**Data Set Characteristics:**  \n",
            "\n",
            "    :Number of Instances: 506 \n",
            "\n",
            "    :Number of Attributes: 13 numeric/categorical predictive. Median Value (attribute 14) is usually the target.\n",
            "\n",
            "    :Attribute Information (in order):\n",
            "        - CRIM     per capita crime rate by town\n",
            "        - ZN       proportion of residential land zoned for lots over 25,000 sq.ft.\n",
            "        - INDUS    proportion of non-retail business acres per town\n",
            "        - CHAS     Charles River dummy variable (= 1 if tract bounds river; 0 otherwise)\n",
            "        - NOX      nitric oxides concentration (parts per 10 million)\n",
            "        - RM       average number of rooms per dwelling\n",
            "        - AGE      proportion of owner-occupied units built prior to 1940\n",
            "        - DIS      weighted distances to five Boston employment centres\n",
            "        - RAD      index of accessibility to radial highways\n",
            "        - TAX      full-value property-tax rate per $10,000\n",
            "        - PTRATIO  pupil-teacher ratio by town\n",
            "        - B        1000(Bk - 0.63)^2 where Bk is the proportion of black people by town\n",
            "        - LSTAT    % lower status of the population\n",
            "        - MEDV     Median value of owner-occupied homes in $1000's\n",
            "\n",
            "    :Missing Attribute Values: None\n",
            "\n",
            "    :Creator: Harrison, D. and Rubinfeld, D.L.\n",
            "\n",
            "This is a copy of UCI ML housing dataset.\n",
            "https://archive.ics.uci.edu/ml/machine-learning-databases/housing/\n",
            "\n",
            "\n",
            "This dataset was taken from the StatLib library which is maintained at Carnegie Mellon University.\n",
            "\n",
            "The Boston house-price data of Harrison, D. and Rubinfeld, D.L. 'Hedonic\n",
            "prices and the demand for clean air', J. Environ. Economics & Management,\n",
            "vol.5, 81-102, 1978.   Used in Belsley, Kuh & Welsch, 'Regression diagnostics\n",
            "...', Wiley, 1980.   N.B. Various transformations are used in the table on\n",
            "pages 244-261 of the latter.\n",
            "\n",
            "The Boston house-price data has been used in many machine learning papers that address regression\n",
            "problems.   \n",
            "     \n",
            ".. topic:: References\n",
            "\n",
            "   - Belsley, Kuh & Welsch, 'Regression diagnostics: Identifying Influential Data and Sources of Collinearity', Wiley, 1980. 244-261.\n",
            "   - Quinlan,R. (1993). Combining Instance-Based and Model-Based Learning. In Proceedings on the Tenth International Conference of Machine Learning, 236-243, University of Massachusetts, Amherst. Morgan Kaufmann.\n",
            "\n"
          ]
        }
      ],
      "source": [
        "# print information for boston dataset\n",
        "from sklearn.datasets import load_boston\n",
        "print(load_boston().DESCR)"
      ]
    },
    {
      "cell_type": "markdown",
      "metadata": {
        "id": "L4Avk_GWQXOd"
      },
      "source": [
        "## Tujuan\n",
        "\n",
        "Kami akan:\n",
        "\n",
        "- Identifikasi outlier dalam variabel terdistribusi normal.\n",
        "- Identifikasi outlier dalam variabel miring."
      ]
    },
    {
      "cell_type": "code",
      "execution_count": 2,
      "metadata": {
        "id": "HnKs2y8sQXOd"
      },
      "outputs": [],
      "source": [
        "import pandas as pd\n",
        "import numpy as np\n",
        "\n",
        "import matplotlib.pyplot as plt\n",
        "import seaborn as sns\n",
        "\n",
        "import scipy.stats as stats\n",
        "\n",
        "# Boston house dataset for the demo\n",
        "from sklearn.datasets import load_boston"
      ]
    },
    {
      "cell_type": "code",
      "execution_count": 3,
      "metadata": {
        "colab": {
          "base_uri": "https://localhost:8080/"
        },
        "id": "oOiYcRq8QXOe",
        "outputId": "ad2b02aa-c723-4635-ff17-608871c16b23"
      },
      "outputs": [
        {
          "name": "stdout",
          "output_type": "stream",
          "text": [
            "Shape data :  (506, 3)\n"
          ]
        },
        {
          "data": {
            "text/html": [
              "<div>\n",
              "<style scoped>\n",
              "    .dataframe tbody tr th:only-of-type {\n",
              "        vertical-align: middle;\n",
              "    }\n",
              "\n",
              "    .dataframe tbody tr th {\n",
              "        vertical-align: top;\n",
              "    }\n",
              "\n",
              "    .dataframe thead th {\n",
              "        text-align: right;\n",
              "    }\n",
              "</style>\n",
              "<table border=\"1\" class=\"dataframe\">\n",
              "  <thead>\n",
              "    <tr style=\"text-align: right;\">\n",
              "      <th></th>\n",
              "      <th>RM</th>\n",
              "      <th>LSTAT</th>\n",
              "      <th>CRIM</th>\n",
              "    </tr>\n",
              "  </thead>\n",
              "  <tbody>\n",
              "    <tr>\n",
              "      <th>0</th>\n",
              "      <td>6.575</td>\n",
              "      <td>4.98</td>\n",
              "      <td>0.00632</td>\n",
              "    </tr>\n",
              "    <tr>\n",
              "      <th>1</th>\n",
              "      <td>6.421</td>\n",
              "      <td>9.14</td>\n",
              "      <td>0.02731</td>\n",
              "    </tr>\n",
              "    <tr>\n",
              "      <th>2</th>\n",
              "      <td>7.185</td>\n",
              "      <td>4.03</td>\n",
              "      <td>0.02729</td>\n",
              "    </tr>\n",
              "    <tr>\n",
              "      <th>3</th>\n",
              "      <td>6.998</td>\n",
              "      <td>2.94</td>\n",
              "      <td>0.03237</td>\n",
              "    </tr>\n",
              "    <tr>\n",
              "      <th>4</th>\n",
              "      <td>7.147</td>\n",
              "      <td>5.33</td>\n",
              "      <td>0.06905</td>\n",
              "    </tr>\n",
              "  </tbody>\n",
              "</table>\n",
              "</div>"
            ],
            "text/plain": [
              "      RM  LSTAT     CRIM\n",
              "0  6.575   4.98  0.00632\n",
              "1  6.421   9.14  0.02731\n",
              "2  7.185   4.03  0.02729\n",
              "3  6.998   2.94  0.03237\n",
              "4  7.147   5.33  0.06905"
            ]
          },
          "execution_count": 3,
          "metadata": {},
          "output_type": "execute_result"
        }
      ],
      "source": [
        "# Load the Boston House dataset from sklearn\n",
        "boston_dataset = load_boston()\n",
        "\n",
        "# Create a dataframe with the independent variables\n",
        "# Legends : \n",
        "  # - CRIM     per capita crime rate by town\n",
        "  # - RM       average number of rooms per dwelling\n",
        "  # - LSTAT    % lower status of the population\n",
        "\n",
        "boston = pd.DataFrame(boston_dataset.data,\n",
        "                      columns=boston_dataset.feature_names)[[\n",
        "                          'RM', 'LSTAT', 'CRIM'\n",
        "                      ]]\n",
        "\n",
        "print('Shape data : ', boston.shape)\n",
        "boston.head()"
      ]
    },
    {
      "cell_type": "code",
      "execution_count": 4,
      "metadata": {
        "colab": {
          "base_uri": "https://localhost:8080/"
        },
        "id": "jLySi_ySQXOe",
        "outputId": "5b0df524-6498-48d5-cdf8-68bd4c7f0376"
      },
      "outputs": [
        {
          "name": "stdout",
          "output_type": "stream",
          "text": [
            "Shape data :  (1309, 2) \n",
            "\n",
            "<class 'pandas.core.frame.DataFrame'>\n",
            "Int64Index: 1309 entries, 0 to 1308\n",
            "Data columns (total 2 columns):\n",
            " #   Column  Non-Null Count  Dtype  \n",
            "---  ------  --------------  -----  \n",
            " 0   age     1046 non-null   float64\n",
            " 1   fare    1308 non-null   float64\n",
            "dtypes: float64(2)\n",
            "memory usage: 30.7 KB\n",
            "None \n",
            "\n"
          ]
        },
        {
          "data": {
            "text/html": [
              "<div>\n",
              "<style scoped>\n",
              "    .dataframe tbody tr th:only-of-type {\n",
              "        vertical-align: middle;\n",
              "    }\n",
              "\n",
              "    .dataframe tbody tr th {\n",
              "        vertical-align: top;\n",
              "    }\n",
              "\n",
              "    .dataframe thead th {\n",
              "        text-align: right;\n",
              "    }\n",
              "</style>\n",
              "<table border=\"1\" class=\"dataframe\">\n",
              "  <thead>\n",
              "    <tr style=\"text-align: right;\">\n",
              "      <th></th>\n",
              "      <th>age</th>\n",
              "      <th>fare</th>\n",
              "    </tr>\n",
              "  </thead>\n",
              "  <tbody>\n",
              "    <tr>\n",
              "      <th>0</th>\n",
              "      <td>29.0000</td>\n",
              "      <td>211.3375</td>\n",
              "    </tr>\n",
              "    <tr>\n",
              "      <th>1</th>\n",
              "      <td>0.9167</td>\n",
              "      <td>151.5500</td>\n",
              "    </tr>\n",
              "    <tr>\n",
              "      <th>2</th>\n",
              "      <td>2.0000</td>\n",
              "      <td>151.5500</td>\n",
              "    </tr>\n",
              "    <tr>\n",
              "      <th>3</th>\n",
              "      <td>30.0000</td>\n",
              "      <td>151.5500</td>\n",
              "    </tr>\n",
              "    <tr>\n",
              "      <th>4</th>\n",
              "      <td>25.0000</td>\n",
              "      <td>151.5500</td>\n",
              "    </tr>\n",
              "  </tbody>\n",
              "</table>\n",
              "</div>"
            ],
            "text/plain": [
              "       age      fare\n",
              "0  29.0000  211.3375\n",
              "1   0.9167  151.5500\n",
              "2   2.0000  151.5500\n",
              "3  30.0000  151.5500\n",
              "4  25.0000  151.5500"
            ]
          },
          "execution_count": 4,
          "metadata": {},
          "output_type": "execute_result"
        }
      ],
      "source": [
        "# Load the Titanic dataset\n",
        "\n",
        "url = 'https://www.openml.org/data/get_csv/16826755/phpMYEkMl'\n",
        "titanic = pd.read_csv(url, usecols=['age', 'fare'])\n",
        "\n",
        "# The variables age and fare have missing values. For this missing value, let's remove them.\n",
        "titanic.dropna(subset=['age', 'fare'], inplace=True)\n",
        "titanic['age'] = pd.to_numeric(titanic['age'], errors = 'coerce')\n",
        "titanic['fare'] = pd.to_numeric(titanic['fare'], errors = 'coerce')\n",
        "titanic['age'] = titanic['age'].astype(float)\n",
        "titanic['fare'] = titanic['fare'].astype(float)\n",
        "\n",
        "print('Shape data : ', titanic.shape, '\\n')\n",
        "print(titanic.info(), '\\n')\n",
        "titanic.head()"
      ]
    },
    {
      "cell_type": "markdown",
      "metadata": {
        "id": "aOz9-7RRQXOf"
      },
      "source": [
        "## Identifikasi distribusi variabel\n",
        "\n",
        "Dalam variabel terdistribusi normal, outlier adalah nilai-nilai yang terletak di luar mean plus atau minus 3 kali standar deviasi. Namun, jika variabel miring, kami menemukan outlier menggunakan rentang antar-kuantil. Untuk memutuskan metode mana yang digunakan untuk mendeteksi outlier, pertama-tama kita perlu mengetahui distribusi variabel.\n",
        "\n",
        "Kita dapat menggunakan histogram untuk menentukan apakah variabel terdistribusi normal. Kita juga dapat menggunakan boxplot untuk memvisualisasikan outlier secara langsung. Boxplot adalah cara standar untuk menampilkan distribusi variabel menggunakan kuartil pertama, median, kuartil ketiga dan kuartil.\n",
        "\n",
        "Melihat boxplot, Anda dapat dengan mudah mengidentifikasi:\n",
        "\n",
        "- Median, ditunjukkan oleh garis di dalam kotak.\n",
        "- Kisaran antar-kuantil (IQR), kotak itu sendiri.\n",
        "- Kuantil, ke-25 (Q1) adalah bagian bawah dan ke-75 (Q3) ujung atas kotak.\n",
        "- Wisker, yang meliputi:\n",
        "  -- kumis atas: Q3 + 1,5 x IQR\n",
        "  -- kumis bawah: Q1 -1,5 x IQR\n",
        "\n",
        "Nilai apa pun yang ada di luar kumis dianggap sebagai outlier. Mari kita lihat contoh di bawah ini."
      ]
    },
    {
      "cell_type": "code",
      "execution_count": 5,
      "metadata": {
        "id": "qsSqTBTwQXOf"
      },
      "outputs": [],
      "source": [
        "# Function to create histogram and boxplot.\n",
        "# This functions takes a dataframe (df) and the variable of interest as arguments.\n",
        "\n",
        "def diagnostic_plots(df, variable):\n",
        "    # Define figure size\n",
        "    plt.figure(figsize=(16, 4))\n",
        "\n",
        "    # Histogram\n",
        "    plt.subplot(1, 2, 1)\n",
        "    sns.histplot(df[variable], bins=30)\n",
        "    plt.title('Histogram')\n",
        "\n",
        "    # Boxplot\n",
        "    plt.subplot(1, 2, 2)\n",
        "    sns.boxplot(y=df[variable])\n",
        "    plt.title('Boxplot')\n",
        "\n",
        "    plt.show()"
      ]
    },
    {
      "cell_type": "markdown",
      "metadata": {
        "id": "FdzNiJyfQXOg"
      },
      "source": [
        "### Normally distributed variables"
      ]
    },
    {
      "cell_type": "code",
      "execution_count": 6,
      "metadata": {
        "colab": {
          "base_uri": "https://localhost:8080/"
        },
        "id": "qmBzeUMrQXOg",
        "outputId": "40cae558-31bb-4221-a47c-ea6b7975f668"
      },
      "outputs": [
        {
          "data": {
            "image/png": "[encoded data removed]",
            "text/plain": [
              "<Figure size 1152x288 with 2 Axes>"
            ]
          },
          "metadata": {
            "needs_background": "light"
          },
          "output_type": "display_data"
        },
        {
          "name": "stdout",
          "output_type": "stream",
          "text": [
            "\n",
            "Skewness Value :  0.40361213328874385\n"
          ]
        }
      ],
      "source": [
        "# Let's start with the variable RM from the Boston House dataset.\n",
        "# RM is the average number of rooms per dwelling\n",
        "\n",
        "diagnostic_plots(boston, 'RM')\n",
        "print('\\nSkewness Value : ', boston['RM'].skew())"
      ]
    },
    {
      "cell_type": "markdown",
      "metadata": {
        "id": "P2pWu2YVQXOh"
      },
      "source": [
        "Dari histogram, kita melihat bahwa variabel rm mendekati distribusi Gaussian dengan cukup baik. Dalam plot kotak, kita melihat bahwa variabel dapat memiliki outlier, karena ada banyak titik yang berada di luar kumis, di kedua ekor distribusi."
      ]
    },
    {
      "cell_type": "code",
      "execution_count": 7,
      "metadata": {
        "colab": {
          "base_uri": "https://localhost:8080/"
        },
        "id": "wDVyYwUkQXOh",
        "outputId": "22d47e4e-cfe9-4d7a-f747-31d70a69a14f"
      },
      "outputs": [
        {
          "data": {
            "image/png": "[encoded data removed]",
            "text/plain": [
              "<Figure size 1152x288 with 2 Axes>"
            ]
          },
          "metadata": {
            "needs_background": "light"
          },
          "output_type": "display_data"
        },
        {
          "name": "stdout",
          "output_type": "stream",
          "text": [
            "\n",
            "Skewness Value :  0.4076718864978293\n"
          ]
        }
      ],
      "source": [
        "# let's inspect now the variable Age from the titanic\n",
        "# refers to the age of the passengers on board\n",
        "\n",
        "diagnostic_plots(titanic, 'age')\n",
        "print('\\nSkewness Value : ', titanic['age'].skew())"
      ]
    },
    {
      "cell_type": "markdown",
      "metadata": {
        "id": "CuU0AUTZQXOh"
      },
      "source": [
        "Dari histogram, kita melihat bahwa variabel mendekati distribusi Gaussian dengan cukup baik. Terjadi penyimpangan dari distribusi ke arah nilai umur yang lebih kecil. Dalam boxplot, kita dapat melihat bahwa variabel dapat memiliki outlier, karena ada banyak titik yang berada di luar whisker, di ujung kanan distribusi (whiser atas di boxplot).\n",
        "\n",
        "### Variabel miring\n",
        "### Skewed variables"
      ]
    },
    {
      "cell_type": "code",
      "execution_count": 8,
      "metadata": {
        "colab": {
          "base_uri": "https://localhost:8080/"
        },
        "id": "f4Np1afWQXOi",
        "outputId": "25576d82-63dd-4beb-99df-cc64f525d979"
      },
      "outputs": [
        {
          "data": {
            "image/png": "[encoded data removed]",
            "text/plain": [
              "<Figure size 1152x288 with 2 Axes>"
            ]
          },
          "metadata": {
            "needs_background": "light"
          },
          "output_type": "display_data"
        },
        {
          "name": "stdout",
          "output_type": "stream",
          "text": [
            "\n",
            "Skewness Value :  0.9064600935915367\n"
          ]
        }
      ],
      "source": [
        "# Variable LSTAT from the boston house dataset\n",
        "# LSTAT is the % lower status of the population\n",
        "\n",
        "diagnostic_plots(boston, 'LSTAT')\n",
        "print('\\nSkewness Value : ', boston['LSTAT'].skew())"
      ]
    },
    {
      "cell_type": "markdown",
      "metadata": {
        "id": "FJkelcwrQXOi"
      },
      "source": [
        "LSTAT tidak terdistribusi normal, ia miring dengan ekor ke kanan. Menurut boxplot, ada beberapa outlier di ujung kanan distribusi variabel."
      ]
    },
    {
      "cell_type": "code",
      "execution_count": 9,
      "metadata": {
        "colab": {
          "base_uri": "https://localhost:8080/"
        },
        "id": "IME3JyeKQXOi",
        "outputId": "498257d4-06a0-44c9-8a88-2040b1178e24"
      },
      "outputs": [
        {
          "data": {
            "image/png": "[encoded data removed]",
            "text/plain": [
              "<Figure size 1152x288 with 2 Axes>"
            ]
          },
          "metadata": {
            "needs_background": "light"
          },
          "output_type": "display_data"
        },
        {
          "name": "stdout",
          "output_type": "stream",
          "text": [
            "\n",
            "Skewness Value :  5.223148798243851\n"
          ]
        }
      ],
      "source": [
        "# Variable CRIM from the boston house dataset\n",
        "# CRIM is the per capita crime rate by town\n",
        "\n",
        "diagnostic_plots(boston, 'CRIM')\n",
        "print('\\nSkewness Value : ', boston['CRIM'].skew())"
      ]
    },
    {
      "cell_type": "markdown",
      "metadata": {
        "id": "Qs7Q49b_QXOj"
      },
      "source": [
        "CRIM sangat miring, dengan ekor ke kanan. Tampaknya ada beberapa outlier juga di ujung kanan distribusi, menurut boxplot."
      ]
    },
    {
      "cell_type": "code",
      "execution_count": 10,
      "metadata": {
        "colab": {
          "base_uri": "https://localhost:8080/"
        },
        "id": "J99-47KsQXOj",
        "outputId": "a56b2533-522a-425f-c7fc-8ab1d863746f"
      },
      "outputs": [
        {
          "data": {
            "image/png": "[encoded data removed]",
            "text/plain": [
              "<Figure size 1152x288 with 2 Axes>"
            ]
          },
          "metadata": {
            "needs_background": "light"
          },
          "output_type": "display_data"
        },
        {
          "name": "stdout",
          "output_type": "stream",
          "text": [
            "\n",
            "Skewness Value :  4.367709134122922\n"
          ]
        }
      ],
      "source": [
        "# Variable Fare from the titanic dataset\n",
        "# Fare is the price paid for the ticket by the passengers\n",
        "\n",
        "diagnostic_plots(titanic, 'fare')\n",
        "print('\\nSkewness Value : ', titanic['fare'].skew())"
      ]
    },
    {
      "cell_type": "markdown",
      "metadata": {
        "id": "_2EgbVGlQXOj"
      },
      "source": [
        "Tarif juga sangat skeww, dan menunjukkan beberapa nilai yang tidak biasa di ujung kanan distribusinya.\n",
        "\n",
        "Di sel berikutnya, kami akan mengidentifikasi outlier menggunakan:\n",
        "- rata-rata dan simpangan baku untuk variabel `RM` dan `Usia` masing-masing dari kumpulan data boston dan titanic.\n",
        "- rentang antar-kuantil untuk mengidentifikasi outlier untuk variabel `LSTAT`, `CRIM`, dan `Fare` dari kumpulan data boston dan titanic.\n",
        "\n",
        "### Deteksi outlier untuk variabel terdistribusi normal"
      ]
    },
    {
      "cell_type": "code",
      "execution_count": 11,
      "metadata": {
        "id": "QTywsfA5QXOj"
      },
      "outputs": [],
      "source": [
        "# Function to find upper and lower boundaries for normally distributed variables\n",
        "# Calculate the boundaries outside which sit the outliers for a Gaussian distribution\n",
        "\n",
        "def find_normal_boundaries(df, variable):\n",
        "    upper_boundary = df[variable].mean() + 3 * df[variable].std()\n",
        "    lower_boundary = df[variable].mean() - 3 * df[variable].std()\n",
        "\n",
        "    return upper_boundary, lower_boundary"
      ]
    },
    {
      "cell_type": "code",
      "execution_count": 12,
      "metadata": {
        "colab": {
          "base_uri": "https://localhost:8080/"
        },
        "id": "cdoxmybPQXOj",
        "outputId": "591579a5-83ab-467f-9fc4-e82ab3257d57"
      },
      "outputs": [
        {
          "data": {
            "text/plain": [
              "(8.392485817597757, 4.176782957105816)"
            ]
          },
          "execution_count": 12,
          "metadata": {},
          "output_type": "execute_result"
        }
      ],
      "source": [
        "# calculate boundaries for RM\n",
        "upper_boundary, lower_boundary = find_normal_boundaries(boston, 'RM')\n",
        "upper_boundary, lower_boundary"
      ]
    },
    {
      "cell_type": "markdown",
      "metadata": {
        "id": "YfcWanX9QXOk"
      },
      "source": [
        "Dari penjelasan di atas kami menyimpulkan bahwa nilai **lebih besar dari 8.4** atau **lebih kecil dari 4.2** sangat jarang terjadi untuk variabel `RM`. Oleh karena itu, kita dapat menganggapnya sebagai outlier."
      ]
    },
    {
      "cell_type": "code",
      "execution_count": 13,
      "metadata": {
        "colab": {
          "base_uri": "https://localhost:8080/"
        },
        "id": "01YZOfjpQXOk",
        "outputId": "4d41cce6-f4b8-46b5-96f0-70e9d419f279"
      },
      "outputs": [
        {
          "name": "stdout",
          "output_type": "stream",
          "text": [
            "Total number of houses: 506\n",
            "Houses with more than 8.4 rooms (right end outliers) : 4\n",
            "Houses with less than 4.2 rooms (left end outliers.  : 4\n",
            "\n",
            "% right end outliers : 0.7905138339920948\n",
            "% left end outliers  : 0.7905138339920948\n"
          ]
        }
      ],
      "source": [
        "# Inspect the number and percentage of outliers for `RM`\n",
        "\n",
        "print('Total number of houses: {}'.format(len(boston)))\n",
        "print('Houses with more than 8.4 rooms (right end outliers) : {}'.format(len(boston[boston['RM'] > upper_boundary])))\n",
        "print('Houses with less than 4.2 rooms (left end outliers.  : {}'.format(len(boston[boston['RM'] < lower_boundary])))\n",
        "print('')\n",
        "print('% right end outliers : {}'.format(len(boston[boston['RM'] > upper_boundary]) / len(boston) * 100))\n",
        "print('% left end outliers  : {}'.format(len(boston[boston['RM'] < lower_boundary]) / len(boston) * 100))"
      ]
    },
    {
      "cell_type": "markdown",
      "metadata": {
        "id": "GgZkiAHmQXOk"
      },
      "source": [
        "Menggunakan Analisis Nilai Ekstrim, kami mengidentifikasi outlier di kedua ujung distribusi `RM`. Persentase outlier kecil (1,58% mempertimbangkan 2 ekor bersama-sama), yang masuk akal, karena kami menemukan outlier dengan tepat. Artinya, nilai langka, kejadian langka.\n",
        "\n",
        "Mari beralih ke `Usia` di kumpulan data titanic."
      ]
    },
    {
      "cell_type": "code",
      "execution_count": 14,
      "metadata": {
        "colab": {
          "base_uri": "https://localhost:8080/"
        },
        "id": "RSEg310OQXOk",
        "outputId": "52abf8a7-97c7-40c8-b4a2-22a7d2c3ea13"
      },
      "outputs": [
        {
          "data": {
            "text/plain": [
              "(73.12163361219909, -13.359364587342487)"
            ]
          },
          "execution_count": 14,
          "metadata": {},
          "output_type": "execute_result"
        }
      ],
      "source": [
        "# Calculate boundaries for `Age` in the titanic\n",
        "\n",
        "upper_boundary, lower_boundary = find_normal_boundaries(titanic, 'age')\n",
        "upper_boundary, lower_boundary"
      ]
    },
    {
      "cell_type": "markdown",
      "metadata": {
        "id": "YKlUHLtYQXOl"
      },
      "source": [
        "Batas atas adalah **73 tahun**, yang berarti bahwa penumpang yang lebih tua dari 73 tahun sangat sedikit, jika ada, dalam titanic. Batas bawah negatif. Karena usia negatif tidak ada, masuk akal untuk mencari outlier menggunakan batas atas."
      ]
    },
    {
      "cell_type": "code",
      "execution_count": 15,
      "metadata": {
        "colab": {
          "base_uri": "https://localhost:8080/"
        },
        "id": "vPEqxBqUQXOl",
        "outputId": "c76db785-bec4-4e04-d7ba-07f84f2803d2"
      },
      "outputs": [
        {
          "name": "stdout",
          "output_type": "stream",
          "text": [
            "Total passengers         : 1309\n",
            "Passengers older than 73 : 3\n",
            "\n",
            "% of passengers older than 73 : 0.2291825821237586\n"
          ]
        }
      ],
      "source": [
        "# Lets look at the number and percentage of outliers\n",
        "\n",
        "print('Total passengers         : {}'.format(len(titanic)))\n",
        "print('Passengers older than 73 : {}'.format(len(titanic[titanic['age'] > upper_boundary])))\n",
        "print('')\n",
        "print('% of passengers older than 73 : {}'.format(len(titanic[titanic['age'] > upper_boundary]) / len(titanic) * 100))"
      ]
    },
    {
      "cell_type": "markdown",
      "metadata": {
        "id": "DinMg4vaQXOl"
      },
      "source": [
        "Ada 3 penumpang yang lebih tua dari 73 di kapal titanic, yang dapat dianggap outlier, sebagai mayoritas populasi di mana jauh lebih muda."
      ]
    },
    {
      "cell_type": "markdown",
      "metadata": {
        "id": "VmJ3Y0ekQXOm"
      },
      "source": [
        "### Outlier detection for skewed variables\n",
        "\n",
        "### Deteksi outlier untuk variabel miring"
      ]
    },
    {
      "cell_type": "code",
      "execution_count": 16,
      "metadata": {
        "id": "zuSeqy1BQXOm"
      },
      "outputs": [],
      "source": [
        "# Function to find upper and lower boundaries for skewed distributed variables\n",
        "# Let's calculate the boundaries outside which sit the outliers for skewed distributions\n",
        "# Distance passed as an argument, gives us the option to estimate 1.5 times or 3 times the IQR to calculate the boundaries.\n",
        "\n",
        "def find_skewed_boundaries(df, variable, distance):\n",
        "    IQR = df[variable].quantile(0.75) - df[variable].quantile(0.25)\n",
        "\n",
        "    lower_boundary = df[variable].quantile(0.25) - (IQR * distance)\n",
        "    upper_boundary = df[variable].quantile(0.75) + (IQR * distance)\n",
        "\n",
        "    return upper_boundary, lower_boundary"
      ]
    },
    {
      "cell_type": "code",
      "execution_count": 17,
      "metadata": {
        "colab": {
          "base_uri": "https://localhost:8080/"
        },
        "id": "bqHw-n_RQXOm",
        "outputId": "cb4cdab7-bae4-4252-cb85-c4e581f0f13d"
      },
      "outputs": [
        {
          "data": {
            "text/plain": [
              "(31.962500000000006, -8.057500000000005)"
            ]
          },
          "execution_count": 17,
          "metadata": {},
          "output_type": "execute_result"
        }
      ],
      "source": [
        "# Looking for outliers, using the interquantile proximity rule IQR * 1.5, for `LSTAT` in the boston house dataset\n",
        "\n",
        "upper_boundary, lower_boundary = find_skewed_boundaries(boston, 'LSTAT', 1.5)\n",
        "upper_boundary, lower_boundary"
      ]
    },
    {
      "cell_type": "code",
      "execution_count": 18,
      "metadata": {
        "colab": {
          "base_uri": "https://localhost:8080/"
        },
        "id": "lPofysWdQXOm",
        "outputId": "b24cd1cb-7550-4cb9-caec-8c1e863ef739"
      },
      "outputs": [
        {
          "name": "stdout",
          "output_type": "stream",
          "text": [
            "Total houses : 506\n",
            "Houses with LSTAT bigger than 32   : 7\n",
            "\n",
            "% houses with LSTAT bigger than 32 : 1.383399209486166\n"
          ]
        }
      ],
      "source": [
        "# Lets look at the number and percentage of outliers for `LSTAT`\n",
        "\n",
        "print('Total houses : {}'.format(len(boston)))\n",
        "print('Houses with LSTAT bigger than 32   : {}'.format(len(boston[boston['LSTAT'] > upper_boundary])))\n",
        "print('')\n",
        "print('% houses with LSTAT bigger than 32 : {}'.format(len(boston[boston['LSTAT'] > upper_boundary])/len(boston) * 100))"
      ]
    },
    {
      "cell_type": "markdown",
      "metadata": {
        "id": "UJ3f7RH3QXOm"
      },
      "source": [
        "Batas atas menunjukkan nilai ~32. Batas bawah adalah negatif, namun variabel `LSTAT` tidak mengambil nilai negatif. Jadi untuk menghitung outlier untuk LSTAT kita hanya menggunakan batas atas. Ini bertepatan dengan apa yang kami amati dalam plot kotak sebelumnya di buku catatan. Pencilan hanya duduk di ekor kanan distribusi LSTAT. **Kami mengamati 7 rumah, 1,38% dari kumpulan data, dengan nilai `LSTAT` yang sangat tinggi.**"
      ]
    },
    {
      "cell_type": "markdown",
      "metadata": {},
      "source": [
        "---"
      ]
    },
    {
      "cell_type": "code",
      "execution_count": 19,
      "metadata": {
        "colab": {
          "base_uri": "https://localhost:8080/"
        },
        "id": "MSBZXCfVQXOm",
        "outputId": "dcd5272a-c655-4b7f-a962-f544b7094e3a"
      },
      "outputs": [
        {
          "data": {
            "text/plain": [
              "(9.06963875, -5.31051125)"
            ]
          },
          "execution_count": 19,
          "metadata": {},
          "output_type": "execute_result"
        }
      ],
      "source": [
        "# Looking for outliers, using the interquantile proximity rule IQR * 1.5, for `CRIM` in the boston house dataset\n",
        "\n",
        "upper_boundary, lower_boundary = find_skewed_boundaries(boston, 'CRIM', 1.5)\n",
        "upper_boundary, lower_boundary"
      ]
    },
    {
      "cell_type": "code",
      "execution_count": 20,
      "metadata": {
        "colab": {
          "base_uri": "https://localhost:8080/"
        },
        "id": "sbHVWKxZQXOn",
        "outputId": "e9d315a9-3a56-42d7-c0ee-29b4795fa4f0"
      },
      "outputs": [
        {
          "name": "stdout",
          "output_type": "stream",
          "text": [
            "Total houses : 506\n",
            "Houses with CRIM bigger than 9   : 66\n",
            "\n",
            "% houses with CRIM bigger than 9 : 13.043478260869565\n"
          ]
        }
      ],
      "source": [
        "# Lets look at the number and percentage of outliers for `CRIM`\n",
        "\n",
        "print('Total houses : {}'.format(len(boston)))\n",
        "print('Houses with CRIM bigger than 9   : {}'.format(len(boston[boston['CRIM'] > upper_boundary])))\n",
        "print('')\n",
        "print('% houses with CRIM bigger than 9 : {}'.format(len(boston[boston['CRIM'] > upper_boundary]) / len(boston) * 100))"
      ]
    },
    {
      "cell_type": "code",
      "execution_count": 21,
      "metadata": {
        "colab": {
          "base_uri": "https://localhost:8080/"
        },
        "id": "BcI3dDPcnslw",
        "outputId": "d2ab38e1-a7d6-4333-8676-f98c139fc436"
      },
      "outputs": [
        {
          "data": {
            "text/plain": [
              "(14.462195000000001, -10.7030675)"
            ]
          },
          "execution_count": 21,
          "metadata": {},
          "output_type": "execute_result"
        }
      ],
      "source": [
        "# Looking for outliers, using the interquantile proximity rule IQR * 3, now lets looking for extremely high values for `CRIM` in the boston house dataset\n",
        "\n",
        "upper_boundary, lower_boundary = find_skewed_boundaries(boston, 'CRIM', 3)\n",
        "upper_boundary, lower_boundary"
      ]
    },
    {
      "cell_type": "code",
      "execution_count": 22,
      "metadata": {
        "colab": {
          "base_uri": "https://localhost:8080/"
        },
        "id": "FQmkmy9Qn3rG",
        "outputId": "3db186a1-7d25-4539-b5cb-ef8f9c9879ec"
      },
      "outputs": [
        {
          "name": "stdout",
          "output_type": "stream",
          "text": [
            "Total houses : 506\n",
            "Houses with CRIM bigger than 14   : 30\n",
            "\n",
            "% houses with CRIM bigger than 14 : 5.928853754940711\n"
          ]
        }
      ],
      "source": [
        "# Lets look at the number and percentage of outliers for `CRIM`\n",
        "\n",
        "print('Total houses : {}'.format(len(boston)))\n",
        "print('Houses with CRIM bigger than 14   : {}'.format(len(boston[boston['CRIM'] > upper_boundary])))\n",
        "print('')\n",
        "print('% houses with CRIM bigger than 14 : {}'.format(len(boston[boston['CRIM'] > upper_boundary]) / len(boston) * 100))"
      ]
    },
    {
      "cell_type": "markdown",
      "metadata": {
        "id": "8CxWz8xkQXOn"
      },
      "source": [
        "Ketika menggunakan :\n",
        "- rentang antar-kuantil 1,5 kali untuk menemukan outlier, kami menemukan bahwa **~13%** rumah menunjukkan area tingkat kejahatan yang luar biasa tinggi.\n",
        "- 3 kali rentang antar kuantil untuk menemukan outlier, kami menemukan bahwa **~6%** rumah menunjukkan area tingkat kejahatan yang luar biasa tinggi.\n",
        "\n",
        "Untuk `CRIM` juga, batas bawahnya negatif, jadi masuk akal untuk menggunakan batas atas untuk menghitung outlier, karena variabel hanya mengambil nilai positif. Ini bertepatan dengan apa yang kami amati pada boxplot `CRIM` sebelumnya di notebook ini."
      ]
    },
    {
      "cell_type": "code",
      "execution_count": 23,
      "metadata": {
        "colab": {
          "base_uri": "https://localhost:8080/"
        },
        "id": "e2PwtOfvQXOn",
        "outputId": "cdc40c0b-94c5-47f5-b12e-81d6db560b34"
      },
      "outputs": [
        {
          "data": {
            "text/plain": [
              "(101.4126, -62.24179999999999)"
            ]
          },
          "execution_count": 23,
          "metadata": {},
          "output_type": "execute_result"
        }
      ],
      "source": [
        "# Finally, identify outliers in `Fare` in the titanic dataset. Lets look again for extreme values using IQR * 3\n",
        "\n",
        "upper_boundary, lower_boundary = find_skewed_boundaries(titanic, 'fare', 3)\n",
        "upper_boundary, lower_boundary"
      ]
    },
    {
      "cell_type": "code",
      "execution_count": 24,
      "metadata": {
        "colab": {
          "base_uri": "https://localhost:8080/"
        },
        "id": "5a37EM-BQXOn",
        "outputId": "53790616-20a2-4a66-fbd8-baaf0c1fa575"
      },
      "outputs": [
        {
          "name": "stdout",
          "output_type": "stream",
          "text": [
            "Total passengers : 1309\n",
            "Passengers who paid more than 117   : 84\n",
            "\n",
            "% passengers who paid more than 117 : 6.417112299465241\n"
          ]
        }
      ],
      "source": [
        "# Lets look at the number and percentage of passengers who paid extremely high Fares\n",
        "\n",
        "print('Total passengers : {}'.format(len(titanic)))\n",
        "print('Passengers who paid more than 117   : {}'.format(len(titanic[titanic['fare'] > upper_boundary])))\n",
        "print('')\n",
        "print('% passengers who paid more than 117 : {}'.format(len(titanic[titanic['fare'] > upper_boundary])/len(titanic) * 100))"
      ]
    },
    {
      "cell_type": "markdown",
      "metadata": {
        "id": "MIaFcmEWQXOn"
      },
      "source": [
        "Untuk Tarif, serta untuk semua variabel lain dalam buku catatan ini yang menunjukkan ekor ke kanan, batas bawahnya adalah negatif. Jadi kita akan menggunakan batas atas untuk menentukan outlier. Kami mengamati bahwa 6,4% dari nilai dataset jatuh di atas batas."
      ]
    },
    {
      "cell_type": "markdown",
      "metadata": {
        "id": "yWKCpvb6s2fm"
      },
      "source": [
        "# B. Trimming"
      ]
    },
    {
      "cell_type": "markdown",
      "metadata": {
        "id": "01aCI9p6s9qX"
      },
      "source": [
        "## Pemangkasan atau pemotongan\n",
        "\n",
        "Pemangkasan, juga dikenal sebagai pemotongan, melibatkan penghapusan outlier dari dataset. Kita hanya perlu memutuskan metrik untuk menentukan outlier. Seperti yang kita lihat di bagian 3, ini bisa menjadi pendekatan Gaussian untuk variabel terdistribusi normal atau aturan jarak jarak antar-kuantil untuk variabel miring.\n",
        "\n",
        "### Keuntungan\n",
        "\n",
        "- cepat\n",
        "\n",
        "### Keterbatasan\n",
        "\n",
        "- outlier untuk satu variabel dapat berisi informasi yang berguna dalam variabel lain\n",
        "- jika ada outlier di banyak variabel, kita bisa menghapus sebagian besar dataset\n",
        "\n",
        "## Penting\n",
        "\n",
        "Pencilan harus dideteksi DAN **HANYA dihapus** dari set pelatihan, dan BUKAN dari set pengujian. Jadi pertama-tama kita harus membagi kumpulan data kita menjadi rangkaian dan pengujian, dan menghapus outlier di rangkaian rangkaian, tetapi menyimpannya dalam rangkaian pengujian, dan mengukur seberapa baik kinerja model kita."
      ]
    },
    {
      "cell_type": "markdown",
      "metadata": {
        "id": "m9y6VjdZtsPL"
      },
      "source": [
        "## Purpose\n",
        "\n",
        "We will see how to perform **trimming** using the Boston House Dataset."
      ]
    },
    {
      "cell_type": "code",
      "execution_count": 25,
      "metadata": {
        "id": "kbjhsCPQtWyX"
      },
      "outputs": [],
      "source": [
        "import pandas as pd\n",
        "import numpy as np\n",
        "\n",
        "import matplotlib.pyplot as plt\n",
        "import seaborn as sns\n",
        "\n",
        "# Boston house dataset for the demo\n",
        "from sklearn.datasets import load_boston"
      ]
    },
    {
      "cell_type": "code",
      "execution_count": 26,
      "metadata": {
        "colab": {
          "base_uri": "https://localhost:8080/",
          "height": 376
        },
        "id": "T61D7wqOtcjO",
        "outputId": "8e16a370-4a3e-452d-925f-42d20ff1bd2e"
      },
      "outputs": [
        {
          "name": "stdout",
          "output_type": "stream",
          "text": [
            "Shape data :  (506, 3)\n"
          ]
        },
        {
          "data": {
            "text/html": [
              "<div>\n",
              "<style scoped>\n",
              "    .dataframe tbody tr th:only-of-type {\n",
              "        vertical-align: middle;\n",
              "    }\n",
              "\n",
              "    .dataframe tbody tr th {\n",
              "        vertical-align: top;\n",
              "    }\n",
              "\n",
              "    .dataframe thead th {\n",
              "        text-align: right;\n",
              "    }\n",
              "</style>\n",
              "<table border=\"1\" class=\"dataframe\">\n",
              "  <thead>\n",
              "    <tr style=\"text-align: right;\">\n",
              "      <th></th>\n",
              "      <th>DIS</th>\n",
              "      <th>LSTAT</th>\n",
              "      <th>CRIM</th>\n",
              "    </tr>\n",
              "  </thead>\n",
              "  <tbody>\n",
              "    <tr>\n",
              "      <th>0</th>\n",
              "      <td>4.0900</td>\n",
              "      <td>4.98</td>\n",
              "      <td>0.00632</td>\n",
              "    </tr>\n",
              "    <tr>\n",
              "      <th>1</th>\n",
              "      <td>4.9671</td>\n",
              "      <td>9.14</td>\n",
              "      <td>0.02731</td>\n",
              "    </tr>\n",
              "    <tr>\n",
              "      <th>2</th>\n",
              "      <td>4.9671</td>\n",
              "      <td>4.03</td>\n",
              "      <td>0.02729</td>\n",
              "    </tr>\n",
              "    <tr>\n",
              "      <th>3</th>\n",
              "      <td>6.0622</td>\n",
              "      <td>2.94</td>\n",
              "      <td>0.03237</td>\n",
              "    </tr>\n",
              "    <tr>\n",
              "      <th>4</th>\n",
              "      <td>6.0622</td>\n",
              "      <td>5.33</td>\n",
              "      <td>0.06905</td>\n",
              "    </tr>\n",
              "    <tr>\n",
              "      <th>5</th>\n",
              "      <td>6.0622</td>\n",
              "      <td>5.21</td>\n",
              "      <td>0.02985</td>\n",
              "    </tr>\n",
              "    <tr>\n",
              "      <th>6</th>\n",
              "      <td>5.5605</td>\n",
              "      <td>12.43</td>\n",
              "      <td>0.08829</td>\n",
              "    </tr>\n",
              "    <tr>\n",
              "      <th>7</th>\n",
              "      <td>5.9505</td>\n",
              "      <td>19.15</td>\n",
              "      <td>0.14455</td>\n",
              "    </tr>\n",
              "    <tr>\n",
              "      <th>8</th>\n",
              "      <td>6.0821</td>\n",
              "      <td>29.93</td>\n",
              "      <td>0.21124</td>\n",
              "    </tr>\n",
              "    <tr>\n",
              "      <th>9</th>\n",
              "      <td>6.5921</td>\n",
              "      <td>17.10</td>\n",
              "      <td>0.17004</td>\n",
              "    </tr>\n",
              "  </tbody>\n",
              "</table>\n",
              "</div>"
            ],
            "text/plain": [
              "      DIS  LSTAT     CRIM\n",
              "0  4.0900   4.98  0.00632\n",
              "1  4.9671   9.14  0.02731\n",
              "2  4.9671   4.03  0.02729\n",
              "3  6.0622   2.94  0.03237\n",
              "4  6.0622   5.33  0.06905\n",
              "5  6.0622   5.21  0.02985\n",
              "6  5.5605  12.43  0.08829\n",
              "7  5.9505  19.15  0.14455\n",
              "8  6.0821  29.93  0.21124\n",
              "9  6.5921  17.10  0.17004"
            ]
          },
          "execution_count": 26,
          "metadata": {},
          "output_type": "execute_result"
        }
      ],
      "source": [
        "# Load the Boston House dataset from sklearn\n",
        "boston_dataset = load_boston()\n",
        "\n",
        "# Create a dataframe with the independent variables\n",
        "# Legends : \n",
        "  # - DIS      weighted distances to five Boston employment centres\n",
        "  # - RM       average number of rooms per dwelling\n",
        "  # - LSTAT    % lower status of the population\n",
        "  \n",
        "boston = pd.DataFrame(boston_dataset.data,\n",
        "                      columns=boston_dataset.feature_names)[[\n",
        "                          'DIS', 'LSTAT', 'CRIM'\n",
        "                      ]]\n",
        "\n",
        "print('Shape data : ', boston.shape)\n",
        "boston.head(10)"
      ]
    },
    {
      "cell_type": "code",
      "execution_count": 27,
      "metadata": {
        "id": "ZPAnV_ORt2Im"
      },
      "outputs": [],
      "source": [
        "# Function to create histogram and boxplot.\n",
        "# Function takes a dataframe (df) and the variable of interest as arguments\n",
        "\n",
        "def diagnostic_plots(df, variable):\n",
        "    # Define figure size\n",
        "    plt.figure(figsize=(16, 4))\n",
        "\n",
        "    # Histogram\n",
        "    plt.subplot(1, 2, 1)\n",
        "    sns.histplot(df[variable], bins=30)\n",
        "    plt.title('Histogram')\n",
        "\n",
        "    # Boxplot\n",
        "    plt.subplot(1, 2, 2)\n",
        "    sns.boxplot(y=df[variable])\n",
        "    plt.title('Boxplot')\n",
        "\n",
        "    plt.show()"
      ]
    },
    {
      "cell_type": "code",
      "execution_count": 28,
      "metadata": {
        "colab": {
          "base_uri": "https://localhost:8080/",
          "height": 851
        },
        "id": "_5A3WBoZuDog",
        "outputId": "2a2da744-ab3d-40c1-e90b-c95b7db8efc3"
      },
      "outputs": [
        {
          "data": {
            "image/png": "[encoded data removed]",
            "text/plain": [
              "<Figure size 1152x288 with 2 Axes>"
            ]
          },
          "metadata": {
            "needs_background": "light"
          },
          "output_type": "display_data"
        },
        {
          "data": {
            "image/png": "[encoded data removed]",
            "text/plain": [
              "<Figure size 1152x288 with 2 Axes>"
            ]
          },
          "metadata": {
            "needs_background": "light"
          },
          "output_type": "display_data"
        },
        {
          "data": {
            "image/png": "[encoded data removed]",
            "text/plain": [
              "<Figure size 1152x288 with 2 Axes>"
            ]
          },
          "metadata": {
            "needs_background": "light"
          },
          "output_type": "display_data"
        }
      ],
      "source": [
        "# Let's find outliers in `DIS`, `LSTAT`, `CRIM`\n",
        "\n",
        "diagnostic_plots(boston, 'DIS')\n",
        "diagnostic_plots(boston, 'LSTAT')\n",
        "diagnostic_plots(boston, 'CRIM')"
      ]
    },
    {
      "cell_type": "markdown",
      "metadata": {
        "id": "1rD3n6sbuRKK"
      },
      "source": [
        "There are outliers in all of the above variables."
      ]
    },
    {
      "cell_type": "code",
      "execution_count": 29,
      "metadata": {
        "id": "8-umbFDvuVEn"
      },
      "outputs": [],
      "source": [
        "# Function to find upper and lower boundaries for skewed distributed variables\n",
        "# Let's calculate the boundaries outside which sit the outliers for skewed distributions\n",
        "# Distance passed as an argument, gives us the option to estimate 1.5 times or 3 times the IQR to calculate the boundaries.\n",
        "\n",
        "def find_skewed_boundaries(df, variable, distance):\n",
        "    IQR = df[variable].quantile(0.75) - df[variable].quantile(0.25)\n",
        "\n",
        "    lower_boundary = df[variable].quantile(0.25) - (IQR * distance)\n",
        "    upper_boundary = df[variable].quantile(0.75) + (IQR * distance)\n",
        "\n",
        "    return upper_boundary, lower_boundary"
      ]
    },
    {
      "cell_type": "code",
      "execution_count": 30,
      "metadata": {
        "colab": {
          "base_uri": "https://localhost:8080/"
        },
        "id": "sVi1Yd4Puh0r",
        "outputId": "fe65730f-59c7-48ae-8e7d-4f038c5f4fa4"
      },
      "outputs": [
        {
          "name": "stdout",
          "output_type": "stream",
          "text": [
            "DIS_upper_limit :  9.820800000000002\n",
            "DIS_lower_limit :  -2.5322000000000005 \n",
            "\n",
            "LSTAT_upper_limit :  31.962500000000006\n",
            "LSTAT_lower_limit :  -8.057500000000005 \n",
            "\n",
            "CRIM_upper_limit :  9.06963875\n",
            "CRIM_lower_limit :  -5.31051125\n"
          ]
        }
      ],
      "source": [
        "# Limits for `DIS`\n",
        "DIS_upper_limit, DIS_lower_limit = find_skewed_boundaries(boston, 'DIS', 1.5)\n",
        "DIS_upper_limit, DIS_lower_limit\n",
        "\n",
        "# Limits for `LSTAT`\n",
        "LSTAT_upper_limit, LSTAT_lower_limit = find_skewed_boundaries(boston, 'LSTAT', 1.5)\n",
        "LSTAT_upper_limit, LSTAT_lower_limit\n",
        "\n",
        "# Limits for `CRIM`\n",
        "CRIM_upper_limit, CRIM_lower_limit = find_skewed_boundaries(boston, 'CRIM', 1.5)\n",
        "CRIM_upper_limit, CRIM_lower_limit\n",
        "\n",
        "print('DIS_upper_limit : ', DIS_upper_limit)\n",
        "print('DIS_lower_limit : ', DIS_lower_limit, '\\n')\n",
        "print('LSTAT_upper_limit : ', LSTAT_upper_limit)\n",
        "print('LSTAT_lower_limit : ', LSTAT_lower_limit, '\\n')\n",
        "print('CRIM_upper_limit : ', CRIM_upper_limit)\n",
        "print('CRIM_lower_limit : ', CRIM_lower_limit)"
      ]
    },
    {
      "cell_type": "code",
      "execution_count": 31,
      "metadata": {
        "colab": {
          "base_uri": "https://localhost:8080/"
        },
        "id": "qyrSmbVDvKpe",
        "outputId": "087a1980-7e35-4a0a-dd47-1c318aad5435"
      },
      "outputs": [
        {
          "name": "stdout",
          "output_type": "stream",
          "text": [
            "[False False False False False False False False False False]\n"
          ]
        }
      ],
      "source": [
        "# Flag the outliers in category `DIS`\n",
        "outliers_DIS = np.where(boston['DIS'] > DIS_upper_limit, True,\n",
        "                       np.where(boston['DIS'] < DIS_lower_limit, True, False))\n",
        "\n",
        "# Flag the outliers in category `LSTAT`\n",
        "outliers_LSTAT = np.where(boston['LSTAT'] > LSTAT_upper_limit, True,\n",
        "                       np.where(boston['LSTAT'] < LSTAT_lower_limit, True, False))\n",
        "\n",
        "# Flag the outliers in category `CRIM`\n",
        "outliers_CRIM = np.where(boston['CRIM'] > CRIM_upper_limit, True,\n",
        "                       np.where(boston['CRIM'] < CRIM_lower_limit, True, False))\n",
        "\n",
        "print(outliers_DIS[:10])"
      ]
    },
    {
      "cell_type": "code",
      "execution_count": 32,
      "metadata": {
        "colab": {
          "base_uri": "https://localhost:8080/"
        },
        "id": "Sxs1WeuWvxhS",
        "outputId": "4ec20384-6978-49cf-d60b-c1a673a26da9"
      },
      "outputs": [
        {
          "name": "stdout",
          "output_type": "stream",
          "text": [
            "Size dataset - Before trimming :  (506, 3)\n",
            "Size dataset - After trimming  :  (434, 3)\n"
          ]
        }
      ],
      "source": [
        "# Let's trimm the dataset\n",
        "\n",
        "boston_trimmed = boston.loc[~(outliers_DIS + outliers_LSTAT + outliers_CRIM)] #maksudnya adalah negasi ~\n",
        "print('Size dataset - Before trimming : ', boston.shape)\n",
        "print('Size dataset - After trimming  : ', boston_trimmed.shape)"
      ]
    },
    {
      "cell_type": "markdown",
      "metadata": {
        "id": "BSUGa0r0wDrM"
      },
      "source": [
        "Kita dapat melihat bahwa menggunakan pemangkasan, **kami menghapus 72 baris**, dari kumpulan data 506 baris, ini sekitar **~14,2%** dari data yang dihapus. Inilah sebagian besar alasannya, kami cenderung tidak banyak menggunakan pemangkasan dalam pembelajaran mesin. Tetapi jika hanya beberapa variabel yang menghadirkan sebagian kecil outlier, pemangkasan bisa berhasil."
      ]
    },
    {
      "cell_type": "code",
      "execution_count": 33,
      "metadata": {
        "colab": {
          "base_uri": "https://localhost:8080/",
          "height": 1000
        },
        "id": "IM_IiuRCwjn_",
        "outputId": "833ec1f3-149c-4ac6-b3e2-5fb21a4f7323"
      },
      "outputs": [
        {
          "name": "stdout",
          "output_type": "stream",
          "text": [
            "DIS - Before Trimming\n"
          ]
        },
        {
          "data": {
            "image/png": "[encoded data removed]",
            "text/plain": [
              "<Figure size 1152x288 with 2 Axes>"
            ]
          },
          "metadata": {
            "needs_background": "light"
          },
          "output_type": "display_data"
        },
        {
          "name": "stdout",
          "output_type": "stream",
          "text": [
            "\n",
            "DIS - After Trimming\n"
          ]
        },
        {
          "data": {
            "image/png": "[encoded data removed]",
            "text/plain": [
              "<Figure size 1152x288 with 2 Axes>"
            ]
          },
          "metadata": {
            "needs_background": "light"
          },
          "output_type": "display_data"
        },
        {
          "name": "stdout",
          "output_type": "stream",
          "text": [
            "\n",
            "LSTAT - Before Trimming\n"
          ]
        },
        {
          "data": {
            "image/png": "[encoded data removed]",
            "text/plain": [
              "<Figure size 1152x288 with 2 Axes>"
            ]
          },
          "metadata": {
            "needs_background": "light"
          },
          "output_type": "display_data"
        },
        {
          "name": "stdout",
          "output_type": "stream",
          "text": [
            "\n",
            "LSTAT - After Trimming\n"
          ]
        },
        {
          "data": {
            "image/png": "[encoded data removed]",
            "text/plain": [
              "<Figure size 1152x288 with 2 Axes>"
            ]
          },
          "metadata": {
            "needs_background": "light"
          },
          "output_type": "display_data"
        },
        {
          "name": "stdout",
          "output_type": "stream",
          "text": [
            "\n",
            "CRIM - Before Trimming\n"
          ]
        },
        {
          "data": {
            "image/png": "[encoded data removed]",
            "text/plain": [
              "<Figure size 1152x288 with 2 Axes>"
            ]
          },
          "metadata": {
            "needs_background": "light"
          },
          "output_type": "display_data"
        },
        {
          "name": "stdout",
          "output_type": "stream",
          "text": [
            "\n",
            "CRIM - After Trimming\n"
          ]
        },
        {
          "data": {
            "image/png": "[encoded data removed]",
            "text/plain": [
              "<Figure size 1152x288 with 2 Axes>"
            ]
          },
          "metadata": {
            "needs_background": "light"
          },
          "output_type": "display_data"
        }
      ],
      "source": [
        "# Let's find outliers in `DIS`, `LSTAT`, `CRIM`\n",
        "\n",
        "print('DIS - Before Trimming')\n",
        "diagnostic_plots(boston, 'DIS')\n",
        "print('\\nDIS - After Trimming')\n",
        "diagnostic_plots(boston_trimmed, 'DIS')\n",
        "\n",
        "print('\\nLSTAT - Before Trimming')\n",
        "diagnostic_plots(boston, 'LSTAT')\n",
        "print('\\nLSTAT - After Trimming')\n",
        "diagnostic_plots(boston_trimmed, 'LSTAT')\n",
        "\n",
        "print('\\nCRIM - Before Trimming')\n",
        "diagnostic_plots(boston, 'CRIM')\n",
        "print('\\nCRIM - After Trimming')\n",
        "diagnostic_plots(boston_trimmed, 'CRIM')"
      ]
    },
    {
      "cell_type": "markdown",
      "metadata": {
        "id": "wKVj5HOcwdeF"
      },
      "source": [
        "Untuk `LSTAT` dan `CRIM`, kami masih melihat banyak outlier. **Saat kami menghapus titik data dari kumpulan data kami, semua parameter distribusi dihitung ulang**, yaitu rata-rata, kuantil, dan rentang antarkuantil, oleh karena itu, dalam variabel -dipangkas- baru, nilai-nilai yang sebelumnya tidak dianggap outlier, sekarang. Ini adalah karakteristik yang tidak diinginkan dari cara mengatasi outlier ini."
      ]
    },
    {
      "cell_type": "markdown",
      "metadata": {
        "id": "7bcfyHXjybN6"
      },
      "source": [
        "# C. Censoring"
      ]
    },
    {
      "cell_type": "markdown",
      "metadata": {
        "id": "F-Etsb5xydJU"
      },
      "source": [
        "## Menyensor atau Membatasi.\n",
        "\n",
        "**Censoring**, atau **capping**, berarti membatasi distribusi maksimum dan/atau minimum pada nilai yang berubah-ubah. Dengan kata lain, nilai yang lebih besar atau lebih kecil dari nilai yang ditentukan secara arbitrer **disensor**.\n",
        "\n",
        "Capping dapat dilakukan di kedua ekor, atau hanya salah satu ekor, tergantung pada variabel dan pengguna.\n",
        "\n",
        "### Keuntungan\n",
        "\n",
        "- tidak menghapus data\n",
        "\n",
        "### Keterbatasan\n",
        "\n",
        "- mendistorsi distribusi variabel\n",
        "- mendistorsi hubungan antar variabel\n",
        "\n",
        "## Penting\n",
        "\n",
        "Saat melakukan capping, kami cenderung membatasi nilai baik di set kereta maupun tes. Penting untuk diingat bahwa nilai capping HARUS diturunkan dari rangkaian kereta. Dan kemudian gunakan nilai yang sama untuk membatasi variabel di set pengujian"
      ]
    },
    {
      "cell_type": "markdown",
      "metadata": {
        "id": "qVRElLF64VDw"
      },
      "source": [
        "## Purpose\n",
        "\n",
        "We will see how to perform **capping** with the inter-quantile range bold textproximity rule using the Boston House Dataset"
      ]
    },
    {
      "cell_type": "code",
      "execution_count": 34,
      "metadata": {
        "colab": {
          "base_uri": "https://localhost:8080/"
        },
        "id": "2Da3-mNo4SSY",
        "outputId": "1daa750b-1d56-468d-a2b0-06b4ab19454c"
      },
      "outputs": [
        {
          "name": "stdout",
          "output_type": "stream",
          "text": [
            "Requirement already satisfied: feature-engine in c:\\users\\acer\\anaconda3\\lib\\site-packages (1.2.0)\n",
            "Requirement already satisfied: numpy>=1.18.2 in c:\\users\\acer\\anaconda3\\lib\\site-packages (from feature-engine) (1.20.3)\n",
            "Requirement already satisfied: pandas>=1.0.3 in c:\\users\\acer\\anaconda3\\lib\\site-packages (from feature-engine) (1.3.4)\n",
            "Requirement already satisfied: scikit-learn>=0.22.2 in c:\\users\\acer\\anaconda3\\lib\\site-packages (from feature-engine) (0.24.2)\n",
            "Requirement already satisfied: scipy>=1.4.1 in c:\\users\\acer\\anaconda3\\lib\\site-packages (from feature-engine) (1.7.1)\n",
            "Requirement already satisfied: statsmodels>=0.11.1 in c:\\users\\acer\\anaconda3\\lib\\site-packages (from feature-engine) (0.12.2)\n",
            "Requirement already satisfied: pytz>=2017.3 in c:\\users\\acer\\anaconda3\\lib\\site-packages (from pandas>=1.0.3->feature-engine) (2021.3)\n",
            "Requirement already satisfied: python-dateutil>=2.7.3 in c:\\users\\acer\\anaconda3\\lib\\site-packages (from pandas>=1.0.3->feature-engine) (2.8.2)\n",
            "Requirement already satisfied: six>=1.5 in c:\\users\\acer\\anaconda3\\lib\\site-packages (from python-dateutil>=2.7.3->pandas>=1.0.3->feature-engine) (1.16.0)\n",
            "Requirement already satisfied: joblib>=0.11 in c:\\users\\acer\\anaconda3\\lib\\site-packages (from scikit-learn>=0.22.2->feature-engine) (1.1.0)\n",
            "Requirement already satisfied: threadpoolctl>=2.0.0 in c:\\users\\acer\\anaconda3\\lib\\site-packages (from scikit-learn>=0.22.2->feature-engine) (2.2.0)\n",
            "Requirement already satisfied: patsy>=0.5 in c:\\users\\acer\\anaconda3\\lib\\site-packages (from statsmodels>=0.11.1->feature-engine) (0.5.2)\n"
          ]
        }
      ],
      "source": [
        "!pip install feature-engine\n",
        "\n",
        "import pandas as pd\n",
        "import numpy as np\n",
        "\n",
        "import matplotlib.pyplot as plt\n",
        "import seaborn as sns\n",
        "\n",
        "# Boston house dataset for the demo\n",
        "from sklearn.datasets import load_boston\n",
        "\n",
        "from feature_engine.outliers import Winsorizer"
      ]
    },
    {
      "cell_type": "code",
      "execution_count": 35,
      "metadata": {
        "colab": {
          "base_uri": "https://localhost:8080/",
          "height": 221
        },
        "id": "-BN4hfi75Gbn",
        "outputId": "7a50c3b5-f937-4816-f009-f126e17995c4"
      },
      "outputs": [
        {
          "name": "stdout",
          "output_type": "stream",
          "text": [
            "Shape data :  (506, 4)\n"
          ]
        },
        {
          "data": {
            "text/html": [
              "<div>\n",
              "<style scoped>\n",
              "    .dataframe tbody tr th:only-of-type {\n",
              "        vertical-align: middle;\n",
              "    }\n",
              "\n",
              "    .dataframe tbody tr th {\n",
              "        vertical-align: top;\n",
              "    }\n",
              "\n",
              "    .dataframe thead th {\n",
              "        text-align: right;\n",
              "    }\n",
              "</style>\n",
              "<table border=\"1\" class=\"dataframe\">\n",
              "  <thead>\n",
              "    <tr style=\"text-align: right;\">\n",
              "      <th></th>\n",
              "      <th>DIS</th>\n",
              "      <th>LSTAT</th>\n",
              "      <th>CRIM</th>\n",
              "      <th>MEDV</th>\n",
              "    </tr>\n",
              "  </thead>\n",
              "  <tbody>\n",
              "    <tr>\n",
              "      <th>0</th>\n",
              "      <td>4.0900</td>\n",
              "      <td>4.98</td>\n",
              "      <td>0.00632</td>\n",
              "      <td>24.0</td>\n",
              "    </tr>\n",
              "    <tr>\n",
              "      <th>1</th>\n",
              "      <td>4.9671</td>\n",
              "      <td>9.14</td>\n",
              "      <td>0.02731</td>\n",
              "      <td>21.6</td>\n",
              "    </tr>\n",
              "    <tr>\n",
              "      <th>2</th>\n",
              "      <td>4.9671</td>\n",
              "      <td>4.03</td>\n",
              "      <td>0.02729</td>\n",
              "      <td>34.7</td>\n",
              "    </tr>\n",
              "    <tr>\n",
              "      <th>3</th>\n",
              "      <td>6.0622</td>\n",
              "      <td>2.94</td>\n",
              "      <td>0.03237</td>\n",
              "      <td>33.4</td>\n",
              "    </tr>\n",
              "    <tr>\n",
              "      <th>4</th>\n",
              "      <td>6.0622</td>\n",
              "      <td>5.33</td>\n",
              "      <td>0.06905</td>\n",
              "      <td>36.2</td>\n",
              "    </tr>\n",
              "  </tbody>\n",
              "</table>\n",
              "</div>"
            ],
            "text/plain": [
              "      DIS  LSTAT     CRIM  MEDV\n",
              "0  4.0900   4.98  0.00632  24.0\n",
              "1  4.9671   9.14  0.02731  21.6\n",
              "2  4.9671   4.03  0.02729  34.7\n",
              "3  6.0622   2.94  0.03237  33.4\n",
              "4  6.0622   5.33  0.06905  36.2"
            ]
          },
          "execution_count": 35,
          "metadata": {},
          "output_type": "execute_result"
        }
      ],
      "source": [
        "# Load the Boston House dataset from sklearn\n",
        "boston_dataset = load_boston()\n",
        "\n",
        "# Create a dataframe with the independent variables\n",
        "# Legends : \n",
        "  # - CRIM     per capita crime rate by town\n",
        "  # - DIS      weighted distances to five Boston employment centres\n",
        "  # - LSTAT    % lower status of the population\n",
        "  # - MEDV     Median value of owner-occupied homes in $1000's\n",
        "\n",
        "boston = pd.DataFrame(boston_dataset.data,\n",
        "                      columns=boston_dataset.feature_names)[[\n",
        "                          'DIS', 'LSTAT', 'CRIM'\n",
        "                      ]]\n",
        "\n",
        "# Add the target\n",
        "boston['MEDV'] = boston_dataset.target\n",
        "\n",
        "print('Shape data : ', boston.shape)\n",
        "boston.head()"
      ]
    },
    {
      "cell_type": "code",
      "execution_count": 36,
      "metadata": {
        "id": "58ADlRI360vt"
      },
      "outputs": [],
      "source": [
        "# Create the capper\n",
        "\n",
        "windsoriser = Winsorizer(capping_method='iqr', # choose iqr for IQR rule boundaries or gaussian for mean and std\n",
        "                          tail='both', # cap left, right or both tails \n",
        "                          fold=1.5,\n",
        "                          variables=['DIS', 'LSTAT', 'CRIM'])\n",
        "\n",
        "windsoriser.fit(boston)\n",
        "\n",
        "boston_t = windsoriser.transform(boston)"
      ]
    },
    {
      "cell_type": "code",
      "execution_count": 37,
      "metadata": {
        "colab": {
          "base_uri": "https://localhost:8080/"
        },
        "id": "qpEw6Vxz665O",
        "outputId": "4cc28ec3-3b00-46a8-f68c-610f1a254834"
      },
      "outputs": [
        {
          "name": "stdout",
          "output_type": "stream",
          "text": [
            "Left Tail Caps  :  {'DIS': -2.5322000000000005, 'LSTAT': -8.057500000000005, 'CRIM': -5.31051125}\n",
            "Right Tail Caps :  {'DIS': 9.820800000000002, 'LSTAT': 31.962500000000006, 'CRIM': 9.06963875}\n"
          ]
        }
      ],
      "source": [
        "# Inspect the minimum caps for each variable\n",
        "print('Left Tail Caps  : ', windsoriser.left_tail_caps_)\n",
        "\n",
        "# Iinspect the maximum caps for each variable\n",
        "print('Right Tail Caps : ', windsoriser.right_tail_caps_)"
      ]
    },
    {
      "cell_type": "code",
      "execution_count": 38,
      "metadata": {
        "colab": {
          "base_uri": "https://localhost:8080/"
        },
        "id": "uW7l1xQi67Sm",
        "outputId": "610be5ba-d0c4-4450-bff7-2bfd3c1ab56e"
      },
      "outputs": [
        {
          "name": "stdout",
          "output_type": "stream",
          "text": [
            "Boston Dataframe - Before Capping\n",
            "              DIS       LSTAT        CRIM        MEDV\n",
            "count  506.000000  506.000000  506.000000  506.000000\n",
            "mean     3.795043   12.653063    3.613524   22.532806\n",
            "std      2.105710    7.141062    8.601545    9.197104\n",
            "min      1.129600    1.730000    0.006320    5.000000\n",
            "25%      2.100175    6.950000    0.082045   17.025000\n",
            "50%      3.207450   11.360000    0.256510   21.200000\n",
            "75%      5.188425   16.955000    3.677083   25.000000\n",
            "max     12.126500   37.970000   88.976200   50.000000\n",
            "\n",
            "Boston Dataframe - After Capping\n",
            "              DIS       LSTAT        CRIM        MEDV\n",
            "count  506.000000  506.000000  506.000000  506.000000\n",
            "mean     3.783947   12.612011    2.225032   22.532806\n",
            "std      2.069765    7.016829    3.313353    9.197104\n",
            "min      1.129600    1.730000    0.006320    5.000000\n",
            "25%      2.100175    6.950000    0.082045   17.025000\n",
            "50%      3.207450   11.360000    0.256510   21.200000\n",
            "75%      5.188425   16.955000    3.677083   25.000000\n",
            "max      9.820800   31.962500    9.069639   50.000000\n"
          ]
        }
      ],
      "source": [
        "print('Boston Dataframe - Before Capping')\n",
        "print(boston.describe())\n",
        "print('')\n",
        "print('Boston Dataframe - After Capping')\n",
        "print(boston_t.describe())"
      ]
    },
    {
      "cell_type": "code",
      "execution_count": 39,
      "metadata": {
        "colab": {
          "base_uri": "https://localhost:8080/",
          "height": 1000
        },
        "id": "rbyedVt6ghdc",
        "outputId": "52bf4c27-bb65-4a98-bed8-e1e28dc6df7f"
      },
      "outputs": [
        {
          "name": "stdout",
          "output_type": "stream",
          "text": [
            "DIS - Before Capping\n"
          ]
        },
        {
          "data": {
            "image/png": "[encoded data removed]",
            "text/plain": [
              "<Figure size 1152x288 with 2 Axes>"
            ]
          },
          "metadata": {
            "needs_background": "light"
          },
          "output_type": "display_data"
        },
        {
          "name": "stdout",
          "output_type": "stream",
          "text": [
            "\n",
            "DIS - After Capping\n"
          ]
        },
        {
          "data": {
            "image/png": "[encoded data removed]",
            "text/plain": [
              "<Figure size 1152x288 with 2 Axes>"
            ]
          },
          "metadata": {
            "needs_background": "light"
          },
          "output_type": "display_data"
        },
        {
          "name": "stdout",
          "output_type": "stream",
          "text": [
            "\n",
            "LSTAT - Before Capping\n"
          ]
        },
        {
          "data": {
            "image/png": "[encoded data removed]",
            "text/plain": [
              "<Figure size 1152x288 with 2 Axes>"
            ]
          },
          "metadata": {
            "needs_background": "light"
          },
          "output_type": "display_data"
        },
        {
          "name": "stdout",
          "output_type": "stream",
          "text": [
            "\n",
            "LSTAT - After Capping\n"
          ]
        },
        {
          "data": {
            "image/png": "[encoded data removed]",
            "text/plain": [
              "<Figure size 1152x288 with 2 Axes>"
            ]
          },
          "metadata": {
            "needs_background": "light"
          },
          "output_type": "display_data"
        },
        {
          "name": "stdout",
          "output_type": "stream",
          "text": [
            "\n",
            "CRIM - Before Capping\n"
          ]
        },
        {
          "data": {
            "image/png": "[encoded data removed]",
            "text/plain": [
              "<Figure size 1152x288 with 2 Axes>"
            ]
          },
          "metadata": {
            "needs_background": "light"
          },
          "output_type": "display_data"
        },
        {
          "name": "stdout",
          "output_type": "stream",
          "text": [
            "\n",
            "CRIM - After Capping\n"
          ]
        },
        {
          "data": {
            "image/png": "[encoded data removed]",
            "text/plain": [
              "<Figure size 1152x288 with 2 Axes>"
            ]
          },
          "metadata": {
            "needs_background": "light"
          },
          "output_type": "display_data"
        }
      ],
      "source": [
        "# Let's find outliers in `DIS`, `LSTAT`, `CRIM`\n",
        "\n",
        "print('DIS - Before Capping')\n",
        "diagnostic_plots(boston, 'DIS')\n",
        "print('\\nDIS - After Capping')\n",
        "diagnostic_plots(boston_t, 'DIS')\n",
        "\n",
        "print('\\nLSTAT - Before Capping')\n",
        "diagnostic_plots(boston, 'LSTAT')\n",
        "print('\\nLSTAT - After Capping')\n",
        "diagnostic_plots(boston_t, 'LSTAT')\n",
        "\n",
        "print('\\nCRIM - Before Capping')\n",
        "diagnostic_plots(boston, 'CRIM')\n",
        "print('\\nCRIM - After Capping')\n",
        "diagnostic_plots(boston_t, 'CRIM')"
      ]
    },
    {
      "cell_type": "markdown",
      "metadata": {
        "id": "qeHXTnfnM9mM"
      },
      "source": [
        "# E. Kardinalitas\n",
        "\n",
        "Nilai dari variabel kategori dipilih dari sekelompok kategori, juga disebut label. Misalnya pada variabel _gender_ kategori atau labelnya adalah laki-laki dan perempuan, sedangkan pada variabel _city_ labelnya bisa London, Manchester, Brighton dan sebagainya.\n",
        "\n",
        "Variabel kategori yang berbeda berisi jumlah label atau kategori yang berbeda. Variabel gender hanya berisi 2 label, tetapi variabel seperti kota atau kode pos, dapat berisi banyak label berbeda.\n",
        "\n",
        "Jumlah label yang berbeda dalam variabel kategori dikenal sebagai kardinalitas. Sejumlah besar label dalam variabel dikenal sebagai __kardinalitas tinggi__.\n",
        "\n",
        "\n",
        "### Apakah beberapa label dalam variabel kategori menjadi masalah?\n",
        "\n",
        "Kardinalitas tinggi dapat menimbulkan masalah berikut:\n",
        "\n",
        "- Variabel dengan terlalu banyak label **cenderung mendominasi** daripada variabel yang hanya memiliki sedikit label, terutama dalam algoritme **Berbasis pohon**.\n",
        "\n",
        "- Sejumlah besar label dalam suatu variabel dapat menimbulkan gangguan dengan sedikit, jika ada, informasi, sehingga membuat model pembelajaran mesin **cenderung over-fit**.\n",
        "\n",
        "- Beberapa label mungkin **hanya ada di set data pelatihan, tetapi tidak di set pengujian**, oleh karena itu algoritme pembelajaran mesin mungkin terlalu sesuai dengan set pelatihan.\n",
        "\n",
        "- Sebaliknya, **beberapa label mungkin hanya muncul di set pengujian**, sehingga algoritme pembelajaran mesin tidak dapat melakukan perhitungan atas pengamatan baru (tidak terlihat).\n",
        "\n",
        "\n",
        "Khususnya, **metode pohon dapat menjadi bias terhadap variabel dengan banyak label** (variabel dengan kardinalitas tinggi). Dengan demikian, kinerja mereka mungkin dipengaruhi oleh kardinalitas tinggi."
      ]
    },
    {
      "cell_type": "markdown",
      "metadata": {
        "id": "OBVxviR1NAPA"
      },
      "source": [
        "## Tujuan :\n",
        "\n",
        "Kami akan :\n",
        "\n",
        "- Pelajari cara mengukur kardinalitas\n",
        "- Lihat contoh variabel kardinalitas tinggi dan rendah\n",
        "- Pahami efek kardinalitas saat menyiapkan set kereta dan tes\n",
        "- Visualisasikan efek kardinalitas pada kinerja Model Pembelajaran Mesin\n",
        "\n",
        "Kami akan menggunakan dataset Titanic. *(URL : https://www.openml.org/data/get_csv/16826755/phpMYEkMl)*"
      ]
    },
    {
      "cell_type": "code",
      "execution_count": 40,
      "metadata": {
        "id": "WQVI5SUFNDVg"
      },
      "outputs": [],
      "source": [
        "import pandas as pd\n",
        "import numpy as np\n",
        "\n",
        "import matplotlib.pyplot as plt\n",
        "\n",
        "from sklearn.linear_model import LogisticRegression\n",
        "from sklearn.ensemble import AdaBoostClassifier\n",
        "from sklearn.ensemble import RandomForestClassifier\n",
        "from sklearn.ensemble import GradientBoostingClassifier\n",
        "\n",
        "from sklearn.metrics import roc_auc_score\n",
        "from sklearn.model_selection import train_test_split"
      ]
    },
    {
      "cell_type": "code",
      "execution_count": 41,
      "metadata": {
        "colab": {
          "base_uri": "https://localhost:8080/",
          "height": 272
        },
        "id": "SPFpWrZMNHuM",
        "outputId": "07aad82d-6939-48d9-e3d1-b50cf56af818"
      },
      "outputs": [
        {
          "data": {
            "text/html": [
              "<div>\n",
              "<style scoped>\n",
              "    .dataframe tbody tr th:only-of-type {\n",
              "        vertical-align: middle;\n",
              "    }\n",
              "\n",
              "    .dataframe tbody tr th {\n",
              "        vertical-align: top;\n",
              "    }\n",
              "\n",
              "    .dataframe thead th {\n",
              "        text-align: right;\n",
              "    }\n",
              "</style>\n",
              "<table border=\"1\" class=\"dataframe\">\n",
              "  <thead>\n",
              "    <tr style=\"text-align: right;\">\n",
              "      <th></th>\n",
              "      <th>pclass</th>\n",
              "      <th>survived</th>\n",
              "      <th>name</th>\n",
              "      <th>sex</th>\n",
              "      <th>age</th>\n",
              "      <th>sibsp</th>\n",
              "      <th>parch</th>\n",
              "      <th>ticket</th>\n",
              "      <th>fare</th>\n",
              "      <th>cabin</th>\n",
              "      <th>embarked</th>\n",
              "      <th>boat</th>\n",
              "      <th>body</th>\n",
              "      <th>home.dest</th>\n",
              "    </tr>\n",
              "  </thead>\n",
              "  <tbody>\n",
              "    <tr>\n",
              "      <th>0</th>\n",
              "      <td>1</td>\n",
              "      <td>1</td>\n",
              "      <td>Allen, Miss. Elisabeth Walton</td>\n",
              "      <td>female</td>\n",
              "      <td>29</td>\n",
              "      <td>0</td>\n",
              "      <td>0</td>\n",
              "      <td>24160</td>\n",
              "      <td>211.3375</td>\n",
              "      <td>B5</td>\n",
              "      <td>S</td>\n",
              "      <td>2</td>\n",
              "      <td>?</td>\n",
              "      <td>St Louis, MO</td>\n",
              "    </tr>\n",
              "    <tr>\n",
              "      <th>1</th>\n",
              "      <td>1</td>\n",
              "      <td>1</td>\n",
              "      <td>Allison, Master. Hudson Trevor</td>\n",
              "      <td>male</td>\n",
              "      <td>0.9167</td>\n",
              "      <td>1</td>\n",
              "      <td>2</td>\n",
              "      <td>113781</td>\n",
              "      <td>151.55</td>\n",
              "      <td>C22 C26</td>\n",
              "      <td>S</td>\n",
              "      <td>11</td>\n",
              "      <td>?</td>\n",
              "      <td>Montreal, PQ / Chesterville, ON</td>\n",
              "    </tr>\n",
              "    <tr>\n",
              "      <th>2</th>\n",
              "      <td>1</td>\n",
              "      <td>0</td>\n",
              "      <td>Allison, Miss. Helen Loraine</td>\n",
              "      <td>female</td>\n",
              "      <td>2</td>\n",
              "      <td>1</td>\n",
              "      <td>2</td>\n",
              "      <td>113781</td>\n",
              "      <td>151.55</td>\n",
              "      <td>C22 C26</td>\n",
              "      <td>S</td>\n",
              "      <td>?</td>\n",
              "      <td>?</td>\n",
              "      <td>Montreal, PQ / Chesterville, ON</td>\n",
              "    </tr>\n",
              "    <tr>\n",
              "      <th>3</th>\n",
              "      <td>1</td>\n",
              "      <td>0</td>\n",
              "      <td>Allison, Mr. Hudson Joshua Creighton</td>\n",
              "      <td>male</td>\n",
              "      <td>30</td>\n",
              "      <td>1</td>\n",
              "      <td>2</td>\n",
              "      <td>113781</td>\n",
              "      <td>151.55</td>\n",
              "      <td>C22 C26</td>\n",
              "      <td>S</td>\n",
              "      <td>?</td>\n",
              "      <td>135</td>\n",
              "      <td>Montreal, PQ / Chesterville, ON</td>\n",
              "    </tr>\n",
              "    <tr>\n",
              "      <th>4</th>\n",
              "      <td>1</td>\n",
              "      <td>0</td>\n",
              "      <td>Allison, Mrs. Hudson J C (Bessie Waldo Daniels)</td>\n",
              "      <td>female</td>\n",
              "      <td>25</td>\n",
              "      <td>1</td>\n",
              "      <td>2</td>\n",
              "      <td>113781</td>\n",
              "      <td>151.55</td>\n",
              "      <td>C22 C26</td>\n",
              "      <td>S</td>\n",
              "      <td>?</td>\n",
              "      <td>?</td>\n",
              "      <td>Montreal, PQ / Chesterville, ON</td>\n",
              "    </tr>\n",
              "  </tbody>\n",
              "</table>\n",
              "</div>"
            ],
            "text/plain": [
              "   pclass  survived                                             name     sex  \\\n",
              "0       1         1                    Allen, Miss. Elisabeth Walton  female   \n",
              "1       1         1                   Allison, Master. Hudson Trevor    male   \n",
              "2       1         0                     Allison, Miss. Helen Loraine  female   \n",
              "3       1         0             Allison, Mr. Hudson Joshua Creighton    male   \n",
              "4       1         0  Allison, Mrs. Hudson J C (Bessie Waldo Daniels)  female   \n",
              "\n",
              "      age  sibsp  parch  ticket      fare    cabin embarked boat body  \\\n",
              "0      29      0      0   24160  211.3375       B5        S    2    ?   \n",
              "1  0.9167      1      2  113781    151.55  C22 C26        S   11    ?   \n",
              "2       2      1      2  113781    151.55  C22 C26        S    ?    ?   \n",
              "3      30      1      2  113781    151.55  C22 C26        S    ?  135   \n",
              "4      25      1      2  113781    151.55  C22 C26        S    ?    ?   \n",
              "\n",
              "                         home.dest  \n",
              "0                     St Louis, MO  \n",
              "1  Montreal, PQ / Chesterville, ON  \n",
              "2  Montreal, PQ / Chesterville, ON  \n",
              "3  Montreal, PQ / Chesterville, ON  \n",
              "4  Montreal, PQ / Chesterville, ON  "
            ]
          },
          "execution_count": 41,
          "metadata": {},
          "output_type": "execute_result"
        }
      ],
      "source": [
        "# Load the Titanic dataset\n",
        "\n",
        "url = 'https://www.openml.org/data/get_csv/16826755/phpMYEkMl'\n",
        "data = pd.read_csv(url)\n",
        "data.head()"
      ]
    },
    {
      "cell_type": "code",
      "execution_count": 42,
      "metadata": {
        "colab": {
          "base_uri": "https://localhost:8080/"
        },
        "id": "XgIbpJ7qNKrL",
        "outputId": "ac9a83e4-92f0-48ad-d564-722c4c25c274"
      },
      "outputs": [
        {
          "name": "stdout",
          "output_type": "stream",
          "text": [
            "<class 'pandas.core.frame.DataFrame'>\n",
            "RangeIndex: 1309 entries, 0 to 1308\n",
            "Data columns (total 14 columns):\n",
            " #   Column     Non-Null Count  Dtype \n",
            "---  ------     --------------  ----- \n",
            " 0   pclass     1309 non-null   int64 \n",
            " 1   survived   1309 non-null   int64 \n",
            " 2   name       1309 non-null   object\n",
            " 3   sex        1309 non-null   object\n",
            " 4   age        1309 non-null   object\n",
            " 5   sibsp      1309 non-null   int64 \n",
            " 6   parch      1309 non-null   int64 \n",
            " 7   ticket     1309 non-null   object\n",
            " 8   fare       1309 non-null   object\n",
            " 9   cabin      1309 non-null   object\n",
            " 10  embarked   1309 non-null   object\n",
            " 11  boat       1309 non-null   object\n",
            " 12  body       1309 non-null   object\n",
            " 13  home.dest  1309 non-null   object\n",
            "dtypes: int64(4), object(10)\n",
            "memory usage: 143.3+ KB\n"
          ]
        }
      ],
      "source": [
        "data.info()"
      ]
    },
    {
      "cell_type": "markdown",
      "metadata": {
        "id": "pyWklbrLNNOc"
      },
      "source": [
        "Let's focus on several categorical variables in this dataset : `Name`, `Sex`, `Ticket`, `Cabin`, and `Embarked`."
      ]
    },
    {
      "cell_type": "code",
      "execution_count": 43,
      "metadata": {
        "colab": {
          "base_uri": "https://localhost:8080/"
        },
        "id": "TulVbqp2NOrJ",
        "outputId": "c68212d4-e7e1-419a-d36b-2bef27a17e87"
      },
      "outputs": [
        {
          "name": "stdout",
          "output_type": "stream",
          "text": [
            "Number of categories in the variable Name     : 1307\n",
            "Number of categories in the variable Gender   : 2\n",
            "Number of categories in the variable Ticket   : 929\n",
            "Number of categories in the variable Cabin    : 187\n",
            "Number of categories in the variable Embarked : 4\n",
            "Total number of passengers in the Titanic.    : 1309\n"
          ]
        }
      ],
      "source": [
        "# Let's inspect the cardinality, this is the number of different labels, for the different categorical variables\n",
        "\n",
        "print('Number of categories in the variable Name     : {}'.format(len(data.name.unique())))\n",
        "print('Number of categories in the variable Gender   : {}'.format(len(data.sex.unique())))\n",
        "print('Number of categories in the variable Ticket   : {}'.format(len(data.ticket.unique())))\n",
        "print('Number of categories in the variable Cabin    : {}'.format(len(data.cabin.unique())))\n",
        "print('Number of categories in the variable Embarked : {}'.format(len(data.embarked.unique())))\n",
        "print('Total number of passengers in the Titanic.    : {}'.format(len(data)))"
      ]
    },
    {
      "cell_type": "markdown",
      "metadata": {
        "id": "VZebv7P8NSC1"
      },
      "source": [
        "Sementara variabel `Sex` hanya berisi 2 kategori dan `Embarked` 4 (kardinalitas rendah), variabel `Ticket`, `Name` dan `Cabin`, seperti yang diharapkan, berisi sejumlah besar label berbeda (kardinalitas tinggi).\n",
        "\n",
        "Untuk mendemonstrasikan pengaruh kardinalitas tinggi dalam rangkaian kereta dan pengujian serta kinerja pembelajaran mesin, mari kita bekerja dengan variabel `Cabin`. Kami akan membuat variabel baru untuk mengurangi kardinalitas."
      ]
    },
    {
      "cell_type": "code",
      "execution_count": 44,
      "metadata": {
        "colab": {
          "base_uri": "https://localhost:8080/"
        },
        "id": "ZkvusX7CNQgh",
        "outputId": "b16a15fa-7fbf-45b6-c302-89698eec1a8e"
      },
      "outputs": [
        {
          "data": {
            "text/plain": [
              "array(['B5', 'C22 C26', 'E12', 'D7', 'A36', 'C101', '?', 'C62 C64', 'B35',\n",
              "       'A23', 'B58 B60', 'D15', 'C6', 'D35', 'C148', 'C97', 'B49', 'C99',\n",
              "       'C52', 'T', 'A31', 'C7', 'C103', 'D22', 'E33', 'A21', 'B10', 'B4',\n",
              "       'E40', 'B38', 'E24', 'B51 B53 B55', 'B96 B98', 'C46', 'E31', 'E8',\n",
              "       'B61', 'B77', 'A9', 'C89', 'A14', 'E58', 'E49', 'E52', 'E45',\n",
              "       'B22', 'B26', 'C85', 'E17', 'B71', 'B20', 'A34', 'C86', 'A16',\n",
              "       'A20', 'A18', 'C54', 'C45', 'D20', 'A29', 'C95', 'E25', 'C111',\n",
              "       'C23 C25 C27', 'E36', 'D34', 'D40', 'B39', 'B41', 'B102', 'C123',\n",
              "       'E63', 'C130', 'B86', 'C92', 'A5', 'C51', 'B42', 'C91', 'C125',\n",
              "       'D10 D12', 'B82 B84', 'E50', 'D33', 'C83', 'B94', 'D49', 'D45',\n",
              "       'B69', 'B11', 'E46', 'C39', 'B18', 'D11', 'C93', 'B28', 'C49',\n",
              "       'B52 B54 B56', 'E60', 'C132', 'B37', 'D21', 'D19', 'C124', 'D17',\n",
              "       'B101', 'D28', 'D6', 'D9', 'B80', 'C106', 'B79', 'C47', 'D30',\n",
              "       'C90', 'E38', 'C78', 'C30', 'C118', 'D36', 'D48', 'D47', 'C105',\n",
              "       'B36', 'B30', 'D43', 'B24', 'C2', 'C65', 'B73', 'C104', 'C110',\n",
              "       'C50', 'B3', 'A24', 'A32', 'A11', 'A10', 'B57 B59 B63 B66', 'C28',\n",
              "       'E44', 'A26', 'A6', 'A7', 'C31', 'A19', 'B45', 'E34', 'B78', 'B50',\n",
              "       'C87', 'C116', 'C55 C57', 'D50', 'E68', 'E67', 'C126', 'C68',\n",
              "       'C70', 'C53', 'B19', 'D46', 'D37', 'D26', 'C32', 'C80', 'C82',\n",
              "       'C128', 'E39 E41', 'D', 'F4', 'D56', 'F33', 'E101', 'E77', 'F2',\n",
              "       'D38', 'F', 'F G63', 'F E57', 'F E46', 'F G73', 'E121', 'F E69',\n",
              "       'E10', 'G6', 'F38'], dtype=object)"
            ]
          },
          "execution_count": 44,
          "metadata": {},
          "output_type": "execute_result"
        }
      ],
      "source": [
        "# Let's explore the values / categories of `Cabin`\n",
        "# We know from the previous cell that there are 187 different cabins, therefore the variable is highly cardinal\n",
        "data.cabin.unique()"
      ]
    },
    {
      "cell_type": "markdown",
      "metadata": {
        "id": "Qw0wgNxnNVQU"
      },
      "source": [
        "Sekarang mari kita kurangi kardinalitas variabel. Bagaimana? Alih-alih menggunakan seluruh nilai `kabin`, kami hanya akan menangkap\n",
        "**surat pertama**.\n",
        "\n",
        "***Rasionalitas***: huruf pertama menunjukkan dek di mana kabin berada, dan karena itu merupakan indikasi status kelas sosial dan kedekatannya dengan permukaan Titanic. Keduanya diketahui meningkatkan kemungkinan bertahan hidup."
      ]
    },
    {
      "cell_type": "code",
      "execution_count": 45,
      "metadata": {
        "colab": {
          "base_uri": "https://localhost:8080/"
        },
        "id": "kPboHk0LNW-a",
        "outputId": "f28d47c8-0ee5-4b9c-ef8f-e4014ba34bcf"
      },
      "outputs": [
        {
          "name": "stdout",
          "output_type": "stream",
          "text": [
            "     cabin Cabin_reduced\n",
            "0       B5             B\n",
            "1  C22 C26             C\n",
            "2  C22 C26             C\n",
            "3  C22 C26             C\n",
            "4  C22 C26             C\n",
            "Number of categories in the variable Cabin : 187\n",
            "Number of categories in the variable Cabin reduced : 9\n"
          ]
        }
      ],
      "source": [
        "# Let's capture the first letter of Cabin\n",
        "\n",
        "data['Cabin_reduced'] = data['cabin'].astype(str).str[0]\n",
        "\n",
        "print(data[['cabin', 'Cabin_reduced']].head())\n",
        "print('Number of categories in the variable Cabin : {}'.format(len(data.cabin.unique())))\n",
        "print('Number of categories in the variable Cabin reduced : {}'.format(len(data.Cabin_reduced.unique())))"
      ]
    },
    {
      "cell_type": "markdown",
      "metadata": {
        "id": "o8LpnBp4NZ2M"
      },
      "source": [
        "Kami mengurangi jumlah label berbeda dari 187 menjadi 9."
      ]
    },
    {
      "cell_type": "code",
      "execution_count": 46,
      "metadata": {
        "colab": {
          "base_uri": "https://localhost:8080/"
        },
        "id": "gkxW8GHyNYaO",
        "outputId": "2d996906-f6d4-46bd-d2a0-fe66017e9fbf"
      },
      "outputs": [
        {
          "data": {
            "text/plain": [
              "((916, 3), (393, 3))"
            ]
          },
          "execution_count": 46,
          "metadata": {},
          "output_type": "execute_result"
        }
      ],
      "source": [
        "# Let's separate into training and testing set in order to build machine learning models\n",
        "\n",
        "use_cols = ['cabin', 'Cabin_reduced', 'sex']\n",
        "\n",
        "X_train, X_test, y_train, y_test = train_test_split(data[use_cols], \n",
        "                                                    data['survived'],  \n",
        "                                                    test_size=0.3,\n",
        "                                                    random_state=0)\n",
        "\n",
        "X_train.shape, X_test.shape"
      ]
    },
    {
      "cell_type": "markdown",
      "metadata": {
        "id": "D2kqHdwmNdb3"
      },
      "source": [
        "### Kardinalitas tinggi menyebabkan distribusi kategori yang tidak merata dalam rangkaian kereta dan pengujian\n",
        "\n",
        "Ketika sebuah variabel sangat kardinal, seringkali beberapa kategori hanya mendarat di set pelatihan, atau hanya di set pengujian. Jika hanya ada di set pelatihan, mereka dapat menyebabkan over-fitting. Jika hanya ada di set pengujian, algoritme pembelajaran mesin tidak akan tahu cara menanganinya, karena tidak terlihat selama pelatihan."
      ]
    },
    {
      "cell_type": "code",
      "execution_count": 47,
      "metadata": {
        "colab": {
          "base_uri": "https://localhost:8080/"
        },
        "id": "sLjZ0sfGNcBb",
        "outputId": "a9f284e9-aa0d-4fe1-fd26-6b8ca3e56c44"
      },
      "outputs": [
        {
          "name": "stdout",
          "output_type": "stream",
          "text": [
            "Total unique_to_train_set :  116\n",
            "Total unique_to_test_set  :  36\n"
          ]
        }
      ],
      "source": [
        "# Let's find out labels that only present in the training set and labels that only present in the test set\n",
        "\n",
        "unique_to_train_set = [x for x in X_train.cabin.unique() if x not in X_test.cabin.unique()]\n",
        "unique_to_test_set = [x for x in X_test.cabin.unique() if x not in X_train.cabin.unique()]\n",
        "\n",
        "print('Total unique_to_train_set : ', len(unique_to_train_set))\n",
        "print('Total unique_to_test_set  : ', len(unique_to_test_set))"
      ]
    },
    {
      "cell_type": "markdown",
      "metadata": {
        "id": "bHqwZxyUNgYa"
      },
      "source": [
        "Ada **116 Kabin yang hanya ada di set pelatihan**, dan tidak ada di set pengujian. Selain itu, ada **36 Kabin yang hanya ada di set pengujian** tetapi tidak di set kereta."
      ]
    },
    {
      "cell_type": "markdown",
      "metadata": {
        "id": "_8VcIDEHNjLd"
      },
      "source": [
        "Variabel dengan kardinalitas tinggi cenderung memiliki nilai (yaitu, kategori) yang ada di set pelatihan, yang tidak ada di set tes, dan sebaliknya. Ini akan membawa masalah pada saat pelatihan (karena terlalu pas) dan penilaian data baru (bagaimana seharusnya model menangani kategori yang tidak terlihat?). Masalah ini hampir diatasi dengan mengurangi kardinalitas variabel."
      ]
    },
    {
      "cell_type": "code",
      "execution_count": 48,
      "metadata": {
        "colab": {
          "base_uri": "https://localhost:8080/"
        },
        "id": "BBAo5eFSNkC4",
        "outputId": "c14cb917-bef6-4e29-b89e-6a488eac493d"
      },
      "outputs": [
        {
          "name": "stdout",
          "output_type": "stream",
          "text": [
            "Total unique_to_train_set :  1\n",
            "Total unique_to_test_set  :  0\n"
          ]
        }
      ],
      "source": [
        "# Let's find out labels that only present in the training set and only present in the test set for Cabin with reduced cardinality\n",
        "\n",
        "unique_to_train_set = [\n",
        "    x for x in X_train['Cabin_reduced'].unique()\n",
        "    if x not in X_test['Cabin_reduced'].unique()\n",
        "]\n",
        "\n",
        "unique_to_test_set = [\n",
        "    x for x in X_test['Cabin_reduced'].unique()\n",
        "    if x not in X_train['Cabin_reduced'].unique()\n",
        "]\n",
        "\n",
        "print('Total unique_to_train_set : ', len(unique_to_train_set))\n",
        "print('Total unique_to_test_set  : ', len(unique_to_test_set))"
      ]
    },
    {
      "cell_type": "markdown",
      "metadata": {
        "id": "fyx7UlXQNmId"
      },
      "source": [
        "Amati bagaimana dengan mengurangi kardinalitas sekarang **hanya 1 label di set pelatihan** yang tidak ada di set pengujian. Dan **tidak ada label dalam set pengujian** yang juga tidak terdapat dalam set pelatihan."
      ]
    },
    {
      "cell_type": "markdown",
      "metadata": {
        "id": "0Kvuuq8KNoe3"
      },
      "source": [
        "### Pengaruh kardinalitas pada Kinerja Model Pembelajaran Mesin\n",
        "\n",
        "Untuk mengevaluasi pengaruh variabel kategori dalam model pembelajaran mesin, kami akan segera mengganti kategori dengan angka. Lihat di bawah."
      ]
    },
    {
      "cell_type": "code",
      "execution_count": 49,
      "metadata": {
        "colab": {
          "base_uri": "https://localhost:8080/"
        },
        "id": "G1dCzz5aNqUB",
        "outputId": "f2a0cad9-a690-4eb5-d835-35e0f3e1b806"
      },
      "outputs": [
        {
          "name": "stdout",
          "output_type": "stream",
          "text": [
            "cabin_dict :  {'?': 0, 'E36': 1, 'C68': 2, 'E24': 3, 'C22 C26': 4, 'D38': 5, 'B50': 6, 'A24': 7, 'C111': 8, 'F': 9, 'C6': 10, 'C87': 11, 'E8': 12, 'B45': 13, 'C93': 14, 'D28': 15, 'D36': 16, 'C125': 17, 'B35': 18, 'T': 19, 'B73': 20, 'B57 B59 B63 B66': 21, 'A26': 22, 'A18': 23, 'B96 B98': 24, 'G6': 25, 'C78': 26, 'C101': 27, 'D9': 28, 'D33': 29, 'C128': 30, 'E50': 31, 'B26': 32, 'B69': 33, 'E121': 34, 'C123': 35, 'B94': 36, 'A34': 37, 'D': 38, 'C39': 39, 'D43': 40, 'E31': 41, 'B5': 42, 'D17': 43, 'F33': 44, 'E44': 45, 'D7': 46, 'A21': 47, 'D34': 48, 'A29': 49, 'D35': 50, 'A11': 51, 'B51 B53 B55': 52, 'D46': 53, 'E60': 54, 'C30': 55, 'D26': 56, 'E68': 57, 'A9': 58, 'B71': 59, 'D37': 60, 'F2': 61, 'C55 C57': 62, 'C89': 63, 'C124': 64, 'C23 C25 C27': 65, 'C126': 66, 'E49': 67, 'F E46': 68, 'E46': 69, 'D19': 70, 'B58 B60': 71, 'C82': 72, 'B52 B54 B56': 73, 'C92': 74, 'E45': 75, 'F G73': 76, 'C65': 77, 'E25': 78, 'B3': 79, 'D40': 80, 'C91': 81, 'B102': 82, 'B61': 83, 'F G63': 84, 'A20': 85, 'B36': 86, 'C7': 87, 'B77': 88, 'D20': 89, 'C148': 90, 'C105': 91, 'E38': 92, 'B86': 93, 'C132': 94, 'C86': 95, 'A14': 96, 'C54': 97, 'A5': 98, 'B49': 99, 'B28': 100, 'B24': 101, 'C2': 102, 'F4': 103, 'A6': 104, 'C83': 105, 'B42': 106, 'A36': 107, 'C52': 108, 'D56': 109, 'C116': 110, 'B19': 111, 'E77': 112, 'F E57': 113, 'E101': 114, 'B18': 115, 'C95': 116, 'D15': 117, 'E33': 118, 'B30': 119, 'D21': 120, 'E10': 121, 'C130': 122, 'D6': 123, 'C51': 124, 'D30': 125, 'E67': 126, 'C110': 127, 'C103': 128, 'C90': 129, 'C118': 130, 'C97': 131, 'D47': 132, 'E34': 133, 'B4': 134, 'D50': 135, 'C62 C64': 136, 'E17': 137, 'B41': 138, 'C49': 139, 'C85': 140, 'B20': 141, 'C28': 142, 'E63': 143, 'C99': 144, 'D49': 145, 'A10': 146, 'A16': 147, 'B37': 148, 'C80': 149, 'B78': 150}\n",
            "Total Cabin Unique - X_train :  151\n",
            "Total Cabin Unique - Data    :  187\n"
          ]
        }
      ],
      "source": [
        "# Let's re-map Cabin into numbers so we can use it to train ML models\n",
        "\n",
        "# I will replace each cabin by a number\n",
        "# to quickly demonstrate the effect of\n",
        "# labels on machine learning algorithms\n",
        "\n",
        "cabin_dict = {k: i for i, k in enumerate(X_train.cabin.unique(), 0)}\n",
        "print('cabin_dict : ', cabin_dict)\n",
        "print('Total Cabin Unique - X_train : ', len(X_train.cabin.unique()))\n",
        "print('Total Cabin Unique - Data    : ', len(data.cabin.unique()))"
      ]
    },
    {
      "cell_type": "code",
      "execution_count": 50,
      "metadata": {
        "colab": {
          "base_uri": "https://localhost:8080/",
          "height": 359
        },
        "id": "wuN_zZ7SNtTC",
        "outputId": "8c09e4ce-d50e-4f46-b4e6-7ad3e3b0d906"
      },
      "outputs": [
        {
          "data": {
            "text/html": [
              "<div>\n",
              "<style scoped>\n",
              "    .dataframe tbody tr th:only-of-type {\n",
              "        vertical-align: middle;\n",
              "    }\n",
              "\n",
              "    .dataframe tbody tr th {\n",
              "        vertical-align: top;\n",
              "    }\n",
              "\n",
              "    .dataframe thead th {\n",
              "        text-align: right;\n",
              "    }\n",
              "</style>\n",
              "<table border=\"1\" class=\"dataframe\">\n",
              "  <thead>\n",
              "    <tr style=\"text-align: right;\">\n",
              "      <th></th>\n",
              "      <th>Cabin_mapped</th>\n",
              "      <th>cabin</th>\n",
              "    </tr>\n",
              "  </thead>\n",
              "  <tbody>\n",
              "    <tr>\n",
              "      <th>501</th>\n",
              "      <td>0</td>\n",
              "      <td>?</td>\n",
              "    </tr>\n",
              "    <tr>\n",
              "      <th>588</th>\n",
              "      <td>0</td>\n",
              "      <td>?</td>\n",
              "    </tr>\n",
              "    <tr>\n",
              "      <th>402</th>\n",
              "      <td>0</td>\n",
              "      <td>?</td>\n",
              "    </tr>\n",
              "    <tr>\n",
              "      <th>1193</th>\n",
              "      <td>0</td>\n",
              "      <td>?</td>\n",
              "    </tr>\n",
              "    <tr>\n",
              "      <th>686</th>\n",
              "      <td>0</td>\n",
              "      <td>?</td>\n",
              "    </tr>\n",
              "    <tr>\n",
              "      <th>971</th>\n",
              "      <td>0</td>\n",
              "      <td>?</td>\n",
              "    </tr>\n",
              "    <tr>\n",
              "      <th>117</th>\n",
              "      <td>1</td>\n",
              "      <td>E36</td>\n",
              "    </tr>\n",
              "    <tr>\n",
              "      <th>540</th>\n",
              "      <td>0</td>\n",
              "      <td>?</td>\n",
              "    </tr>\n",
              "    <tr>\n",
              "      <th>294</th>\n",
              "      <td>2</td>\n",
              "      <td>C68</td>\n",
              "    </tr>\n",
              "    <tr>\n",
              "      <th>261</th>\n",
              "      <td>3</td>\n",
              "      <td>E24</td>\n",
              "    </tr>\n",
              "  </tbody>\n",
              "</table>\n",
              "</div>"
            ],
            "text/plain": [
              "      Cabin_mapped cabin\n",
              "501              0     ?\n",
              "588              0     ?\n",
              "402              0     ?\n",
              "1193             0     ?\n",
              "686              0     ?\n",
              "971              0     ?\n",
              "117              1   E36\n",
              "540              0     ?\n",
              "294              2   C68\n",
              "261              3   E24"
            ]
          },
          "execution_count": 50,
          "metadata": {},
          "output_type": "execute_result"
        }
      ],
      "source": [
        "# Replace the labels in Cabin, using the dict `cabin_dict` created above\n",
        "X_train.loc[:, 'Cabin_mapped'] = X_train.loc[:, 'cabin'].map(cabin_dict)\n",
        "X_test.loc[:, 'Cabin_mapped'] = X_test.loc[:, 'cabin'].map(cabin_dict)\n",
        "\n",
        "X_train[['Cabin_mapped', 'cabin']].head(10)"
      ]
    },
    {
      "cell_type": "code",
      "execution_count": 51,
      "metadata": {
        "colab": {
          "base_uri": "https://localhost:8080/",
          "height": 359
        },
        "id": "2Wf8EKsBNvBe",
        "outputId": "c904c55f-be10-4d03-c48f-837c6d2fe6d4"
      },
      "outputs": [
        {
          "data": {
            "text/html": [
              "<div>\n",
              "<style scoped>\n",
              "    .dataframe tbody tr th:only-of-type {\n",
              "        vertical-align: middle;\n",
              "    }\n",
              "\n",
              "    .dataframe tbody tr th {\n",
              "        vertical-align: top;\n",
              "    }\n",
              "\n",
              "    .dataframe thead th {\n",
              "        text-align: right;\n",
              "    }\n",
              "</style>\n",
              "<table border=\"1\" class=\"dataframe\">\n",
              "  <thead>\n",
              "    <tr style=\"text-align: right;\">\n",
              "      <th></th>\n",
              "      <th>cabin</th>\n",
              "      <th>Cabin_reduced</th>\n",
              "      <th>sex</th>\n",
              "      <th>Cabin_mapped</th>\n",
              "    </tr>\n",
              "  </thead>\n",
              "  <tbody>\n",
              "    <tr>\n",
              "      <th>501</th>\n",
              "      <td>?</td>\n",
              "      <td>?</td>\n",
              "      <td>female</td>\n",
              "      <td>0</td>\n",
              "    </tr>\n",
              "    <tr>\n",
              "      <th>588</th>\n",
              "      <td>?</td>\n",
              "      <td>?</td>\n",
              "      <td>female</td>\n",
              "      <td>0</td>\n",
              "    </tr>\n",
              "    <tr>\n",
              "      <th>402</th>\n",
              "      <td>?</td>\n",
              "      <td>?</td>\n",
              "      <td>female</td>\n",
              "      <td>0</td>\n",
              "    </tr>\n",
              "    <tr>\n",
              "      <th>1193</th>\n",
              "      <td>?</td>\n",
              "      <td>?</td>\n",
              "      <td>male</td>\n",
              "      <td>0</td>\n",
              "    </tr>\n",
              "    <tr>\n",
              "      <th>686</th>\n",
              "      <td>?</td>\n",
              "      <td>?</td>\n",
              "      <td>female</td>\n",
              "      <td>0</td>\n",
              "    </tr>\n",
              "    <tr>\n",
              "      <th>971</th>\n",
              "      <td>?</td>\n",
              "      <td>?</td>\n",
              "      <td>male</td>\n",
              "      <td>0</td>\n",
              "    </tr>\n",
              "    <tr>\n",
              "      <th>117</th>\n",
              "      <td>E36</td>\n",
              "      <td>E</td>\n",
              "      <td>female</td>\n",
              "      <td>1</td>\n",
              "    </tr>\n",
              "    <tr>\n",
              "      <th>540</th>\n",
              "      <td>?</td>\n",
              "      <td>?</td>\n",
              "      <td>female</td>\n",
              "      <td>0</td>\n",
              "    </tr>\n",
              "    <tr>\n",
              "      <th>294</th>\n",
              "      <td>C68</td>\n",
              "      <td>C</td>\n",
              "      <td>male</td>\n",
              "      <td>2</td>\n",
              "    </tr>\n",
              "    <tr>\n",
              "      <th>261</th>\n",
              "      <td>E24</td>\n",
              "      <td>E</td>\n",
              "      <td>male</td>\n",
              "      <td>3</td>\n",
              "    </tr>\n",
              "  </tbody>\n",
              "</table>\n",
              "</div>"
            ],
            "text/plain": [
              "     cabin Cabin_reduced     sex  Cabin_mapped\n",
              "501      ?             ?  female             0\n",
              "588      ?             ?  female             0\n",
              "402      ?             ?  female             0\n",
              "1193     ?             ?    male             0\n",
              "686      ?             ?  female             0\n",
              "971      ?             ?    male             0\n",
              "117    E36             E  female             1\n",
              "540      ?             ?  female             0\n",
              "294    C68             C    male             2\n",
              "261    E24             E    male             3"
            ]
          },
          "execution_count": 51,
          "metadata": {},
          "output_type": "execute_result"
        }
      ],
      "source": [
        "# Display First 10 Data in `X_train`\n",
        "X_train.head(10)"
      ]
    },
    {
      "cell_type": "markdown",
      "metadata": {
        "id": "xZ2xyGrFNwej"
      },
      "source": [
        "Kita lihat bagaimana NaN mengambil nilai 0 pada variabel baru, E36 mengambil nilai 1, C68 mengambil nilai 2, dan seterusnya."
      ]
    },
    {
      "cell_type": "code",
      "execution_count": 52,
      "metadata": {
        "colab": {
          "base_uri": "https://localhost:8080/"
        },
        "id": "i1GjGlnNNxHe",
        "outputId": "50a9b0f4-b675-43bf-922d-4d9f2b48763b"
      },
      "outputs": [
        {
          "name": "stdout",
          "output_type": "stream",
          "text": [
            "Before Replace\n",
            "     Cabin_reduced cabin\n",
            "501              ?     ?\n",
            "588              ?     ?\n",
            "402              ?     ?\n",
            "1193             ?     ?\n",
            "686              ?     ?\n",
            "971              ?     ?\n",
            "117              E   E36\n",
            "540              ?     ?\n",
            "294              C   C68\n",
            "261              E   E24\n",
            "\n",
            "After Replace\n",
            "      Cabin_reduced cabin\n",
            "501               0     ?\n",
            "588               0     ?\n",
            "402               0     ?\n",
            "1193              0     ?\n",
            "686               0     ?\n",
            "971               0     ?\n",
            "117               1   E36\n",
            "540               0     ?\n",
            "294               2   C68\n",
            "261               1   E24\n",
            "\n"
          ]
        }
      ],
      "source": [
        "# Now we will replace the letters in the reduced cabin variable (`Cabin_reduced`) with the same procedure\n",
        "\n",
        "# Create replace dictionary\n",
        "cabin_dict = {k: i for i, k in enumerate(X_train['Cabin_reduced'].unique(), 0)}\n",
        "\n",
        "print('Before Replace')\n",
        "print(X_train[['Cabin_reduced', 'cabin']].head(10))\n",
        "print('')\n",
        "\n",
        "# Replace labels by numbers with dictionary\n",
        "X_train.loc[:, 'Cabin_reduced'] = X_train.loc[:, 'Cabin_reduced'].map(cabin_dict)\n",
        "X_test.loc[:, 'Cabin_reduced'] = X_test.loc[:, 'Cabin_reduced'].map(cabin_dict)\n",
        "\n",
        "print('After Replace')\n",
        "print(X_train[['Cabin_reduced', 'cabin']].head(10))\n",
        "print('')"
      ]
    },
    {
      "cell_type": "code",
      "execution_count": 53,
      "metadata": {
        "colab": {
          "base_uri": "https://localhost:8080/",
          "height": 359
        },
        "id": "GoIlYm1hN1Re",
        "outputId": "0517fd01-3fb7-4353-8deb-3479adc7c209"
      },
      "outputs": [
        {
          "data": {
            "text/html": [
              "<div>\n",
              "<style scoped>\n",
              "    .dataframe tbody tr th:only-of-type {\n",
              "        vertical-align: middle;\n",
              "    }\n",
              "\n",
              "    .dataframe tbody tr th {\n",
              "        vertical-align: top;\n",
              "    }\n",
              "\n",
              "    .dataframe thead th {\n",
              "        text-align: right;\n",
              "    }\n",
              "</style>\n",
              "<table border=\"1\" class=\"dataframe\">\n",
              "  <thead>\n",
              "    <tr style=\"text-align: right;\">\n",
              "      <th></th>\n",
              "      <th>cabin</th>\n",
              "      <th>Cabin_reduced</th>\n",
              "      <th>sex</th>\n",
              "      <th>Cabin_mapped</th>\n",
              "    </tr>\n",
              "  </thead>\n",
              "  <tbody>\n",
              "    <tr>\n",
              "      <th>501</th>\n",
              "      <td>?</td>\n",
              "      <td>0</td>\n",
              "      <td>female</td>\n",
              "      <td>0</td>\n",
              "    </tr>\n",
              "    <tr>\n",
              "      <th>588</th>\n",
              "      <td>?</td>\n",
              "      <td>0</td>\n",
              "      <td>female</td>\n",
              "      <td>0</td>\n",
              "    </tr>\n",
              "    <tr>\n",
              "      <th>402</th>\n",
              "      <td>?</td>\n",
              "      <td>0</td>\n",
              "      <td>female</td>\n",
              "      <td>0</td>\n",
              "    </tr>\n",
              "    <tr>\n",
              "      <th>1193</th>\n",
              "      <td>?</td>\n",
              "      <td>0</td>\n",
              "      <td>male</td>\n",
              "      <td>0</td>\n",
              "    </tr>\n",
              "    <tr>\n",
              "      <th>686</th>\n",
              "      <td>?</td>\n",
              "      <td>0</td>\n",
              "      <td>female</td>\n",
              "      <td>0</td>\n",
              "    </tr>\n",
              "    <tr>\n",
              "      <th>971</th>\n",
              "      <td>?</td>\n",
              "      <td>0</td>\n",
              "      <td>male</td>\n",
              "      <td>0</td>\n",
              "    </tr>\n",
              "    <tr>\n",
              "      <th>117</th>\n",
              "      <td>E36</td>\n",
              "      <td>1</td>\n",
              "      <td>female</td>\n",
              "      <td>1</td>\n",
              "    </tr>\n",
              "    <tr>\n",
              "      <th>540</th>\n",
              "      <td>?</td>\n",
              "      <td>0</td>\n",
              "      <td>female</td>\n",
              "      <td>0</td>\n",
              "    </tr>\n",
              "    <tr>\n",
              "      <th>294</th>\n",
              "      <td>C68</td>\n",
              "      <td>2</td>\n",
              "      <td>male</td>\n",
              "      <td>2</td>\n",
              "    </tr>\n",
              "    <tr>\n",
              "      <th>261</th>\n",
              "      <td>E24</td>\n",
              "      <td>1</td>\n",
              "      <td>male</td>\n",
              "      <td>3</td>\n",
              "    </tr>\n",
              "  </tbody>\n",
              "</table>\n",
              "</div>"
            ],
            "text/plain": [
              "     cabin  Cabin_reduced     sex  Cabin_mapped\n",
              "501      ?              0  female             0\n",
              "588      ?              0  female             0\n",
              "402      ?              0  female             0\n",
              "1193     ?              0    male             0\n",
              "686      ?              0  female             0\n",
              "971      ?              0    male             0\n",
              "117    E36              1  female             1\n",
              "540      ?              0  female             0\n",
              "294    C68              2    male             2\n",
              "261    E24              1    male             3"
            ]
          },
          "execution_count": 53,
          "metadata": {},
          "output_type": "execute_result"
        }
      ],
      "source": [
        "# Display First 10 Data in `X_train`\n",
        "X_train.head(10)"
      ]
    },
    {
      "cell_type": "markdown",
      "metadata": {
        "id": "1pxe3Di8N4B1"
      },
      "source": [
        "Kita lihat sekarang bahwa E36 dan E24 mengambil nomor yang sama, 1, karena kita hanya menangkap hurufnya. Mereka berdua mulai dengan E."
      ]
    },
    {
      "cell_type": "code",
      "execution_count": 54,
      "metadata": {
        "colab": {
          "base_uri": "https://localhost:8080/"
        },
        "id": "YV3IX_Z0N5Qy",
        "outputId": "53ac362d-1b38-41d9-aea8-8f22076816b9"
      },
      "outputs": [
        {
          "data": {
            "text/plain": [
              "501     1\n",
              "588     1\n",
              "402     1\n",
              "1193    0\n",
              "686     1\n",
              "Name: sex, dtype: int64"
            ]
          },
          "execution_count": 54,
          "metadata": {},
          "output_type": "execute_result"
        }
      ],
      "source": [
        "# Re-map the categorical variable `Sex` into numbers\n",
        "\n",
        "X_train.loc[:, 'sex'] = X_train.loc[:, 'sex'].map({'male': 0, 'female': 1})\n",
        "X_test.loc[:, 'sex'] = X_test.loc[:, 'sex'].map({'male': 0, 'female': 1})\n",
        "\n",
        "X_train.sex.head()"
      ]
    },
    {
      "cell_type": "code",
      "execution_count": 55,
      "metadata": {
        "colab": {
          "base_uri": "https://localhost:8080/"
        },
        "id": "xHUCJB_hN6dc",
        "outputId": "ebfc114c-f8db-4e91-81df-cc9893187771"
      },
      "outputs": [
        {
          "data": {
            "text/plain": [
              "Cabin_mapped     0\n",
              "Cabin_reduced    0\n",
              "sex              0\n",
              "dtype: int64"
            ]
          },
          "execution_count": 55,
          "metadata": {},
          "output_type": "execute_result"
        }
      ],
      "source": [
        "# Check if there are missing values in these variables\n",
        "\n",
        "X_train[['Cabin_mapped', 'Cabin_reduced', 'sex']].isnull().sum()"
      ]
    },
    {
      "cell_type": "code",
      "execution_count": 56,
      "metadata": {
        "colab": {
          "base_uri": "https://localhost:8080/"
        },
        "id": "6kY61--5N8RF",
        "outputId": "d7e107be-cdc2-4293-dcb4-4a9d1ca33cc8"
      },
      "outputs": [
        {
          "data": {
            "text/plain": [
              "Cabin_mapped     42\n",
              "Cabin_reduced     0\n",
              "sex               0\n",
              "dtype: int64"
            ]
          },
          "execution_count": 56,
          "metadata": {},
          "output_type": "execute_result"
        }
      ],
      "source": [
        "X_test[['Cabin_mapped', 'Cabin_reduced', 'sex']].isnull().sum()"
      ]
    },
    {
      "cell_type": "code",
      "execution_count": 57,
      "metadata": {
        "colab": {
          "base_uri": "https://localhost:8080/",
          "height": 1000
        },
        "id": "C8DoOOx3N_KC",
        "outputId": "50f02f0c-d434-4e87-8cfa-c6c9f4fa397d"
      },
      "outputs": [
        {
          "data": {
            "text/html": [
              "<div>\n",
              "<style scoped>\n",
              "    .dataframe tbody tr th:only-of-type {\n",
              "        vertical-align: middle;\n",
              "    }\n",
              "\n",
              "    .dataframe tbody tr th {\n",
              "        vertical-align: top;\n",
              "    }\n",
              "\n",
              "    .dataframe thead th {\n",
              "        text-align: right;\n",
              "    }\n",
              "</style>\n",
              "<table border=\"1\" class=\"dataframe\">\n",
              "  <thead>\n",
              "    <tr style=\"text-align: right;\">\n",
              "      <th></th>\n",
              "      <th>cabin</th>\n",
              "      <th>Cabin_reduced</th>\n",
              "      <th>sex</th>\n",
              "      <th>Cabin_mapped</th>\n",
              "    </tr>\n",
              "  </thead>\n",
              "  <tbody>\n",
              "    <tr>\n",
              "      <th>5</th>\n",
              "      <td>E12</td>\n",
              "      <td>1</td>\n",
              "      <td>0</td>\n",
              "      <td>NaN</td>\n",
              "    </tr>\n",
              "    <tr>\n",
              "      <th>231</th>\n",
              "      <td>C104</td>\n",
              "      <td>2</td>\n",
              "      <td>0</td>\n",
              "      <td>NaN</td>\n",
              "    </tr>\n",
              "    <tr>\n",
              "      <th>31</th>\n",
              "      <td>A31</td>\n",
              "      <td>5</td>\n",
              "      <td>0</td>\n",
              "      <td>NaN</td>\n",
              "    </tr>\n",
              "    <tr>\n",
              "      <th>161</th>\n",
              "      <td>D11</td>\n",
              "      <td>3</td>\n",
              "      <td>1</td>\n",
              "      <td>NaN</td>\n",
              "    </tr>\n",
              "    <tr>\n",
              "      <th>215</th>\n",
              "      <td>D48</td>\n",
              "      <td>3</td>\n",
              "      <td>0</td>\n",
              "      <td>NaN</td>\n",
              "    </tr>\n",
              "    <tr>\n",
              "      <th>141</th>\n",
              "      <td>D10 D12</td>\n",
              "      <td>3</td>\n",
              "      <td>1</td>\n",
              "      <td>NaN</td>\n",
              "    </tr>\n",
              "    <tr>\n",
              "      <th>45</th>\n",
              "      <td>B38</td>\n",
              "      <td>4</td>\n",
              "      <td>0</td>\n",
              "      <td>NaN</td>\n",
              "    </tr>\n",
              "    <tr>\n",
              "      <th>152</th>\n",
              "      <td>D45</td>\n",
              "      <td>3</td>\n",
              "      <td>0</td>\n",
              "      <td>NaN</td>\n",
              "    </tr>\n",
              "    <tr>\n",
              "      <th>233</th>\n",
              "      <td>C50</td>\n",
              "      <td>2</td>\n",
              "      <td>1</td>\n",
              "      <td>NaN</td>\n",
              "    </tr>\n",
              "    <tr>\n",
              "      <th>268</th>\n",
              "      <td>C31</td>\n",
              "      <td>2</td>\n",
              "      <td>0</td>\n",
              "      <td>NaN</td>\n",
              "    </tr>\n",
              "    <tr>\n",
              "      <th>142</th>\n",
              "      <td>B82 B84</td>\n",
              "      <td>4</td>\n",
              "      <td>0</td>\n",
              "      <td>NaN</td>\n",
              "    </tr>\n",
              "    <tr>\n",
              "      <th>241</th>\n",
              "      <td>A32</td>\n",
              "      <td>5</td>\n",
              "      <td>0</td>\n",
              "      <td>NaN</td>\n",
              "    </tr>\n",
              "    <tr>\n",
              "      <th>298</th>\n",
              "      <td>C53</td>\n",
              "      <td>2</td>\n",
              "      <td>0</td>\n",
              "      <td>NaN</td>\n",
              "    </tr>\n",
              "    <tr>\n",
              "      <th>39</th>\n",
              "      <td>B10</td>\n",
              "      <td>4</td>\n",
              "      <td>0</td>\n",
              "      <td>NaN</td>\n",
              "    </tr>\n",
              "    <tr>\n",
              "      <th>295</th>\n",
              "      <td>C70</td>\n",
              "      <td>2</td>\n",
              "      <td>0</td>\n",
              "      <td>NaN</td>\n",
              "    </tr>\n",
              "    <tr>\n",
              "      <th>14</th>\n",
              "      <td>A23</td>\n",
              "      <td>5</td>\n",
              "      <td>0</td>\n",
              "      <td>NaN</td>\n",
              "    </tr>\n",
              "    <tr>\n",
              "      <th>254</th>\n",
              "      <td>C106</td>\n",
              "      <td>2</td>\n",
              "      <td>0</td>\n",
              "      <td>NaN</td>\n",
              "    </tr>\n",
              "    <tr>\n",
              "      <th>61</th>\n",
              "      <td>C46</td>\n",
              "      <td>2</td>\n",
              "      <td>1</td>\n",
              "      <td>NaN</td>\n",
              "    </tr>\n",
              "    <tr>\n",
              "      <th>75</th>\n",
              "      <td>E58</td>\n",
              "      <td>1</td>\n",
              "      <td>0</td>\n",
              "      <td>NaN</td>\n",
              "    </tr>\n",
              "    <tr>\n",
              "      <th>140</th>\n",
              "      <td>D10 D12</td>\n",
              "      <td>3</td>\n",
              "      <td>0</td>\n",
              "      <td>NaN</td>\n",
              "    </tr>\n",
              "    <tr>\n",
              "      <th>156</th>\n",
              "      <td>B11</td>\n",
              "      <td>4</td>\n",
              "      <td>0</td>\n",
              "      <td>NaN</td>\n",
              "    </tr>\n",
              "    <tr>\n",
              "      <th>270</th>\n",
              "      <td>C31</td>\n",
              "      <td>2</td>\n",
              "      <td>1</td>\n",
              "      <td>NaN</td>\n",
              "    </tr>\n",
              "    <tr>\n",
              "      <th>1122</th>\n",
              "      <td>F E69</td>\n",
              "      <td>6</td>\n",
              "      <td>1</td>\n",
              "      <td>NaN</td>\n",
              "    </tr>\n",
              "    <tr>\n",
              "      <th>192</th>\n",
              "      <td>B80</td>\n",
              "      <td>4</td>\n",
              "      <td>1</td>\n",
              "      <td>NaN</td>\n",
              "    </tr>\n",
              "    <tr>\n",
              "      <th>319</th>\n",
              "      <td>E39 E41</td>\n",
              "      <td>1</td>\n",
              "      <td>1</td>\n",
              "      <td>NaN</td>\n",
              "    </tr>\n",
              "    <tr>\n",
              "      <th>34</th>\n",
              "      <td>D22</td>\n",
              "      <td>3</td>\n",
              "      <td>0</td>\n",
              "      <td>NaN</td>\n",
              "    </tr>\n",
              "    <tr>\n",
              "      <th>194</th>\n",
              "      <td>C106</td>\n",
              "      <td>2</td>\n",
              "      <td>0</td>\n",
              "      <td>NaN</td>\n",
              "    </tr>\n",
              "    <tr>\n",
              "      <th>44</th>\n",
              "      <td>E40</td>\n",
              "      <td>1</td>\n",
              "      <td>1</td>\n",
              "      <td>NaN</td>\n",
              "    </tr>\n",
              "    <tr>\n",
              "      <th>269</th>\n",
              "      <td>A19</td>\n",
              "      <td>5</td>\n",
              "      <td>0</td>\n",
              "      <td>NaN</td>\n",
              "    </tr>\n",
              "    <tr>\n",
              "      <th>322</th>\n",
              "      <td>C32</td>\n",
              "      <td>2</td>\n",
              "      <td>1</td>\n",
              "      <td>NaN</td>\n",
              "    </tr>\n",
              "    <tr>\n",
              "      <th>195</th>\n",
              "      <td>B79</td>\n",
              "      <td>4</td>\n",
              "      <td>1</td>\n",
              "      <td>NaN</td>\n",
              "    </tr>\n",
              "    <tr>\n",
              "      <th>308</th>\n",
              "      <td>C32</td>\n",
              "      <td>2</td>\n",
              "      <td>1</td>\n",
              "      <td>NaN</td>\n",
              "    </tr>\n",
              "    <tr>\n",
              "      <th>103</th>\n",
              "      <td>C45</td>\n",
              "      <td>2</td>\n",
              "      <td>1</td>\n",
              "      <td>NaN</td>\n",
              "    </tr>\n",
              "    <tr>\n",
              "      <th>60</th>\n",
              "      <td>C46</td>\n",
              "      <td>2</td>\n",
              "      <td>0</td>\n",
              "      <td>NaN</td>\n",
              "    </tr>\n",
              "    <tr>\n",
              "      <th>82</th>\n",
              "      <td>B22</td>\n",
              "      <td>4</td>\n",
              "      <td>1</td>\n",
              "      <td>NaN</td>\n",
              "    </tr>\n",
              "    <tr>\n",
              "      <th>122</th>\n",
              "      <td>B39</td>\n",
              "      <td>4</td>\n",
              "      <td>1</td>\n",
              "      <td>NaN</td>\n",
              "    </tr>\n",
              "    <tr>\n",
              "      <th>196</th>\n",
              "      <td>C47</td>\n",
              "      <td>2</td>\n",
              "      <td>0</td>\n",
              "      <td>NaN</td>\n",
              "    </tr>\n",
              "    <tr>\n",
              "      <th>183</th>\n",
              "      <td>B101</td>\n",
              "      <td>4</td>\n",
              "      <td>0</td>\n",
              "      <td>NaN</td>\n",
              "    </tr>\n",
              "    <tr>\n",
              "      <th>81</th>\n",
              "      <td>B22</td>\n",
              "      <td>4</td>\n",
              "      <td>0</td>\n",
              "      <td>NaN</td>\n",
              "    </tr>\n",
              "    <tr>\n",
              "      <th>267</th>\n",
              "      <td>A7</td>\n",
              "      <td>5</td>\n",
              "      <td>0</td>\n",
              "      <td>NaN</td>\n",
              "    </tr>\n",
              "    <tr>\n",
              "      <th>77</th>\n",
              "      <td>E52</td>\n",
              "      <td>1</td>\n",
              "      <td>0</td>\n",
              "      <td>NaN</td>\n",
              "    </tr>\n",
              "    <tr>\n",
              "      <th>1249</th>\n",
              "      <td>F38</td>\n",
              "      <td>6</td>\n",
              "      <td>0</td>\n",
              "      <td>NaN</td>\n",
              "    </tr>\n",
              "  </tbody>\n",
              "</table>\n",
              "</div>"
            ],
            "text/plain": [
              "        cabin  Cabin_reduced  sex  Cabin_mapped\n",
              "5         E12              1    0           NaN\n",
              "231      C104              2    0           NaN\n",
              "31        A31              5    0           NaN\n",
              "161       D11              3    1           NaN\n",
              "215       D48              3    0           NaN\n",
              "141   D10 D12              3    1           NaN\n",
              "45        B38              4    0           NaN\n",
              "152       D45              3    0           NaN\n",
              "233       C50              2    1           NaN\n",
              "268       C31              2    0           NaN\n",
              "142   B82 B84              4    0           NaN\n",
              "241       A32              5    0           NaN\n",
              "298       C53              2    0           NaN\n",
              "39        B10              4    0           NaN\n",
              "295       C70              2    0           NaN\n",
              "14        A23              5    0           NaN\n",
              "254      C106              2    0           NaN\n",
              "61        C46              2    1           NaN\n",
              "75        E58              1    0           NaN\n",
              "140   D10 D12              3    0           NaN\n",
              "156       B11              4    0           NaN\n",
              "270       C31              2    1           NaN\n",
              "1122    F E69              6    1           NaN\n",
              "192       B80              4    1           NaN\n",
              "319   E39 E41              1    1           NaN\n",
              "34        D22              3    0           NaN\n",
              "194      C106              2    0           NaN\n",
              "44        E40              1    1           NaN\n",
              "269       A19              5    0           NaN\n",
              "322       C32              2    1           NaN\n",
              "195       B79              4    1           NaN\n",
              "308       C32              2    1           NaN\n",
              "103       C45              2    1           NaN\n",
              "60        C46              2    0           NaN\n",
              "82        B22              4    1           NaN\n",
              "122       B39              4    1           NaN\n",
              "196       C47              2    0           NaN\n",
              "183      B101              4    0           NaN\n",
              "81        B22              4    0           NaN\n",
              "267        A7              5    0           NaN\n",
              "77        E52              1    0           NaN\n",
              "1249      F38              6    0           NaN"
            ]
          },
          "execution_count": 57,
          "metadata": {},
          "output_type": "execute_result"
        }
      ],
      "source": [
        "# Display row in `X_test` that contains missing values\n",
        "X_test[X_test.isna().any(axis=1)]"
      ]
    },
    {
      "cell_type": "markdown",
      "metadata": {
        "id": "WwXHrksbOCC1"
      },
      "source": [
        "Dalam set pengujian, sekarang ada **42 nilai yang hilang** untuk variabel yang sangat kardinal. Ini diperkenalkan saat mengkodekan kategori ke dalam angka. Bagaimana? **Banyak kategori yang hanya ada di set pengujian.** Jadi, saat kami membuat kamus enkode kami hanya menggunakan set kereta, kami tidak menghasilkan angka untuk menggantikan label yang hanya ada di set pengujian. Akibatnya, mereka dikodekan sebagai NaN. Untuk saat ini, mari kita isi nilai yang hilang itu dengan 0."
      ]
    },
    {
      "cell_type": "code",
      "execution_count": 58,
      "metadata": {
        "colab": {
          "base_uri": "https://localhost:8080/",
          "height": 359
        },
        "id": "eNedsl23OBEd",
        "outputId": "7fbec50c-2b56-40d4-c00c-7475915224cc"
      },
      "outputs": [
        {
          "data": {
            "text/html": [
              "<div>\n",
              "<style scoped>\n",
              "    .dataframe tbody tr th:only-of-type {\n",
              "        vertical-align: middle;\n",
              "    }\n",
              "\n",
              "    .dataframe tbody tr th {\n",
              "        vertical-align: top;\n",
              "    }\n",
              "\n",
              "    .dataframe thead th {\n",
              "        text-align: right;\n",
              "    }\n",
              "</style>\n",
              "<table border=\"1\" class=\"dataframe\">\n",
              "  <thead>\n",
              "    <tr style=\"text-align: right;\">\n",
              "      <th></th>\n",
              "      <th>cabin</th>\n",
              "      <th>Cabin_reduced</th>\n",
              "      <th>sex</th>\n",
              "      <th>Cabin_mapped</th>\n",
              "    </tr>\n",
              "  </thead>\n",
              "  <tbody>\n",
              "    <tr>\n",
              "      <th>501</th>\n",
              "      <td>?</td>\n",
              "      <td>0</td>\n",
              "      <td>1</td>\n",
              "      <td>0</td>\n",
              "    </tr>\n",
              "    <tr>\n",
              "      <th>588</th>\n",
              "      <td>?</td>\n",
              "      <td>0</td>\n",
              "      <td>1</td>\n",
              "      <td>0</td>\n",
              "    </tr>\n",
              "    <tr>\n",
              "      <th>402</th>\n",
              "      <td>?</td>\n",
              "      <td>0</td>\n",
              "      <td>1</td>\n",
              "      <td>0</td>\n",
              "    </tr>\n",
              "    <tr>\n",
              "      <th>1193</th>\n",
              "      <td>?</td>\n",
              "      <td>0</td>\n",
              "      <td>0</td>\n",
              "      <td>0</td>\n",
              "    </tr>\n",
              "    <tr>\n",
              "      <th>686</th>\n",
              "      <td>?</td>\n",
              "      <td>0</td>\n",
              "      <td>1</td>\n",
              "      <td>0</td>\n",
              "    </tr>\n",
              "    <tr>\n",
              "      <th>971</th>\n",
              "      <td>?</td>\n",
              "      <td>0</td>\n",
              "      <td>0</td>\n",
              "      <td>0</td>\n",
              "    </tr>\n",
              "    <tr>\n",
              "      <th>117</th>\n",
              "      <td>E36</td>\n",
              "      <td>1</td>\n",
              "      <td>1</td>\n",
              "      <td>1</td>\n",
              "    </tr>\n",
              "    <tr>\n",
              "      <th>540</th>\n",
              "      <td>?</td>\n",
              "      <td>0</td>\n",
              "      <td>1</td>\n",
              "      <td>0</td>\n",
              "    </tr>\n",
              "    <tr>\n",
              "      <th>294</th>\n",
              "      <td>C68</td>\n",
              "      <td>2</td>\n",
              "      <td>0</td>\n",
              "      <td>2</td>\n",
              "    </tr>\n",
              "    <tr>\n",
              "      <th>261</th>\n",
              "      <td>E24</td>\n",
              "      <td>1</td>\n",
              "      <td>0</td>\n",
              "      <td>3</td>\n",
              "    </tr>\n",
              "  </tbody>\n",
              "</table>\n",
              "</div>"
            ],
            "text/plain": [
              "     cabin  Cabin_reduced  sex  Cabin_mapped\n",
              "501      ?              0    1             0\n",
              "588      ?              0    1             0\n",
              "402      ?              0    1             0\n",
              "1193     ?              0    0             0\n",
              "686      ?              0    1             0\n",
              "971      ?              0    0             0\n",
              "117    E36              1    1             1\n",
              "540      ?              0    1             0\n",
              "294    C68              2    0             2\n",
              "261    E24              1    0             3"
            ]
          },
          "execution_count": 58,
          "metadata": {},
          "output_type": "execute_result"
        }
      ],
      "source": [
        "# Display X_train\n",
        "X_train.head(10)"
      ]
    },
    {
      "cell_type": "markdown",
      "metadata": {
        "id": "NYAGxr0-OGds"
      },
      "source": [
        "### Random Forests"
      ]
    },
    {
      "cell_type": "code",
      "execution_count": 59,
      "metadata": {
        "colab": {
          "base_uri": "https://localhost:8080/"
        },
        "id": "Z3rZxkm0OEj3",
        "outputId": "5623af46-bd61-4cad-d988-5e03c49c72aa"
      },
      "outputs": [
        {
          "name": "stdout",
          "output_type": "stream",
          "text": [
            "Train set\n",
            "Random Forests roc-auc: 0.8561832352985574\n",
            "Test set\n",
            "Random Forests roc-auc: 0.7707953099939163\n"
          ]
        }
      ],
      "source": [
        "# Model built on data with high cardinality for cabin\n",
        "\n",
        "# Call the model\n",
        "rf = RandomForestClassifier(n_estimators=200, random_state=39)\n",
        "\n",
        "# Train the model\n",
        "rf.fit(X_train[['Cabin_mapped', 'sex']], y_train)\n",
        "\n",
        "# Make predictions on train and test set\n",
        "pred_train = rf.predict_proba(X_train[['Cabin_mapped', 'sex']])\n",
        "pred_test = rf.predict_proba(X_test[['Cabin_mapped', 'sex']].fillna(0))\n",
        "\n",
        "print('Train set')\n",
        "print('Random Forests roc-auc: {}'.format(roc_auc_score(y_train, pred_train[:,1])))\n",
        "print('Test set')\n",
        "print('Random Forests roc-auc: {}'.format(roc_auc_score(y_test, pred_test[:,1])))"
      ]
    },
    {
      "cell_type": "markdown",
      "metadata": {
        "id": "Tzfhwqe9OK-s"
      },
      "source": [
        "Kami mengamati bahwa kinerja Hutan Acak di set pelatihan cukup unggul dari kinerjanya di set tes. Hal ini menunjukkan bahwa model tersebut terlalu pas, yang berarti bahwa model tersebut melakukan pekerjaan yang baik dalam memprediksi hasil pada kumpulan data yang dilatihnya, tetapi tidak memiliki kekuatan untuk menggeneralisasi prediksi ke data yang tidak terlihat."
      ]
    },
    {
      "cell_type": "code",
      "execution_count": 60,
      "metadata": {
        "colab": {
          "base_uri": "https://localhost:8080/"
        },
        "id": "FOJ1hk_IOLly",
        "outputId": "d0836ccd-0c55-4673-88bc-63fdd5e026a6"
      },
      "outputs": [
        {
          "name": "stdout",
          "output_type": "stream",
          "text": [
            "Train set\n",
            "Random Forests roc-auc: 0.8163420365403872\n",
            "Test set\n",
            "Random Forests roc-auc: 0.8017670482827277\n"
          ]
        }
      ],
      "source": [
        "# Model built on data with low cardinality for cabin\n",
        "\n",
        "# Call the model\n",
        "rf = RandomForestClassifier(n_estimators=200, random_state=39)\n",
        "\n",
        "# Train the model\n",
        "rf.fit(X_train[['Cabin_reduced', 'sex']], y_train)\n",
        "\n",
        "# Make predictions on train and test set\n",
        "pred_train = rf.predict_proba(X_train[['Cabin_reduced', 'sex']])\n",
        "pred_test = rf.predict_proba(X_test[['Cabin_reduced', 'sex']])\n",
        "\n",
        "print('Train set')\n",
        "print('Random Forests roc-auc: {}'.format(roc_auc_score(y_train, pred_train[:,1])))\n",
        "print('Test set')\n",
        "print('Random Forests roc-auc: {}'.format(roc_auc_score(y_test, pred_test[:,1])))"
      ]
    },
    {
      "cell_type": "markdown",
      "metadata": {
        "id": "ciJD35reONol"
      },
      "source": [
        "Kita dapat melihat sekarang bahwa Hutan Acak tidak lagi terlalu sesuai dengan set pelatihan. Selain itu, model jauh lebih baik dalam menggeneralisasi prediksi (bandingkan kekuatan model ini pada set pengujian vs kekuatan model di atas juga pada perangkat pengujian: 0,81 vs 0,80).\n",
        "\n",
        "**Mengingat model yang sama, dengan parameter hiper yang identik, kardinalitas tinggi dapat menyebabkan model menjadi terlalu pas**."
      ]
    },
    {
      "cell_type": "markdown",
      "metadata": {
        "id": "x-IGcQW4OUmW"
      },
      "source": [
        "### Logistic Regression"
      ]
    },
    {
      "cell_type": "code",
      "execution_count": 61,
      "metadata": {
        "colab": {
          "base_uri": "https://localhost:8080/"
        },
        "id": "zFCJYE3ROV9X",
        "outputId": "b43aaceb-bd0b-47c1-fab4-eb0c725d91f9"
      },
      "outputs": [
        {
          "name": "stdout",
          "output_type": "stream",
          "text": [
            "Train set\n",
            "Logistic regression roc-auc: 0.8135594926008485\n",
            "Test set\n",
            "Logistic regression roc-auc: 0.7744732039157127\n"
          ]
        }
      ],
      "source": [
        "# Model build on data with plenty of categories in Cabin variable\n",
        "\n",
        "# Call the model\n",
        "logit = LogisticRegression(random_state=44, solver='lbfgs')\n",
        "\n",
        "# Train the model\n",
        "logit.fit(X_train[['Cabin_mapped', 'sex']], y_train)\n",
        "\n",
        "# Make predictions on train and test set\n",
        "pred_train = logit.predict_proba(X_train[['Cabin_mapped', 'sex']])\n",
        "pred_test = logit.predict_proba(X_test[['Cabin_mapped', 'sex']].fillna(0))\n",
        "\n",
        "print('Train set')\n",
        "print('Logistic regression roc-auc: {}'.format(roc_auc_score(y_train, pred_train[:,1])))\n",
        "print('Test set')\n",
        "print('Logistic regression roc-auc: {}'.format(roc_auc_score(y_test, pred_test[:,1])))"
      ]
    },
    {
      "cell_type": "code",
      "execution_count": 62,
      "metadata": {
        "colab": {
          "base_uri": "https://localhost:8080/"
        },
        "id": "RLO5BXStOXeC",
        "outputId": "f5fd2228-a42b-459c-a1e2-42e533776a10"
      },
      "outputs": [
        {
          "name": "stdout",
          "output_type": "stream",
          "text": [
            "Train set\n",
            "Logistic regression roc-auc: 0.8123468468695123\n",
            "Test set\n",
            "Logistic regression roc-auc: 0.8008268347989602\n"
          ]
        }
      ],
      "source": [
        "# Model build on data with fewer categories in Cabin Variable\n",
        "\n",
        "# Call the model\n",
        "logit = LogisticRegression(random_state=44, solver='lbfgs')\n",
        "\n",
        "# Train the model\n",
        "logit.fit(X_train[['Cabin_reduced', 'sex']], y_train)\n",
        "\n",
        "# Make predictions on train and test set\n",
        "pred_train = logit.predict_proba(X_train[['Cabin_reduced', 'sex']])\n",
        "pred_test = logit.predict_proba(X_test[['Cabin_reduced', 'sex']].fillna(0))\n",
        "\n",
        "print('Train set')\n",
        "print('Logistic regression roc-auc: {}'.format(roc_auc_score(y_train, pred_train[:,1])))\n",
        "print('Test set')\n",
        "print('Logistic regression roc-auc: {}'.format(roc_auc_score(y_test, pred_test[:,1])))"
      ]
    },
    {
      "cell_type": "markdown",
      "metadata": {
        "id": "B6GBPnhdOY8k"
      },
      "source": [
        "Kita dapat menarik kesimpulan yang sama untuk Regresi Logistik : **mengurangi kardinalitas meningkatkan kinerja dan generalisasi algoritme**."
      ]
    }
  ],
  "metadata": {
    "colab": {
      "collapsed_sections": [],
      "name": "P1W1D2PM - Feature Engineering Part 2.ipynb",
      "provenance": []
    },
    "kernelspec": {
      "display_name": "Python 3",
      "name": "python3"
    },
    "language_info": {
      "codemirror_mode": {
        "name": "ipython",
        "version": 3
      },
      "file_extension": ".py",
      "mimetype": "text/x-python",
      "name": "python",
      "nbconvert_exporter": "python",
      "pygments_lexer": "ipython3",
      "version": "3.9.7"
    },
    "toc": {
      "base_numbering": 1,
      "nav_menu": {},
      "number_sections": true,
      "sideBar": true,
      "skip_h1_title": false,
      "title_cell": "Table of Contents",
      "title_sidebar": "Contents",
      "toc_cell": false,
      "toc_position": {},
      "toc_section_display": "block",
      "toc_window_display": true
    }
  },
  "nbformat": 4,
  "nbformat_minor": 0
}
