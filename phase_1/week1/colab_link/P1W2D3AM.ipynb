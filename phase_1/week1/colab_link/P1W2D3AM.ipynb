{
  "nbformat": 4,
  "nbformat_minor": 0,
  "metadata": {
    "kernelspec": {
      "display_name": "Python 3",
      "language": "python",
      "name": "python3"
    },
    "language_info": {
      "codemirror_mode": {
        "name": "ipython",
        "version": 3
      },
      "file_extension": ".py",
      "mimetype": "text/x-python",
      "name": "python",
      "nbconvert_exporter": "python",
      "pygments_lexer": "ipython3",
      "version": "3.8.5"
    },
    "colab": {
      "name": "P1W2D3AM.ipynb",
      "provenance": [],
      "collapsed_sections": []
    }
  },
  "cells": [
    {
      "cell_type": "markdown",
      "metadata": {
        "id": "VmaKgpkGje1u"
      },
      "source": [
        "# Week 2: Day 3 AM // K - Nearest Neighbor Classifier"
      ]
    },
    {
      "cell_type": "markdown",
      "metadata": {
        "id": "ivMftTmJje1x"
      },
      "source": [
        "# A. KNN Introduction"
      ]
    },
    {
      "cell_type": "markdown",
      "metadata": {
        "id": "y3E2WH6Bje1y"
      },
      "source": [
        "## Import Libraries"
      ]
    },
    {
      "cell_type": "markdown",
      "metadata": {
        "id": "95Y6FT3lhGG2"
      },
      "source": [
        "First, let's import some libraries that we will use to demonstrate K - Nearest Neighbor."
      ]
    },
    {
      "cell_type": "code",
      "metadata": {
        "id": "wj6Cw5Kfje1y"
      },
      "source": [
        "# Import Libraris\n",
        "\n",
        "import time\n",
        "import pandas as pd\n",
        "import numpy as np\n",
        "import matplotlib.pyplot as plt\n",
        "from sklearn.neighbors import NearestNeighbors, KNeighborsClassifier\n",
        "from sklearn.linear_model import LogisticRegression\n",
        "from sklearn.preprocessing import StandardScaler\n",
        "from sklearn.model_selection import train_test_split\n",
        "from sklearn.metrics import roc_curve, auc,roc_auc_score\n",
        "\n",
        "%matplotlib inline"
      ],
      "execution_count": null,
      "outputs": []
    },
    {
      "cell_type": "markdown",
      "metadata": {
        "id": "Stq11cE2je1z"
      },
      "source": [
        "## Generate sample data"
      ]
    },
    {
      "cell_type": "code",
      "metadata": {
        "id": "nek0Tci2je10"
      },
      "source": [
        "# Function for Generate Data that Will Be Used by KNN\n",
        "\n",
        "def generate_sample(x1_center, x2_center, max_radius, num_samples, ymax=999, ymin=-999):\n",
        "    i = 0\n",
        "    x1_list = []\n",
        "    x2_list = []\n",
        "    x1_min = x1_center - max_radius\n",
        "    x1_max = x1_center + max_radius\n",
        "    x2_min = x2_center - max_radius\n",
        "    x2_max = x2_center + max_radius\n",
        "    while i < num_samples:\n",
        "        x1 = np.random.uniform(x1_min, x1_max)\n",
        "        x2 = np.random.uniform(x2_min, x2_max)\n",
        "        mag_data = np.power(x1 - x1_center, 2) + np.power(x2 - x2_center, 2)\n",
        "        if (\n",
        "            (mag_data <= np.power(max_radius, 2))\n",
        "            & (x2 > ymin)\n",
        "            & (x2 < ymax)\n",
        "        ):\n",
        "            x1_list.append(x1)\n",
        "            x2_list.append(x2)\n",
        "            i = i + 1\n",
        "        else:\n",
        "            continue\n",
        "\n",
        "    return np.vstack((x1_list, x2_list)).T"
      ],
      "execution_count": null,
      "outputs": []
    },
    {
      "cell_type": "code",
      "metadata": {
        "id": "ILPXiIS4je11"
      },
      "source": [
        "# Generate Dataset\n",
        "\n",
        "x1_centers = [0, 0, 2]\n",
        "x2_centers = [0, 2, 0]\n",
        "num_data = 50\n",
        "\n",
        "datas = []\n",
        "for i in range(0,len(x1_centers)):\n",
        "    datas.append(generate_sample(x1_centers[i], x2_centers[i], 1.5, num_data))\n",
        "    \n",
        "X = np.vstack(datas)\n",
        "y = list(np.hstack([[1] * num_data,[2] * num_data,[3] * num_data]))"
      ],
      "execution_count": null,
      "outputs": []
    },
    {
      "cell_type": "code",
      "metadata": {
        "colab": {
          "base_uri": "https://localhost:8080/"
        },
        "id": "HCAWi8nxccVp",
        "outputId": "c6ffd102-1391-4523-9fd4-cdd631c3be60"
      },
      "source": [
        "# Display Data\n",
        "\n",
        "## Display First 10 Data from X and y\n",
        "print('First 10 Data')\n",
        "print('X : ', X[:10])\n",
        "print('y : ', y[:10])\n",
        "print('')\n",
        "\n",
        "## Display Number of Total Data per Class\n",
        "print('Number of Total Data per Class')\n",
        "for cls in list(set(y)):\n",
        "  print('Class : ', cls, ' - Count : ', y.count(cls))"
      ],
      "execution_count": null,
      "outputs": [
        {
          "output_type": "stream",
          "name": "stdout",
          "text": [
            "First 10 Data\n",
            "X :  [[-0.46199119  0.6021182 ]\n",
            " [-0.68976989  0.08102106]\n",
            " [ 0.63968558 -0.80566849]\n",
            " [ 0.08701584 -0.6702338 ]\n",
            " [-0.97613026  0.23479844]\n",
            " [ 1.44070507  0.10056366]\n",
            " [ 0.19330328  0.93642036]\n",
            " [-1.24209818 -0.65445522]\n",
            " [ 1.02518815  0.69941317]\n",
            " [-0.52942878 -0.32385934]]\n",
            "y :  [1, 1, 1, 1, 1, 1, 1, 1, 1, 1]\n",
            "\n",
            "Number of Total Data per Class\n",
            "Class :  1  - Count :  50\n",
            "Class :  2  - Count :  50\n",
            "Class :  3  - Count :  50\n"
          ]
        }
      ]
    },
    {
      "cell_type": "code",
      "metadata": {
        "id": "-rByGvt3je12",
        "colab": {
          "base_uri": "https://localhost:8080/",
          "height": 286
        },
        "outputId": "b9eb007f-2930-496f-9488-5580c4eb4e47"
      },
      "source": [
        "# Visualization of Dataset\n",
        "\n",
        "plt.scatter(X[:,0], X[:,1], c=y)\n",
        "plt.xlim(-2,4)\n",
        "plt.ylim(-2,4)"
      ],
      "execution_count": null,
      "outputs": [
        {
          "output_type": "execute_result",
          "data": {
            "text/plain": [
              "(-2.0, 4.0)"
            ]
          },
          "metadata": {},
          "execution_count": 5
        },
        {
          "output_type": "display_data",
          "data": {
            "image/png": "[encoded data removed]",
            "text/plain": [
              "<Figure size 432x288 with 1 Axes>"
            ]
          },
          "metadata": {
            "needs_background": "light"
          }
        }
      ]
    },
    {
      "cell_type": "markdown",
      "metadata": {
        "id": "wN3o7M5Ckbqk"
      },
      "source": [
        "Color description from above graph :\n",
        "* Class `1` : Purple\n",
        "* Class `2` : Green\n",
        "* Class `3` : Yellow"
      ]
    },
    {
      "cell_type": "code",
      "metadata": {
        "id": "mHI177_An43B"
      },
      "source": [
        "# Save the Colors into a Dictionary\n",
        "\n",
        "class_colors = {\n",
        "    '1': 'purple',\n",
        "    '2': 'green',\n",
        "    '3': 'yellow'\n",
        "}"
      ],
      "execution_count": null,
      "outputs": []
    },
    {
      "cell_type": "markdown",
      "metadata": {
        "id": "5H2Lv1uQje13"
      },
      "source": [
        "## Nearest Neighbors\n",
        "\n",
        "Let's find the neighbors of two test data on the previously created dataset. To do that, we are going to implement module `NearestNeighbors` from Scikit-learn."
      ]
    },
    {
      "cell_type": "code",
      "metadata": {
        "id": "cemsK1Wrje14"
      },
      "source": [
        "# Define Two Test Data\n",
        "\n",
        "X_sample = np.array(([0,1],[1,0]))"
      ],
      "execution_count": null,
      "outputs": []
    },
    {
      "cell_type": "code",
      "metadata": {
        "id": "yDknxYDqje13",
        "colab": {
          "base_uri": "https://localhost:8080/"
        },
        "outputId": "deb43200-e50a-4550-8fe7-beffa1612e88"
      },
      "source": [
        "# Create Object of NearestNeighbors and Enter Dataset into this Object\n",
        "\n",
        "neigh = NearestNeighbors(n_neighbors=15)\n",
        "neigh.fit(X,y)"
      ],
      "execution_count": null,
      "outputs": [
        {
          "output_type": "execute_result",
          "data": {
            "text/plain": [
              "NearestNeighbors(algorithm='auto', leaf_size=30, metric='minkowski',\n",
              "                 metric_params=None, n_jobs=None, n_neighbors=15, p=2,\n",
              "                 radius=1.0)"
            ]
          },
          "metadata": {},
          "execution_count": 8
        }
      ]
    },
    {
      "cell_type": "code",
      "metadata": {
        "colab": {
          "base_uri": "https://localhost:8080/"
        },
        "id": "ERkhbBjZR_xI",
        "outputId": "80706785-52f8-4f0b-8e72-fae91cc328a9"
      },
      "source": [
        "# Get the Neighbors for Test Data\n",
        "\n",
        "neighbors_distances, neighbors_indices = neigh.kneighbors(X_sample)\n",
        "y = np.array(y)\n",
        "\n",
        "print('X_sample[0]               : ', X_sample[0])\n",
        "print('Neighbors Distance        : ', neighbors_distances[0].tolist())\n",
        "print('Neighbors Index           : ', neighbors_indices[0])\n",
        "print('Neighbors Class           : ', y[neighbors_indices[0]])\n",
        "print('Neighbors Class (Counter) : ', [(cls, list(y[neighbors_indices[0]]).count(cls)) for cls in list(set(y))])\n",
        "print('Max Class                 : ', max(list(y[neighbors_indices[0]]), key=list(y[neighbors_indices[0]]).count))\n",
        "print('Class Color               : ', class_colors[str(max(list(y[neighbors_indices[0]]), key=list(y[neighbors_indices[0]]).count))])\n",
        "print('')\n",
        "\n",
        "print('X_sample[1]               : ', X_sample[1])\n",
        "print('Neighbors Distance        : ', neighbors_distances[1].tolist())\n",
        "print('Neighbors Index           : ', neighbors_indices[1])\n",
        "print('Neighbors Class           : ', y[neighbors_indices[1]])\n",
        "print('Neighbors Class (Counter) : ', [(cls, list(y[neighbors_indices[1]]).count(cls)) for cls in list(set(y))])\n",
        "print('Max Class                 : ', max(list(y[neighbors_indices[1]]), key=list(y[neighbors_indices[1]]).count))\n",
        "print('Class Color               : ', class_colors[str(max(list(y[neighbors_indices[1]]), key=list(y[neighbors_indices[1]]).count))])\n",
        "print('')"
      ],
      "execution_count": null,
      "outputs": [
        {
          "output_type": "stream",
          "name": "stdout",
          "text": [
            "X_sample[0]               :  [0 1]\n",
            "Neighbors Distance        :  [0.19923163020956752, 0.20349086000025074, 0.24777520174263878, 0.2516933327923715, 0.2720385274220538, 0.29529750359988116, 0.37837500914987404, 0.5182757232256111, 0.5287953923492184, 0.5551177737907809, 0.6019518476538415, 0.6097095948070724, 0.6972813315621165, 0.7711391280989437, 0.7769317893845584]\n",
            "Neighbors Index           :  [71  6 72 53 43 16 61 92 86 94 77  0 13 11 37]\n",
            "Neighbors Class           :  [2 1 2 2 1 1 2 2 2 2 2 1 1 1 1]\n",
            "Neighbors Class (Counter) :  [(1, 7), (2, 8), (3, 0)]\n",
            "Max Class                 :  2\n",
            "Class Color               :  green\n",
            "\n",
            "X_sample[1]               :  [1 0]\n",
            "Neighbors Distance        :  [0.10053281044839103, 0.1373605133427522, 0.17200975245798217, 0.1813558915462149, 0.18782524965069228, 0.21796873029137603, 0.25813847549349994, 0.3179051262328382, 0.35493436247879573, 0.41247026929949937, 0.4378304459131553, 0.4415637771774027, 0.4520331889000703, 0.452942369873705, 0.5108294446765632]\n",
            "Neighbors Index           :  [ 41  48 113  15 122 129 148 138  27  18  40 105   5 120 103]\n",
            "Neighbors Class           :  [1 1 3 1 3 3 3 3 1 1 1 3 1 3 3]\n",
            "Neighbors Class (Counter) :  [(1, 7), (2, 0), (3, 8)]\n",
            "Max Class                 :  3\n",
            "Class Color               :  yellow\n",
            "\n"
          ]
        }
      ]
    },
    {
      "cell_type": "code",
      "metadata": {
        "colab": {
          "base_uri": "https://localhost:8080/",
          "height": 282
        },
        "id": "Ak1JE9PIduCb",
        "outputId": "d57c3e6c-cfda-4a70-b2c5-c53408a7007b"
      },
      "source": [
        "# Visualization of the Neighbors of Test Data\n",
        "\n",
        "neighbors_indices = neighbors_indices.flatten().tolist()\n",
        "\n",
        "X_neighbors =  X[neighbors_indices]\n",
        "y_neighbors = y[neighbors_indices]\n",
        "X_not_neighbors = np.array([element for i, element in enumerate(X) if i not in neighbors_indices])\n",
        "\n",
        "\n",
        "plt.scatter(X_neighbors[:,0], X_neighbors[:,1], c=y_neighbors)\n",
        "plt.scatter(X_sample[:,0], X_sample[:,1], marker='x', c='k')\n",
        "plt.scatter(X_not_neighbors[:,0], X_not_neighbors[:,1], c='k', alpha=0.1)"
      ],
      "execution_count": null,
      "outputs": [
        {
          "output_type": "execute_result",
          "data": {
            "text/plain": [
              "<matplotlib.collections.PathCollection at 0x7fa4237fa5d0>"
            ]
          },
          "metadata": {},
          "execution_count": 10
        },
        {
          "output_type": "display_data",
          "data": {
            "image/png": "[encoded data removed]",
            "text/plain": [
              "<Figure size 432x288 with 1 Axes>"
            ]
          },
          "metadata": {
            "needs_background": "light"
          }
        }
      ]
    },
    {
      "cell_type": "markdown",
      "metadata": {
        "id": "Qmn0ez3hje15"
      },
      "source": [
        "As we see, there are data points that are closer to our sample points compared to other neighbors. Currently, those close data points will have the same vote weight as the one that is farther. We can modify this charactheristic by using euclidean distance as weight factor on majority vote to reflect that closer data points have closer resemblance."
      ]
    },
    {
      "cell_type": "markdown",
      "metadata": {
        "id": "v1DtgN_re1uC"
      },
      "source": [
        "## Using K-Nearest Neighbor Classifier\n",
        "\n",
        "In the code above, we see the neighbors for test data. But we must compute manually the maximum class to get the prediction class. Let's use module `KNeighborsClassifier` from Scikit Learn to get automatically our class prediction."
      ]
    },
    {
      "cell_type": "code",
      "metadata": {
        "colab": {
          "base_uri": "https://localhost:8080/"
        },
        "id": "r9NDvhY4e03p",
        "outputId": "aa0fe1aa-fb76-44c9-ab6e-9575d22cc8b4"
      },
      "source": [
        "# Create Object of KNeighborsClassifier and Enter Dataset into this Object\n",
        "\n",
        "neigh = KNeighborsClassifier(n_neighbors=15)\n",
        "neigh.fit(X, y)"
      ],
      "execution_count": null,
      "outputs": [
        {
          "output_type": "execute_result",
          "data": {
            "text/plain": [
              "KNeighborsClassifier(algorithm='auto', leaf_size=30, metric='minkowski',\n",
              "                     metric_params=None, n_jobs=None, n_neighbors=15, p=2,\n",
              "                     weights='uniform')"
            ]
          },
          "metadata": {},
          "execution_count": 11
        }
      ]
    },
    {
      "cell_type": "code",
      "metadata": {
        "colab": {
          "base_uri": "https://localhost:8080/"
        },
        "id": "WeJEnFjMfZXz",
        "outputId": "8adda10e-b9c3-4a96-8cb0-36d107d39e77"
      },
      "source": [
        "# Predict Test Data\n",
        "\n",
        "y_predictions = neigh.predict(X_sample)\n",
        "\n",
        "print('Predictions - X_sample[0] : ', y_predictions[0])\n",
        "print('Predictions - X_sample[1] : ', y_predictions[1])"
      ],
      "execution_count": null,
      "outputs": [
        {
          "output_type": "stream",
          "name": "stdout",
          "text": [
            "Predictions - X_sample[0] :  2\n",
            "Predictions - X_sample[1] :  3\n"
          ]
        }
      ]
    },
    {
      "cell_type": "markdown",
      "metadata": {
        "id": "jDHvZkIOje15"
      },
      "source": [
        "### Effect of distance functions"
      ]
    },
    {
      "cell_type": "markdown",
      "metadata": {
        "id": "Xki0nYKlje16"
      },
      "source": [
        "We can use different type of distances function, which may results to different nearest neighbors. For example, let's try using 4 different distances type:  \n",
        "- Euclidean \n",
        "- Minkowski\n",
        "- Manhattan\n",
        "- Mahalanobis"
      ]
    },
    {
      "cell_type": "code",
      "metadata": {
        "id": "kJd41Cn4je16",
        "colab": {
          "base_uri": "https://localhost:8080/",
          "height": 716
        },
        "outputId": "032ac93a-2d62-4d94-f50f-bd9b319b3e43"
      },
      "source": [
        "metrictypes=['euclidean','minkowski','manhattan','mahalanobis']\n",
        "fig, axs = plt.subplots(int(len(metrictypes)/2), 2, figsize=(20, 12))\n",
        "for i,metrictype in enumerate(metrictypes):\n",
        "    if(metrictype=='mahalanobis'):\n",
        "        neigh = NearestNeighbors(n_neighbors=15,algorithm='brute', metric=metrictype,metric_params={'V': np.cov(X)})\n",
        "    else:\n",
        "        neigh = NearestNeighbors(n_neighbors=15,metric=metrictype)\n",
        "    neigh.fit(X,y)\n",
        "    neighbors=neigh.kneighbors(X_sample)\n",
        "    id_arr = neighbors[1]\n",
        "    id_arr = id_arr.flatten().tolist()\n",
        "\n",
        "    arr =  X[id_arr]\n",
        "    y = np.array(y)\n",
        "    arr_y = y[id_arr]\n",
        "    arr_ex = np.array([element for i, element in enumerate(X) if i not in id_arr])\n",
        "\n",
        "    axs[int(i/2),i%2].scatter(arr[:,0],arr[:,1],c=arr_y)\n",
        "    axs[int(i/2),i%2].scatter(X_sample[:,0],X_sample[:,1],marker='x',c='k')\n",
        "    axs[int(i/2),i%2].scatter(arr_ex[:,0],arr_ex[:,1],c='k',alpha=0.1)\n",
        "    axs[int(i/2),i%2].set_title(metrictype)"
      ],
      "execution_count": null,
      "outputs": [
        {
          "output_type": "display_data",
          "data": {
            "image/png": "[encoded data removed]",
            "text/plain": [
              "<Figure size 1440x864 with 4 Axes>"
            ]
          },
          "metadata": {
            "needs_background": "light"
          }
        }
      ]
    },
    {
      "cell_type": "markdown",
      "metadata": {
        "id": "XGbls9wpje16"
      },
      "source": [
        "We can see there are changes at the edges point due to how the distance calculated differently"
      ]
    },
    {
      "cell_type": "markdown",
      "metadata": {
        "id": "1UpsAqvdje16"
      },
      "source": [
        "# B. KNN on Real Dataset"
      ]
    },
    {
      "cell_type": "markdown",
      "metadata": {
        "id": "1RNiCJ7Bny_8"
      },
      "source": [
        "Let's try to use KNN Classifier on real world data. This dataset is originally from the National Institute of Diabetes and Digestive and Kidney Diseases. \n",
        "\n",
        "The objective of the dataset is to diagnostically predict whether or not a patient has diabetes, based on certain diagnostic measurements included in the dataset. Several constraints were placed on the selection of these instances from a larger database. In particular, all patients here are females at least 21 years old of Pima Indian heritage.\n",
        "\n",
        "The datasets consists of several medical predictor variables and one target variable, `Outcome`. Predictor variables includes the number of pregnancies the patient has had, their BMI, insulin level, age, and so on.\n",
        "\n",
        "\n",
        "URL = [Prima Indians Diabetes Dataset](https://www.kaggle.com/uciml/pima-indians-diabetes-database)"
      ]
    },
    {
      "cell_type": "code",
      "metadata": {
        "colab": {
          "base_uri": "https://localhost:8080/",
          "height": 204
        },
        "id": "cN0JZuC-oWP4",
        "outputId": "08b0c8af-cc6c-48c6-8a37-3d6a2becf73d"
      },
      "source": [
        "# Load Dataset\n",
        "\n",
        "df = pd.read_csv('diabetes.csv')\n",
        "df.head()"
      ],
      "execution_count": null,
      "outputs": [
        {
          "output_type": "execute_result",
          "data": {
            "text/html": [
              "<div>\n",
              "<style scoped>\n",
              "    .dataframe tbody tr th:only-of-type {\n",
              "        vertical-align: middle;\n",
              "    }\n",
              "\n",
              "    .dataframe tbody tr th {\n",
              "        vertical-align: top;\n",
              "    }\n",
              "\n",
              "    .dataframe thead th {\n",
              "        text-align: right;\n",
              "    }\n",
              "</style>\n",
              "<table border=\"1\" class=\"dataframe\">\n",
              "  <thead>\n",
              "    <tr style=\"text-align: right;\">\n",
              "      <th></th>\n",
              "      <th>Pregnancies</th>\n",
              "      <th>Glucose</th>\n",
              "      <th>BloodPressure</th>\n",
              "      <th>SkinThickness</th>\n",
              "      <th>Insulin</th>\n",
              "      <th>BMI</th>\n",
              "      <th>DiabetesPedigreeFunction</th>\n",
              "      <th>Age</th>\n",
              "      <th>Outcome</th>\n",
              "    </tr>\n",
              "  </thead>\n",
              "  <tbody>\n",
              "    <tr>\n",
              "      <th>0</th>\n",
              "      <td>6</td>\n",
              "      <td>148</td>\n",
              "      <td>72</td>\n",
              "      <td>35</td>\n",
              "      <td>0</td>\n",
              "      <td>33.6</td>\n",
              "      <td>0.627</td>\n",
              "      <td>50</td>\n",
              "      <td>1</td>\n",
              "    </tr>\n",
              "    <tr>\n",
              "      <th>1</th>\n",
              "      <td>1</td>\n",
              "      <td>85</td>\n",
              "      <td>66</td>\n",
              "      <td>29</td>\n",
              "      <td>0</td>\n",
              "      <td>26.6</td>\n",
              "      <td>0.351</td>\n",
              "      <td>31</td>\n",
              "      <td>0</td>\n",
              "    </tr>\n",
              "    <tr>\n",
              "      <th>2</th>\n",
              "      <td>8</td>\n",
              "      <td>183</td>\n",
              "      <td>64</td>\n",
              "      <td>0</td>\n",
              "      <td>0</td>\n",
              "      <td>23.3</td>\n",
              "      <td>0.672</td>\n",
              "      <td>32</td>\n",
              "      <td>1</td>\n",
              "    </tr>\n",
              "    <tr>\n",
              "      <th>3</th>\n",
              "      <td>1</td>\n",
              "      <td>89</td>\n",
              "      <td>66</td>\n",
              "      <td>23</td>\n",
              "      <td>94</td>\n",
              "      <td>28.1</td>\n",
              "      <td>0.167</td>\n",
              "      <td>21</td>\n",
              "      <td>0</td>\n",
              "    </tr>\n",
              "    <tr>\n",
              "      <th>4</th>\n",
              "      <td>0</td>\n",
              "      <td>137</td>\n",
              "      <td>40</td>\n",
              "      <td>35</td>\n",
              "      <td>168</td>\n",
              "      <td>43.1</td>\n",
              "      <td>2.288</td>\n",
              "      <td>33</td>\n",
              "      <td>1</td>\n",
              "    </tr>\n",
              "  </tbody>\n",
              "</table>\n",
              "</div>"
            ],
            "text/plain": [
              "   Pregnancies  Glucose  BloodPressure  ...  DiabetesPedigreeFunction  Age  Outcome\n",
              "0            6      148             72  ...                     0.627   50        1\n",
              "1            1       85             66  ...                     0.351   31        0\n",
              "2            8      183             64  ...                     0.672   32        1\n",
              "3            1       89             66  ...                     0.167   21        0\n",
              "4            0      137             40  ...                     2.288   33        1\n",
              "\n",
              "[5 rows x 9 columns]"
            ]
          },
          "metadata": {},
          "execution_count": 14
        }
      ]
    },
    {
      "cell_type": "code",
      "metadata": {
        "colab": {
          "base_uri": "https://localhost:8080/"
        },
        "id": "B0CNkZ_jo4X4",
        "outputId": "d268c340-9455-47a9-c5be-7b8b3f3d27e7"
      },
      "source": [
        "# Check Features of Dataset\n",
        "\n",
        "df.info()"
      ],
      "execution_count": null,
      "outputs": [
        {
          "output_type": "stream",
          "name": "stdout",
          "text": [
            "<class 'pandas.core.frame.DataFrame'>\n",
            "RangeIndex: 768 entries, 0 to 767\n",
            "Data columns (total 9 columns):\n",
            " #   Column                    Non-Null Count  Dtype  \n",
            "---  ------                    --------------  -----  \n",
            " 0   Pregnancies               768 non-null    int64  \n",
            " 1   Glucose                   768 non-null    int64  \n",
            " 2   BloodPressure             768 non-null    int64  \n",
            " 3   SkinThickness             768 non-null    int64  \n",
            " 4   Insulin                   768 non-null    int64  \n",
            " 5   BMI                       768 non-null    float64\n",
            " 6   DiabetesPedigreeFunction  768 non-null    float64\n",
            " 7   Age                       768 non-null    int64  \n",
            " 8   Outcome                   768 non-null    int64  \n",
            "dtypes: float64(2), int64(7)\n",
            "memory usage: 54.1 KB\n"
          ]
        }
      ]
    },
    {
      "cell_type": "markdown",
      "metadata": {
        "id": "RNGO0PSIosmz"
      },
      "source": [
        "We can see that the dataset has no missing values."
      ]
    },
    {
      "cell_type": "code",
      "metadata": {
        "id": "XzM4DEk8owV4"
      },
      "source": [
        "# Create Final Dataset\n",
        "\n",
        "X = df.drop('Outcome',axis=1).values\n",
        "y = df['Outcome'].values"
      ],
      "execution_count": null,
      "outputs": []
    },
    {
      "cell_type": "code",
      "metadata": {
        "colab": {
          "base_uri": "https://localhost:8080/"
        },
        "id": "K8cAyZaAwQLV",
        "outputId": "e891b6f4-6e59-4d26-a80e-95b7eeb0b912"
      },
      "source": [
        "# Split Dataset into Train Data and Test Data\n",
        "\n",
        "X_train, X_test, y_train, y_test = train_test_split(X, y, test_size=0.3, random_state=10, stratify=y)\n",
        "\n",
        "print('Total Data Train : ', X_train.shape[0])\n",
        "print('Total Data Test  : ', X_test.shape[0])\n",
        "\n",
        "# Normalization\n",
        "scaler = StandardScaler()\n",
        "X_train = scaler.fit_transform(X_train)\n",
        "X_test = scaler.transform(X_test)"
      ],
      "execution_count": null,
      "outputs": [
        {
          "output_type": "stream",
          "name": "stdout",
          "text": [
            "Total Data Train :  537\n",
            "Total Data Test  :  231\n"
          ]
        }
      ]
    },
    {
      "cell_type": "code",
      "metadata": {
        "colab": {
          "base_uri": "https://localhost:8080/"
        },
        "id": "rQiFEafjxEWt",
        "outputId": "2efc460a-3925-4a45-eeab-5e589dbb02ba"
      },
      "source": [
        "# Train\n",
        "\n",
        "%%time\n",
        "cls_knn_euclidean = KNeighborsClassifier(n_neighbors=5)\n",
        "cls_knn_manhattan = KNeighborsClassifier(n_neighbors=5, metric='manhattan')\n",
        "\n",
        "cls_knn_euclidean.fit(X_train, y_train)\n",
        "cls_knn_manhattan.fit(X_train, y_train)"
      ],
      "execution_count": null,
      "outputs": [
        {
          "output_type": "stream",
          "name": "stdout",
          "text": [
            "CPU times: user 4 ms, sys: 29 µs, total: 4.03 ms\n",
            "Wall time: 4.06 ms\n"
          ]
        }
      ]
    },
    {
      "cell_type": "code",
      "metadata": {
        "colab": {
          "base_uri": "https://localhost:8080/"
        },
        "id": "QSGHK1eDxcmO",
        "outputId": "1c2efb41-f123-409d-f492-601e29f1c289"
      },
      "source": [
        "# Check Accuracy of Test Data\n",
        "\n",
        "acc_knn_euclidean = cls_knn_euclidean.score(X_test, y_test)\n",
        "acc_knn_manhattan = cls_knn_manhattan.score(X_test, y_test)\n",
        "\n",
        "print('Accuracy - KNN - Euclidean : ', acc_knn_euclidean)\n",
        "print('Accuracy - KNN - Manhattan : ', acc_knn_manhattan)"
      ],
      "execution_count": null,
      "outputs": [
        {
          "output_type": "stream",
          "name": "stdout",
          "text": [
            "Accuracy - KNN - Euclidean :  0.7229437229437229\n",
            "Accuracy - KNN - Manhattan :  0.6796536796536796\n"
          ]
        }
      ]
    },
    {
      "cell_type": "markdown",
      "metadata": {
        "id": "hblzAbzenyF_"
      },
      "source": [
        "---\n",
        "\n",
        "Let's check the effect of `k` on the accuracy of Train Data and Test Data."
      ]
    },
    {
      "cell_type": "code",
      "metadata": {
        "colab": {
          "base_uri": "https://localhost:8080/"
        },
        "id": "epxOB7Dk3nUY",
        "outputId": "c0ff0e5a-fa34-4f26-cf41-9b2032367b35"
      },
      "source": [
        "# Get Accuracy from k = 1 to k = 15\n",
        "%%time\n",
        "\n",
        "max_k = 15\n",
        "\n",
        "train_acc_euclidean = []\n",
        "test_acc_euclidean = []\n",
        "\n",
        "train_acc_manhattan = []\n",
        "test_acc_manhattan = []\n",
        "\n",
        "for ii in range (1, max_k+1):\n",
        "  # With Euclidean Distance\n",
        "  cls_knn_euclidean = KNeighborsClassifier(n_neighbors = ii)\n",
        "  cls_knn_euclidean.fit(X_train, y_train)\n",
        "\n",
        "  train_acc_euclidean.append(cls_knn_euclidean.score(X_train, y_train))\n",
        "  test_acc_euclidean.append(cls_knn_euclidean.score(X_test, y_test))\n",
        "\n",
        "  # With Manhattan Distance\n",
        "  cls_knn_manhattan = KNeighborsClassifier(n_neighbors = ii, metric='manhattan')\n",
        "  cls_knn_manhattan.fit(X_train, y_train)\n",
        "\n",
        "  train_acc_manhattan.append(cls_knn_manhattan.score(X_train, y_train))\n",
        "  test_acc_manhattan.append(cls_knn_manhattan.score(X_test, y_test))\n",
        "\n",
        "print('Train Accuracy - Euclidean : ', train_acc_euclidean)\n",
        "print('Test Accuracy - Euclidean  : ', test_acc_euclidean, '\\n')\n",
        "\n",
        "print('Train Accuracy - Manhattan : ', train_acc_manhattan)\n",
        "print('Test Accuracy - Manhattan  : ', test_acc_manhattan, '\\n')\n"
      ],
      "execution_count": null,
      "outputs": [
        {
          "output_type": "stream",
          "name": "stdout",
          "text": [
            "Train Accuracy - Euclidean :  [1.0, 0.8286778398510242, 0.8230912476722533, 0.7914338919925512, 0.8044692737430168, 0.7746741154562383, 0.7877094972067039, 0.7783985102420856, 0.7914338919925512, 0.7635009310986964, 0.7728119180633147, 0.7653631284916201, 0.7746741154562383, 0.7728119180633147, 0.7690875232774674]\n",
            "Test Accuracy - Euclidean  :  [0.7056277056277056, 0.70995670995671, 0.7229437229437229, 0.7402597402597403, 0.7229437229437229, 0.7186147186147186, 0.7056277056277056, 0.6926406926406926, 0.7186147186147186, 0.7142857142857143, 0.7359307359307359, 0.7489177489177489, 0.7619047619047619, 0.7575757575757576, 0.7662337662337663] \n",
            "\n",
            "Train Accuracy - Manhattan :  [1.0, 0.8119180633147114, 0.8175046554934823, 0.8044692737430168, 0.8026070763500931, 0.7932960893854749, 0.7932960893854749, 0.7728119180633147, 0.7877094972067039, 0.7746741154562383, 0.7746741154562383, 0.7467411545623837, 0.7653631284916201, 0.7616387337057728, 0.7821229050279329]\n",
            "Test Accuracy - Manhattan  :  [0.7012987012987013, 0.696969696969697, 0.6753246753246753, 0.6666666666666666, 0.6796536796536796, 0.683982683982684, 0.7142857142857143, 0.7142857142857143, 0.7142857142857143, 0.683982683982684, 0.7272727272727273, 0.70995670995671, 0.7532467532467533, 0.7142857142857143, 0.7359307359307359] \n",
            "\n",
            "CPU times: user 1.03 s, sys: 7.86 ms, total: 1.04 s\n",
            "Wall time: 1.04 s\n"
          ]
        }
      ]
    },
    {
      "cell_type": "code",
      "metadata": {
        "colab": {
          "base_uri": "https://localhost:8080/",
          "height": 350
        },
        "id": "TP_oVpLp4t9Y",
        "outputId": "6b807cde-7e85-4b12-b61b-93d85bf1ce3a"
      },
      "source": [
        "# Visualization of Accuracy\n",
        "\n",
        "\n",
        "plt.figure(figsize=(20,5))\n",
        "plt.subplot(1, 2, 1)\n",
        "plt.title('Effect of Value k on Accuracy - Euclidean Distance')\n",
        "plt.plot(range(1, max_k+1), test_acc_euclidean, label='Testing Accuracy')\n",
        "plt.plot(range(1, max_k+1), train_acc_euclidean, label='Training accuracy')\n",
        "\n",
        "plt.subplot(1, 2, 2)\n",
        "plt.title('Effect of Value k on Accuracy - Manhattan Distance')\n",
        "plt.plot(range(1, max_k+1), test_acc_manhattan, label='Testing Accuracy')\n",
        "plt.plot(range(1, max_k+1), train_acc_manhattan, label='Training accuracy')\n",
        "\n",
        "plt.legend()\n",
        "plt.xlabel('Number of k')\n",
        "plt.ylabel('Accuracy')\n",
        "plt.show()"
      ],
      "execution_count": null,
      "outputs": [
        {
          "output_type": "display_data",
          "data": {
            "image/png": "[encoded data removed]",
            "text/plain": [
              "<Figure size 1440x360 with 2 Axes>"
            ]
          },
          "metadata": {
            "needs_background": "light"
          }
        }
      ]
    },
    {
      "cell_type": "markdown",
      "metadata": {
        "id": "yaLky2HEje19"
      },
      "source": [
        "`kNN Classifier` is a lazy learning method, thus **time to predict is relatively slower compared to time to fit/train**. This is contrast to model like `Logistic Regression`, `Decision Tree`, or `Artifical Neural Network`.\n",
        "\n",
        "---"
      ]
    },
    {
      "cell_type": "markdown",
      "metadata": {
        "id": "AwmqI68xje19"
      },
      "source": [
        "Let's compare its performance with logistic regression that we have previously learned"
      ]
    },
    {
      "cell_type": "code",
      "metadata": {
        "id": "vjfEzyW9je1-",
        "colab": {
          "base_uri": "https://localhost:8080/"
        },
        "outputId": "e3b83b19-04ca-4d90-9bfe-c9c2121c5401"
      },
      "source": [
        "# Train with Logistic Regression\n",
        "%%time\n",
        "\n",
        "logreg = LogisticRegression(random_state=10)\n",
        "logreg.fit(X_train, y_train)"
      ],
      "execution_count": null,
      "outputs": [
        {
          "output_type": "stream",
          "name": "stdout",
          "text": [
            "CPU times: user 7.53 ms, sys: 0 ns, total: 7.53 ms\n",
            "Wall time: 8.55 ms\n"
          ]
        }
      ]
    },
    {
      "cell_type": "code",
      "metadata": {
        "id": "1x602Okcje1-",
        "colab": {
          "base_uri": "https://localhost:8080/"
        },
        "outputId": "269cb74d-d0a9-4a16-a460-f49b4bb8538c"
      },
      "source": [
        "# Check Accuracy of Test Data\n",
        "\n",
        "acc_logreg = logreg.score(X_test, y_test)\n",
        "\n",
        "print('Accuracy - KNN - Euclidean     : ', acc_knn_euclidean)\n",
        "print('Accuracy - KNN - Manhattan     : ', acc_knn_manhattan)\n",
        "print('Accuracy - Logistic Regression : ', acc_logreg)"
      ],
      "execution_count": null,
      "outputs": [
        {
          "output_type": "stream",
          "name": "stdout",
          "text": [
            "Accuracy - KNN - Euclidean     :  0.7229437229437229\n",
            "Accuracy - KNN - Manhattan     :  0.6796536796536796\n",
            "Accuracy - Logistic Regression :  0.8095238095238095\n"
          ]
        }
      ]
    }
  ]
}