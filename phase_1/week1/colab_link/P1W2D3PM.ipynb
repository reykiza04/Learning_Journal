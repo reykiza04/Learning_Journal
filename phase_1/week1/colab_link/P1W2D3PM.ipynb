{
  "nbformat": 4,
  "nbformat_minor": 0,
  "metadata": {
    "orig_nbformat": 2,
    "colab": {
      "name": "P1W2D3PM.ipynb",
      "provenance": [],
      "collapsed_sections": []
    },
    "language_info": {
      "name": "python"
    },
    "kernelspec": {
      "name": "python3",
      "display_name": "Python 3"
    }
  },
  "cells": [
    {
      "cell_type": "markdown",
      "metadata": {
        "id": "3W01yjKQETsb"
      },
      "source": [
        "# Week 2: Day 3 PM // Naive Bayes"
      ]
    },
    {
      "cell_type": "markdown",
      "metadata": {
        "id": "NXWztxWREl7m"
      },
      "source": [
        "Naive Bayes employ bayesian logic and theorem to infer probability given hypotheses and their evidences."
      ]
    },
    {
      "cell_type": "code",
      "metadata": {
        "id": "_zxc0NsqETsi"
      },
      "source": [
        "# Import Libraries\n",
        "\n",
        "import numpy as np\n",
        "import matplotlib.pyplot as plt\n",
        "from matplotlib.colors import ListedColormap\n",
        "from sklearn.datasets import make_moons, make_circles, make_classification\n",
        "from sklearn.naive_bayes import GaussianNB\n",
        "from sklearn.preprocessing import StandardScaler\n",
        "from sklearn.model_selection import train_test_split\n",
        "from sklearn.metrics import roc_curve, auc,roc_auc_score\n",
        "import time\n",
        "import pandas as pd\n",
        "\n",
        "%matplotlib inline"
      ],
      "execution_count": null,
      "outputs": []
    },
    {
      "cell_type": "markdown",
      "metadata": {
        "id": "b4ONKih9E6HT"
      },
      "source": [
        "To solidify our understanding of Bayes Theorem and Naive Bayes, we will manually implement Bayes Theorem by `Pandas` and compare it with `Scikit-Learn` utility.\n",
        "\n",
        "We will intialize a toy dataset containing **whether a family buy a car given their family structure, age group, and income**."
      ]
    },
    {
      "cell_type": "code",
      "metadata": {
        "id": "kWaFXOxzE5jP"
      },
      "source": [
        "# Assigning features and label variables\n",
        "\n",
        "family_struct = ['Nuclear','Extended','Childless','Childless','Single Parent','Childless','Nuclear','Nuclear','Extended','Single Parent']\n",
        "age_group = ['Young','Old','Middle-aged','Young','Middle-aged','Young','Old','Middle-aged','Middle-aged','Old']\n",
        "income = ['Low','Low','Low','Medium','Medium','Low','High','Medium','High','Low']\n",
        "buy_car = ['Yes','No','No','Yes','Yes','No','Yes','Yes','Yes','No']"
      ],
      "execution_count": null,
      "outputs": []
    },
    {
      "cell_type": "code",
      "metadata": {
        "id": "CKxGN8amFczV"
      },
      "source": [
        "# Convert to Pandas Dataframe\n",
        "\n",
        "dict = {'family_struct': family_struct,'age_group':age_group,'income':income,'buy_car':buy_car} \n",
        "    \n",
        "df = pd.DataFrame(dict)\n",
        "df.columns=list(df.columns[:-1])+['label'] "
      ],
      "execution_count": null,
      "outputs": []
    },
    {
      "cell_type": "code",
      "metadata": {
        "colab": {
          "base_uri": "https://localhost:8080/",
          "height": 359
        },
        "id": "fNibvy7mFhYn",
        "outputId": "feaf847b-5cd1-43a7-83ba-e2902ca4959b"
      },
      "source": [
        "# Display Pandas Dataframe\n",
        "\n",
        "df"
      ],
      "execution_count": null,
      "outputs": [
        {
          "output_type": "execute_result",
          "data": {
            "text/html": [
              "<div>\n",
              "<style scoped>\n",
              "    .dataframe tbody tr th:only-of-type {\n",
              "        vertical-align: middle;\n",
              "    }\n",
              "\n",
              "    .dataframe tbody tr th {\n",
              "        vertical-align: top;\n",
              "    }\n",
              "\n",
              "    .dataframe thead th {\n",
              "        text-align: right;\n",
              "    }\n",
              "</style>\n",
              "<table border=\"1\" class=\"dataframe\">\n",
              "  <thead>\n",
              "    <tr style=\"text-align: right;\">\n",
              "      <th></th>\n",
              "      <th>family_struct</th>\n",
              "      <th>age_group</th>\n",
              "      <th>income</th>\n",
              "      <th>label</th>\n",
              "    </tr>\n",
              "  </thead>\n",
              "  <tbody>\n",
              "    <tr>\n",
              "      <th>0</th>\n",
              "      <td>Nuclear</td>\n",
              "      <td>Young</td>\n",
              "      <td>Low</td>\n",
              "      <td>Yes</td>\n",
              "    </tr>\n",
              "    <tr>\n",
              "      <th>1</th>\n",
              "      <td>Extended</td>\n",
              "      <td>Old</td>\n",
              "      <td>Low</td>\n",
              "      <td>No</td>\n",
              "    </tr>\n",
              "    <tr>\n",
              "      <th>2</th>\n",
              "      <td>Childless</td>\n",
              "      <td>Middle-aged</td>\n",
              "      <td>Low</td>\n",
              "      <td>No</td>\n",
              "    </tr>\n",
              "    <tr>\n",
              "      <th>3</th>\n",
              "      <td>Childless</td>\n",
              "      <td>Young</td>\n",
              "      <td>Medium</td>\n",
              "      <td>Yes</td>\n",
              "    </tr>\n",
              "    <tr>\n",
              "      <th>4</th>\n",
              "      <td>Single Parent</td>\n",
              "      <td>Middle-aged</td>\n",
              "      <td>Medium</td>\n",
              "      <td>Yes</td>\n",
              "    </tr>\n",
              "    <tr>\n",
              "      <th>5</th>\n",
              "      <td>Childless</td>\n",
              "      <td>Young</td>\n",
              "      <td>Low</td>\n",
              "      <td>No</td>\n",
              "    </tr>\n",
              "    <tr>\n",
              "      <th>6</th>\n",
              "      <td>Nuclear</td>\n",
              "      <td>Old</td>\n",
              "      <td>High</td>\n",
              "      <td>Yes</td>\n",
              "    </tr>\n",
              "    <tr>\n",
              "      <th>7</th>\n",
              "      <td>Nuclear</td>\n",
              "      <td>Middle-aged</td>\n",
              "      <td>Medium</td>\n",
              "      <td>Yes</td>\n",
              "    </tr>\n",
              "    <tr>\n",
              "      <th>8</th>\n",
              "      <td>Extended</td>\n",
              "      <td>Middle-aged</td>\n",
              "      <td>High</td>\n",
              "      <td>Yes</td>\n",
              "    </tr>\n",
              "    <tr>\n",
              "      <th>9</th>\n",
              "      <td>Single Parent</td>\n",
              "      <td>Old</td>\n",
              "      <td>Low</td>\n",
              "      <td>No</td>\n",
              "    </tr>\n",
              "  </tbody>\n",
              "</table>\n",
              "</div>"
            ],
            "text/plain": [
              "   family_struct    age_group  income label\n",
              "0        Nuclear        Young     Low   Yes\n",
              "1       Extended          Old     Low    No\n",
              "2      Childless  Middle-aged     Low    No\n",
              "3      Childless        Young  Medium   Yes\n",
              "4  Single Parent  Middle-aged  Medium   Yes\n",
              "5      Childless        Young     Low    No\n",
              "6        Nuclear          Old    High   Yes\n",
              "7        Nuclear  Middle-aged  Medium   Yes\n",
              "8       Extended  Middle-aged    High   Yes\n",
              "9  Single Parent          Old     Low    No"
            ]
          },
          "metadata": {},
          "execution_count": 4
        }
      ]
    },
    {
      "cell_type": "markdown",
      "metadata": {
        "id": "kXWytegWFo0F"
      },
      "source": [
        "---\n",
        "First, we **count the probability of our class/label**."
      ]
    },
    {
      "cell_type": "code",
      "metadata": {
        "id": "m5YzyMtzFwXO"
      },
      "source": [
        "# Create Frequency and Probability Each Label\n",
        "\n",
        "df_grp_lbl=df.groupby('label').count().reset_index()[['label','income']]\n",
        "df_grp_lbl.columns=list(df_grp_lbl.columns[:-1])+['f_h']\n",
        "df_grp_lbl['p_h']=df_grp_lbl['f_h']/df_grp_lbl['f_h'].sum()"
      ],
      "execution_count": null,
      "outputs": []
    },
    {
      "cell_type": "code",
      "metadata": {
        "colab": {
          "base_uri": "https://localhost:8080/",
          "height": 111
        },
        "id": "yui5OC5rF6b_",
        "outputId": "251428eb-7eab-4285-d756-f7fb8cf2ff1e"
      },
      "source": [
        "# Display Frequency and Probability for Each Label\n",
        "\n",
        "df_grp_lbl"
      ],
      "execution_count": null,
      "outputs": [
        {
          "output_type": "execute_result",
          "data": {
            "text/html": [
              "<div>\n",
              "<style scoped>\n",
              "    .dataframe tbody tr th:only-of-type {\n",
              "        vertical-align: middle;\n",
              "    }\n",
              "\n",
              "    .dataframe tbody tr th {\n",
              "        vertical-align: top;\n",
              "    }\n",
              "\n",
              "    .dataframe thead th {\n",
              "        text-align: right;\n",
              "    }\n",
              "</style>\n",
              "<table border=\"1\" class=\"dataframe\">\n",
              "  <thead>\n",
              "    <tr style=\"text-align: right;\">\n",
              "      <th></th>\n",
              "      <th>label</th>\n",
              "      <th>f_h</th>\n",
              "      <th>p_h</th>\n",
              "    </tr>\n",
              "  </thead>\n",
              "  <tbody>\n",
              "    <tr>\n",
              "      <th>0</th>\n",
              "      <td>No</td>\n",
              "      <td>4</td>\n",
              "      <td>0.4</td>\n",
              "    </tr>\n",
              "    <tr>\n",
              "      <th>1</th>\n",
              "      <td>Yes</td>\n",
              "      <td>6</td>\n",
              "      <td>0.6</td>\n",
              "    </tr>\n",
              "  </tbody>\n",
              "</table>\n",
              "</div>"
            ],
            "text/plain": [
              "  label  f_h  p_h\n",
              "0    No    4  0.4\n",
              "1   Yes    6  0.6"
            ]
          },
          "metadata": {},
          "execution_count": 6
        }
      ]
    },
    {
      "cell_type": "markdown",
      "metadata": {
        "id": "RQnvkS2SMbaB"
      },
      "source": [
        "Notes : \n",
        "* `f_h` : Frequency of a label.\n",
        "* `p_h` : Probability of a label."
      ]
    },
    {
      "cell_type": "markdown",
      "metadata": {
        "id": "Dw7IkhxPGCxd"
      },
      "source": [
        "---\n",
        "Next, **we count the frequency of each events**. We will need this to count the conditional probability."
      ]
    },
    {
      "cell_type": "code",
      "metadata": {
        "id": "tAdq_yfHF6x3"
      },
      "source": [
        "# Create a dataframe that contains chopped of a features and its label\n",
        "\n",
        "df_melt = df.melt(id_vars=['label'],var_name='features',value_name='value')\n",
        "df_melt.columns=['label']+list(df_melt.columns[1:])"
      ],
      "execution_count": null,
      "outputs": []
    },
    {
      "cell_type": "code",
      "metadata": {
        "colab": {
          "base_uri": "https://localhost:8080/"
        },
        "id": "iIHI3Qewrs8k",
        "outputId": "0dd8fd82-3788-4e9c-f2c4-9c564b279dab"
      },
      "source": [
        "# Addition - Display `df_melt`\n",
        "\n",
        "print('Original Dataframe')\n",
        "print(df)\n",
        "print('')\n",
        "print('Chopped Datafram')\n",
        "print(df_melt)"
      ],
      "execution_count": null,
      "outputs": [
        {
          "output_type": "stream",
          "name": "stdout",
          "text": [
            "Original Dataframe\n",
            "   family_struct    age_group  income label\n",
            "0        Nuclear        Young     Low   Yes\n",
            "1       Extended          Old     Low    No\n",
            "2      Childless  Middle-aged     Low    No\n",
            "3      Childless        Young  Medium   Yes\n",
            "4  Single Parent  Middle-aged  Medium   Yes\n",
            "5      Childless        Young     Low    No\n",
            "6        Nuclear          Old    High   Yes\n",
            "7        Nuclear  Middle-aged  Medium   Yes\n",
            "8       Extended  Middle-aged    High   Yes\n",
            "9  Single Parent          Old     Low    No\n",
            "\n",
            "Chopped Datafram\n",
            "   label       features          value\n",
            "0    Yes  family_struct        Nuclear\n",
            "1     No  family_struct       Extended\n",
            "2     No  family_struct      Childless\n",
            "3    Yes  family_struct      Childless\n",
            "4    Yes  family_struct  Single Parent\n",
            "5     No  family_struct      Childless\n",
            "6    Yes  family_struct        Nuclear\n",
            "7    Yes  family_struct        Nuclear\n",
            "8    Yes  family_struct       Extended\n",
            "9     No  family_struct  Single Parent\n",
            "10   Yes      age_group          Young\n",
            "11    No      age_group            Old\n",
            "12    No      age_group    Middle-aged\n",
            "13   Yes      age_group          Young\n",
            "14   Yes      age_group    Middle-aged\n",
            "15    No      age_group          Young\n",
            "16   Yes      age_group            Old\n",
            "17   Yes      age_group    Middle-aged\n",
            "18   Yes      age_group    Middle-aged\n",
            "19    No      age_group            Old\n",
            "20   Yes         income            Low\n",
            "21    No         income            Low\n",
            "22    No         income            Low\n",
            "23   Yes         income         Medium\n",
            "24   Yes         income         Medium\n",
            "25    No         income            Low\n",
            "26   Yes         income           High\n",
            "27   Yes         income         Medium\n",
            "28   Yes         income           High\n",
            "29    No         income            Low\n"
          ]
        }
      ]
    },
    {
      "cell_type": "code",
      "metadata": {
        "colab": {
          "base_uri": "https://localhost:8080/"
        },
        "id": "LxTr_hqqGN0f",
        "outputId": "b30fa3bc-9d46-415c-9cd5-32496767c1a6"
      },
      "source": [
        "# Let's group it and get its frequencies\n",
        "\n",
        "df_grp=df_melt.groupby(['label','features','value']).size().reset_index(name='count')\n",
        "df_grp.columns=list(df_grp.columns[:-1])+['f_e_given_h']\n",
        "\n",
        "print(df_grp)"
      ],
      "execution_count": null,
      "outputs": [
        {
          "output_type": "stream",
          "name": "stdout",
          "text": [
            "   label       features          value  f_e_given_h\n",
            "0     No      age_group    Middle-aged            1\n",
            "1     No      age_group            Old            2\n",
            "2     No      age_group          Young            1\n",
            "3     No  family_struct      Childless            2\n",
            "4     No  family_struct       Extended            1\n",
            "5     No  family_struct  Single Parent            1\n",
            "6     No         income            Low            4\n",
            "7    Yes      age_group    Middle-aged            3\n",
            "8    Yes      age_group            Old            1\n",
            "9    Yes      age_group          Young            2\n",
            "10   Yes  family_struct      Childless            1\n",
            "11   Yes  family_struct       Extended            1\n",
            "12   Yes  family_struct        Nuclear            3\n",
            "13   Yes  family_struct  Single Parent            1\n",
            "14   Yes         income           High            2\n",
            "15   Yes         income            Low            1\n",
            "16   Yes         income         Medium            3\n"
          ]
        }
      ]
    },
    {
      "cell_type": "code",
      "metadata": {
        "colab": {
          "base_uri": "https://localhost:8080/",
          "height": 111
        },
        "id": "nWgoCUiZOIWW",
        "outputId": "ec9ecbef-083c-4def-dc9f-a02ee39f88e0"
      },
      "source": [
        "# Now, we can filter the data based on whatever condition we like. Let's display rows that contains value == `Low`\n",
        "# f_h = frequency of Yes/No (regardless of attributes)\n",
        "# p_h = probabilty of Yes/No (regardless of attributes) (P(Yes) or P(No))\n",
        "\n",
        "# f_e_given_h = frequency of Yes/No given a specific attribute\n",
        "# p_e_given_h = probability of Yes/No given a specific attribute (P(attribute | Yes/No))\n",
        "\n",
        "df_grp[df_grp['value']=='Low'].head(5)"
      ],
      "execution_count": null,
      "outputs": [
        {
          "output_type": "execute_result",
          "data": {
            "text/html": [
              "<div>\n",
              "<style scoped>\n",
              "    .dataframe tbody tr th:only-of-type {\n",
              "        vertical-align: middle;\n",
              "    }\n",
              "\n",
              "    .dataframe tbody tr th {\n",
              "        vertical-align: top;\n",
              "    }\n",
              "\n",
              "    .dataframe thead th {\n",
              "        text-align: right;\n",
              "    }\n",
              "</style>\n",
              "<table border=\"1\" class=\"dataframe\">\n",
              "  <thead>\n",
              "    <tr style=\"text-align: right;\">\n",
              "      <th></th>\n",
              "      <th>label</th>\n",
              "      <th>features</th>\n",
              "      <th>value</th>\n",
              "      <th>f_e_given_h</th>\n",
              "    </tr>\n",
              "  </thead>\n",
              "  <tbody>\n",
              "    <tr>\n",
              "      <th>6</th>\n",
              "      <td>No</td>\n",
              "      <td>income</td>\n",
              "      <td>Low</td>\n",
              "      <td>4</td>\n",
              "    </tr>\n",
              "    <tr>\n",
              "      <th>15</th>\n",
              "      <td>Yes</td>\n",
              "      <td>income</td>\n",
              "      <td>Low</td>\n",
              "      <td>1</td>\n",
              "    </tr>\n",
              "  </tbody>\n",
              "</table>\n",
              "</div>"
            ],
            "text/plain": [
              "   label features value  f_e_given_h\n",
              "6     No   income   Low            4\n",
              "15   Yes   income   Low            1"
            ]
          },
          "metadata": {},
          "execution_count": 10
        }
      ]
    },
    {
      "cell_type": "code",
      "metadata": {
        "id": "YDzzDOrEGO2P",
        "colab": {
          "base_uri": "https://localhost:8080/"
        },
        "outputId": "198a305f-638b-479c-a7cb-6edaaf0411a7"
      },
      "source": [
        "# Merging chopped dataframe with frequency and probability of label\n",
        "\n",
        "df_a=df_grp.groupby((['features','value'])).count().reset_index()[['features','value']]\n",
        "df_a['key']=1\n",
        "df_b = df_grp_lbl\n",
        "df_b['key']=1\n",
        "df_feat=pd.merge(df_a, df_b, on ='key').drop(\"key\", 1)\n",
        "\n",
        "print(df_feat)"
      ],
      "execution_count": null,
      "outputs": [
        {
          "output_type": "stream",
          "name": "stdout",
          "text": [
            "         features          value label  f_h  p_h\n",
            "0       age_group    Middle-aged    No    4  0.4\n",
            "1       age_group    Middle-aged   Yes    6  0.6\n",
            "2       age_group            Old    No    4  0.4\n",
            "3       age_group            Old   Yes    6  0.6\n",
            "4       age_group          Young    No    4  0.4\n",
            "5       age_group          Young   Yes    6  0.6\n",
            "6   family_struct      Childless    No    4  0.4\n",
            "7   family_struct      Childless   Yes    6  0.6\n",
            "8   family_struct       Extended    No    4  0.4\n",
            "9   family_struct       Extended   Yes    6  0.6\n",
            "10  family_struct        Nuclear    No    4  0.4\n",
            "11  family_struct        Nuclear   Yes    6  0.6\n",
            "12  family_struct  Single Parent    No    4  0.4\n",
            "13  family_struct  Single Parent   Yes    6  0.6\n",
            "14         income           High    No    4  0.4\n",
            "15         income           High   Yes    6  0.6\n",
            "16         income            Low    No    4  0.4\n",
            "17         income            Low   Yes    6  0.6\n",
            "18         income         Medium    No    4  0.4\n",
            "19         income         Medium   Yes    6  0.6\n"
          ]
        }
      ]
    },
    {
      "cell_type": "markdown",
      "metadata": {
        "id": "rRn2ybpLGTw1"
      },
      "source": [
        "---\n",
        "Then, we built the conditional probability table. In case there is a combination of event and hypotheses that never happened, i.e. Nuclei family size not buying car, we will fill the conditional probability with the prior probability of given class."
      ]
    },
    {
      "cell_type": "code",
      "metadata": {
        "id": "2NzN5uCPGQ_3",
        "colab": {
          "base_uri": "https://localhost:8080/"
        },
        "outputId": "6fc13528-6f65-476e-f59d-18665f0e77e2"
      },
      "source": [
        "# Combine all dataframe into one big dataframe with its frequencies and probabilities\n",
        "\n",
        "df_prob=df_feat.merge(df_grp,on=['label','features','value'], how='outer')\n",
        "df_prob['p_e_given_h']=df_prob['f_e_given_h']/df_prob['f_h']\n",
        "df_prob['p_e_given_h']=df_prob['p_e_given_h'].fillna(0)\n",
        "\n",
        "print(df_prob)"
      ],
      "execution_count": null,
      "outputs": [
        {
          "output_type": "stream",
          "name": "stdout",
          "text": [
            "         features          value label  f_h  p_h  f_e_given_h  p_e_given_h\n",
            "0       age_group    Middle-aged    No    4  0.4          1.0     0.250000\n",
            "1       age_group    Middle-aged   Yes    6  0.6          3.0     0.500000\n",
            "2       age_group            Old    No    4  0.4          2.0     0.500000\n",
            "3       age_group            Old   Yes    6  0.6          1.0     0.166667\n",
            "4       age_group          Young    No    4  0.4          1.0     0.250000\n",
            "5       age_group          Young   Yes    6  0.6          2.0     0.333333\n",
            "6   family_struct      Childless    No    4  0.4          2.0     0.500000\n",
            "7   family_struct      Childless   Yes    6  0.6          1.0     0.166667\n",
            "8   family_struct       Extended    No    4  0.4          1.0     0.250000\n",
            "9   family_struct       Extended   Yes    6  0.6          1.0     0.166667\n",
            "10  family_struct        Nuclear    No    4  0.4          NaN     0.000000\n",
            "11  family_struct        Nuclear   Yes    6  0.6          3.0     0.500000\n",
            "12  family_struct  Single Parent    No    4  0.4          1.0     0.250000\n",
            "13  family_struct  Single Parent   Yes    6  0.6          1.0     0.166667\n",
            "14         income           High    No    4  0.4          NaN     0.000000\n",
            "15         income           High   Yes    6  0.6          2.0     0.333333\n",
            "16         income            Low    No    4  0.4          4.0     1.000000\n",
            "17         income            Low   Yes    6  0.6          1.0     0.166667\n",
            "18         income         Medium    No    4  0.4          NaN     0.000000\n",
            "19         income         Medium   Yes    6  0.6          3.0     0.500000\n"
          ]
        }
      ]
    },
    {
      "cell_type": "code",
      "metadata": {
        "colab": {
          "base_uri": "https://localhost:8080/",
          "height": 52
        },
        "id": "1ygRjS8DxU0B",
        "outputId": "3cf903e0-74c5-42aa-fc3e-79b9812f2ce1"
      },
      "source": [
        "## Adition - Legends\n",
        "'''\n",
        "f_h = frequency of Yes/No (regardless of attributes)\n",
        "p_h = probabilty of Yes/No (regardless of attributes) (P(Yes) or P(No))\n",
        "\n",
        "f_e_given_h = frequency of Yes/No given a specific attribute\n",
        "p_e_given_h = probability of Yes/No given a specific attribute (P(attribute | Yes/No))\n",
        "\n",
        "'''"
      ],
      "execution_count": null,
      "outputs": [
        {
          "output_type": "execute_result",
          "data": {
            "application/vnd.google.colaboratory.intrinsic+json": {
              "type": "string"
            },
            "text/plain": [
              "'\\nf_h = frequency of Yes/No (regardless of attributes)\\np_h = probabilty of Yes/No (regardless of attributes) (P(Yes) or P(No))\\n\\nf_e_given_h = frequency of Yes/No given a specific attribute\\np_e_given_h = probability of Yes/No given a specific attribute (P(attribute | Yes/No))\\n\\n'"
            ]
          },
          "metadata": {},
          "execution_count": 13
        }
      ]
    },
    {
      "cell_type": "markdown",
      "metadata": {
        "id": "0Uo9kvs_HSiG"
      },
      "source": [
        "---\n",
        "We can then use this table as a lookup to infer our data. As example, lets try to infer a family which is **Single Parent, Young, with Low income**."
      ]
    },
    {
      "cell_type": "code",
      "metadata": {
        "id": "R9x1Y0uVG_pf",
        "colab": {
          "base_uri": "https://localhost:8080/"
        },
        "outputId": "41f17ec6-10f6-43e2-c4af-a5321b17b3d5"
      },
      "source": [
        "# Step 1 : Get all data with attributes where `family_struct=Single Parent`, or `age_group=Young`, or `income=Low` regardless its label/target.\n",
        "df_ext=df_prob[(df_prob['value'].isin(['Single Parent','Young','Low']))]\n",
        "print('Step 1')\n",
        "print(df_ext)\n",
        "print('')\n",
        "\n",
        "# Step 2 : Get probability based on filtered data from Step 1 for each label (`Yes` and `No`).\n",
        "# How ? Multiply all probability values (`p_e_given_h`) based on the label/target ('Yes` and `No`)\n",
        "df_ext=df_ext.groupby('label').agg({'p_e_given_h':np.prod}).reset_index()\n",
        "print('Step 2')\n",
        "print(df_ext)\n",
        "print('')\n",
        "\n",
        "# Step 3 : Get sum/total of this two probabilities values.\n",
        "total_prob = df_ext['p_e_given_h'].sum()\n",
        "print('Step 3')\n",
        "print('Total Probability : ', total_prob)\n",
        "print('')\n",
        "\n",
        "# Step 4 : Divide `p_e_given_h` with `total_prob`\n",
        "print('Step 4')\n",
        "df_ext['norm_prob']=df_ext['p_e_given_h']/total_prob\n",
        "print(df_ext)"
      ],
      "execution_count": null,
      "outputs": [
        {
          "output_type": "stream",
          "name": "stdout",
          "text": [
            "Step 1\n",
            "         features          value label  f_h  p_h  f_e_given_h  p_e_given_h\n",
            "4       age_group          Young    No    4  0.4          1.0     0.250000\n",
            "5       age_group          Young   Yes    6  0.6          2.0     0.333333\n",
            "12  family_struct  Single Parent    No    4  0.4          1.0     0.250000\n",
            "13  family_struct  Single Parent   Yes    6  0.6          1.0     0.166667\n",
            "16         income            Low    No    4  0.4          4.0     1.000000\n",
            "17         income            Low   Yes    6  0.6          1.0     0.166667\n",
            "\n",
            "Step 2\n",
            "  label  p_e_given_h\n",
            "0    No     0.062500\n",
            "1   Yes     0.009259\n",
            "\n",
            "Step 3\n",
            "Total Probability :  0.07175925925925926\n",
            "\n",
            "Step 4\n",
            "  label  p_e_given_h  norm_prob\n",
            "0    No     0.062500   0.870968\n",
            "1   Yes     0.009259   0.129032\n"
          ]
        }
      ]
    },
    {
      "cell_type": "markdown",
      "metadata": {
        "id": "gmTMKYfQHndP"
      },
      "source": [
        "---\n",
        "Let's inference all our training data"
      ]
    },
    {
      "cell_type": "code",
      "metadata": {
        "colab": {
          "base_uri": "https://localhost:8080/"
        },
        "id": "UKZHbGp5HZnu",
        "outputId": "1f7a6194-a76d-47dc-aec9-8ef6fb0896c3"
      },
      "source": [
        "# Inferencing all possibilities of features based on given dataset\n",
        "\n",
        "small_dfs = []\n",
        "X=df[df.columns[:-1]]\n",
        "for idx in range(len(X)):\n",
        "    df_select = X.iloc[[idx]]\n",
        "    df_ext=df_prob[df_prob['value'].isin(df_select.values[0])]\n",
        "    df_ext=df_ext.groupby('label').agg({'p_e_given_h':np.prod}).reset_index()\n",
        "    df_ext.columns=['label','p_h']\n",
        "    df_ext['total_prob']=df_ext['p_h'].sum()\n",
        "    df_ext['norm_prob']=df_ext['p_h']/df_ext['total_prob']\n",
        "    df_select['prob_no']=df_ext[df_ext['label']=='No']['norm_prob'].values[0]\n",
        "    df_select['prob_yes']=df_ext[df_ext['label']=='Yes']['norm_prob'].values[0]\n",
        "    small_dfs.append(df_select)\n",
        "    \n",
        "df_infer = pd.concat(small_dfs, ignore_index=True)"
      ],
      "execution_count": null,
      "outputs": [
        {
          "output_type": "stream",
          "name": "stderr",
          "text": [
            "/usr/local/lib/python3.7/dist-packages/ipykernel_launcher.py:12: SettingWithCopyWarning: \n",
            "A value is trying to be set on a copy of a slice from a DataFrame.\n",
            "Try using .loc[row_indexer,col_indexer] = value instead\n",
            "\n",
            "See the caveats in the documentation: https://pandas.pydata.org/pandas-docs/stable/user_guide/indexing.html#returning-a-view-versus-a-copy\n",
            "  if sys.path[0] == '':\n",
            "/usr/local/lib/python3.7/dist-packages/ipykernel_launcher.py:13: SettingWithCopyWarning: \n",
            "A value is trying to be set on a copy of a slice from a DataFrame.\n",
            "Try using .loc[row_indexer,col_indexer] = value instead\n",
            "\n",
            "See the caveats in the documentation: https://pandas.pydata.org/pandas-docs/stable/user_guide/indexing.html#returning-a-view-versus-a-copy\n",
            "  del sys.path[0]\n"
          ]
        }
      ]
    },
    {
      "cell_type": "code",
      "metadata": {
        "colab": {
          "base_uri": "https://localhost:8080/",
          "height": 359
        },
        "id": "1Flp_cTKHycG",
        "outputId": "e4f40800-7e66-464c-e6c5-832353e36cd8"
      },
      "source": [
        "# Display probabilities for given dataset\n",
        "\n",
        "df_infer"
      ],
      "execution_count": null,
      "outputs": [
        {
          "output_type": "execute_result",
          "data": {
            "text/html": [
              "<div>\n",
              "<style scoped>\n",
              "    .dataframe tbody tr th:only-of-type {\n",
              "        vertical-align: middle;\n",
              "    }\n",
              "\n",
              "    .dataframe tbody tr th {\n",
              "        vertical-align: top;\n",
              "    }\n",
              "\n",
              "    .dataframe thead th {\n",
              "        text-align: right;\n",
              "    }\n",
              "</style>\n",
              "<table border=\"1\" class=\"dataframe\">\n",
              "  <thead>\n",
              "    <tr style=\"text-align: right;\">\n",
              "      <th></th>\n",
              "      <th>family_struct</th>\n",
              "      <th>age_group</th>\n",
              "      <th>income</th>\n",
              "      <th>prob_no</th>\n",
              "      <th>prob_yes</th>\n",
              "    </tr>\n",
              "  </thead>\n",
              "  <tbody>\n",
              "    <tr>\n",
              "      <th>0</th>\n",
              "      <td>Nuclear</td>\n",
              "      <td>Young</td>\n",
              "      <td>Low</td>\n",
              "      <td>0.000000</td>\n",
              "      <td>1.000000</td>\n",
              "    </tr>\n",
              "    <tr>\n",
              "      <th>1</th>\n",
              "      <td>Extended</td>\n",
              "      <td>Old</td>\n",
              "      <td>Low</td>\n",
              "      <td>0.964286</td>\n",
              "      <td>0.035714</td>\n",
              "    </tr>\n",
              "    <tr>\n",
              "      <th>2</th>\n",
              "      <td>Childless</td>\n",
              "      <td>Middle-aged</td>\n",
              "      <td>Low</td>\n",
              "      <td>0.900000</td>\n",
              "      <td>0.100000</td>\n",
              "    </tr>\n",
              "    <tr>\n",
              "      <th>3</th>\n",
              "      <td>Childless</td>\n",
              "      <td>Young</td>\n",
              "      <td>Medium</td>\n",
              "      <td>0.000000</td>\n",
              "      <td>1.000000</td>\n",
              "    </tr>\n",
              "    <tr>\n",
              "      <th>4</th>\n",
              "      <td>Single Parent</td>\n",
              "      <td>Middle-aged</td>\n",
              "      <td>Medium</td>\n",
              "      <td>0.000000</td>\n",
              "      <td>1.000000</td>\n",
              "    </tr>\n",
              "    <tr>\n",
              "      <th>5</th>\n",
              "      <td>Childless</td>\n",
              "      <td>Young</td>\n",
              "      <td>Low</td>\n",
              "      <td>0.931034</td>\n",
              "      <td>0.068966</td>\n",
              "    </tr>\n",
              "    <tr>\n",
              "      <th>6</th>\n",
              "      <td>Nuclear</td>\n",
              "      <td>Old</td>\n",
              "      <td>High</td>\n",
              "      <td>0.000000</td>\n",
              "      <td>1.000000</td>\n",
              "    </tr>\n",
              "    <tr>\n",
              "      <th>7</th>\n",
              "      <td>Nuclear</td>\n",
              "      <td>Middle-aged</td>\n",
              "      <td>Medium</td>\n",
              "      <td>0.000000</td>\n",
              "      <td>1.000000</td>\n",
              "    </tr>\n",
              "    <tr>\n",
              "      <th>8</th>\n",
              "      <td>Extended</td>\n",
              "      <td>Middle-aged</td>\n",
              "      <td>High</td>\n",
              "      <td>0.000000</td>\n",
              "      <td>1.000000</td>\n",
              "    </tr>\n",
              "    <tr>\n",
              "      <th>9</th>\n",
              "      <td>Single Parent</td>\n",
              "      <td>Old</td>\n",
              "      <td>Low</td>\n",
              "      <td>0.964286</td>\n",
              "      <td>0.035714</td>\n",
              "    </tr>\n",
              "  </tbody>\n",
              "</table>\n",
              "</div>"
            ],
            "text/plain": [
              "   family_struct    age_group  income   prob_no  prob_yes\n",
              "0        Nuclear        Young     Low  0.000000  1.000000\n",
              "1       Extended          Old     Low  0.964286  0.035714\n",
              "2      Childless  Middle-aged     Low  0.900000  0.100000\n",
              "3      Childless        Young  Medium  0.000000  1.000000\n",
              "4  Single Parent  Middle-aged  Medium  0.000000  1.000000\n",
              "5      Childless        Young     Low  0.931034  0.068966\n",
              "6        Nuclear          Old    High  0.000000  1.000000\n",
              "7        Nuclear  Middle-aged  Medium  0.000000  1.000000\n",
              "8       Extended  Middle-aged    High  0.000000  1.000000\n",
              "9  Single Parent          Old     Low  0.964286  0.035714"
            ]
          },
          "metadata": {},
          "execution_count": 16
        }
      ]
    },
    {
      "cell_type": "markdown",
      "metadata": {
        "id": "6FfgAIICIQ0A"
      },
      "source": [
        "---\n",
        "Let's compare it with Scikit-Learn implementation"
      ]
    },
    {
      "cell_type": "code",
      "metadata": {
        "id": "pFtFqwbCH1Om"
      },
      "source": [
        "# First, we must encode the dataset into numeric. Let's use One Hot Encoding for Features and Label Encoder for Target.\n",
        "\n",
        "from sklearn.preprocessing import OneHotEncoder,LabelEncoder\n",
        "enc = OneHotEncoder()\n",
        "\n",
        "X = df[df.columns[:-1]]\n",
        "enc.fit(X)\n",
        "X_enc=enc.transform(X).toarray()"
      ],
      "execution_count": null,
      "outputs": []
    },
    {
      "cell_type": "code",
      "metadata": {
        "colab": {
          "base_uri": "https://localhost:8080/"
        },
        "id": "ToFnO8I318fU",
        "outputId": "b5ea0660-e37f-4986-92d0-46468b85c97e"
      },
      "source": [
        "# Display `X`\n",
        "\n",
        "print('X : \\n', X, '\\n')\n",
        "print('One Hot Encoding : \\n', X_enc)"
      ],
      "execution_count": null,
      "outputs": [
        {
          "output_type": "stream",
          "name": "stdout",
          "text": [
            "X : \n",
            "    family_struct    age_group  income\n",
            "0        Nuclear        Young     Low\n",
            "1       Extended          Old     Low\n",
            "2      Childless  Middle-aged     Low\n",
            "3      Childless        Young  Medium\n",
            "4  Single Parent  Middle-aged  Medium\n",
            "5      Childless        Young     Low\n",
            "6        Nuclear          Old    High\n",
            "7        Nuclear  Middle-aged  Medium\n",
            "8       Extended  Middle-aged    High\n",
            "9  Single Parent          Old     Low \n",
            "\n",
            "One Hot Encoding : \n",
            " [[0. 0. 1. 0. 0. 0. 1. 0. 1. 0.]\n",
            " [0. 1. 0. 0. 0. 1. 0. 0. 1. 0.]\n",
            " [1. 0. 0. 0. 1. 0. 0. 0. 1. 0.]\n",
            " [1. 0. 0. 0. 0. 0. 1. 0. 0. 1.]\n",
            " [0. 0. 0. 1. 1. 0. 0. 0. 0. 1.]\n",
            " [1. 0. 0. 0. 0. 0. 1. 0. 1. 0.]\n",
            " [0. 0. 1. 0. 0. 1. 0. 1. 0. 0.]\n",
            " [0. 0. 1. 0. 1. 0. 0. 0. 0. 1.]\n",
            " [0. 1. 0. 0. 1. 0. 0. 1. 0. 0.]\n",
            " [0. 0. 0. 1. 0. 1. 0. 0. 1. 0.]]\n"
          ]
        }
      ]
    },
    {
      "cell_type": "code",
      "metadata": {
        "colab": {
          "base_uri": "https://localhost:8080/"
        },
        "id": "7k6u6ceZIZSf",
        "outputId": "07326cc9-41f6-4e6e-fa9f-0f8d41902b7b"
      },
      "source": [
        "# Encode Target into numeric\n",
        "\n",
        "le = LabelEncoder()\n",
        "label_encoded=le.fit_transform(df['label'])\n",
        "print(\"Label:\",label_encoded)"
      ],
      "execution_count": null,
      "outputs": [
        {
          "output_type": "stream",
          "name": "stdout",
          "text": [
            "Label: [1 0 0 1 1 0 1 1 1 0]\n"
          ]
        }
      ]
    },
    {
      "cell_type": "code",
      "metadata": {
        "colab": {
          "base_uri": "https://localhost:8080/"
        },
        "id": "pNSihtABIcB-",
        "outputId": "bca7bfef-def1-4ce6-81d0-f4baf99722c9"
      },
      "source": [
        "# Import Gaussian Naive Bayes model\n",
        "from sklearn.naive_bayes import GaussianNB\n",
        "\n",
        "# Create a Gaussian Classifier\n",
        "model = GaussianNB()\n",
        "\n",
        "# Train the model using the training sets\n",
        "model.fit(X_enc,label_encoded)"
      ],
      "execution_count": null,
      "outputs": [
        {
          "output_type": "execute_result",
          "data": {
            "text/plain": [
              "GaussianNB(priors=None, var_smoothing=1e-09)"
            ]
          },
          "metadata": {},
          "execution_count": 20
        }
      ]
    },
    {
      "cell_type": "code",
      "metadata": {
        "colab": {
          "base_uri": "https://localhost:8080/",
          "height": 359
        },
        "id": "Ix5nFvLEIdUT",
        "outputId": "9fed30c1-ae67-408c-feb3-6d071956aad3"
      },
      "source": [
        "# Merging result from scratch with result from Scikit-Learn\n",
        "\n",
        "df_result_sklearn = df_infer.copy()\n",
        "df_result_sklearn['prob_no_sklearn'] =  model.predict_proba(X_enc)[:,0]\n",
        "df_result_sklearn['prob_yes_sklearn'] =  model.predict_proba(X_enc)[:,1]\n",
        "df_result_sklearn "
      ],
      "execution_count": null,
      "outputs": [
        {
          "output_type": "execute_result",
          "data": {
            "text/html": [
              "<div>\n",
              "<style scoped>\n",
              "    .dataframe tbody tr th:only-of-type {\n",
              "        vertical-align: middle;\n",
              "    }\n",
              "\n",
              "    .dataframe tbody tr th {\n",
              "        vertical-align: top;\n",
              "    }\n",
              "\n",
              "    .dataframe thead th {\n",
              "        text-align: right;\n",
              "    }\n",
              "</style>\n",
              "<table border=\"1\" class=\"dataframe\">\n",
              "  <thead>\n",
              "    <tr style=\"text-align: right;\">\n",
              "      <th></th>\n",
              "      <th>family_struct</th>\n",
              "      <th>age_group</th>\n",
              "      <th>income</th>\n",
              "      <th>prob_no</th>\n",
              "      <th>prob_yes</th>\n",
              "      <th>prob_no_sklearn</th>\n",
              "      <th>prob_yes_sklearn</th>\n",
              "    </tr>\n",
              "  </thead>\n",
              "  <tbody>\n",
              "    <tr>\n",
              "      <th>0</th>\n",
              "      <td>Nuclear</td>\n",
              "      <td>Young</td>\n",
              "      <td>Low</td>\n",
              "      <td>0.000000</td>\n",
              "      <td>1.000000</td>\n",
              "      <td>0.0</td>\n",
              "      <td>1.000000e+00</td>\n",
              "    </tr>\n",
              "    <tr>\n",
              "      <th>1</th>\n",
              "      <td>Extended</td>\n",
              "      <td>Old</td>\n",
              "      <td>Low</td>\n",
              "      <td>0.964286</td>\n",
              "      <td>0.035714</td>\n",
              "      <td>1.0</td>\n",
              "      <td>5.078957e-21</td>\n",
              "    </tr>\n",
              "    <tr>\n",
              "      <th>2</th>\n",
              "      <td>Childless</td>\n",
              "      <td>Middle-aged</td>\n",
              "      <td>Low</td>\n",
              "      <td>0.900000</td>\n",
              "      <td>0.100000</td>\n",
              "      <td>1.0</td>\n",
              "      <td>5.598624e-20</td>\n",
              "    </tr>\n",
              "    <tr>\n",
              "      <th>3</th>\n",
              "      <td>Childless</td>\n",
              "      <td>Young</td>\n",
              "      <td>Medium</td>\n",
              "      <td>0.000000</td>\n",
              "      <td>1.000000</td>\n",
              "      <td>0.0</td>\n",
              "      <td>1.000000e+00</td>\n",
              "    </tr>\n",
              "    <tr>\n",
              "      <th>4</th>\n",
              "      <td>Single Parent</td>\n",
              "      <td>Middle-aged</td>\n",
              "      <td>Medium</td>\n",
              "      <td>0.000000</td>\n",
              "      <td>1.000000</td>\n",
              "      <td>0.0</td>\n",
              "      <td>1.000000e+00</td>\n",
              "    </tr>\n",
              "    <tr>\n",
              "      <th>5</th>\n",
              "      <td>Childless</td>\n",
              "      <td>Young</td>\n",
              "      <td>Low</td>\n",
              "      <td>0.931034</td>\n",
              "      <td>0.068966</td>\n",
              "      <td>1.0</td>\n",
              "      <td>2.644603e-20</td>\n",
              "    </tr>\n",
              "    <tr>\n",
              "      <th>6</th>\n",
              "      <td>Nuclear</td>\n",
              "      <td>Old</td>\n",
              "      <td>High</td>\n",
              "      <td>0.000000</td>\n",
              "      <td>1.000000</td>\n",
              "      <td>0.0</td>\n",
              "      <td>1.000000e+00</td>\n",
              "    </tr>\n",
              "    <tr>\n",
              "      <th>7</th>\n",
              "      <td>Nuclear</td>\n",
              "      <td>Middle-aged</td>\n",
              "      <td>Medium</td>\n",
              "      <td>0.000000</td>\n",
              "      <td>1.000000</td>\n",
              "      <td>0.0</td>\n",
              "      <td>1.000000e+00</td>\n",
              "    </tr>\n",
              "    <tr>\n",
              "      <th>8</th>\n",
              "      <td>Extended</td>\n",
              "      <td>Middle-aged</td>\n",
              "      <td>High</td>\n",
              "      <td>0.000000</td>\n",
              "      <td>1.000000</td>\n",
              "      <td>0.0</td>\n",
              "      <td>1.000000e+00</td>\n",
              "    </tr>\n",
              "    <tr>\n",
              "      <th>9</th>\n",
              "      <td>Single Parent</td>\n",
              "      <td>Old</td>\n",
              "      <td>Low</td>\n",
              "      <td>0.964286</td>\n",
              "      <td>0.035714</td>\n",
              "      <td>1.0</td>\n",
              "      <td>5.078957e-21</td>\n",
              "    </tr>\n",
              "  </tbody>\n",
              "</table>\n",
              "</div>"
            ],
            "text/plain": [
              "   family_struct    age_group  ... prob_no_sklearn  prob_yes_sklearn\n",
              "0        Nuclear        Young  ...             0.0      1.000000e+00\n",
              "1       Extended          Old  ...             1.0      5.078957e-21\n",
              "2      Childless  Middle-aged  ...             1.0      5.598624e-20\n",
              "3      Childless        Young  ...             0.0      1.000000e+00\n",
              "4  Single Parent  Middle-aged  ...             0.0      1.000000e+00\n",
              "5      Childless        Young  ...             1.0      2.644603e-20\n",
              "6        Nuclear          Old  ...             0.0      1.000000e+00\n",
              "7        Nuclear  Middle-aged  ...             0.0      1.000000e+00\n",
              "8       Extended  Middle-aged  ...             0.0      1.000000e+00\n",
              "9  Single Parent          Old  ...             1.0      5.078957e-21\n",
              "\n",
              "[10 rows x 7 columns]"
            ]
          },
          "metadata": {},
          "execution_count": 21
        }
      ]
    },
    {
      "cell_type": "code",
      "metadata": {
        "colab": {
          "base_uri": "https://localhost:8080/"
        },
        "id": "K22dbl7z4uNo",
        "outputId": "01bf7c8a-dc65-413d-a505-8455466ecda2"
      },
      "source": [
        "# Test A New Data\n",
        "\n",
        "new_data = {'family_struct': ['Childless'],'age_group': ['Young'],'income': ['High']} \n",
        "    \n",
        "df_new_data = pd.DataFrame(new_data)\n",
        "X_new_data = enc.transform(df_new_data).toarray()\n",
        "result_class = model.predict(X_new_data)\n",
        "result_proba = model.predict_proba(X_new_data)\n",
        "\n",
        "print('New Data - Real      : \\n', df_new_data, '\\n')\n",
        "print('New Data - Encode    : ', X_new_data, '\\n')\n",
        "print('Result - Class       : ', result_class[0])\n",
        "print('Result - Probability : ', result_proba)"
      ],
      "execution_count": null,
      "outputs": [
        {
          "output_type": "stream",
          "name": "stdout",
          "text": [
            "New Data - Real      : \n",
            "   family_struct age_group income\n",
            "0     Childless     Young   High \n",
            "\n",
            "New Data - Encode    :  [[1. 0. 0. 0. 0. 0. 1. 1. 0. 0.]] \n",
            "\n",
            "Result - Class       :  1\n",
            "Result - Probability :  [[0. 1.]]\n"
          ]
        }
      ]
    },
    {
      "cell_type": "code",
      "metadata": {
        "colab": {
          "base_uri": "https://localhost:8080/"
        },
        "id": "OsTmd89r-lvs",
        "outputId": "80c1975d-17ac-4958-84b4-c8c1df2b5406"
      },
      "source": [
        "# Add New Naive Bayes Classifiers\n",
        "\n",
        "from sklearn.naive_bayes import BernoulliNB\n",
        "from sklearn.naive_bayes import MultinomialNB\n",
        "from sklearn.naive_bayes import CategoricalNB\n",
        "\n",
        "# Create Several Naive Bayes Classifiers\n",
        "model_bernoullinb = BernoulliNB()\n",
        "model_multinomialnb = MultinomialNB()\n",
        "model_categoricalnb = CategoricalNB()\n",
        "\n",
        "# Train the model using the training sets\n",
        "model_bernoullinb.fit(X_enc,label_encoded)\n",
        "model_multinomialnb.fit(X_enc,label_encoded)\n",
        "model_categoricalnb.fit(X_enc,label_encoded)"
      ],
      "execution_count": null,
      "outputs": [
        {
          "output_type": "execute_result",
          "data": {
            "text/plain": [
              "CategoricalNB(alpha=1.0, class_prior=None, fit_prior=True)"
            ]
          },
          "metadata": {},
          "execution_count": 23
        }
      ]
    },
    {
      "cell_type": "code",
      "metadata": {
        "colab": {
          "base_uri": "https://localhost:8080/"
        },
        "id": "m71Hoe7W_7BW",
        "outputId": "f71f1225-fca3-4157-f906-60def9ca1d13"
      },
      "source": [
        "# Test A New Data\n",
        "\n",
        "# new_data = {'family_struct': ['Childless'],'age_group': ['Young'],'income': ['High']} \n",
        "new_data = {'family_struct': ['Single Parent'],'age_group': ['Young'],'income': ['Low']} \n",
        "    \n",
        "df_new_data = pd.DataFrame(new_data)\n",
        "X_new_data = enc.transform(df_new_data).toarray()\n",
        "\n",
        "print('New Data - Real      : \\n', df_new_data, '\\n')\n",
        "print('New Data - Encode    : ', X_new_data, '\\n')\n",
        "\n",
        "result_class = model.predict(X_new_data)\n",
        "result_proba = model.predict_proba(X_new_data)\n",
        "print('Result - Gaussian NB')\n",
        "print('Result - Class       : ', result_class[0])\n",
        "print('Result - Probability : ', result_proba, '\\n')\n",
        "\n",
        "result_class = model_bernoullinb.predict(X_new_data)\n",
        "result_proba = model_bernoullinb.predict_proba(X_new_data)\n",
        "print('Result - Bernoulli NB')\n",
        "print('Result - Class       : ', result_class[0])\n",
        "print('Result - Probability : ', result_proba, '\\n')\n",
        "\n",
        "result_class = model_multinomialnb.predict(X_new_data)\n",
        "result_proba = model_multinomialnb.predict_proba(X_new_data)\n",
        "print('Result - Multinomial NB')\n",
        "print('Result - Class       : ', result_class[0])\n",
        "print('Result - Probability : ', result_proba, '\\n')\n",
        "\n",
        "result_class = model_categoricalnb.predict(X_new_data)\n",
        "result_proba = model_categoricalnb.predict_proba(X_new_data)\n",
        "print('Result - Categorical NB')\n",
        "print('Result - Class       : ', result_class[0])\n",
        "print('Result - Probability : ', result_proba, '\\n')\n"
      ],
      "execution_count": null,
      "outputs": [
        {
          "output_type": "stream",
          "name": "stdout",
          "text": [
            "New Data - Real      : \n",
            "    family_struct age_group income\n",
            "0  Single Parent     Young    Low \n",
            "\n",
            "New Data - Encode    :  [[0. 0. 0. 1. 0. 0. 1. 0. 1. 0.]] \n",
            "\n",
            "Result - Gaussian NB\n",
            "Result - Class       :  0\n",
            "Result - Probability :  [[1.00000000e+00 1.00327444e-19]] \n",
            "\n",
            "Result - Bernoulli NB\n",
            "Result - Class       :  0\n",
            "Result - Probability :  [[0.83708662 0.16291338]] \n",
            "\n",
            "Result - Multinomial NB\n",
            "Result - Class       :  0\n",
            "Result - Probability :  [[0.69611101 0.30388899]] \n",
            "\n",
            "Result - Categorical NB\n",
            "Result - Class       :  0\n",
            "Result - Probability :  [[0.83708662 0.16291338]] \n",
            "\n"
          ]
        }
      ]
    },
    {
      "cell_type": "code",
      "metadata": {
        "colab": {
          "base_uri": "https://localhost:8080/"
        },
        "id": "zdQXukyaZuPz",
        "outputId": "02af4508-7e6d-4911-943b-d9fea9682a75"
      },
      "source": [
        "# Let's compare it with our previous category {'family_struct': ['Single Parent'],'age_group': ['Young'],'income': ['Low']} \n",
        "\n",
        "print(df_ext)"
      ],
      "execution_count": null,
      "outputs": [
        {
          "output_type": "stream",
          "name": "stdout",
          "text": [
            "  label      p_h  total_prob  norm_prob\n",
            "0    No  0.12500     0.12963   0.964286\n",
            "1   Yes  0.00463     0.12963   0.035714\n"
          ]
        }
      ]
    }
  ]
}