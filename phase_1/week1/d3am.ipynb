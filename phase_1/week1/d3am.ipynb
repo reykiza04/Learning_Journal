{
 "cells": [
  {
   "cell_type": "markdown",
   "metadata": {},
   "source": [
    "# d3am fahmi dasar untuk seterusnya\n",
    "\n",
    "> regresi  - nilainya ada rentang\n",
    "    linier\n",
    "    logistik\n",
    "\n",
    "> clasifikasi - hasil nilainya salah satu"
   ]
  },
  {
   "cell_type": "markdown",
   "metadata": {},
   "source": [
    "## Linear Regression\n",
    "\n",
    "di fase ini implementasi model semuanya sama\n",
    "step secara umum ML sama, paling berbeda dari cara Feature engineering\n",
    "\n",
    "pagi ini bahas simpel LR\n",
    "\n",
    "# regresi\n",
    "    Y = a + bX\n",
    "    selama training model akan mencari nilai a dan b \n",
    "    a ktinggian b miring\n",
    "    b adalah bobot karena berkaitan dengan X atau Feature\n",
    "\n",
    "    x sumbu di bawah\n",
    "    y sumbu di atas\n",
    "\n",
    ">    di ML ad 2 parameter\n",
    "\n",
    "    - fit intersept\n",
    "    -normalize\n",
    "    -hyper pamaeter -yang tidak di pengaruhi oleh model (kita yg menentukan) dan akan mempengaruhi proses per model\n",
    "\n",
    "    - atribut -> variabel yaong di pengaruhi oleh training model\n",
    "\n",
    "    yg bikin pusing tu hyper parameter, pemilihan untuk menentukan yg terbaik\n",
    "\n",
    "    Fit interset harus di set = True\n",
    "    kalo di set false berarti tidak ada interset yang di masukan sehingga data tidak terpusat\n",
    "\n",
    "    **di reglin harus melihan coefesien dan intercept**\n",
    "    intersept pasti 1 doang\n",
    "    coefesien tergantung jumlah feature yg di pakai\n",
    "\n",
    "    y = coef X + intercept\n",
    "\n",
    "---\n",
    "\n",
    "jika data tidak linier makan harus di masukan feature polynominalFeatures agar bisa di baca model\n",
    "\n",
    "\n",
    "> Regularisasi - dilakukan ketika overvitting\n",
    "L1(lasso) digunakan kalo feature banyak, memperkecil pengaruh regularisas\n",
    "L2(ridge) digunakan saat feature berkorelasi tinggi satu sm lain\n",
    "\n",
    "agak kelewat siang harus cobain benerbener lagiiii\n",
    "\n",
    "kelewat mas fahmi ga nyruh coba sendiri nanti harus nonton ulang-\n",
    "\n",
    "overfitting harus di regulariasi\n",
    "\n",
    "range over fitting biasanya10-20%"
   ]
  },
  {
   "cell_type": "code",
   "execution_count": null,
   "metadata": {},
   "outputs": [],
   "source": []
  }
 ],
 "metadata": {
  "language_info": {
   "name": "python"
  },
  "orig_nbformat": 4
 },
 "nbformat": 4,
 "nbformat_minor": 2
}
