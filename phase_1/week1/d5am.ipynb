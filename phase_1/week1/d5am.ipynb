{
 "cells": [
  {
   "cell_type": "markdown",
   "metadata": {},
   "source": [
    "# Model Evaluation Supervised Learning"
   ]
  },
  {
   "cell_type": "markdown",
   "metadata": {},
   "source": [
    "> Calsification dan Regresion\n",
    "\n",
    "- overfiting (terlalu fokus ke training)\n",
    "\n",
    "*** Di ML Simple is Better !***\n",
    "\n",
    "\n",
    "### Classification Matrics\n",
    "traceholds biasanya 0.5 tapi bisa saja berbeda sehingga hasilnya berubah \n",
    "> tergantung porbability tracehold\n",
    "    - accuracy\n",
    "    - precision, recall, f1 score\n",
    "    - FPR, FNR\n",
    "> tidak tergantung porbability tracehold\n",
    "    - ROC - AUC"
   ]
  },
  {
   "cell_type": "markdown",
   "metadata": {},
   "source": [
    "> Confusion Matriks\n",
    "    - true positif\n",
    "    - false poesitif\n",
    "    - true negatif\n",
    "    - false negatif\n",
    "\n",
    "\n",
    "\n",
    "- Dataset tidak balance membuat model kita inbalance (metode accuracy menjadi tidak baik)\n",
    "> cara handling\n",
    "    - down sampling kelas mayoritas\n",
    "    - kelas minoritas di UP sampling\n",
    "acc=  jumlah prediksi benar / total prediksi\n",
    "- jadi accuracy tidak cocok untuk di pakai\n",
    "\n",
    "jadi kita akan pakai F1-Score\n",
    "\n",
    "stratifed jika inbalance\n",
    "\n",
    "\n",
    "MSE sangat sensitif terhadap outlier"
   ]
  },
  {
   "cell_type": "markdown",
   "metadata": {},
   "source": [
    "# ROC"
   ]
  },
  {
   "cell_type": "code",
   "execution_count": null,
   "metadata": {},
   "outputs": [],
   "source": []
  }
 ],
 "metadata": {
  "interpreter": {
   "hash": "8a0314e9a3496969cdc3b628708851b260263268c48c6868778a684e0fdc7ce1"
  },
  "kernelspec": {
   "display_name": "Python 3.9.7 ('base')",
   "language": "python",
   "name": "python3"
  },
  "language_info": {
   "name": "python",
   "version": "3.9.7"
  },
  "orig_nbformat": 4
 },
 "nbformat": 4,
 "nbformat_minor": 2
}
